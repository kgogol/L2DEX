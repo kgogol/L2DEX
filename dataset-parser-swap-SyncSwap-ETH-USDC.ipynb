{
 "cells": [
  {
   "cell_type": "markdown",
   "metadata": {},
   "source": [
    "# DEX on zkSync Era - dataset parser\n",
    "\n",
    "- Krzysztof Gogol\n",
    "- email: [gogol@ifi.uzh.ch](mailto:gogol@ifi.uzh.ch)\n",
    "- Website: https://gogol.substack.com/"
   ]
  },
  {
   "cell_type": "code",
   "execution_count": 3,
   "metadata": {},
   "outputs": [
    {
     "name": "stderr",
     "output_type": "stream",
     "text": [
      "/Users/kris/Library/Python/3.9/lib/python/site-packages/urllib3/__init__.py:34: NotOpenSSLWarning: urllib3 v2 only supports OpenSSL 1.1.1+, currently the 'ssl' module is compiled with 'LibreSSL 2.8.3'. See: https://github.com/urllib3/urllib3/issues/3020\n",
      "  warnings.warn(\n"
     ]
    }
   ],
   "source": [
    "import gzip\n",
    "import pickle\n",
    "import os\n",
    "from tqdm.notebook import tqdm\n",
    "import pandas as pd\n",
    "#from web3 import Web3\n",
    "import web3\n",
    "import numpy as np\n",
    "import matplotlib.pyplot as plt\n",
    "\n"
   ]
  },
  {
   "cell_type": "code",
   "execution_count": 4,
   "metadata": {},
   "outputs": [],
   "source": [
    "path_dir = './data/'\n",
    "os.makedirs(path_dir, exist_ok=True)"
   ]
  },
  {
   "cell_type": "code",
   "execution_count": 5,
   "metadata": {},
   "outputs": [
    {
     "data": {
      "text/html": [
       "<div>\n",
       "<style scoped>\n",
       "    .dataframe tbody tr th:only-of-type {\n",
       "        vertical-align: middle;\n",
       "    }\n",
       "\n",
       "    .dataframe tbody tr th {\n",
       "        vertical-align: top;\n",
       "    }\n",
       "\n",
       "    .dataframe thead th {\n",
       "        text-align: right;\n",
       "    }\n",
       "</style>\n",
       "<table border=\"1\" class=\"dataframe\">\n",
       "  <thead>\n",
       "    <tr style=\"text-align: right;\">\n",
       "      <th></th>\n",
       "      <th>Unnamed: 0</th>\n",
       "      <th>blockNumber</th>\n",
       "      <th>transactionHash</th>\n",
       "      <th>address</th>\n",
       "      <th>transactionIndex</th>\n",
       "      <th>logIndex</th>\n",
       "      <th>topics_0</th>\n",
       "      <th>topics_1</th>\n",
       "      <th>topics_2</th>\n",
       "      <th>topics_3</th>\n",
       "      <th>data</th>\n",
       "      <th>timestamp</th>\n",
       "      <th>event_name</th>\n",
       "    </tr>\n",
       "  </thead>\n",
       "  <tbody>\n",
       "    <tr>\n",
       "      <th>0</th>\n",
       "      <td>0</td>\n",
       "      <td>13106</td>\n",
       "      <td>0x7bc13feafc02db763e5db405de99d69364b0979763af...</td>\n",
       "      <td>0x80115c708e12edd42e504c1cd52aea96c547c05c</td>\n",
       "      <td>7</td>\n",
       "      <td>36</td>\n",
       "      <td>0xcf2aa50876cdfbb541206f89af0ee78d44a2abf8d328...</td>\n",
       "      <td>NaN</td>\n",
       "      <td>NaN</td>\n",
       "      <td>NaN</td>\n",
       "      <td>0x00000000000000000000000000000000000000000000...</td>\n",
       "      <td>2023-03-24 14:23:49</td>\n",
       "      <td>Sync</td>\n",
       "    </tr>\n",
       "    <tr>\n",
       "      <th>1</th>\n",
       "      <td>1</td>\n",
       "      <td>13463</td>\n",
       "      <td>0xe796d825e6a33a55483d273b101cd567c6e57caf39b5...</td>\n",
       "      <td>0x80115c708e12edd42e504c1cd52aea96c547c05c</td>\n",
       "      <td>0</td>\n",
       "      <td>6</td>\n",
       "      <td>0xcf2aa50876cdfbb541206f89af0ee78d44a2abf8d328...</td>\n",
       "      <td>NaN</td>\n",
       "      <td>NaN</td>\n",
       "      <td>NaN</td>\n",
       "      <td>0x00000000000000000000000000000000000000000000...</td>\n",
       "      <td>2023-03-24 14:31:39</td>\n",
       "      <td>Sync</td>\n",
       "    </tr>\n",
       "    <tr>\n",
       "      <th>2</th>\n",
       "      <td>2</td>\n",
       "      <td>13849</td>\n",
       "      <td>0xe0590193ade2eaaedb063e270e62afbdb5bcd54eb0a3...</td>\n",
       "      <td>0x80115c708e12edd42e504c1cd52aea96c547c05c</td>\n",
       "      <td>0</td>\n",
       "      <td>6</td>\n",
       "      <td>0xcf2aa50876cdfbb541206f89af0ee78d44a2abf8d328...</td>\n",
       "      <td>NaN</td>\n",
       "      <td>NaN</td>\n",
       "      <td>NaN</td>\n",
       "      <td>0x00000000000000000000000000000000000000000000...</td>\n",
       "      <td>2023-03-24 14:39:58</td>\n",
       "      <td>Sync</td>\n",
       "    </tr>\n",
       "    <tr>\n",
       "      <th>3</th>\n",
       "      <td>3</td>\n",
       "      <td>13859</td>\n",
       "      <td>0x070a3c311dab420e0bb41ebee9c360ee49f8dcae7fc4...</td>\n",
       "      <td>0x80115c708e12edd42e504c1cd52aea96c547c05c</td>\n",
       "      <td>2</td>\n",
       "      <td>12</td>\n",
       "      <td>0xcf2aa50876cdfbb541206f89af0ee78d44a2abf8d328...</td>\n",
       "      <td>NaN</td>\n",
       "      <td>NaN</td>\n",
       "      <td>NaN</td>\n",
       "      <td>0x00000000000000000000000000000000000000000000...</td>\n",
       "      <td>2023-03-24 14:40:09</td>\n",
       "      <td>Sync</td>\n",
       "    </tr>\n",
       "    <tr>\n",
       "      <th>4</th>\n",
       "      <td>4</td>\n",
       "      <td>13911</td>\n",
       "      <td>0xa23d767e5959ae44441eef7d979743b38e7b1154937c...</td>\n",
       "      <td>0x80115c708e12edd42e504c1cd52aea96c547c05c</td>\n",
       "      <td>0</td>\n",
       "      <td>9</td>\n",
       "      <td>0xcf2aa50876cdfbb541206f89af0ee78d44a2abf8d328...</td>\n",
       "      <td>NaN</td>\n",
       "      <td>NaN</td>\n",
       "      <td>NaN</td>\n",
       "      <td>0x00000000000000000000000000000000000000000000...</td>\n",
       "      <td>2023-03-24 14:41:08</td>\n",
       "      <td>Sync</td>\n",
       "    </tr>\n",
       "  </tbody>\n",
       "</table>\n",
       "</div>"
      ],
      "text/plain": [
       "   Unnamed: 0  blockNumber                                    transactionHash  \\\n",
       "0           0        13106  0x7bc13feafc02db763e5db405de99d69364b0979763af...   \n",
       "1           1        13463  0xe796d825e6a33a55483d273b101cd567c6e57caf39b5...   \n",
       "2           2        13849  0xe0590193ade2eaaedb063e270e62afbdb5bcd54eb0a3...   \n",
       "3           3        13859  0x070a3c311dab420e0bb41ebee9c360ee49f8dcae7fc4...   \n",
       "4           4        13911  0xa23d767e5959ae44441eef7d979743b38e7b1154937c...   \n",
       "\n",
       "                                      address  transactionIndex  logIndex  \\\n",
       "0  0x80115c708e12edd42e504c1cd52aea96c547c05c                 7        36   \n",
       "1  0x80115c708e12edd42e504c1cd52aea96c547c05c                 0         6   \n",
       "2  0x80115c708e12edd42e504c1cd52aea96c547c05c                 0         6   \n",
       "3  0x80115c708e12edd42e504c1cd52aea96c547c05c                 2        12   \n",
       "4  0x80115c708e12edd42e504c1cd52aea96c547c05c                 0         9   \n",
       "\n",
       "                                            topics_0  topics_1  topics_2  \\\n",
       "0  0xcf2aa50876cdfbb541206f89af0ee78d44a2abf8d328...       NaN       NaN   \n",
       "1  0xcf2aa50876cdfbb541206f89af0ee78d44a2abf8d328...       NaN       NaN   \n",
       "2  0xcf2aa50876cdfbb541206f89af0ee78d44a2abf8d328...       NaN       NaN   \n",
       "3  0xcf2aa50876cdfbb541206f89af0ee78d44a2abf8d328...       NaN       NaN   \n",
       "4  0xcf2aa50876cdfbb541206f89af0ee78d44a2abf8d328...       NaN       NaN   \n",
       "\n",
       "   topics_3                                               data  \\\n",
       "0       NaN  0x00000000000000000000000000000000000000000000...   \n",
       "1       NaN  0x00000000000000000000000000000000000000000000...   \n",
       "2       NaN  0x00000000000000000000000000000000000000000000...   \n",
       "3       NaN  0x00000000000000000000000000000000000000000000...   \n",
       "4       NaN  0x00000000000000000000000000000000000000000000...   \n",
       "\n",
       "             timestamp event_name  \n",
       "0  2023-03-24 14:23:49       Sync  \n",
       "1  2023-03-24 14:31:39       Sync  \n",
       "2  2023-03-24 14:39:58       Sync  \n",
       "3  2023-03-24 14:40:09       Sync  \n",
       "4  2023-03-24 14:41:08       Sync  "
      ]
     },
     "execution_count": 5,
     "metadata": {},
     "output_type": "execute_result"
    }
   ],
   "source": [
    "file1 = 'SyncSwap-USDC-ETH_Swap.csv.gz'\n",
    "swap_df = pd.read_csv(path_dir+'/'+file1,\n",
    "                        sep=',', compression='gzip')\n",
    "swap_df.head()\n",
    "\n",
    "file2 = 'SyncSwap-USDC-ETH_Sync.csv.gz'\n",
    "sync_df = pd.read_csv(path_dir+'/'+file2,\n",
    "                        sep=',', compression='gzip')\n",
    "sync_df.head()\n"
   ]
  },
  {
   "cell_type": "code",
   "execution_count": 6,
   "metadata": {},
   "outputs": [
    {
     "data": {
      "text/plain": [
       "'0x070a3c311dab420e0bb41ebee9c360ee49f8dcae7fc4e208d21ef3245ba994b4'"
      ]
     },
     "execution_count": 6,
     "metadata": {},
     "output_type": "execute_result"
    }
   ],
   "source": [
    "sync_df['transactionHash'][3]"
   ]
  },
  {
   "cell_type": "code",
   "execution_count": 7,
   "metadata": {},
   "outputs": [
    {
     "data": {
      "text/html": [
       "<div>\n",
       "<style scoped>\n",
       "    .dataframe tbody tr th:only-of-type {\n",
       "        vertical-align: middle;\n",
       "    }\n",
       "\n",
       "    .dataframe tbody tr th {\n",
       "        vertical-align: top;\n",
       "    }\n",
       "\n",
       "    .dataframe thead th {\n",
       "        text-align: right;\n",
       "    }\n",
       "</style>\n",
       "<table border=\"1\" class=\"dataframe\">\n",
       "  <thead>\n",
       "    <tr style=\"text-align: right;\">\n",
       "      <th></th>\n",
       "      <th>Date</th>\n",
       "      <th>Open</th>\n",
       "      <th>High</th>\n",
       "      <th>Low</th>\n",
       "      <th>Close</th>\n",
       "      <th>Adj Close</th>\n",
       "      <th>Volume</th>\n",
       "      <th>timestamp</th>\n",
       "    </tr>\n",
       "  </thead>\n",
       "  <tbody>\n",
       "    <tr>\n",
       "      <th>0</th>\n",
       "      <td>2023-02-01</td>\n",
       "      <td>1586.488159</td>\n",
       "      <td>1644.727539</td>\n",
       "      <td>1566.857300</td>\n",
       "      <td>1641.792725</td>\n",
       "      <td>1641.792725</td>\n",
       "      <td>8116969489</td>\n",
       "      <td>2023-02-01</td>\n",
       "    </tr>\n",
       "    <tr>\n",
       "      <th>1</th>\n",
       "      <td>2023-02-02</td>\n",
       "      <td>1641.365967</td>\n",
       "      <td>1704.458130</td>\n",
       "      <td>1641.322632</td>\n",
       "      <td>1643.241577</td>\n",
       "      <td>1643.241577</td>\n",
       "      <td>10558081069</td>\n",
       "      <td>2023-02-02</td>\n",
       "    </tr>\n",
       "    <tr>\n",
       "      <th>2</th>\n",
       "      <td>2023-02-03</td>\n",
       "      <td>1642.904663</td>\n",
       "      <td>1670.696899</td>\n",
       "      <td>1634.223389</td>\n",
       "      <td>1664.745605</td>\n",
       "      <td>1664.745605</td>\n",
       "      <td>8169519805</td>\n",
       "      <td>2023-02-03</td>\n",
       "    </tr>\n",
       "    <tr>\n",
       "      <th>3</th>\n",
       "      <td>2023-02-04</td>\n",
       "      <td>1664.472290</td>\n",
       "      <td>1690.099609</td>\n",
       "      <td>1648.189209</td>\n",
       "      <td>1667.059204</td>\n",
       "      <td>1667.059204</td>\n",
       "      <td>5843302512</td>\n",
       "      <td>2023-02-04</td>\n",
       "    </tr>\n",
       "    <tr>\n",
       "      <th>4</th>\n",
       "      <td>2023-02-05</td>\n",
       "      <td>1667.166504</td>\n",
       "      <td>1671.770264</td>\n",
       "      <td>1616.391846</td>\n",
       "      <td>1631.645874</td>\n",
       "      <td>1631.645874</td>\n",
       "      <td>6926696531</td>\n",
       "      <td>2023-02-05</td>\n",
       "    </tr>\n",
       "  </tbody>\n",
       "</table>\n",
       "</div>"
      ],
      "text/plain": [
       "         Date         Open         High          Low        Close  \\\n",
       "0  2023-02-01  1586.488159  1644.727539  1566.857300  1641.792725   \n",
       "1  2023-02-02  1641.365967  1704.458130  1641.322632  1643.241577   \n",
       "2  2023-02-03  1642.904663  1670.696899  1634.223389  1664.745605   \n",
       "3  2023-02-04  1664.472290  1690.099609  1648.189209  1667.059204   \n",
       "4  2023-02-05  1667.166504  1671.770264  1616.391846  1631.645874   \n",
       "\n",
       "     Adj Close       Volume  timestamp  \n",
       "0  1641.792725   8116969489 2023-02-01  \n",
       "1  1643.241577  10558081069 2023-02-02  \n",
       "2  1664.745605   8169519805 2023-02-03  \n",
       "3  1667.059204   5843302512 2023-02-04  \n",
       "4  1631.645874   6926696531 2023-02-05  "
      ]
     },
     "execution_count": 7,
     "metadata": {},
     "output_type": "execute_result"
    }
   ],
   "source": [
    "file_market_data = 'MarketData/ETH-USD.csv'\n",
    "prices_df = pd.read_csv(file_market_data)\n",
    "prices_df['timestamp'] = pd.to_datetime(prices_df['Date'])\n",
    "prices_df.head()"
   ]
  },
  {
   "cell_type": "code",
   "execution_count": 8,
   "metadata": {},
   "outputs": [],
   "source": [
    "#SWAP_FUNCTION_HASH = web3.Web3.keccak(text=\"Swap(address,uint256,uint256,uint256,uint256,address)\").hex()\n",
    "# Swap (index_topic_1 address sender, uint256 amount0In, uint256 amount1In, uint256 amount0Out, uint256 amount1Out, index_topic_2 address to)\n",
    "\n",
    "def convertAmount1(dataString):\n",
    "    return int(dataString[2:66], 16)\n",
    "\n",
    "CONST_ETH = 1e18\n",
    "CONST_USDC = 1e6\n",
    "\n",
    "swap_df['amount0In'] = np.full(len(swap_df),0)\n",
    "swap_df['amount1In'] = np.full(len(swap_df),0)\n",
    "swap_df['amount0Out'] = np.full(len(swap_df),0)\n",
    "swap_df['amount1Out'] = np.full(len(swap_df),0)\n",
    "\n",
    "\n",
    "swap_df['amount0In'] = swap_df.apply(lambda row: int(row['data'][2:66], 16), axis=1) / CONST_USDC\n",
    "swap_df['amount1In'] = swap_df.apply(lambda row: int(row['data'][66:130], 16), axis=1) / CONST_ETH\n",
    "swap_df['amount0In'] = swap_df.apply(lambda row: int(row['data'][130:194], 16), axis=1) / CONST_USDC\n",
    "swap_df['amount0Out'] = swap_df.apply(lambda row: int(row['data'][194:258], 16), axis=1) / CONST_ETH\n",
    "\n"
   ]
  },
  {
   "cell_type": "code",
   "execution_count": 10,
   "metadata": {},
   "outputs": [
    {
     "data": {
      "text/html": [
       "<div>\n",
       "<style scoped>\n",
       "    .dataframe tbody tr th:only-of-type {\n",
       "        vertical-align: middle;\n",
       "    }\n",
       "\n",
       "    .dataframe tbody tr th {\n",
       "        vertical-align: top;\n",
       "    }\n",
       "\n",
       "    .dataframe thead th {\n",
       "        text-align: right;\n",
       "    }\n",
       "</style>\n",
       "<table border=\"1\" class=\"dataframe\">\n",
       "  <thead>\n",
       "    <tr style=\"text-align: right;\">\n",
       "      <th></th>\n",
       "      <th>Unnamed: 0</th>\n",
       "      <th>blockNumber</th>\n",
       "      <th>transactionHash</th>\n",
       "      <th>address</th>\n",
       "      <th>transactionIndex</th>\n",
       "      <th>logIndex</th>\n",
       "      <th>topics_0</th>\n",
       "      <th>topics_1</th>\n",
       "      <th>topics_2</th>\n",
       "      <th>topics_3</th>\n",
       "      <th>data</th>\n",
       "      <th>timestamp</th>\n",
       "      <th>event_name</th>\n",
       "      <th>amount0In</th>\n",
       "      <th>amount1In</th>\n",
       "      <th>amount0Out</th>\n",
       "      <th>amount1Out</th>\n",
       "      <th>price_buy_ETH</th>\n",
       "    </tr>\n",
       "  </thead>\n",
       "  <tbody>\n",
       "    <tr>\n",
       "      <th>0</th>\n",
       "      <td>0</td>\n",
       "      <td>13463</td>\n",
       "      <td>0xe796d825e6a33a55483d273b101cd567c6e57caf39b5...</td>\n",
       "      <td>0x80115c708e12edd42e504c1cd52aea96c547c05c</td>\n",
       "      <td>0</td>\n",
       "      <td>4</td>\n",
       "      <td>0xd78ad95fa46c994b6551d0da85fc275fe613ce37657f...</td>\n",
       "      <td>0x0000000000000000000000002da10a1e27bf85cedd8f...</td>\n",
       "      <td>0x00000000000000000000000073459ef0a33ea718211e...</td>\n",
       "      <td>NaN</td>\n",
       "      <td>0x00000000000000000000000000000000000000000000...</td>\n",
       "      <td>2023-03-24 14:31:39</td>\n",
       "      <td>Swap</td>\n",
       "      <td>1.313849</td>\n",
       "      <td>0.001</td>\n",
       "      <td>0.0</td>\n",
       "      <td>0</td>\n",
       "      <td>0</td>\n",
       "    </tr>\n",
       "    <tr>\n",
       "      <th>1</th>\n",
       "      <td>1</td>\n",
       "      <td>13849</td>\n",
       "      <td>0xe0590193ade2eaaedb063e270e62afbdb5bcd54eb0a3...</td>\n",
       "      <td>0x80115c708e12edd42e504c1cd52aea96c547c05c</td>\n",
       "      <td>0</td>\n",
       "      <td>4</td>\n",
       "      <td>0xd78ad95fa46c994b6551d0da85fc275fe613ce37657f...</td>\n",
       "      <td>0x0000000000000000000000002da10a1e27bf85cedd8f...</td>\n",
       "      <td>0x000000000000000000000000e4d9f174e9b9f9878360...</td>\n",
       "      <td>NaN</td>\n",
       "      <td>0x00000000000000000000000000000000000000000000...</td>\n",
       "      <td>2023-03-24 14:39:58</td>\n",
       "      <td>Swap</td>\n",
       "      <td>0.094332</td>\n",
       "      <td>0.0001</td>\n",
       "      <td>0.0</td>\n",
       "      <td>0</td>\n",
       "      <td>0</td>\n",
       "    </tr>\n",
       "    <tr>\n",
       "      <th>2</th>\n",
       "      <td>2</td>\n",
       "      <td>13859</td>\n",
       "      <td>0x070a3c311dab420e0bb41ebee9c360ee49f8dcae7fc4...</td>\n",
       "      <td>0x80115c708e12edd42e504c1cd52aea96c547c05c</td>\n",
       "      <td>2</td>\n",
       "      <td>10</td>\n",
       "      <td>0xd78ad95fa46c994b6551d0da85fc275fe613ce37657f...</td>\n",
       "      <td>0x0000000000000000000000002da10a1e27bf85cedd8f...</td>\n",
       "      <td>0x000000000000000000000000e4d9f174e9b9f9878360...</td>\n",
       "      <td>NaN</td>\n",
       "      <td>0x00000000000000000000000000000000000000000000...</td>\n",
       "      <td>2023-03-24 14:40:09</td>\n",
       "      <td>Swap</td>\n",
       "      <td>0.089620</td>\n",
       "      <td>0.0001</td>\n",
       "      <td>0.0</td>\n",
       "      <td>0</td>\n",
       "      <td>0</td>\n",
       "    </tr>\n",
       "    <tr>\n",
       "      <th>3</th>\n",
       "      <td>3</td>\n",
       "      <td>14099</td>\n",
       "      <td>0xc8b9f63c526b90d2a835481dbc9003197276db4b627e...</td>\n",
       "      <td>0x80115c708e12edd42e504c1cd52aea96c547c05c</td>\n",
       "      <td>1</td>\n",
       "      <td>7</td>\n",
       "      <td>0xd78ad95fa46c994b6551d0da85fc275fe613ce37657f...</td>\n",
       "      <td>0x0000000000000000000000002da10a1e27bf85cedd8f...</td>\n",
       "      <td>0x000000000000000000000000e776b14985b0ea61d298...</td>\n",
       "      <td>NaN</td>\n",
       "      <td>0x00000000000000000000000000000000000000000000...</td>\n",
       "      <td>2023-03-24 14:45:01</td>\n",
       "      <td>Swap</td>\n",
       "      <td>0.000873</td>\n",
       "      <td>0.000001</td>\n",
       "      <td>0.0</td>\n",
       "      <td>0</td>\n",
       "      <td>0</td>\n",
       "    </tr>\n",
       "    <tr>\n",
       "      <th>4</th>\n",
       "      <td>4</td>\n",
       "      <td>14549</td>\n",
       "      <td>0xfe651bc486680777278b99774247356618c32d0027f5...</td>\n",
       "      <td>0x80115c708e12edd42e504c1cd52aea96c547c05c</td>\n",
       "      <td>1</td>\n",
       "      <td>7</td>\n",
       "      <td>0xd78ad95fa46c994b6551d0da85fc275fe613ce37657f...</td>\n",
       "      <td>0x0000000000000000000000002da10a1e27bf85cedd8f...</td>\n",
       "      <td>0x0000000000000000000000007b22f4e0b10b2d3a09f8...</td>\n",
       "      <td>NaN</td>\n",
       "      <td>0x00000000000000000000000000000000000000000000...</td>\n",
       "      <td>2023-03-24 14:54:13</td>\n",
       "      <td>Swap</td>\n",
       "      <td>2.184087</td>\n",
       "      <td>0.002563</td>\n",
       "      <td>0.0</td>\n",
       "      <td>0</td>\n",
       "      <td>0</td>\n",
       "    </tr>\n",
       "  </tbody>\n",
       "</table>\n",
       "</div>"
      ],
      "text/plain": [
       "   Unnamed: 0  blockNumber                                    transactionHash  \\\n",
       "0           0        13463  0xe796d825e6a33a55483d273b101cd567c6e57caf39b5...   \n",
       "1           1        13849  0xe0590193ade2eaaedb063e270e62afbdb5bcd54eb0a3...   \n",
       "2           2        13859  0x070a3c311dab420e0bb41ebee9c360ee49f8dcae7fc4...   \n",
       "3           3        14099  0xc8b9f63c526b90d2a835481dbc9003197276db4b627e...   \n",
       "4           4        14549  0xfe651bc486680777278b99774247356618c32d0027f5...   \n",
       "\n",
       "                                      address  transactionIndex  logIndex  \\\n",
       "0  0x80115c708e12edd42e504c1cd52aea96c547c05c                 0         4   \n",
       "1  0x80115c708e12edd42e504c1cd52aea96c547c05c                 0         4   \n",
       "2  0x80115c708e12edd42e504c1cd52aea96c547c05c                 2        10   \n",
       "3  0x80115c708e12edd42e504c1cd52aea96c547c05c                 1         7   \n",
       "4  0x80115c708e12edd42e504c1cd52aea96c547c05c                 1         7   \n",
       "\n",
       "                                            topics_0  \\\n",
       "0  0xd78ad95fa46c994b6551d0da85fc275fe613ce37657f...   \n",
       "1  0xd78ad95fa46c994b6551d0da85fc275fe613ce37657f...   \n",
       "2  0xd78ad95fa46c994b6551d0da85fc275fe613ce37657f...   \n",
       "3  0xd78ad95fa46c994b6551d0da85fc275fe613ce37657f...   \n",
       "4  0xd78ad95fa46c994b6551d0da85fc275fe613ce37657f...   \n",
       "\n",
       "                                            topics_1  \\\n",
       "0  0x0000000000000000000000002da10a1e27bf85cedd8f...   \n",
       "1  0x0000000000000000000000002da10a1e27bf85cedd8f...   \n",
       "2  0x0000000000000000000000002da10a1e27bf85cedd8f...   \n",
       "3  0x0000000000000000000000002da10a1e27bf85cedd8f...   \n",
       "4  0x0000000000000000000000002da10a1e27bf85cedd8f...   \n",
       "\n",
       "                                            topics_2  topics_3  \\\n",
       "0  0x00000000000000000000000073459ef0a33ea718211e...       NaN   \n",
       "1  0x000000000000000000000000e4d9f174e9b9f9878360...       NaN   \n",
       "2  0x000000000000000000000000e4d9f174e9b9f9878360...       NaN   \n",
       "3  0x000000000000000000000000e776b14985b0ea61d298...       NaN   \n",
       "4  0x0000000000000000000000007b22f4e0b10b2d3a09f8...       NaN   \n",
       "\n",
       "                                                data            timestamp  \\\n",
       "0  0x00000000000000000000000000000000000000000000...  2023-03-24 14:31:39   \n",
       "1  0x00000000000000000000000000000000000000000000...  2023-03-24 14:39:58   \n",
       "2  0x00000000000000000000000000000000000000000000...  2023-03-24 14:40:09   \n",
       "3  0x00000000000000000000000000000000000000000000...  2023-03-24 14:45:01   \n",
       "4  0x00000000000000000000000000000000000000000000...  2023-03-24 14:54:13   \n",
       "\n",
       "  event_name  amount0In amount1In amount0Out  amount1Out  price_buy_ETH  \n",
       "0       Swap   1.313849     0.001        0.0           0              0  \n",
       "1       Swap   0.094332    0.0001        0.0           0              0  \n",
       "2       Swap   0.089620    0.0001        0.0           0              0  \n",
       "3       Swap   0.000873  0.000001        0.0           0              0  \n",
       "4       Swap   2.184087  0.002563        0.0           0              0  "
      ]
     },
     "execution_count": 10,
     "metadata": {},
     "output_type": "execute_result"
    }
   ],
   "source": [
    "swap_df['price_buy_ETH'] = np.full(len(swap_df),0)\n",
    "\n",
    "\n",
    "#Spot Price BTC/ETH\n",
    "#swap_df['price_buy_ETH'] = swap_df['amount0In'] / swap_df['amount1In']\n",
    "#swap_df['price_buy_USDC'] = swap_df['amount0Out'] / swap_df['amount1Out']\n",
    "\n",
    "swap_df.head()\n"
   ]
  },
  {
   "cell_type": "code",
   "execution_count": 11,
   "metadata": {},
   "outputs": [
    {
     "data": {
      "text/html": [
       "<div>\n",
       "<style scoped>\n",
       "    .dataframe tbody tr th:only-of-type {\n",
       "        vertical-align: middle;\n",
       "    }\n",
       "\n",
       "    .dataframe tbody tr th {\n",
       "        vertical-align: top;\n",
       "    }\n",
       "\n",
       "    .dataframe thead th {\n",
       "        text-align: right;\n",
       "    }\n",
       "</style>\n",
       "<table border=\"1\" class=\"dataframe\">\n",
       "  <thead>\n",
       "    <tr style=\"text-align: right;\">\n",
       "      <th></th>\n",
       "      <th>Unnamed: 0</th>\n",
       "      <th>blockNumber</th>\n",
       "      <th>transactionHash</th>\n",
       "      <th>address</th>\n",
       "      <th>transactionIndex</th>\n",
       "      <th>logIndex</th>\n",
       "      <th>topics_0</th>\n",
       "      <th>topics_1</th>\n",
       "      <th>topics_2</th>\n",
       "      <th>topics_3</th>\n",
       "      <th>data</th>\n",
       "      <th>timestamp</th>\n",
       "      <th>event_name</th>\n",
       "      <th>reserve_0</th>\n",
       "      <th>reserve_1</th>\n",
       "      <th>spot_price</th>\n",
       "    </tr>\n",
       "  </thead>\n",
       "  <tbody>\n",
       "    <tr>\n",
       "      <th>0</th>\n",
       "      <td>0</td>\n",
       "      <td>13106</td>\n",
       "      <td>0x7bc13feafc02db763e5db405de99d69364b0979763af...</td>\n",
       "      <td>0x80115c708e12edd42e504c1cd52aea96c547c05c</td>\n",
       "      <td>7</td>\n",
       "      <td>36</td>\n",
       "      <td>0xcf2aa50876cdfbb541206f89af0ee78d44a2abf8d328...</td>\n",
       "      <td>NaN</td>\n",
       "      <td>NaN</td>\n",
       "      <td>NaN</td>\n",
       "      <td>0x00000000000000000000000000000000000000000000...</td>\n",
       "      <td>2023-03-24 14:23:49</td>\n",
       "      <td>Sync</td>\n",
       "      <td>5.000000</td>\n",
       "      <td>0.0028</td>\n",
       "      <td>1785.714286</td>\n",
       "    </tr>\n",
       "    <tr>\n",
       "      <th>1</th>\n",
       "      <td>1</td>\n",
       "      <td>13463</td>\n",
       "      <td>0xe796d825e6a33a55483d273b101cd567c6e57caf39b5...</td>\n",
       "      <td>0x80115c708e12edd42e504c1cd52aea96c547c05c</td>\n",
       "      <td>0</td>\n",
       "      <td>6</td>\n",
       "      <td>0xcf2aa50876cdfbb541206f89af0ee78d44a2abf8d328...</td>\n",
       "      <td>NaN</td>\n",
       "      <td>NaN</td>\n",
       "      <td>NaN</td>\n",
       "      <td>0x00000000000000000000000000000000000000000000...</td>\n",
       "      <td>2023-03-24 14:31:39</td>\n",
       "      <td>Sync</td>\n",
       "      <td>3.686151</td>\n",
       "      <td>0.0038</td>\n",
       "      <td>970.039737</td>\n",
       "    </tr>\n",
       "    <tr>\n",
       "      <th>2</th>\n",
       "      <td>2</td>\n",
       "      <td>13849</td>\n",
       "      <td>0xe0590193ade2eaaedb063e270e62afbdb5bcd54eb0a3...</td>\n",
       "      <td>0x80115c708e12edd42e504c1cd52aea96c547c05c</td>\n",
       "      <td>0</td>\n",
       "      <td>6</td>\n",
       "      <td>0xcf2aa50876cdfbb541206f89af0ee78d44a2abf8d328...</td>\n",
       "      <td>NaN</td>\n",
       "      <td>NaN</td>\n",
       "      <td>NaN</td>\n",
       "      <td>0x00000000000000000000000000000000000000000000...</td>\n",
       "      <td>2023-03-24 14:39:58</td>\n",
       "      <td>Sync</td>\n",
       "      <td>3.591819</td>\n",
       "      <td>0.0039</td>\n",
       "      <td>920.979231</td>\n",
       "    </tr>\n",
       "    <tr>\n",
       "      <th>3</th>\n",
       "      <td>3</td>\n",
       "      <td>13859</td>\n",
       "      <td>0x070a3c311dab420e0bb41ebee9c360ee49f8dcae7fc4...</td>\n",
       "      <td>0x80115c708e12edd42e504c1cd52aea96c547c05c</td>\n",
       "      <td>2</td>\n",
       "      <td>12</td>\n",
       "      <td>0xcf2aa50876cdfbb541206f89af0ee78d44a2abf8d328...</td>\n",
       "      <td>NaN</td>\n",
       "      <td>NaN</td>\n",
       "      <td>NaN</td>\n",
       "      <td>0x00000000000000000000000000000000000000000000...</td>\n",
       "      <td>2023-03-24 14:40:09</td>\n",
       "      <td>Sync</td>\n",
       "      <td>3.502199</td>\n",
       "      <td>0.004</td>\n",
       "      <td>875.54975</td>\n",
       "    </tr>\n",
       "    <tr>\n",
       "      <th>4</th>\n",
       "      <td>4</td>\n",
       "      <td>13911</td>\n",
       "      <td>0xa23d767e5959ae44441eef7d979743b38e7b1154937c...</td>\n",
       "      <td>0x80115c708e12edd42e504c1cd52aea96c547c05c</td>\n",
       "      <td>0</td>\n",
       "      <td>9</td>\n",
       "      <td>0xcf2aa50876cdfbb541206f89af0ee78d44a2abf8d328...</td>\n",
       "      <td>NaN</td>\n",
       "      <td>NaN</td>\n",
       "      <td>NaN</td>\n",
       "      <td>0x00000000000000000000000000000000000000000000...</td>\n",
       "      <td>2023-03-24 14:41:08</td>\n",
       "      <td>Sync</td>\n",
       "      <td>3.686151</td>\n",
       "      <td>0.00421</td>\n",
       "      <td>875.54975</td>\n",
       "    </tr>\n",
       "  </tbody>\n",
       "</table>\n",
       "</div>"
      ],
      "text/plain": [
       "   Unnamed: 0  blockNumber                                    transactionHash  \\\n",
       "0           0        13106  0x7bc13feafc02db763e5db405de99d69364b0979763af...   \n",
       "1           1        13463  0xe796d825e6a33a55483d273b101cd567c6e57caf39b5...   \n",
       "2           2        13849  0xe0590193ade2eaaedb063e270e62afbdb5bcd54eb0a3...   \n",
       "3           3        13859  0x070a3c311dab420e0bb41ebee9c360ee49f8dcae7fc4...   \n",
       "4           4        13911  0xa23d767e5959ae44441eef7d979743b38e7b1154937c...   \n",
       "\n",
       "                                      address  transactionIndex  logIndex  \\\n",
       "0  0x80115c708e12edd42e504c1cd52aea96c547c05c                 7        36   \n",
       "1  0x80115c708e12edd42e504c1cd52aea96c547c05c                 0         6   \n",
       "2  0x80115c708e12edd42e504c1cd52aea96c547c05c                 0         6   \n",
       "3  0x80115c708e12edd42e504c1cd52aea96c547c05c                 2        12   \n",
       "4  0x80115c708e12edd42e504c1cd52aea96c547c05c                 0         9   \n",
       "\n",
       "                                            topics_0  topics_1  topics_2  \\\n",
       "0  0xcf2aa50876cdfbb541206f89af0ee78d44a2abf8d328...       NaN       NaN   \n",
       "1  0xcf2aa50876cdfbb541206f89af0ee78d44a2abf8d328...       NaN       NaN   \n",
       "2  0xcf2aa50876cdfbb541206f89af0ee78d44a2abf8d328...       NaN       NaN   \n",
       "3  0xcf2aa50876cdfbb541206f89af0ee78d44a2abf8d328...       NaN       NaN   \n",
       "4  0xcf2aa50876cdfbb541206f89af0ee78d44a2abf8d328...       NaN       NaN   \n",
       "\n",
       "   topics_3                                               data  \\\n",
       "0       NaN  0x00000000000000000000000000000000000000000000...   \n",
       "1       NaN  0x00000000000000000000000000000000000000000000...   \n",
       "2       NaN  0x00000000000000000000000000000000000000000000...   \n",
       "3       NaN  0x00000000000000000000000000000000000000000000...   \n",
       "4       NaN  0x00000000000000000000000000000000000000000000...   \n",
       "\n",
       "             timestamp event_name  reserve_0 reserve_1   spot_price  \n",
       "0  2023-03-24 14:23:49       Sync   5.000000    0.0028  1785.714286  \n",
       "1  2023-03-24 14:31:39       Sync   3.686151    0.0038   970.039737  \n",
       "2  2023-03-24 14:39:58       Sync   3.591819    0.0039   920.979231  \n",
       "3  2023-03-24 14:40:09       Sync   3.502199     0.004    875.54975  \n",
       "4  2023-03-24 14:41:08       Sync   3.686151   0.00421    875.54975  "
      ]
     },
     "execution_count": 11,
     "metadata": {},
     "output_type": "execute_result"
    }
   ],
   "source": [
    "\n",
    "sync_df['reserve_0'] = np.full(len(sync_df),0) #Amount of ETH in the pool\n",
    "sync_df['reserve_1'] = np.full(len(sync_df),0) #Amount of BTC in the pool\n",
    "\n",
    "sync_df['reserve_0'] = sync_df.apply(lambda row: int(row['data'][2:66], 16), axis=1) / CONST_USDC\n",
    "sync_df['reserve_1'] = sync_df.apply(lambda row: int(row['data'][66:130], 16), axis=1) / CONST_ETH\n",
    "\n",
    "#Spot Price BTC/ETH\n",
    "sync_df['spot_price'] = sync_df['reserve_0'] / sync_df['reserve_1']\n",
    "sync_df.head()"
   ]
  },
  {
   "cell_type": "code",
   "execution_count": 12,
   "metadata": {},
   "outputs": [
    {
     "data": {
      "text/html": [
       "<div>\n",
       "<style scoped>\n",
       "    .dataframe tbody tr th:only-of-type {\n",
       "        vertical-align: middle;\n",
       "    }\n",
       "\n",
       "    .dataframe tbody tr th {\n",
       "        vertical-align: top;\n",
       "    }\n",
       "\n",
       "    .dataframe thead th {\n",
       "        text-align: right;\n",
       "    }\n",
       "</style>\n",
       "<table border=\"1\" class=\"dataframe\">\n",
       "  <thead>\n",
       "    <tr style=\"text-align: right;\">\n",
       "      <th></th>\n",
       "      <th>Unnamed: 0</th>\n",
       "      <th>blockNumber</th>\n",
       "      <th>transactionHash</th>\n",
       "      <th>address</th>\n",
       "      <th>transactionIndex</th>\n",
       "      <th>logIndex</th>\n",
       "      <th>topics_0</th>\n",
       "      <th>topics_1</th>\n",
       "      <th>topics_2</th>\n",
       "      <th>topics_3</th>\n",
       "      <th>...</th>\n",
       "      <th>event_name</th>\n",
       "      <th>amount0In</th>\n",
       "      <th>amount1In</th>\n",
       "      <th>amount0Out</th>\n",
       "      <th>amount1Out</th>\n",
       "      <th>price_buy_ETH</th>\n",
       "      <th>last_price</th>\n",
       "      <th>reserve_0</th>\n",
       "      <th>reserve_1</th>\n",
       "      <th>spot_price</th>\n",
       "    </tr>\n",
       "  </thead>\n",
       "  <tbody>\n",
       "    <tr>\n",
       "      <th>0</th>\n",
       "      <td>0</td>\n",
       "      <td>13463</td>\n",
       "      <td>0xe796d825e6a33a55483d273b101cd567c6e57caf39b5...</td>\n",
       "      <td>0x80115c708e12edd42e504c1cd52aea96c547c05c</td>\n",
       "      <td>0</td>\n",
       "      <td>4</td>\n",
       "      <td>0xd78ad95fa46c994b6551d0da85fc275fe613ce37657f...</td>\n",
       "      <td>0x0000000000000000000000002da10a1e27bf85cedd8f...</td>\n",
       "      <td>0x00000000000000000000000073459ef0a33ea718211e...</td>\n",
       "      <td>NaN</td>\n",
       "      <td>...</td>\n",
       "      <td>Swap</td>\n",
       "      <td>1.313849</td>\n",
       "      <td>0.001</td>\n",
       "      <td>0.0</td>\n",
       "      <td>0</td>\n",
       "      <td>0</td>\n",
       "      <td>0</td>\n",
       "      <td>3.686151</td>\n",
       "      <td>0.0038</td>\n",
       "      <td>970.039737</td>\n",
       "    </tr>\n",
       "    <tr>\n",
       "      <th>1</th>\n",
       "      <td>1</td>\n",
       "      <td>13849</td>\n",
       "      <td>0xe0590193ade2eaaedb063e270e62afbdb5bcd54eb0a3...</td>\n",
       "      <td>0x80115c708e12edd42e504c1cd52aea96c547c05c</td>\n",
       "      <td>0</td>\n",
       "      <td>4</td>\n",
       "      <td>0xd78ad95fa46c994b6551d0da85fc275fe613ce37657f...</td>\n",
       "      <td>0x0000000000000000000000002da10a1e27bf85cedd8f...</td>\n",
       "      <td>0x000000000000000000000000e4d9f174e9b9f9878360...</td>\n",
       "      <td>NaN</td>\n",
       "      <td>...</td>\n",
       "      <td>Swap</td>\n",
       "      <td>0.094332</td>\n",
       "      <td>0.0001</td>\n",
       "      <td>0.0</td>\n",
       "      <td>0</td>\n",
       "      <td>0</td>\n",
       "      <td>0</td>\n",
       "      <td>3.591819</td>\n",
       "      <td>0.0039</td>\n",
       "      <td>920.979231</td>\n",
       "    </tr>\n",
       "    <tr>\n",
       "      <th>2</th>\n",
       "      <td>2</td>\n",
       "      <td>13859</td>\n",
       "      <td>0x070a3c311dab420e0bb41ebee9c360ee49f8dcae7fc4...</td>\n",
       "      <td>0x80115c708e12edd42e504c1cd52aea96c547c05c</td>\n",
       "      <td>2</td>\n",
       "      <td>10</td>\n",
       "      <td>0xd78ad95fa46c994b6551d0da85fc275fe613ce37657f...</td>\n",
       "      <td>0x0000000000000000000000002da10a1e27bf85cedd8f...</td>\n",
       "      <td>0x000000000000000000000000e4d9f174e9b9f9878360...</td>\n",
       "      <td>NaN</td>\n",
       "      <td>...</td>\n",
       "      <td>Swap</td>\n",
       "      <td>0.089620</td>\n",
       "      <td>0.0001</td>\n",
       "      <td>0.0</td>\n",
       "      <td>0</td>\n",
       "      <td>0</td>\n",
       "      <td>0</td>\n",
       "      <td>3.502199</td>\n",
       "      <td>0.004</td>\n",
       "      <td>875.54975</td>\n",
       "    </tr>\n",
       "    <tr>\n",
       "      <th>3</th>\n",
       "      <td>3</td>\n",
       "      <td>14099</td>\n",
       "      <td>0xc8b9f63c526b90d2a835481dbc9003197276db4b627e...</td>\n",
       "      <td>0x80115c708e12edd42e504c1cd52aea96c547c05c</td>\n",
       "      <td>1</td>\n",
       "      <td>7</td>\n",
       "      <td>0xd78ad95fa46c994b6551d0da85fc275fe613ce37657f...</td>\n",
       "      <td>0x0000000000000000000000002da10a1e27bf85cedd8f...</td>\n",
       "      <td>0x000000000000000000000000e776b14985b0ea61d298...</td>\n",
       "      <td>NaN</td>\n",
       "      <td>...</td>\n",
       "      <td>Swap</td>\n",
       "      <td>0.000873</td>\n",
       "      <td>0.000001</td>\n",
       "      <td>0.0</td>\n",
       "      <td>0</td>\n",
       "      <td>0</td>\n",
       "      <td>0</td>\n",
       "      <td>3.685278</td>\n",
       "      <td>0.004211</td>\n",
       "      <td>875.134526</td>\n",
       "    </tr>\n",
       "    <tr>\n",
       "      <th>4</th>\n",
       "      <td>4</td>\n",
       "      <td>14549</td>\n",
       "      <td>0xfe651bc486680777278b99774247356618c32d0027f5...</td>\n",
       "      <td>0x80115c708e12edd42e504c1cd52aea96c547c05c</td>\n",
       "      <td>1</td>\n",
       "      <td>7</td>\n",
       "      <td>0xd78ad95fa46c994b6551d0da85fc275fe613ce37657f...</td>\n",
       "      <td>0x0000000000000000000000002da10a1e27bf85cedd8f...</td>\n",
       "      <td>0x0000000000000000000000007b22f4e0b10b2d3a09f8...</td>\n",
       "      <td>NaN</td>\n",
       "      <td>...</td>\n",
       "      <td>Swap</td>\n",
       "      <td>2.184087</td>\n",
       "      <td>0.002563</td>\n",
       "      <td>0.0</td>\n",
       "      <td>0</td>\n",
       "      <td>0</td>\n",
       "      <td>0</td>\n",
       "      <td>87.385267</td>\n",
       "      <td>0.104911</td>\n",
       "      <td>832.94317</td>\n",
       "    </tr>\n",
       "  </tbody>\n",
       "</table>\n",
       "<p>5 rows × 22 columns</p>\n",
       "</div>"
      ],
      "text/plain": [
       "   Unnamed: 0  blockNumber                                    transactionHash  \\\n",
       "0           0        13463  0xe796d825e6a33a55483d273b101cd567c6e57caf39b5...   \n",
       "1           1        13849  0xe0590193ade2eaaedb063e270e62afbdb5bcd54eb0a3...   \n",
       "2           2        13859  0x070a3c311dab420e0bb41ebee9c360ee49f8dcae7fc4...   \n",
       "3           3        14099  0xc8b9f63c526b90d2a835481dbc9003197276db4b627e...   \n",
       "4           4        14549  0xfe651bc486680777278b99774247356618c32d0027f5...   \n",
       "\n",
       "                                      address  transactionIndex  logIndex  \\\n",
       "0  0x80115c708e12edd42e504c1cd52aea96c547c05c                 0         4   \n",
       "1  0x80115c708e12edd42e504c1cd52aea96c547c05c                 0         4   \n",
       "2  0x80115c708e12edd42e504c1cd52aea96c547c05c                 2        10   \n",
       "3  0x80115c708e12edd42e504c1cd52aea96c547c05c                 1         7   \n",
       "4  0x80115c708e12edd42e504c1cd52aea96c547c05c                 1         7   \n",
       "\n",
       "                                            topics_0  \\\n",
       "0  0xd78ad95fa46c994b6551d0da85fc275fe613ce37657f...   \n",
       "1  0xd78ad95fa46c994b6551d0da85fc275fe613ce37657f...   \n",
       "2  0xd78ad95fa46c994b6551d0da85fc275fe613ce37657f...   \n",
       "3  0xd78ad95fa46c994b6551d0da85fc275fe613ce37657f...   \n",
       "4  0xd78ad95fa46c994b6551d0da85fc275fe613ce37657f...   \n",
       "\n",
       "                                            topics_1  \\\n",
       "0  0x0000000000000000000000002da10a1e27bf85cedd8f...   \n",
       "1  0x0000000000000000000000002da10a1e27bf85cedd8f...   \n",
       "2  0x0000000000000000000000002da10a1e27bf85cedd8f...   \n",
       "3  0x0000000000000000000000002da10a1e27bf85cedd8f...   \n",
       "4  0x0000000000000000000000002da10a1e27bf85cedd8f...   \n",
       "\n",
       "                                            topics_2  topics_3  ...  \\\n",
       "0  0x00000000000000000000000073459ef0a33ea718211e...       NaN  ...   \n",
       "1  0x000000000000000000000000e4d9f174e9b9f9878360...       NaN  ...   \n",
       "2  0x000000000000000000000000e4d9f174e9b9f9878360...       NaN  ...   \n",
       "3  0x000000000000000000000000e776b14985b0ea61d298...       NaN  ...   \n",
       "4  0x0000000000000000000000007b22f4e0b10b2d3a09f8...       NaN  ...   \n",
       "\n",
       "  event_name amount0In amount1In  amount0Out amount1Out price_buy_ETH  \\\n",
       "0       Swap  1.313849     0.001         0.0          0             0   \n",
       "1       Swap  0.094332    0.0001         0.0          0             0   \n",
       "2       Swap  0.089620    0.0001         0.0          0             0   \n",
       "3       Swap  0.000873  0.000001         0.0          0             0   \n",
       "4       Swap  2.184087  0.002563         0.0          0             0   \n",
       "\n",
       "   last_price  reserve_0  reserve_1  spot_price  \n",
       "0           0   3.686151     0.0038  970.039737  \n",
       "1           0   3.591819     0.0039  920.979231  \n",
       "2           0   3.502199      0.004   875.54975  \n",
       "3           0   3.685278   0.004211  875.134526  \n",
       "4           0  87.385267   0.104911   832.94317  \n",
       "\n",
       "[5 rows x 22 columns]"
      ]
     },
     "execution_count": 12,
     "metadata": {},
     "output_type": "execute_result"
    }
   ],
   "source": [
    "swap_df['last_price'] = swap_df['price_buy_ETH']\n",
    "#for j, row in swap_df.iterrows():\n",
    "#    if np.isnan(swap_df['last_price'].iloc[j]) :\n",
    "#        swap_df['last_price'].iloc[j]  = swap_df['price_buy_BTC'].iloc[j]\n",
    "\n",
    "#join swap_df and sync_df\n",
    "swap_df = swap_df.merge(sync_df[['blockNumber','reserve_0', 'reserve_1', 'spot_price']], on='blockNumber', how='left')\n",
    "#swap_df['diff'] = swap_df['last_price'] - swap_df['spot_price']\n",
    "swap_df.head()\n"
   ]
  },
  {
   "cell_type": "code",
   "execution_count": 13,
   "metadata": {},
   "outputs": [
    {
     "data": {
      "text/html": [
       "<div>\n",
       "<style scoped>\n",
       "    .dataframe tbody tr th:only-of-type {\n",
       "        vertical-align: middle;\n",
       "    }\n",
       "\n",
       "    .dataframe tbody tr th {\n",
       "        vertical-align: top;\n",
       "    }\n",
       "\n",
       "    .dataframe thead th {\n",
       "        text-align: right;\n",
       "    }\n",
       "</style>\n",
       "<table border=\"1\" class=\"dataframe\">\n",
       "  <thead>\n",
       "    <tr style=\"text-align: right;\">\n",
       "      <th></th>\n",
       "      <th>Unnamed: 0</th>\n",
       "      <th>blockNumber</th>\n",
       "      <th>transactionHash</th>\n",
       "      <th>address</th>\n",
       "      <th>transactionIndex</th>\n",
       "      <th>logIndex</th>\n",
       "      <th>topics_0</th>\n",
       "      <th>topics_1</th>\n",
       "      <th>topics_2</th>\n",
       "      <th>topics_3</th>\n",
       "      <th>...</th>\n",
       "      <th>event_name</th>\n",
       "      <th>amount0In</th>\n",
       "      <th>amount1In</th>\n",
       "      <th>amount0Out</th>\n",
       "      <th>amount1Out</th>\n",
       "      <th>price_buy_ETH</th>\n",
       "      <th>last_price</th>\n",
       "      <th>reserve_0</th>\n",
       "      <th>reserve_1</th>\n",
       "      <th>spot_price</th>\n",
       "    </tr>\n",
       "    <tr>\n",
       "      <th>timestamp</th>\n",
       "      <th></th>\n",
       "      <th></th>\n",
       "      <th></th>\n",
       "      <th></th>\n",
       "      <th></th>\n",
       "      <th></th>\n",
       "      <th></th>\n",
       "      <th></th>\n",
       "      <th></th>\n",
       "      <th></th>\n",
       "      <th></th>\n",
       "      <th></th>\n",
       "      <th></th>\n",
       "      <th></th>\n",
       "      <th></th>\n",
       "      <th></th>\n",
       "      <th></th>\n",
       "      <th></th>\n",
       "      <th></th>\n",
       "      <th></th>\n",
       "      <th></th>\n",
       "    </tr>\n",
       "  </thead>\n",
       "  <tbody>\n",
       "    <tr>\n",
       "      <th>2023-03-24</th>\n",
       "      <td>1204</td>\n",
       "      <td>43554</td>\n",
       "      <td>0xad594851f951591e5b36f92f35db9b8ef602edb207d2...</td>\n",
       "      <td>0x80115c708e12edd42e504c1cd52aea96c547c05c</td>\n",
       "      <td>0</td>\n",
       "      <td>4</td>\n",
       "      <td>0xd78ad95fa46c994b6551d0da85fc275fe613ce37657f...</td>\n",
       "      <td>0x0000000000000000000000002da10a1e27bf85cedd8f...</td>\n",
       "      <td>0x0000000000000000000000003545744fd133dddfb26b...</td>\n",
       "      <td>NaN</td>\n",
       "      <td>...</td>\n",
       "      <td>Swap</td>\n",
       "      <td>40.900104</td>\n",
       "      <td>0.025069</td>\n",
       "      <td>0.0</td>\n",
       "      <td>0</td>\n",
       "      <td>0</td>\n",
       "      <td>0</td>\n",
       "      <td>1.387058e+04</td>\n",
       "      <td>8.509894</td>\n",
       "      <td>1629.936201</td>\n",
       "    </tr>\n",
       "    <tr>\n",
       "      <th>2023-03-25</th>\n",
       "      <td>41230</td>\n",
       "      <td>121431</td>\n",
       "      <td>0x009d4357b163dd89cc4493ddcfb1e6a4ad1f836ea7a5...</td>\n",
       "      <td>0x80115c708e12edd42e504c1cd52aea96c547c05c</td>\n",
       "      <td>0</td>\n",
       "      <td>4</td>\n",
       "      <td>0xd78ad95fa46c994b6551d0da85fc275fe613ce37657f...</td>\n",
       "      <td>0x0000000000000000000000002da10a1e27bf85cedd8f...</td>\n",
       "      <td>0x000000000000000000000000755e2a226c319c7e5ea9...</td>\n",
       "      <td>NaN</td>\n",
       "      <td>...</td>\n",
       "      <td>Swap</td>\n",
       "      <td>809.320067</td>\n",
       "      <td>0.47</td>\n",
       "      <td>0.0</td>\n",
       "      <td>0</td>\n",
       "      <td>0</td>\n",
       "      <td>0</td>\n",
       "      <td>5.043447e+05</td>\n",
       "      <td>292.774507</td>\n",
       "      <td>1722.638556</td>\n",
       "    </tr>\n",
       "    <tr>\n",
       "      <th>2023-03-26</th>\n",
       "      <td>100680</td>\n",
       "      <td>194393</td>\n",
       "      <td>0x159a58f18b9c9695e3bbfc3d3ca8f7e847fcd573e486...</td>\n",
       "      <td>0x80115c708e12edd42e504c1cd52aea96c547c05c</td>\n",
       "      <td>2</td>\n",
       "      <td>15</td>\n",
       "      <td>0xd78ad95fa46c994b6551d0da85fc275fe613ce37657f...</td>\n",
       "      <td>0x0000000000000000000000002da10a1e27bf85cedd8f...</td>\n",
       "      <td>0x000000000000000000000000c6c2ee3c9e53053f5de1...</td>\n",
       "      <td>NaN</td>\n",
       "      <td>...</td>\n",
       "      <td>Swap</td>\n",
       "      <td>0.000000</td>\n",
       "      <td>0.0</td>\n",
       "      <td>0.008977</td>\n",
       "      <td>0</td>\n",
       "      <td>0</td>\n",
       "      <td>0</td>\n",
       "      <td>1.234709e+06</td>\n",
       "      <td>700.272831</td>\n",
       "      <td>1763.182135</td>\n",
       "    </tr>\n",
       "    <tr>\n",
       "      <th>2023-03-27</th>\n",
       "      <td>150031</td>\n",
       "      <td>269835</td>\n",
       "      <td>0x5300088f6052b52354f803b6404d3f69f60915af6c5f...</td>\n",
       "      <td>0x80115c708e12edd42e504c1cd52aea96c547c05c</td>\n",
       "      <td>1</td>\n",
       "      <td>8</td>\n",
       "      <td>0xd78ad95fa46c994b6551d0da85fc275fe613ce37657f...</td>\n",
       "      <td>0x0000000000000000000000002da10a1e27bf85cedd8f...</td>\n",
       "      <td>0x000000000000000000000000b4845049cf818dccd320...</td>\n",
       "      <td>NaN</td>\n",
       "      <td>...</td>\n",
       "      <td>Swap</td>\n",
       "      <td>0.000000</td>\n",
       "      <td>0.0</td>\n",
       "      <td>0.005844</td>\n",
       "      <td>0</td>\n",
       "      <td>0</td>\n",
       "      <td>0</td>\n",
       "      <td>2.217463e+06</td>\n",
       "      <td>1298.43517</td>\n",
       "      <td>1707.796554</td>\n",
       "    </tr>\n",
       "    <tr>\n",
       "      <th>2023-03-28</th>\n",
       "      <td>197174</td>\n",
       "      <td>346323</td>\n",
       "      <td>0xfde88eb2747ebf65b4cbb760e19f484a34e1e2130ff3...</td>\n",
       "      <td>0x80115c708e12edd42e504c1cd52aea96c547c05c</td>\n",
       "      <td>2</td>\n",
       "      <td>18</td>\n",
       "      <td>0xd78ad95fa46c994b6551d0da85fc275fe613ce37657f...</td>\n",
       "      <td>0x0000000000000000000000002da10a1e27bf85cedd8f...</td>\n",
       "      <td>0x000000000000000000000000eae4aa59051226939fbb...</td>\n",
       "      <td>NaN</td>\n",
       "      <td>...</td>\n",
       "      <td>Swap</td>\n",
       "      <td>1152.048067</td>\n",
       "      <td>0.654935</td>\n",
       "      <td>0.0</td>\n",
       "      <td>0</td>\n",
       "      <td>0</td>\n",
       "      <td>0</td>\n",
       "      <td>4.049821e+06</td>\n",
       "      <td>2296.055663</td>\n",
       "      <td>1763.816466</td>\n",
       "    </tr>\n",
       "  </tbody>\n",
       "</table>\n",
       "<p>5 rows × 21 columns</p>\n",
       "</div>"
      ],
      "text/plain": [
       "            Unnamed: 0  blockNumber  \\\n",
       "timestamp                             \n",
       "2023-03-24        1204        43554   \n",
       "2023-03-25       41230       121431   \n",
       "2023-03-26      100680       194393   \n",
       "2023-03-27      150031       269835   \n",
       "2023-03-28      197174       346323   \n",
       "\n",
       "                                              transactionHash  \\\n",
       "timestamp                                                       \n",
       "2023-03-24  0xad594851f951591e5b36f92f35db9b8ef602edb207d2...   \n",
       "2023-03-25  0x009d4357b163dd89cc4493ddcfb1e6a4ad1f836ea7a5...   \n",
       "2023-03-26  0x159a58f18b9c9695e3bbfc3d3ca8f7e847fcd573e486...   \n",
       "2023-03-27  0x5300088f6052b52354f803b6404d3f69f60915af6c5f...   \n",
       "2023-03-28  0xfde88eb2747ebf65b4cbb760e19f484a34e1e2130ff3...   \n",
       "\n",
       "                                               address  transactionIndex  \\\n",
       "timestamp                                                                  \n",
       "2023-03-24  0x80115c708e12edd42e504c1cd52aea96c547c05c                 0   \n",
       "2023-03-25  0x80115c708e12edd42e504c1cd52aea96c547c05c                 0   \n",
       "2023-03-26  0x80115c708e12edd42e504c1cd52aea96c547c05c                 2   \n",
       "2023-03-27  0x80115c708e12edd42e504c1cd52aea96c547c05c                 1   \n",
       "2023-03-28  0x80115c708e12edd42e504c1cd52aea96c547c05c                 2   \n",
       "\n",
       "            logIndex                                           topics_0  \\\n",
       "timestamp                                                                 \n",
       "2023-03-24         4  0xd78ad95fa46c994b6551d0da85fc275fe613ce37657f...   \n",
       "2023-03-25         4  0xd78ad95fa46c994b6551d0da85fc275fe613ce37657f...   \n",
       "2023-03-26        15  0xd78ad95fa46c994b6551d0da85fc275fe613ce37657f...   \n",
       "2023-03-27         8  0xd78ad95fa46c994b6551d0da85fc275fe613ce37657f...   \n",
       "2023-03-28        18  0xd78ad95fa46c994b6551d0da85fc275fe613ce37657f...   \n",
       "\n",
       "                                                     topics_1  \\\n",
       "timestamp                                                       \n",
       "2023-03-24  0x0000000000000000000000002da10a1e27bf85cedd8f...   \n",
       "2023-03-25  0x0000000000000000000000002da10a1e27bf85cedd8f...   \n",
       "2023-03-26  0x0000000000000000000000002da10a1e27bf85cedd8f...   \n",
       "2023-03-27  0x0000000000000000000000002da10a1e27bf85cedd8f...   \n",
       "2023-03-28  0x0000000000000000000000002da10a1e27bf85cedd8f...   \n",
       "\n",
       "                                                     topics_2  topics_3  ...  \\\n",
       "timestamp                                                                ...   \n",
       "2023-03-24  0x0000000000000000000000003545744fd133dddfb26b...       NaN  ...   \n",
       "2023-03-25  0x000000000000000000000000755e2a226c319c7e5ea9...       NaN  ...   \n",
       "2023-03-26  0x000000000000000000000000c6c2ee3c9e53053f5de1...       NaN  ...   \n",
       "2023-03-27  0x000000000000000000000000b4845049cf818dccd320...       NaN  ...   \n",
       "2023-03-28  0x000000000000000000000000eae4aa59051226939fbb...       NaN  ...   \n",
       "\n",
       "           event_name    amount0In  amount1In amount0Out amount1Out  \\\n",
       "timestamp                                                             \n",
       "2023-03-24       Swap    40.900104   0.025069        0.0          0   \n",
       "2023-03-25       Swap   809.320067       0.47        0.0          0   \n",
       "2023-03-26       Swap     0.000000        0.0   0.008977          0   \n",
       "2023-03-27       Swap     0.000000        0.0   0.005844          0   \n",
       "2023-03-28       Swap  1152.048067   0.654935        0.0          0   \n",
       "\n",
       "            price_buy_ETH  last_price     reserve_0    reserve_1   spot_price  \n",
       "timestamp                                                                      \n",
       "2023-03-24              0           0  1.387058e+04     8.509894  1629.936201  \n",
       "2023-03-25              0           0  5.043447e+05   292.774507  1722.638556  \n",
       "2023-03-26              0           0  1.234709e+06   700.272831  1763.182135  \n",
       "2023-03-27              0           0  2.217463e+06   1298.43517  1707.796554  \n",
       "2023-03-28              0           0  4.049821e+06  2296.055663  1763.816466  \n",
       "\n",
       "[5 rows x 21 columns]"
      ]
     },
     "execution_count": 13,
     "metadata": {},
     "output_type": "execute_result"
    }
   ],
   "source": [
    "swap_df['timestamp'] = pd.to_datetime(swap_df['timestamp'])\n",
    "swap_df.set_index('timestamp', inplace=True)\n",
    "df_per_day = swap_df.resample('D').last()\n",
    "\n",
    "df_per_day.head()"
   ]
  },
  {
   "cell_type": "code",
   "execution_count": 14,
   "metadata": {},
   "outputs": [
    {
     "data": {
      "text/html": [
       "<div>\n",
       "<style scoped>\n",
       "    .dataframe tbody tr th:only-of-type {\n",
       "        vertical-align: middle;\n",
       "    }\n",
       "\n",
       "    .dataframe tbody tr th {\n",
       "        vertical-align: top;\n",
       "    }\n",
       "\n",
       "    .dataframe thead th {\n",
       "        text-align: right;\n",
       "    }\n",
       "</style>\n",
       "<table border=\"1\" class=\"dataframe\">\n",
       "  <thead>\n",
       "    <tr style=\"text-align: right;\">\n",
       "      <th></th>\n",
       "      <th>timestamp</th>\n",
       "      <th>Unnamed: 0</th>\n",
       "      <th>blockNumber</th>\n",
       "      <th>transactionHash</th>\n",
       "      <th>address</th>\n",
       "      <th>transactionIndex</th>\n",
       "      <th>logIndex</th>\n",
       "      <th>topics_0</th>\n",
       "      <th>topics_1</th>\n",
       "      <th>topics_2</th>\n",
       "      <th>...</th>\n",
       "      <th>amount0In</th>\n",
       "      <th>amount1In</th>\n",
       "      <th>amount0Out</th>\n",
       "      <th>amount1Out</th>\n",
       "      <th>price_buy_ETH</th>\n",
       "      <th>last_price</th>\n",
       "      <th>reserve_0</th>\n",
       "      <th>reserve_1</th>\n",
       "      <th>spot_price</th>\n",
       "      <th>Adj Close</th>\n",
       "    </tr>\n",
       "  </thead>\n",
       "  <tbody>\n",
       "    <tr>\n",
       "      <th>0</th>\n",
       "      <td>2023-03-24</td>\n",
       "      <td>1204</td>\n",
       "      <td>43554</td>\n",
       "      <td>0xad594851f951591e5b36f92f35db9b8ef602edb207d2...</td>\n",
       "      <td>0x80115c708e12edd42e504c1cd52aea96c547c05c</td>\n",
       "      <td>0</td>\n",
       "      <td>4</td>\n",
       "      <td>0xd78ad95fa46c994b6551d0da85fc275fe613ce37657f...</td>\n",
       "      <td>0x0000000000000000000000002da10a1e27bf85cedd8f...</td>\n",
       "      <td>0x0000000000000000000000003545744fd133dddfb26b...</td>\n",
       "      <td>...</td>\n",
       "      <td>40.900104</td>\n",
       "      <td>0.025069</td>\n",
       "      <td>0.0</td>\n",
       "      <td>0</td>\n",
       "      <td>0</td>\n",
       "      <td>0</td>\n",
       "      <td>1.387058e+04</td>\n",
       "      <td>8.509894</td>\n",
       "      <td>1629.936201</td>\n",
       "      <td>1752.044800</td>\n",
       "    </tr>\n",
       "    <tr>\n",
       "      <th>1</th>\n",
       "      <td>2023-03-25</td>\n",
       "      <td>41230</td>\n",
       "      <td>121431</td>\n",
       "      <td>0x009d4357b163dd89cc4493ddcfb1e6a4ad1f836ea7a5...</td>\n",
       "      <td>0x80115c708e12edd42e504c1cd52aea96c547c05c</td>\n",
       "      <td>0</td>\n",
       "      <td>4</td>\n",
       "      <td>0xd78ad95fa46c994b6551d0da85fc275fe613ce37657f...</td>\n",
       "      <td>0x0000000000000000000000002da10a1e27bf85cedd8f...</td>\n",
       "      <td>0x000000000000000000000000755e2a226c319c7e5ea9...</td>\n",
       "      <td>...</td>\n",
       "      <td>809.320067</td>\n",
       "      <td>0.47</td>\n",
       "      <td>0.0</td>\n",
       "      <td>0</td>\n",
       "      <td>0</td>\n",
       "      <td>0</td>\n",
       "      <td>5.043447e+05</td>\n",
       "      <td>292.774507</td>\n",
       "      <td>1722.638556</td>\n",
       "      <td>1743.764771</td>\n",
       "    </tr>\n",
       "    <tr>\n",
       "      <th>2</th>\n",
       "      <td>2023-03-26</td>\n",
       "      <td>100680</td>\n",
       "      <td>194393</td>\n",
       "      <td>0x159a58f18b9c9695e3bbfc3d3ca8f7e847fcd573e486...</td>\n",
       "      <td>0x80115c708e12edd42e504c1cd52aea96c547c05c</td>\n",
       "      <td>2</td>\n",
       "      <td>15</td>\n",
       "      <td>0xd78ad95fa46c994b6551d0da85fc275fe613ce37657f...</td>\n",
       "      <td>0x0000000000000000000000002da10a1e27bf85cedd8f...</td>\n",
       "      <td>0x000000000000000000000000c6c2ee3c9e53053f5de1...</td>\n",
       "      <td>...</td>\n",
       "      <td>0.000000</td>\n",
       "      <td>0.0</td>\n",
       "      <td>0.008977</td>\n",
       "      <td>0</td>\n",
       "      <td>0</td>\n",
       "      <td>0</td>\n",
       "      <td>1.234709e+06</td>\n",
       "      <td>700.272831</td>\n",
       "      <td>1763.182135</td>\n",
       "      <td>1775.676758</td>\n",
       "    </tr>\n",
       "    <tr>\n",
       "      <th>3</th>\n",
       "      <td>2023-03-27</td>\n",
       "      <td>150031</td>\n",
       "      <td>269835</td>\n",
       "      <td>0x5300088f6052b52354f803b6404d3f69f60915af6c5f...</td>\n",
       "      <td>0x80115c708e12edd42e504c1cd52aea96c547c05c</td>\n",
       "      <td>1</td>\n",
       "      <td>8</td>\n",
       "      <td>0xd78ad95fa46c994b6551d0da85fc275fe613ce37657f...</td>\n",
       "      <td>0x0000000000000000000000002da10a1e27bf85cedd8f...</td>\n",
       "      <td>0x000000000000000000000000b4845049cf818dccd320...</td>\n",
       "      <td>...</td>\n",
       "      <td>0.000000</td>\n",
       "      <td>0.0</td>\n",
       "      <td>0.005844</td>\n",
       "      <td>0</td>\n",
       "      <td>0</td>\n",
       "      <td>0</td>\n",
       "      <td>2.217463e+06</td>\n",
       "      <td>1298.43517</td>\n",
       "      <td>1707.796554</td>\n",
       "      <td>1715.460815</td>\n",
       "    </tr>\n",
       "    <tr>\n",
       "      <th>4</th>\n",
       "      <td>2023-03-28</td>\n",
       "      <td>197174</td>\n",
       "      <td>346323</td>\n",
       "      <td>0xfde88eb2747ebf65b4cbb760e19f484a34e1e2130ff3...</td>\n",
       "      <td>0x80115c708e12edd42e504c1cd52aea96c547c05c</td>\n",
       "      <td>2</td>\n",
       "      <td>18</td>\n",
       "      <td>0xd78ad95fa46c994b6551d0da85fc275fe613ce37657f...</td>\n",
       "      <td>0x0000000000000000000000002da10a1e27bf85cedd8f...</td>\n",
       "      <td>0x000000000000000000000000eae4aa59051226939fbb...</td>\n",
       "      <td>...</td>\n",
       "      <td>1152.048067</td>\n",
       "      <td>0.654935</td>\n",
       "      <td>0.0</td>\n",
       "      <td>0</td>\n",
       "      <td>0</td>\n",
       "      <td>0</td>\n",
       "      <td>4.049821e+06</td>\n",
       "      <td>2296.055663</td>\n",
       "      <td>1763.816466</td>\n",
       "      <td>1772.785645</td>\n",
       "    </tr>\n",
       "  </tbody>\n",
       "</table>\n",
       "<p>5 rows × 23 columns</p>\n",
       "</div>"
      ],
      "text/plain": [
       "   timestamp  Unnamed: 0  blockNumber  \\\n",
       "0 2023-03-24        1204        43554   \n",
       "1 2023-03-25       41230       121431   \n",
       "2 2023-03-26      100680       194393   \n",
       "3 2023-03-27      150031       269835   \n",
       "4 2023-03-28      197174       346323   \n",
       "\n",
       "                                     transactionHash  \\\n",
       "0  0xad594851f951591e5b36f92f35db9b8ef602edb207d2...   \n",
       "1  0x009d4357b163dd89cc4493ddcfb1e6a4ad1f836ea7a5...   \n",
       "2  0x159a58f18b9c9695e3bbfc3d3ca8f7e847fcd573e486...   \n",
       "3  0x5300088f6052b52354f803b6404d3f69f60915af6c5f...   \n",
       "4  0xfde88eb2747ebf65b4cbb760e19f484a34e1e2130ff3...   \n",
       "\n",
       "                                      address  transactionIndex  logIndex  \\\n",
       "0  0x80115c708e12edd42e504c1cd52aea96c547c05c                 0         4   \n",
       "1  0x80115c708e12edd42e504c1cd52aea96c547c05c                 0         4   \n",
       "2  0x80115c708e12edd42e504c1cd52aea96c547c05c                 2        15   \n",
       "3  0x80115c708e12edd42e504c1cd52aea96c547c05c                 1         8   \n",
       "4  0x80115c708e12edd42e504c1cd52aea96c547c05c                 2        18   \n",
       "\n",
       "                                            topics_0  \\\n",
       "0  0xd78ad95fa46c994b6551d0da85fc275fe613ce37657f...   \n",
       "1  0xd78ad95fa46c994b6551d0da85fc275fe613ce37657f...   \n",
       "2  0xd78ad95fa46c994b6551d0da85fc275fe613ce37657f...   \n",
       "3  0xd78ad95fa46c994b6551d0da85fc275fe613ce37657f...   \n",
       "4  0xd78ad95fa46c994b6551d0da85fc275fe613ce37657f...   \n",
       "\n",
       "                                            topics_1  \\\n",
       "0  0x0000000000000000000000002da10a1e27bf85cedd8f...   \n",
       "1  0x0000000000000000000000002da10a1e27bf85cedd8f...   \n",
       "2  0x0000000000000000000000002da10a1e27bf85cedd8f...   \n",
       "3  0x0000000000000000000000002da10a1e27bf85cedd8f...   \n",
       "4  0x0000000000000000000000002da10a1e27bf85cedd8f...   \n",
       "\n",
       "                                            topics_2  ...    amount0In  \\\n",
       "0  0x0000000000000000000000003545744fd133dddfb26b...  ...    40.900104   \n",
       "1  0x000000000000000000000000755e2a226c319c7e5ea9...  ...   809.320067   \n",
       "2  0x000000000000000000000000c6c2ee3c9e53053f5de1...  ...     0.000000   \n",
       "3  0x000000000000000000000000b4845049cf818dccd320...  ...     0.000000   \n",
       "4  0x000000000000000000000000eae4aa59051226939fbb...  ...  1152.048067   \n",
       "\n",
       "  amount1In amount0Out  amount1Out price_buy_ETH last_price     reserve_0  \\\n",
       "0  0.025069        0.0           0             0          0  1.387058e+04   \n",
       "1      0.47        0.0           0             0          0  5.043447e+05   \n",
       "2       0.0   0.008977           0             0          0  1.234709e+06   \n",
       "3       0.0   0.005844           0             0          0  2.217463e+06   \n",
       "4  0.654935        0.0           0             0          0  4.049821e+06   \n",
       "\n",
       "     reserve_1   spot_price    Adj Close  \n",
       "0     8.509894  1629.936201  1752.044800  \n",
       "1   292.774507  1722.638556  1743.764771  \n",
       "2   700.272831  1763.182135  1775.676758  \n",
       "3   1298.43517  1707.796554  1715.460815  \n",
       "4  2296.055663  1763.816466  1772.785645  \n",
       "\n",
       "[5 rows x 23 columns]"
      ]
     },
     "execution_count": 14,
     "metadata": {},
     "output_type": "execute_result"
    }
   ],
   "source": [
    "\n",
    "\n",
    "df_per_day = df_per_day.merge(prices_df[['timestamp', 'Adj Close']], on='timestamp', how='left')\n",
    "#swap_df['diff'] = swap_df['last_price'] - swap_df['spot_price']\n",
    "df_per_day.head()"
   ]
  },
  {
   "cell_type": "code",
   "execution_count": 15,
   "metadata": {},
   "outputs": [],
   "source": [
    "import plotly.graph_objects as go\n",
    "#from utils_plot import *\n",
    "from kaleido import *\n",
    "\n",
    "colors = {'red': '#ee443a', 'blue': '#42bbf1', 'dark_blue': '#1a4fec',\n",
    "          'green': '#50be61', 'grey': '#b7b7b7', 'orange': '#f28222', 'purple': '#6e18ee', 'brown': '#a65628', 'pink': '#ef4793',\n",
    "          'yellow': '#f8c94c', 'black': '#000000', 'white': '#ffffff', 'light_blue': '#a6cee3', 'light_green': '#b2df8a',\n",
    "          'light_grey': '#999999', 'light_orange': '#fdbf6f', 'light_purple': '#cab2d6', 'light_brown': '#ffff99', 'light_pink': '#1f78b4',\n",
    "          'light_yellow': '#fb9a99', 'light_black': '#e31a1c', 'light_white': '#33a02c', 'gold': '#ff7f00', 'silver': '#b2df8a'}\n",
    "\n",
    "layout = go.Layout(\n",
    "    margin=go.layout.Margin(\n",
    "        l=10,  # left margin\n",
    "        r=10,  # right margin\n",
    "        b=10,  # bottom margin\n",
    "        t=10  # top margin\n",
    "    ),\n",
    "    template='simple_white',\n",
    "    xaxis=dict(minor_ticks=\"inside\", showgrid=True, griddash='dash',\n",
    "               minor_griddash=\"dot\"),\n",
    "    yaxis=dict(minor_ticks=\"inside\", showgrid=True, griddash='dash',\n",
    "               minor_griddash=\"dot\"),\n",
    "    font=dict(size=18, family='Clear Sans',\n",
    "              color='black'),\n",
    "\n",
    ")\n",
    "\n",
    "settings = {\n",
    "    'AddLiquidity': {'color': colors['blue'], 'style': None, 'width': 4.5},\n",
    "    'RemoveLiquidity': {'color': colors['red'], 'style': 'dash', 'width': 4},\n",
    "    'RemoveLiquidityOne': {'color': colors['green'], 'style': 'dot', 'width': 3.5},\n",
    "    'RemoveLiquidityImbalance': {'color': colors['brown'], 'style': 'dashdot', 'width': 3},\n",
    "}"
   ]
  },
  {
   "cell_type": "code",
   "execution_count": null,
   "metadata": {},
   "outputs": [],
   "source": [
    "fig = go.Figure(layout=layout)\n",
    "\n",
    "fig.add_trace(go.Scatter(x=swap_df.index,\n",
    "                            y=swap_df['last_price'].astype(\n",
    "                                float),\n",
    "                            mode='lines',\n",
    "                            name = 'Effective Price'))\n",
    "\n",
    "fig.add_trace(go.Scatter(x=swap_df.index,\n",
    "                            y=swap_df['spot_price'].astype(\n",
    "                                float),\n",
    "                            mode='lines',\n",
    "                            name = 'Spot Price'))\n",
    "\n",
    "fig.add_trace(go.Scatter(x=prices_df['Date'],\n",
    "                            y=prices_df['Adj Close'].astype(\n",
    "                                float),\n",
    "                            mode='lines',\n",
    "                            name = 'Yahoo Price'))\n",
    "\n",
    "fig.update_layout(xaxis_title='Date',\n",
    "                    yaxis_title='Last price', showlegend=True,\n",
    "                    legend=dict(xanchor='center', x=0.5, y=1.10, orientation='h'),)\n",
    "#fig.write_image(f\"./plots/{contract_name}_{event_name}.pdf\")\n",
    "fig.show()"
   ]
  },
  {
   "cell_type": "code",
   "execution_count": 16,
   "metadata": {},
   "outputs": [],
   "source": [
    "def calculateMAV(reserves_x, price_AMM, price_CEX):\n",
    "    return (reserves_x * (price_AMM - price_CEX) / (2 * price_AMM) )\n",
    "    if (price_AMM > price_CEX) :\n",
    "        return (reserves_x * (price_AMM - price_CEX) / (2 * price_AMM) )\n",
    "    else :\n",
    "        return (reserves_x * (price_CEX - price_AMM) / (2 * price_AMM) )"
   ]
  },
  {
   "cell_type": "code",
   "execution_count": 17,
   "metadata": {},
   "outputs": [],
   "source": [
    "df_per_day['MAV'] = calculateMAV(df_per_day['reserve_0'], df_per_day['spot_price'], df_per_day['Adj Close'])"
   ]
  },
  {
   "cell_type": "code",
   "execution_count": 18,
   "metadata": {},
   "outputs": [
    {
     "data": {
      "text/plain": [
       "3145926.9112012316"
      ]
     },
     "execution_count": 18,
     "metadata": {},
     "output_type": "execute_result"
    }
   ],
   "source": [
    "df_per_day.head()\n",
    "df_per_day.columns\n",
    "MAV =sum(abs(df_per_day['MAV']))\n",
    "MAV"
   ]
  },
  {
   "cell_type": "code",
   "execution_count": 19,
   "metadata": {},
   "outputs": [
    {
     "data": {
      "application/vnd.plotly.v1+json": {
       "config": {
        "plotlyServerURL": "https://plot.ly"
       },
       "data": [
        {
         "mode": "lines",
         "name": "ETH-BTC at SyncSwap",
         "type": "scatter",
         "x": [
          "2023-03-24T00:00:00",
          "2023-03-25T00:00:00",
          "2023-03-26T00:00:00",
          "2023-03-27T00:00:00",
          "2023-03-28T00:00:00",
          "2023-03-29T00:00:00",
          "2023-03-30T00:00:00",
          "2023-03-31T00:00:00",
          "2023-04-01T00:00:00",
          "2023-04-02T00:00:00",
          "2023-04-03T00:00:00",
          "2023-04-04T00:00:00",
          "2023-04-05T00:00:00",
          "2023-04-06T00:00:00",
          "2023-04-07T00:00:00",
          "2023-04-08T00:00:00",
          "2023-04-09T00:00:00",
          "2023-04-10T00:00:00",
          "2023-04-11T00:00:00",
          "2023-04-12T00:00:00",
          "2023-04-13T00:00:00",
          "2023-04-14T00:00:00",
          "2023-04-15T00:00:00",
          "2023-04-16T00:00:00",
          "2023-04-17T00:00:00",
          "2023-04-18T00:00:00",
          "2023-04-19T00:00:00",
          "2023-04-20T00:00:00",
          "2023-04-21T00:00:00",
          "2023-04-22T00:00:00",
          "2023-04-23T00:00:00",
          "2023-04-24T00:00:00",
          "2023-04-25T00:00:00",
          "2023-04-26T00:00:00",
          "2023-04-27T00:00:00",
          "2023-04-28T00:00:00",
          "2023-04-29T00:00:00",
          "2023-04-30T00:00:00",
          "2023-05-01T00:00:00",
          "2023-05-02T00:00:00",
          "2023-05-03T00:00:00",
          "2023-05-04T00:00:00",
          "2023-05-05T00:00:00",
          "2023-05-06T00:00:00",
          "2023-05-07T00:00:00",
          "2023-05-08T00:00:00",
          "2023-05-09T00:00:00",
          "2023-05-10T00:00:00",
          "2023-05-11T00:00:00",
          "2023-05-12T00:00:00",
          "2023-05-13T00:00:00",
          "2023-05-14T00:00:00",
          "2023-05-15T00:00:00",
          "2023-05-16T00:00:00",
          "2023-05-17T00:00:00",
          "2023-05-18T00:00:00",
          "2023-05-19T00:00:00",
          "2023-05-20T00:00:00",
          "2023-05-21T00:00:00",
          "2023-05-22T00:00:00",
          "2023-05-23T00:00:00",
          "2023-05-24T00:00:00",
          "2023-05-25T00:00:00",
          "2023-05-26T00:00:00",
          "2023-05-27T00:00:00",
          "2023-05-28T00:00:00",
          "2023-05-29T00:00:00",
          "2023-05-30T00:00:00",
          "2023-05-31T00:00:00",
          "2023-06-01T00:00:00",
          "2023-06-02T00:00:00",
          "2023-06-03T00:00:00",
          "2023-06-04T00:00:00",
          "2023-06-05T00:00:00",
          "2023-06-06T00:00:00",
          "2023-06-07T00:00:00",
          "2023-06-08T00:00:00",
          "2023-06-09T00:00:00",
          "2023-06-10T00:00:00",
          "2023-06-11T00:00:00",
          "2023-06-12T00:00:00",
          "2023-06-13T00:00:00",
          "2023-06-14T00:00:00",
          "2023-06-15T00:00:00",
          "2023-06-16T00:00:00",
          "2023-06-17T00:00:00",
          "2023-06-18T00:00:00",
          "2023-06-19T00:00:00",
          "2023-06-20T00:00:00",
          "2023-06-21T00:00:00",
          "2023-06-22T00:00:00",
          "2023-06-23T00:00:00",
          "2023-06-24T00:00:00",
          "2023-06-25T00:00:00",
          "2023-06-26T00:00:00",
          "2023-06-27T00:00:00",
          "2023-06-28T00:00:00",
          "2023-06-29T00:00:00",
          "2023-06-30T00:00:00",
          "2023-07-01T00:00:00",
          "2023-07-02T00:00:00",
          "2023-07-03T00:00:00",
          "2023-07-04T00:00:00",
          "2023-07-05T00:00:00",
          "2023-07-06T00:00:00",
          "2023-07-07T00:00:00",
          "2023-07-08T00:00:00",
          "2023-07-09T00:00:00",
          "2023-07-10T00:00:00",
          "2023-07-11T00:00:00",
          "2023-07-12T00:00:00",
          "2023-07-13T00:00:00",
          "2023-07-14T00:00:00",
          "2023-07-15T00:00:00",
          "2023-07-16T00:00:00",
          "2023-07-17T00:00:00",
          "2023-07-18T00:00:00",
          "2023-07-19T00:00:00",
          "2023-07-20T00:00:00",
          "2023-07-21T00:00:00",
          "2023-07-22T00:00:00",
          "2023-07-23T00:00:00",
          "2023-07-24T00:00:00",
          "2023-07-25T00:00:00",
          "2023-07-26T00:00:00",
          "2023-07-27T00:00:00",
          "2023-07-28T00:00:00",
          "2023-07-29T00:00:00",
          "2023-07-30T00:00:00",
          "2023-07-31T00:00:00",
          "2023-08-01T00:00:00",
          "2023-08-02T00:00:00",
          "2023-08-03T00:00:00",
          "2023-08-04T00:00:00",
          "2023-08-05T00:00:00",
          "2023-08-06T00:00:00",
          "2023-08-07T00:00:00",
          "2023-08-08T00:00:00",
          "2023-08-09T00:00:00",
          "2023-08-10T00:00:00",
          "2023-08-11T00:00:00",
          "2023-08-12T00:00:00",
          "2023-08-13T00:00:00",
          "2023-08-14T00:00:00",
          "2023-08-15T00:00:00",
          "2023-08-16T00:00:00",
          "2023-08-17T00:00:00",
          "2023-08-18T00:00:00",
          "2023-08-19T00:00:00",
          "2023-08-20T00:00:00",
          "2023-08-21T00:00:00",
          "2023-08-22T00:00:00",
          "2023-08-23T00:00:00",
          "2023-08-24T00:00:00",
          "2023-08-25T00:00:00",
          "2023-08-26T00:00:00",
          "2023-08-27T00:00:00",
          "2023-08-28T00:00:00",
          "2023-08-29T00:00:00",
          "2023-08-30T00:00:00",
          "2023-08-31T00:00:00",
          "2023-09-01T00:00:00",
          "2023-09-02T00:00:00",
          "2023-09-03T00:00:00",
          "2023-09-04T00:00:00",
          "2023-09-05T00:00:00",
          "2023-09-06T00:00:00",
          "2023-09-07T00:00:00",
          "2023-09-08T00:00:00",
          "2023-09-09T00:00:00",
          "2023-09-10T00:00:00",
          "2023-09-11T00:00:00",
          "2023-09-12T00:00:00",
          "2023-09-13T00:00:00",
          "2023-09-14T00:00:00",
          "2023-09-15T00:00:00",
          "2023-09-16T00:00:00",
          "2023-09-17T00:00:00"
         ],
         "y": [
          -519.5655902292989,
          -3092.6086578584755,
          -4374.822483089759,
          -4975.773273490652,
          -10296.867036224075,
          -11252.177831223322,
          -9897.614517723341,
          -8761.239350271822,
          2133.963599810996,
          -24792.747204798583,
          -12821.865669542643,
          -13576.495404822002,
          -35366.20679276147,
          -28385.931801055525,
          -32935.56913029705,
          -11942.375615567837,
          4506.034693957807,
          -64863.81605970383,
          -38378.70483765856,
          -8381.276022670427,
          -45587.1447031209,
          17080.263652712685,
          -16838.10880393022,
          -15948.253671537423,
          13750.34775044819,
          1189.0083065087547,
          63072.227524990056,
          3684.6652845381695,
          19995.51521543026,
          -6319.877830588134,
          -17846.239386507048,
          3774.2065766409537,
          -39352.915950039875,
          -33225.01614519645,
          -8818.007263865924,
          8904.592143023621,
          -17974.02322257834,
          29275.658103199097,
          -11322.85640120681,
          1613.0693052805216,
          -11709.996295215533,
          -21202.51225294005,
          -28004.33176954187,
          -16414.28515438242,
          43112.12806142886,
          -18465.7033922951,
          -14218.101697950777,
          118.04916135578654,
          -3271.6363039883236,
          -12180.095548876317,
          -3042.0423744266027,
          -19781.478057168206,
          8184.213366477607,
          -15871.198998283102,
          18463.32812925962,
          26006.77399193131,
          4455.597595206884,
          -28129.57702844059,
          -9409.026811574326,
          -10434.98738650726,
          -27279.136184406274,
          3254.567008298154,
          1047.7625573453515,
          5851.118674963399,
          -53201.93947263727,
          -22193.06220799724,
          11943.871154978893,
          -10740.38050227309,
          -18145.604490183938,
          -20526.079879674515,
          -41997.730703577865,
          -33762.99751163451,
          -30.94647356770996,
          24935.007819081642,
          -51985.19367439898,
          -39307.60471523064,
          6771.461833127235,
          -36089.78853275634,
          -23279.261401461146,
          -41654.97186224901,
          -42372.37504390199,
          -34358.825970487575,
          24847.93970078294,
          -2573.3483885450946,
          3995.4876832526434,
          31656.17066825051,
          -16813.940574433236,
          -41880.83592498222,
          -37720.537105347845,
          -13093.55528772776,
          -12696.92894225362,
          -15342.616950982485,
          -11866.097698305528,
          -5080.857727128436,
          -19482.634302028582,
          12718.450145100254,
          34930.61834415527,
          -4590.347314691842,
          -7424.519961632038,
          -18459.85887617395,
          -35924.04290249629,
          -20180.309364572637,
          3640.928508571225,
          -13547.352027364239,
          82154.19910478471,
          -41469.2679752979,
          -39745.81277844446,
          -6550.934415398341,
          -28415.811911677218,
          -30651.911045748446,
          -17562.81313753393,
          -78588.25093717892,
          -48458.75874807013,
          -26061.687277858797,
          -16148.611614056264,
          13761.185569801055,
          -3576.7732371385437,
          -1205.894644111692,
          11044.362332530669,
          -156.7001336684187,
          -36856.99451281912,
          -35839.17916256944,
          -21651.25867367875,
          19025.18320953372,
          -18878.84075540439,
          -6653.572691482791,
          31194.748689181677,
          -13997.309636362974,
          -20850.828691438837,
          -21541.44402343178,
          -16464.863238571394,
          -8025.591426674595,
          -7569.201024014893,
          3297.9503767195906,
          -2729.8131664262924,
          10650.805765059971,
          -12792.883410012108,
          -2012.3319698567118,
          2854.5792297941002,
          -22468.04864919216,
          -18036.26941218851,
          -9345.398963572403,
          -4681.2299952280955,
          -8520.768243227976,
          -25210.5882187981,
          -2397.3673779848255,
          10092.82699109391,
          1581.931536696483,
          -1034.4470689055722,
          1606.9628538636414,
          13656.07209293638,
          -12626.074721885723,
          -12572.887901897113,
          -2220.978556709963,
          -14034.873559208583,
          -12966.8718502557,
          -18569.13668294725,
          16575.167615305778,
          -14913.2408171476,
          -3597.673304922365,
          -15069.36194663528,
          -219.73757422295253,
          2317.475473924618,
          3360.2647627421693,
          -9444.572887714816,
          -14456.277814129126,
          -12741.808985570187,
          3764.5215257459977,
          -4554.7576915210375,
          -11364.058599258944,
          16542.22318254561,
          -32021.375006403698,
          17473.656320444934,
          -12714.660035053646,
          4728.706193548292,
          14121.111441733401,
          -9150.58594837432,
          38232.802616999106
         ]
        }
       ],
       "layout": {
        "font": {
         "color": "black",
         "family": "Clear Sans",
         "size": 18
        },
        "legend": {
         "orientation": "h",
         "x": 0.5,
         "xanchor": "center",
         "y": 1.1
        },
        "margin": {
         "b": 10,
         "l": 10,
         "r": 10,
         "t": 10
        },
        "showlegend": true,
        "template": {
         "data": {
          "bar": [
           {
            "error_x": {
             "color": "rgb(36,36,36)"
            },
            "error_y": {
             "color": "rgb(36,36,36)"
            },
            "marker": {
             "line": {
              "color": "white",
              "width": 0.5
             },
             "pattern": {
              "fillmode": "overlay",
              "size": 10,
              "solidity": 0.2
             }
            },
            "type": "bar"
           }
          ],
          "barpolar": [
           {
            "marker": {
             "line": {
              "color": "white",
              "width": 0.5
             },
             "pattern": {
              "fillmode": "overlay",
              "size": 10,
              "solidity": 0.2
             }
            },
            "type": "barpolar"
           }
          ],
          "carpet": [
           {
            "aaxis": {
             "endlinecolor": "rgb(36,36,36)",
             "gridcolor": "white",
             "linecolor": "white",
             "minorgridcolor": "white",
             "startlinecolor": "rgb(36,36,36)"
            },
            "baxis": {
             "endlinecolor": "rgb(36,36,36)",
             "gridcolor": "white",
             "linecolor": "white",
             "minorgridcolor": "white",
             "startlinecolor": "rgb(36,36,36)"
            },
            "type": "carpet"
           }
          ],
          "choropleth": [
           {
            "colorbar": {
             "outlinewidth": 1,
             "tickcolor": "rgb(36,36,36)",
             "ticks": "outside"
            },
            "type": "choropleth"
           }
          ],
          "contour": [
           {
            "colorbar": {
             "outlinewidth": 1,
             "tickcolor": "rgb(36,36,36)",
             "ticks": "outside"
            },
            "colorscale": [
             [
              0,
              "#440154"
             ],
             [
              0.1111111111111111,
              "#482878"
             ],
             [
              0.2222222222222222,
              "#3e4989"
             ],
             [
              0.3333333333333333,
              "#31688e"
             ],
             [
              0.4444444444444444,
              "#26828e"
             ],
             [
              0.5555555555555556,
              "#1f9e89"
             ],
             [
              0.6666666666666666,
              "#35b779"
             ],
             [
              0.7777777777777778,
              "#6ece58"
             ],
             [
              0.8888888888888888,
              "#b5de2b"
             ],
             [
              1,
              "#fde725"
             ]
            ],
            "type": "contour"
           }
          ],
          "contourcarpet": [
           {
            "colorbar": {
             "outlinewidth": 1,
             "tickcolor": "rgb(36,36,36)",
             "ticks": "outside"
            },
            "type": "contourcarpet"
           }
          ],
          "heatmap": [
           {
            "colorbar": {
             "outlinewidth": 1,
             "tickcolor": "rgb(36,36,36)",
             "ticks": "outside"
            },
            "colorscale": [
             [
              0,
              "#440154"
             ],
             [
              0.1111111111111111,
              "#482878"
             ],
             [
              0.2222222222222222,
              "#3e4989"
             ],
             [
              0.3333333333333333,
              "#31688e"
             ],
             [
              0.4444444444444444,
              "#26828e"
             ],
             [
              0.5555555555555556,
              "#1f9e89"
             ],
             [
              0.6666666666666666,
              "#35b779"
             ],
             [
              0.7777777777777778,
              "#6ece58"
             ],
             [
              0.8888888888888888,
              "#b5de2b"
             ],
             [
              1,
              "#fde725"
             ]
            ],
            "type": "heatmap"
           }
          ],
          "heatmapgl": [
           {
            "colorbar": {
             "outlinewidth": 1,
             "tickcolor": "rgb(36,36,36)",
             "ticks": "outside"
            },
            "colorscale": [
             [
              0,
              "#440154"
             ],
             [
              0.1111111111111111,
              "#482878"
             ],
             [
              0.2222222222222222,
              "#3e4989"
             ],
             [
              0.3333333333333333,
              "#31688e"
             ],
             [
              0.4444444444444444,
              "#26828e"
             ],
             [
              0.5555555555555556,
              "#1f9e89"
             ],
             [
              0.6666666666666666,
              "#35b779"
             ],
             [
              0.7777777777777778,
              "#6ece58"
             ],
             [
              0.8888888888888888,
              "#b5de2b"
             ],
             [
              1,
              "#fde725"
             ]
            ],
            "type": "heatmapgl"
           }
          ],
          "histogram": [
           {
            "marker": {
             "line": {
              "color": "white",
              "width": 0.6
             }
            },
            "type": "histogram"
           }
          ],
          "histogram2d": [
           {
            "colorbar": {
             "outlinewidth": 1,
             "tickcolor": "rgb(36,36,36)",
             "ticks": "outside"
            },
            "colorscale": [
             [
              0,
              "#440154"
             ],
             [
              0.1111111111111111,
              "#482878"
             ],
             [
              0.2222222222222222,
              "#3e4989"
             ],
             [
              0.3333333333333333,
              "#31688e"
             ],
             [
              0.4444444444444444,
              "#26828e"
             ],
             [
              0.5555555555555556,
              "#1f9e89"
             ],
             [
              0.6666666666666666,
              "#35b779"
             ],
             [
              0.7777777777777778,
              "#6ece58"
             ],
             [
              0.8888888888888888,
              "#b5de2b"
             ],
             [
              1,
              "#fde725"
             ]
            ],
            "type": "histogram2d"
           }
          ],
          "histogram2dcontour": [
           {
            "colorbar": {
             "outlinewidth": 1,
             "tickcolor": "rgb(36,36,36)",
             "ticks": "outside"
            },
            "colorscale": [
             [
              0,
              "#440154"
             ],
             [
              0.1111111111111111,
              "#482878"
             ],
             [
              0.2222222222222222,
              "#3e4989"
             ],
             [
              0.3333333333333333,
              "#31688e"
             ],
             [
              0.4444444444444444,
              "#26828e"
             ],
             [
              0.5555555555555556,
              "#1f9e89"
             ],
             [
              0.6666666666666666,
              "#35b779"
             ],
             [
              0.7777777777777778,
              "#6ece58"
             ],
             [
              0.8888888888888888,
              "#b5de2b"
             ],
             [
              1,
              "#fde725"
             ]
            ],
            "type": "histogram2dcontour"
           }
          ],
          "mesh3d": [
           {
            "colorbar": {
             "outlinewidth": 1,
             "tickcolor": "rgb(36,36,36)",
             "ticks": "outside"
            },
            "type": "mesh3d"
           }
          ],
          "parcoords": [
           {
            "line": {
             "colorbar": {
              "outlinewidth": 1,
              "tickcolor": "rgb(36,36,36)",
              "ticks": "outside"
             }
            },
            "type": "parcoords"
           }
          ],
          "pie": [
           {
            "automargin": true,
            "type": "pie"
           }
          ],
          "scatter": [
           {
            "fillpattern": {
             "fillmode": "overlay",
             "size": 10,
             "solidity": 0.2
            },
            "type": "scatter"
           }
          ],
          "scatter3d": [
           {
            "line": {
             "colorbar": {
              "outlinewidth": 1,
              "tickcolor": "rgb(36,36,36)",
              "ticks": "outside"
             }
            },
            "marker": {
             "colorbar": {
              "outlinewidth": 1,
              "tickcolor": "rgb(36,36,36)",
              "ticks": "outside"
             }
            },
            "type": "scatter3d"
           }
          ],
          "scattercarpet": [
           {
            "marker": {
             "colorbar": {
              "outlinewidth": 1,
              "tickcolor": "rgb(36,36,36)",
              "ticks": "outside"
             }
            },
            "type": "scattercarpet"
           }
          ],
          "scattergeo": [
           {
            "marker": {
             "colorbar": {
              "outlinewidth": 1,
              "tickcolor": "rgb(36,36,36)",
              "ticks": "outside"
             }
            },
            "type": "scattergeo"
           }
          ],
          "scattergl": [
           {
            "marker": {
             "colorbar": {
              "outlinewidth": 1,
              "tickcolor": "rgb(36,36,36)",
              "ticks": "outside"
             }
            },
            "type": "scattergl"
           }
          ],
          "scattermapbox": [
           {
            "marker": {
             "colorbar": {
              "outlinewidth": 1,
              "tickcolor": "rgb(36,36,36)",
              "ticks": "outside"
             }
            },
            "type": "scattermapbox"
           }
          ],
          "scatterpolar": [
           {
            "marker": {
             "colorbar": {
              "outlinewidth": 1,
              "tickcolor": "rgb(36,36,36)",
              "ticks": "outside"
             }
            },
            "type": "scatterpolar"
           }
          ],
          "scatterpolargl": [
           {
            "marker": {
             "colorbar": {
              "outlinewidth": 1,
              "tickcolor": "rgb(36,36,36)",
              "ticks": "outside"
             }
            },
            "type": "scatterpolargl"
           }
          ],
          "scatterternary": [
           {
            "marker": {
             "colorbar": {
              "outlinewidth": 1,
              "tickcolor": "rgb(36,36,36)",
              "ticks": "outside"
             }
            },
            "type": "scatterternary"
           }
          ],
          "surface": [
           {
            "colorbar": {
             "outlinewidth": 1,
             "tickcolor": "rgb(36,36,36)",
             "ticks": "outside"
            },
            "colorscale": [
             [
              0,
              "#440154"
             ],
             [
              0.1111111111111111,
              "#482878"
             ],
             [
              0.2222222222222222,
              "#3e4989"
             ],
             [
              0.3333333333333333,
              "#31688e"
             ],
             [
              0.4444444444444444,
              "#26828e"
             ],
             [
              0.5555555555555556,
              "#1f9e89"
             ],
             [
              0.6666666666666666,
              "#35b779"
             ],
             [
              0.7777777777777778,
              "#6ece58"
             ],
             [
              0.8888888888888888,
              "#b5de2b"
             ],
             [
              1,
              "#fde725"
             ]
            ],
            "type": "surface"
           }
          ],
          "table": [
           {
            "cells": {
             "fill": {
              "color": "rgb(237,237,237)"
             },
             "line": {
              "color": "white"
             }
            },
            "header": {
             "fill": {
              "color": "rgb(217,217,217)"
             },
             "line": {
              "color": "white"
             }
            },
            "type": "table"
           }
          ]
         },
         "layout": {
          "annotationdefaults": {
           "arrowhead": 0,
           "arrowwidth": 1
          },
          "autotypenumbers": "strict",
          "coloraxis": {
           "colorbar": {
            "outlinewidth": 1,
            "tickcolor": "rgb(36,36,36)",
            "ticks": "outside"
           }
          },
          "colorscale": {
           "diverging": [
            [
             0,
             "rgb(103,0,31)"
            ],
            [
             0.1,
             "rgb(178,24,43)"
            ],
            [
             0.2,
             "rgb(214,96,77)"
            ],
            [
             0.3,
             "rgb(244,165,130)"
            ],
            [
             0.4,
             "rgb(253,219,199)"
            ],
            [
             0.5,
             "rgb(247,247,247)"
            ],
            [
             0.6,
             "rgb(209,229,240)"
            ],
            [
             0.7,
             "rgb(146,197,222)"
            ],
            [
             0.8,
             "rgb(67,147,195)"
            ],
            [
             0.9,
             "rgb(33,102,172)"
            ],
            [
             1,
             "rgb(5,48,97)"
            ]
           ],
           "sequential": [
            [
             0,
             "#440154"
            ],
            [
             0.1111111111111111,
             "#482878"
            ],
            [
             0.2222222222222222,
             "#3e4989"
            ],
            [
             0.3333333333333333,
             "#31688e"
            ],
            [
             0.4444444444444444,
             "#26828e"
            ],
            [
             0.5555555555555556,
             "#1f9e89"
            ],
            [
             0.6666666666666666,
             "#35b779"
            ],
            [
             0.7777777777777778,
             "#6ece58"
            ],
            [
             0.8888888888888888,
             "#b5de2b"
            ],
            [
             1,
             "#fde725"
            ]
           ],
           "sequentialminus": [
            [
             0,
             "#440154"
            ],
            [
             0.1111111111111111,
             "#482878"
            ],
            [
             0.2222222222222222,
             "#3e4989"
            ],
            [
             0.3333333333333333,
             "#31688e"
            ],
            [
             0.4444444444444444,
             "#26828e"
            ],
            [
             0.5555555555555556,
             "#1f9e89"
            ],
            [
             0.6666666666666666,
             "#35b779"
            ],
            [
             0.7777777777777778,
             "#6ece58"
            ],
            [
             0.8888888888888888,
             "#b5de2b"
            ],
            [
             1,
             "#fde725"
            ]
           ]
          },
          "colorway": [
           "#1F77B4",
           "#FF7F0E",
           "#2CA02C",
           "#D62728",
           "#9467BD",
           "#8C564B",
           "#E377C2",
           "#7F7F7F",
           "#BCBD22",
           "#17BECF"
          ],
          "font": {
           "color": "rgb(36,36,36)"
          },
          "geo": {
           "bgcolor": "white",
           "lakecolor": "white",
           "landcolor": "white",
           "showlakes": true,
           "showland": true,
           "subunitcolor": "white"
          },
          "hoverlabel": {
           "align": "left"
          },
          "hovermode": "closest",
          "mapbox": {
           "style": "light"
          },
          "paper_bgcolor": "white",
          "plot_bgcolor": "white",
          "polar": {
           "angularaxis": {
            "gridcolor": "rgb(232,232,232)",
            "linecolor": "rgb(36,36,36)",
            "showgrid": false,
            "showline": true,
            "ticks": "outside"
           },
           "bgcolor": "white",
           "radialaxis": {
            "gridcolor": "rgb(232,232,232)",
            "linecolor": "rgb(36,36,36)",
            "showgrid": false,
            "showline": true,
            "ticks": "outside"
           }
          },
          "scene": {
           "xaxis": {
            "backgroundcolor": "white",
            "gridcolor": "rgb(232,232,232)",
            "gridwidth": 2,
            "linecolor": "rgb(36,36,36)",
            "showbackground": true,
            "showgrid": false,
            "showline": true,
            "ticks": "outside",
            "zeroline": false,
            "zerolinecolor": "rgb(36,36,36)"
           },
           "yaxis": {
            "backgroundcolor": "white",
            "gridcolor": "rgb(232,232,232)",
            "gridwidth": 2,
            "linecolor": "rgb(36,36,36)",
            "showbackground": true,
            "showgrid": false,
            "showline": true,
            "ticks": "outside",
            "zeroline": false,
            "zerolinecolor": "rgb(36,36,36)"
           },
           "zaxis": {
            "backgroundcolor": "white",
            "gridcolor": "rgb(232,232,232)",
            "gridwidth": 2,
            "linecolor": "rgb(36,36,36)",
            "showbackground": true,
            "showgrid": false,
            "showline": true,
            "ticks": "outside",
            "zeroline": false,
            "zerolinecolor": "rgb(36,36,36)"
           }
          },
          "shapedefaults": {
           "fillcolor": "black",
           "line": {
            "width": 0
           },
           "opacity": 0.3
          },
          "ternary": {
           "aaxis": {
            "gridcolor": "rgb(232,232,232)",
            "linecolor": "rgb(36,36,36)",
            "showgrid": false,
            "showline": true,
            "ticks": "outside"
           },
           "baxis": {
            "gridcolor": "rgb(232,232,232)",
            "linecolor": "rgb(36,36,36)",
            "showgrid": false,
            "showline": true,
            "ticks": "outside"
           },
           "bgcolor": "white",
           "caxis": {
            "gridcolor": "rgb(232,232,232)",
            "linecolor": "rgb(36,36,36)",
            "showgrid": false,
            "showline": true,
            "ticks": "outside"
           }
          },
          "title": {
           "x": 0.05
          },
          "xaxis": {
           "automargin": true,
           "gridcolor": "rgb(232,232,232)",
           "linecolor": "rgb(36,36,36)",
           "showgrid": false,
           "showline": true,
           "ticks": "outside",
           "title": {
            "standoff": 15
           },
           "zeroline": false,
           "zerolinecolor": "rgb(36,36,36)"
          },
          "yaxis": {
           "automargin": true,
           "gridcolor": "rgb(232,232,232)",
           "linecolor": "rgb(36,36,36)",
           "showgrid": false,
           "showline": true,
           "ticks": "outside",
           "title": {
            "standoff": 15
           },
           "zeroline": false,
           "zerolinecolor": "rgb(36,36,36)"
          }
         }
        },
        "xaxis": {
         "griddash": "dash",
         "minor": {
          "griddash": "dot",
          "ticks": "inside"
         },
         "showgrid": true,
         "title": {
          "text": "Date"
         }
        },
        "yaxis": {
         "griddash": "dash",
         "minor": {
          "griddash": "dot",
          "ticks": "inside"
         },
         "showgrid": true,
         "title": {
          "text": "Daily MAV [ETH]"
         }
        }
       }
      }
     },
     "metadata": {},
     "output_type": "display_data"
    }
   ],
   "source": [
    "fig = go.Figure(layout=layout)\n",
    "\n",
    "fig.add_trace(go.Scatter(x=df_per_day['timestamp'],\n",
    "                            y=df_per_day['MAV'].astype(\n",
    "                                float),\n",
    "                            mode='lines',\n",
    "                            name = 'ETH-BTC at SyncSwap'))\n",
    "\n",
    "fig.update_layout(xaxis_title='Date',\n",
    "                    yaxis_title='Daily MAV [ETH]', showlegend=True,\n",
    "                    legend=dict(xanchor='center', x=0.5, y=1.10, orientation='h'),)\n",
    "#fig.write_image(f\"./plots/{contract_name}_{event_name}.pdf\")\n",
    "fig.show()"
   ]
  },
  {
   "cell_type": "code",
   "execution_count": 20,
   "metadata": {},
   "outputs": [],
   "source": [
    "df_per_day['abs_MAV'] = abs(df_per_day['MAV'])\n",
    "df_per_day['cum_MAV'] = df_per_day['abs_MAV'].cumsum()"
   ]
  },
  {
   "cell_type": "code",
   "execution_count": 21,
   "metadata": {},
   "outputs": [
    {
     "data": {
      "application/vnd.plotly.v1+json": {
       "config": {
        "plotlyServerURL": "https://plot.ly"
       },
       "data": [
        {
         "mode": "lines",
         "name": "ETH-BTC at SyncSwap",
         "type": "scatter",
         "x": [
          "2023-03-24T00:00:00",
          "2023-03-25T00:00:00",
          "2023-03-26T00:00:00",
          "2023-03-27T00:00:00",
          "2023-03-28T00:00:00",
          "2023-03-29T00:00:00",
          "2023-03-30T00:00:00",
          "2023-03-31T00:00:00",
          "2023-04-01T00:00:00",
          "2023-04-02T00:00:00",
          "2023-04-03T00:00:00",
          "2023-04-04T00:00:00",
          "2023-04-05T00:00:00",
          "2023-04-06T00:00:00",
          "2023-04-07T00:00:00",
          "2023-04-08T00:00:00",
          "2023-04-09T00:00:00",
          "2023-04-10T00:00:00",
          "2023-04-11T00:00:00",
          "2023-04-12T00:00:00",
          "2023-04-13T00:00:00",
          "2023-04-14T00:00:00",
          "2023-04-15T00:00:00",
          "2023-04-16T00:00:00",
          "2023-04-17T00:00:00",
          "2023-04-18T00:00:00",
          "2023-04-19T00:00:00",
          "2023-04-20T00:00:00",
          "2023-04-21T00:00:00",
          "2023-04-22T00:00:00",
          "2023-04-23T00:00:00",
          "2023-04-24T00:00:00",
          "2023-04-25T00:00:00",
          "2023-04-26T00:00:00",
          "2023-04-27T00:00:00",
          "2023-04-28T00:00:00",
          "2023-04-29T00:00:00",
          "2023-04-30T00:00:00",
          "2023-05-01T00:00:00",
          "2023-05-02T00:00:00",
          "2023-05-03T00:00:00",
          "2023-05-04T00:00:00",
          "2023-05-05T00:00:00",
          "2023-05-06T00:00:00",
          "2023-05-07T00:00:00",
          "2023-05-08T00:00:00",
          "2023-05-09T00:00:00",
          "2023-05-10T00:00:00",
          "2023-05-11T00:00:00",
          "2023-05-12T00:00:00",
          "2023-05-13T00:00:00",
          "2023-05-14T00:00:00",
          "2023-05-15T00:00:00",
          "2023-05-16T00:00:00",
          "2023-05-17T00:00:00",
          "2023-05-18T00:00:00",
          "2023-05-19T00:00:00",
          "2023-05-20T00:00:00",
          "2023-05-21T00:00:00",
          "2023-05-22T00:00:00",
          "2023-05-23T00:00:00",
          "2023-05-24T00:00:00",
          "2023-05-25T00:00:00",
          "2023-05-26T00:00:00",
          "2023-05-27T00:00:00",
          "2023-05-28T00:00:00",
          "2023-05-29T00:00:00",
          "2023-05-30T00:00:00",
          "2023-05-31T00:00:00",
          "2023-06-01T00:00:00",
          "2023-06-02T00:00:00",
          "2023-06-03T00:00:00",
          "2023-06-04T00:00:00",
          "2023-06-05T00:00:00",
          "2023-06-06T00:00:00",
          "2023-06-07T00:00:00",
          "2023-06-08T00:00:00",
          "2023-06-09T00:00:00",
          "2023-06-10T00:00:00",
          "2023-06-11T00:00:00",
          "2023-06-12T00:00:00",
          "2023-06-13T00:00:00",
          "2023-06-14T00:00:00",
          "2023-06-15T00:00:00",
          "2023-06-16T00:00:00",
          "2023-06-17T00:00:00",
          "2023-06-18T00:00:00",
          "2023-06-19T00:00:00",
          "2023-06-20T00:00:00",
          "2023-06-21T00:00:00",
          "2023-06-22T00:00:00",
          "2023-06-23T00:00:00",
          "2023-06-24T00:00:00",
          "2023-06-25T00:00:00",
          "2023-06-26T00:00:00",
          "2023-06-27T00:00:00",
          "2023-06-28T00:00:00",
          "2023-06-29T00:00:00",
          "2023-06-30T00:00:00",
          "2023-07-01T00:00:00",
          "2023-07-02T00:00:00",
          "2023-07-03T00:00:00",
          "2023-07-04T00:00:00",
          "2023-07-05T00:00:00",
          "2023-07-06T00:00:00",
          "2023-07-07T00:00:00",
          "2023-07-08T00:00:00",
          "2023-07-09T00:00:00",
          "2023-07-10T00:00:00",
          "2023-07-11T00:00:00",
          "2023-07-12T00:00:00",
          "2023-07-13T00:00:00",
          "2023-07-14T00:00:00",
          "2023-07-15T00:00:00",
          "2023-07-16T00:00:00",
          "2023-07-17T00:00:00",
          "2023-07-18T00:00:00",
          "2023-07-19T00:00:00",
          "2023-07-20T00:00:00",
          "2023-07-21T00:00:00",
          "2023-07-22T00:00:00",
          "2023-07-23T00:00:00",
          "2023-07-24T00:00:00",
          "2023-07-25T00:00:00",
          "2023-07-26T00:00:00",
          "2023-07-27T00:00:00",
          "2023-07-28T00:00:00",
          "2023-07-29T00:00:00",
          "2023-07-30T00:00:00",
          "2023-07-31T00:00:00",
          "2023-08-01T00:00:00",
          "2023-08-02T00:00:00",
          "2023-08-03T00:00:00",
          "2023-08-04T00:00:00",
          "2023-08-05T00:00:00",
          "2023-08-06T00:00:00",
          "2023-08-07T00:00:00",
          "2023-08-08T00:00:00",
          "2023-08-09T00:00:00",
          "2023-08-10T00:00:00",
          "2023-08-11T00:00:00",
          "2023-08-12T00:00:00",
          "2023-08-13T00:00:00",
          "2023-08-14T00:00:00",
          "2023-08-15T00:00:00",
          "2023-08-16T00:00:00",
          "2023-08-17T00:00:00",
          "2023-08-18T00:00:00",
          "2023-08-19T00:00:00",
          "2023-08-20T00:00:00",
          "2023-08-21T00:00:00",
          "2023-08-22T00:00:00",
          "2023-08-23T00:00:00",
          "2023-08-24T00:00:00",
          "2023-08-25T00:00:00",
          "2023-08-26T00:00:00",
          "2023-08-27T00:00:00",
          "2023-08-28T00:00:00",
          "2023-08-29T00:00:00",
          "2023-08-30T00:00:00",
          "2023-08-31T00:00:00",
          "2023-09-01T00:00:00",
          "2023-09-02T00:00:00",
          "2023-09-03T00:00:00",
          "2023-09-04T00:00:00",
          "2023-09-05T00:00:00",
          "2023-09-06T00:00:00",
          "2023-09-07T00:00:00",
          "2023-09-08T00:00:00",
          "2023-09-09T00:00:00",
          "2023-09-10T00:00:00",
          "2023-09-11T00:00:00",
          "2023-09-12T00:00:00",
          "2023-09-13T00:00:00",
          "2023-09-14T00:00:00",
          "2023-09-15T00:00:00",
          "2023-09-16T00:00:00",
          "2023-09-17T00:00:00"
         ],
         "y": [
          519.5655902292989,
          3612.1742480877742,
          7986.996731177533,
          12962.770004668186,
          23259.63704089226,
          34511.81487211558,
          44409.42938983892,
          53170.66874011075,
          55304.63233992174,
          80097.37954472033,
          92919.24521426298,
          106495.74061908497,
          141861.94741184643,
          170247.87921290196,
          203183.448343199,
          215125.82395876685,
          219631.85865272465,
          284495.6747124285,
          322874.37955008703,
          331255.6555727575,
          376842.8002758784,
          393923.0639285911,
          410761.1727325213,
          426709.42640405876,
          440459.774154507,
          441648.78246101574,
          504721.0099860058,
          508405.67527054396,
          528401.1904859742,
          534721.0683165623,
          552567.3077030694,
          556341.5142797104,
          595694.4302297502,
          628919.4463749467,
          637737.4536388126,
          646642.0457818363,
          664616.0690044146,
          693891.7271076137,
          705214.5835088205,
          706827.6528141011,
          718537.6491093166,
          739740.1613622567,
          767744.4931317986,
          784158.778286181,
          827270.9063476099,
          845736.609739905,
          859954.7114378557,
          860072.7605992116,
          863344.3969031998,
          875524.4924520762,
          878566.5348265028,
          898348.012883671,
          906532.2262501486,
          922403.4252484317,
          940866.7533776914,
          966873.5273696227,
          971329.1249648297,
          999458.7019932702,
          1008867.7288048445,
          1019302.7161913518,
          1046581.852375758,
          1049836.4193840562,
          1050884.1819414017,
          1056735.3006163652,
          1109937.2400890025,
          1132130.3022969998,
          1144074.1734519787,
          1154814.5539542518,
          1172960.1584444358,
          1193486.2383241104,
          1235483.9690276883,
          1269246.9665393229,
          1269277.9130128906,
          1294212.9208319723,
          1346198.1145063713,
          1385505.719221602,
          1392277.1810547293,
          1428366.9695874855,
          1451646.2309889467,
          1493301.2028511958,
          1535673.577895098,
          1570032.4038655856,
          1594880.3435663686,
          1597453.6919549135,
          1601449.1796381662,
          1633105.3503064166,
          1649919.2908808498,
          1691800.1268058321,
          1729520.66391118,
          1742614.219198908,
          1755311.1481411615,
          1770653.765092144,
          1782519.8627904495,
          1787600.720517578,
          1807083.3548196068,
          1819801.804964707,
          1854732.4233088624,
          1859322.7706235542,
          1866747.2905851863,
          1885207.1494613602,
          1921131.1923638564,
          1941311.501728429,
          1944952.430237,
          1958499.7822643644,
          2040653.9813691492,
          2082123.2493444472,
          2121869.0621228917,
          2128419.99653829,
          2156835.808449967,
          2187487.719495715,
          2205050.532633249,
          2283638.783570428,
          2332097.5423184983,
          2358159.229596357,
          2374307.8412104133,
          2388069.026780214,
          2391645.8000173527,
          2392851.6946614645,
          2403896.0569939953,
          2404052.7571276636,
          2440909.751640483,
          2476748.930803052,
          2498400.189476731,
          2517425.3726862646,
          2536304.213441669,
          2542957.786133152,
          2574152.5348223336,
          2588149.8444586964,
          2609000.673150135,
          2630542.117173567,
          2647006.980412138,
          2655032.571838813,
          2662601.772862828,
          2665899.7232395476,
          2668629.536405974,
          2679280.342171034,
          2692073.2255810457,
          2694085.5575509025,
          2696940.1367806965,
          2719408.185429889,
          2737444.454842077,
          2746789.8538056496,
          2751471.0838008774,
          2759991.8520441055,
          2785202.4402629035,
          2787599.8076408883,
          2797692.634631982,
          2799274.5661686785,
          2800309.013237584,
          2801915.9760914478,
          2815572.048184384,
          2828198.12290627,
          2840771.010808167,
          2842991.989364877,
          2857026.8629240855,
          2869993.7347743413,
          2888562.8714572885,
          2905138.039072594,
          2920051.279889742,
          2923648.9531946643,
          2938718.3151412997,
          2938938.0527155227,
          2941255.5281894472,
          2944615.792952189,
          2954060.365839904,
          2968516.643654033,
          2981258.452639603,
          2985022.9741653493,
          2989577.7318568705,
          3000941.7904561292,
          3017484.0136386747,
          3049505.3886450785,
          3066979.0449655233,
          3079693.705000577,
          3084422.411194125,
          3098543.5226358585,
          3107694.1085842326,
          3145926.9112012316
         ]
        }
       ],
       "layout": {
        "font": {
         "color": "black",
         "family": "Clear Sans",
         "size": 18
        },
        "legend": {
         "orientation": "h",
         "x": 0.5,
         "xanchor": "center",
         "y": 1.1
        },
        "margin": {
         "b": 10,
         "l": 10,
         "r": 10,
         "t": 10
        },
        "showlegend": true,
        "template": {
         "data": {
          "bar": [
           {
            "error_x": {
             "color": "rgb(36,36,36)"
            },
            "error_y": {
             "color": "rgb(36,36,36)"
            },
            "marker": {
             "line": {
              "color": "white",
              "width": 0.5
             },
             "pattern": {
              "fillmode": "overlay",
              "size": 10,
              "solidity": 0.2
             }
            },
            "type": "bar"
           }
          ],
          "barpolar": [
           {
            "marker": {
             "line": {
              "color": "white",
              "width": 0.5
             },
             "pattern": {
              "fillmode": "overlay",
              "size": 10,
              "solidity": 0.2
             }
            },
            "type": "barpolar"
           }
          ],
          "carpet": [
           {
            "aaxis": {
             "endlinecolor": "rgb(36,36,36)",
             "gridcolor": "white",
             "linecolor": "white",
             "minorgridcolor": "white",
             "startlinecolor": "rgb(36,36,36)"
            },
            "baxis": {
             "endlinecolor": "rgb(36,36,36)",
             "gridcolor": "white",
             "linecolor": "white",
             "minorgridcolor": "white",
             "startlinecolor": "rgb(36,36,36)"
            },
            "type": "carpet"
           }
          ],
          "choropleth": [
           {
            "colorbar": {
             "outlinewidth": 1,
             "tickcolor": "rgb(36,36,36)",
             "ticks": "outside"
            },
            "type": "choropleth"
           }
          ],
          "contour": [
           {
            "colorbar": {
             "outlinewidth": 1,
             "tickcolor": "rgb(36,36,36)",
             "ticks": "outside"
            },
            "colorscale": [
             [
              0,
              "#440154"
             ],
             [
              0.1111111111111111,
              "#482878"
             ],
             [
              0.2222222222222222,
              "#3e4989"
             ],
             [
              0.3333333333333333,
              "#31688e"
             ],
             [
              0.4444444444444444,
              "#26828e"
             ],
             [
              0.5555555555555556,
              "#1f9e89"
             ],
             [
              0.6666666666666666,
              "#35b779"
             ],
             [
              0.7777777777777778,
              "#6ece58"
             ],
             [
              0.8888888888888888,
              "#b5de2b"
             ],
             [
              1,
              "#fde725"
             ]
            ],
            "type": "contour"
           }
          ],
          "contourcarpet": [
           {
            "colorbar": {
             "outlinewidth": 1,
             "tickcolor": "rgb(36,36,36)",
             "ticks": "outside"
            },
            "type": "contourcarpet"
           }
          ],
          "heatmap": [
           {
            "colorbar": {
             "outlinewidth": 1,
             "tickcolor": "rgb(36,36,36)",
             "ticks": "outside"
            },
            "colorscale": [
             [
              0,
              "#440154"
             ],
             [
              0.1111111111111111,
              "#482878"
             ],
             [
              0.2222222222222222,
              "#3e4989"
             ],
             [
              0.3333333333333333,
              "#31688e"
             ],
             [
              0.4444444444444444,
              "#26828e"
             ],
             [
              0.5555555555555556,
              "#1f9e89"
             ],
             [
              0.6666666666666666,
              "#35b779"
             ],
             [
              0.7777777777777778,
              "#6ece58"
             ],
             [
              0.8888888888888888,
              "#b5de2b"
             ],
             [
              1,
              "#fde725"
             ]
            ],
            "type": "heatmap"
           }
          ],
          "heatmapgl": [
           {
            "colorbar": {
             "outlinewidth": 1,
             "tickcolor": "rgb(36,36,36)",
             "ticks": "outside"
            },
            "colorscale": [
             [
              0,
              "#440154"
             ],
             [
              0.1111111111111111,
              "#482878"
             ],
             [
              0.2222222222222222,
              "#3e4989"
             ],
             [
              0.3333333333333333,
              "#31688e"
             ],
             [
              0.4444444444444444,
              "#26828e"
             ],
             [
              0.5555555555555556,
              "#1f9e89"
             ],
             [
              0.6666666666666666,
              "#35b779"
             ],
             [
              0.7777777777777778,
              "#6ece58"
             ],
             [
              0.8888888888888888,
              "#b5de2b"
             ],
             [
              1,
              "#fde725"
             ]
            ],
            "type": "heatmapgl"
           }
          ],
          "histogram": [
           {
            "marker": {
             "line": {
              "color": "white",
              "width": 0.6
             }
            },
            "type": "histogram"
           }
          ],
          "histogram2d": [
           {
            "colorbar": {
             "outlinewidth": 1,
             "tickcolor": "rgb(36,36,36)",
             "ticks": "outside"
            },
            "colorscale": [
             [
              0,
              "#440154"
             ],
             [
              0.1111111111111111,
              "#482878"
             ],
             [
              0.2222222222222222,
              "#3e4989"
             ],
             [
              0.3333333333333333,
              "#31688e"
             ],
             [
              0.4444444444444444,
              "#26828e"
             ],
             [
              0.5555555555555556,
              "#1f9e89"
             ],
             [
              0.6666666666666666,
              "#35b779"
             ],
             [
              0.7777777777777778,
              "#6ece58"
             ],
             [
              0.8888888888888888,
              "#b5de2b"
             ],
             [
              1,
              "#fde725"
             ]
            ],
            "type": "histogram2d"
           }
          ],
          "histogram2dcontour": [
           {
            "colorbar": {
             "outlinewidth": 1,
             "tickcolor": "rgb(36,36,36)",
             "ticks": "outside"
            },
            "colorscale": [
             [
              0,
              "#440154"
             ],
             [
              0.1111111111111111,
              "#482878"
             ],
             [
              0.2222222222222222,
              "#3e4989"
             ],
             [
              0.3333333333333333,
              "#31688e"
             ],
             [
              0.4444444444444444,
              "#26828e"
             ],
             [
              0.5555555555555556,
              "#1f9e89"
             ],
             [
              0.6666666666666666,
              "#35b779"
             ],
             [
              0.7777777777777778,
              "#6ece58"
             ],
             [
              0.8888888888888888,
              "#b5de2b"
             ],
             [
              1,
              "#fde725"
             ]
            ],
            "type": "histogram2dcontour"
           }
          ],
          "mesh3d": [
           {
            "colorbar": {
             "outlinewidth": 1,
             "tickcolor": "rgb(36,36,36)",
             "ticks": "outside"
            },
            "type": "mesh3d"
           }
          ],
          "parcoords": [
           {
            "line": {
             "colorbar": {
              "outlinewidth": 1,
              "tickcolor": "rgb(36,36,36)",
              "ticks": "outside"
             }
            },
            "type": "parcoords"
           }
          ],
          "pie": [
           {
            "automargin": true,
            "type": "pie"
           }
          ],
          "scatter": [
           {
            "fillpattern": {
             "fillmode": "overlay",
             "size": 10,
             "solidity": 0.2
            },
            "type": "scatter"
           }
          ],
          "scatter3d": [
           {
            "line": {
             "colorbar": {
              "outlinewidth": 1,
              "tickcolor": "rgb(36,36,36)",
              "ticks": "outside"
             }
            },
            "marker": {
             "colorbar": {
              "outlinewidth": 1,
              "tickcolor": "rgb(36,36,36)",
              "ticks": "outside"
             }
            },
            "type": "scatter3d"
           }
          ],
          "scattercarpet": [
           {
            "marker": {
             "colorbar": {
              "outlinewidth": 1,
              "tickcolor": "rgb(36,36,36)",
              "ticks": "outside"
             }
            },
            "type": "scattercarpet"
           }
          ],
          "scattergeo": [
           {
            "marker": {
             "colorbar": {
              "outlinewidth": 1,
              "tickcolor": "rgb(36,36,36)",
              "ticks": "outside"
             }
            },
            "type": "scattergeo"
           }
          ],
          "scattergl": [
           {
            "marker": {
             "colorbar": {
              "outlinewidth": 1,
              "tickcolor": "rgb(36,36,36)",
              "ticks": "outside"
             }
            },
            "type": "scattergl"
           }
          ],
          "scattermapbox": [
           {
            "marker": {
             "colorbar": {
              "outlinewidth": 1,
              "tickcolor": "rgb(36,36,36)",
              "ticks": "outside"
             }
            },
            "type": "scattermapbox"
           }
          ],
          "scatterpolar": [
           {
            "marker": {
             "colorbar": {
              "outlinewidth": 1,
              "tickcolor": "rgb(36,36,36)",
              "ticks": "outside"
             }
            },
            "type": "scatterpolar"
           }
          ],
          "scatterpolargl": [
           {
            "marker": {
             "colorbar": {
              "outlinewidth": 1,
              "tickcolor": "rgb(36,36,36)",
              "ticks": "outside"
             }
            },
            "type": "scatterpolargl"
           }
          ],
          "scatterternary": [
           {
            "marker": {
             "colorbar": {
              "outlinewidth": 1,
              "tickcolor": "rgb(36,36,36)",
              "ticks": "outside"
             }
            },
            "type": "scatterternary"
           }
          ],
          "surface": [
           {
            "colorbar": {
             "outlinewidth": 1,
             "tickcolor": "rgb(36,36,36)",
             "ticks": "outside"
            },
            "colorscale": [
             [
              0,
              "#440154"
             ],
             [
              0.1111111111111111,
              "#482878"
             ],
             [
              0.2222222222222222,
              "#3e4989"
             ],
             [
              0.3333333333333333,
              "#31688e"
             ],
             [
              0.4444444444444444,
              "#26828e"
             ],
             [
              0.5555555555555556,
              "#1f9e89"
             ],
             [
              0.6666666666666666,
              "#35b779"
             ],
             [
              0.7777777777777778,
              "#6ece58"
             ],
             [
              0.8888888888888888,
              "#b5de2b"
             ],
             [
              1,
              "#fde725"
             ]
            ],
            "type": "surface"
           }
          ],
          "table": [
           {
            "cells": {
             "fill": {
              "color": "rgb(237,237,237)"
             },
             "line": {
              "color": "white"
             }
            },
            "header": {
             "fill": {
              "color": "rgb(217,217,217)"
             },
             "line": {
              "color": "white"
             }
            },
            "type": "table"
           }
          ]
         },
         "layout": {
          "annotationdefaults": {
           "arrowhead": 0,
           "arrowwidth": 1
          },
          "autotypenumbers": "strict",
          "coloraxis": {
           "colorbar": {
            "outlinewidth": 1,
            "tickcolor": "rgb(36,36,36)",
            "ticks": "outside"
           }
          },
          "colorscale": {
           "diverging": [
            [
             0,
             "rgb(103,0,31)"
            ],
            [
             0.1,
             "rgb(178,24,43)"
            ],
            [
             0.2,
             "rgb(214,96,77)"
            ],
            [
             0.3,
             "rgb(244,165,130)"
            ],
            [
             0.4,
             "rgb(253,219,199)"
            ],
            [
             0.5,
             "rgb(247,247,247)"
            ],
            [
             0.6,
             "rgb(209,229,240)"
            ],
            [
             0.7,
             "rgb(146,197,222)"
            ],
            [
             0.8,
             "rgb(67,147,195)"
            ],
            [
             0.9,
             "rgb(33,102,172)"
            ],
            [
             1,
             "rgb(5,48,97)"
            ]
           ],
           "sequential": [
            [
             0,
             "#440154"
            ],
            [
             0.1111111111111111,
             "#482878"
            ],
            [
             0.2222222222222222,
             "#3e4989"
            ],
            [
             0.3333333333333333,
             "#31688e"
            ],
            [
             0.4444444444444444,
             "#26828e"
            ],
            [
             0.5555555555555556,
             "#1f9e89"
            ],
            [
             0.6666666666666666,
             "#35b779"
            ],
            [
             0.7777777777777778,
             "#6ece58"
            ],
            [
             0.8888888888888888,
             "#b5de2b"
            ],
            [
             1,
             "#fde725"
            ]
           ],
           "sequentialminus": [
            [
             0,
             "#440154"
            ],
            [
             0.1111111111111111,
             "#482878"
            ],
            [
             0.2222222222222222,
             "#3e4989"
            ],
            [
             0.3333333333333333,
             "#31688e"
            ],
            [
             0.4444444444444444,
             "#26828e"
            ],
            [
             0.5555555555555556,
             "#1f9e89"
            ],
            [
             0.6666666666666666,
             "#35b779"
            ],
            [
             0.7777777777777778,
             "#6ece58"
            ],
            [
             0.8888888888888888,
             "#b5de2b"
            ],
            [
             1,
             "#fde725"
            ]
           ]
          },
          "colorway": [
           "#1F77B4",
           "#FF7F0E",
           "#2CA02C",
           "#D62728",
           "#9467BD",
           "#8C564B",
           "#E377C2",
           "#7F7F7F",
           "#BCBD22",
           "#17BECF"
          ],
          "font": {
           "color": "rgb(36,36,36)"
          },
          "geo": {
           "bgcolor": "white",
           "lakecolor": "white",
           "landcolor": "white",
           "showlakes": true,
           "showland": true,
           "subunitcolor": "white"
          },
          "hoverlabel": {
           "align": "left"
          },
          "hovermode": "closest",
          "mapbox": {
           "style": "light"
          },
          "paper_bgcolor": "white",
          "plot_bgcolor": "white",
          "polar": {
           "angularaxis": {
            "gridcolor": "rgb(232,232,232)",
            "linecolor": "rgb(36,36,36)",
            "showgrid": false,
            "showline": true,
            "ticks": "outside"
           },
           "bgcolor": "white",
           "radialaxis": {
            "gridcolor": "rgb(232,232,232)",
            "linecolor": "rgb(36,36,36)",
            "showgrid": false,
            "showline": true,
            "ticks": "outside"
           }
          },
          "scene": {
           "xaxis": {
            "backgroundcolor": "white",
            "gridcolor": "rgb(232,232,232)",
            "gridwidth": 2,
            "linecolor": "rgb(36,36,36)",
            "showbackground": true,
            "showgrid": false,
            "showline": true,
            "ticks": "outside",
            "zeroline": false,
            "zerolinecolor": "rgb(36,36,36)"
           },
           "yaxis": {
            "backgroundcolor": "white",
            "gridcolor": "rgb(232,232,232)",
            "gridwidth": 2,
            "linecolor": "rgb(36,36,36)",
            "showbackground": true,
            "showgrid": false,
            "showline": true,
            "ticks": "outside",
            "zeroline": false,
            "zerolinecolor": "rgb(36,36,36)"
           },
           "zaxis": {
            "backgroundcolor": "white",
            "gridcolor": "rgb(232,232,232)",
            "gridwidth": 2,
            "linecolor": "rgb(36,36,36)",
            "showbackground": true,
            "showgrid": false,
            "showline": true,
            "ticks": "outside",
            "zeroline": false,
            "zerolinecolor": "rgb(36,36,36)"
           }
          },
          "shapedefaults": {
           "fillcolor": "black",
           "line": {
            "width": 0
           },
           "opacity": 0.3
          },
          "ternary": {
           "aaxis": {
            "gridcolor": "rgb(232,232,232)",
            "linecolor": "rgb(36,36,36)",
            "showgrid": false,
            "showline": true,
            "ticks": "outside"
           },
           "baxis": {
            "gridcolor": "rgb(232,232,232)",
            "linecolor": "rgb(36,36,36)",
            "showgrid": false,
            "showline": true,
            "ticks": "outside"
           },
           "bgcolor": "white",
           "caxis": {
            "gridcolor": "rgb(232,232,232)",
            "linecolor": "rgb(36,36,36)",
            "showgrid": false,
            "showline": true,
            "ticks": "outside"
           }
          },
          "title": {
           "x": 0.05
          },
          "xaxis": {
           "automargin": true,
           "gridcolor": "rgb(232,232,232)",
           "linecolor": "rgb(36,36,36)",
           "showgrid": false,
           "showline": true,
           "ticks": "outside",
           "title": {
            "standoff": 15
           },
           "zeroline": false,
           "zerolinecolor": "rgb(36,36,36)"
          },
          "yaxis": {
           "automargin": true,
           "gridcolor": "rgb(232,232,232)",
           "linecolor": "rgb(36,36,36)",
           "showgrid": false,
           "showline": true,
           "ticks": "outside",
           "title": {
            "standoff": 15
           },
           "zeroline": false,
           "zerolinecolor": "rgb(36,36,36)"
          }
         }
        },
        "xaxis": {
         "griddash": "dash",
         "minor": {
          "griddash": "dot",
          "ticks": "inside"
         },
         "showgrid": true,
         "title": {
          "text": "Date"
         }
        },
        "yaxis": {
         "griddash": "dash",
         "minor": {
          "griddash": "dot",
          "ticks": "inside"
         },
         "showgrid": true,
         "title": {
          "text": "Cumulative MAV [ETH]"
         }
        }
       }
      }
     },
     "metadata": {},
     "output_type": "display_data"
    }
   ],
   "source": [
    "fig = go.Figure(layout=layout)\n",
    "\n",
    "fig.add_trace(go.Scatter(x=df_per_day['timestamp'],\n",
    "                            y=df_per_day['cum_MAV'].astype(\n",
    "                                float),\n",
    "                            mode='lines',\n",
    "                            name = 'ETH-BTC at SyncSwap'))\n",
    "\n",
    "fig.update_layout(xaxis_title='Date',\n",
    "                    yaxis_title='Cumulative MAV [ETH]', showlegend=True,\n",
    "                    legend=dict(xanchor='center', x=0.5, y=1.10, orientation='h'),)\n",
    "#fig.write_image(f\"./plots/{contract_name}_{event_name}.pdf\")\n",
    "fig.show()"
   ]
  },
  {
   "cell_type": "code",
   "execution_count": 22,
   "metadata": {},
   "outputs": [],
   "source": [
    "#Phase 1 - reserves and volume\n",
    "#Phase 2 - fees paid and supply token\n",
    "\n",
    "df_per_day['volume_ETH'] = df_per_day['amount0In'] + df_per_day['amount0Out'] #this is wrong as it is last, not sum; and assumes price from the pool\n",
    "df_per_day['reserves_ETH'] = 2 * df_per_day['reserve_0'] #that works only for Uniswap v2 (and its forks)"
   ]
  },
  {
   "cell_type": "code",
   "execution_count": 23,
   "metadata": {},
   "outputs": [
    {
     "data": {
      "application/vnd.plotly.v1+json": {
       "config": {
        "plotlyServerURL": "https://plot.ly"
       },
       "data": [
        {
         "mode": "lines",
         "name": "ETH-BTC at SyncSwap",
         "type": "scatter",
         "x": [
          "2023-03-24T00:00:00",
          "2023-03-25T00:00:00",
          "2023-03-26T00:00:00",
          "2023-03-27T00:00:00",
          "2023-03-28T00:00:00",
          "2023-03-29T00:00:00",
          "2023-03-30T00:00:00",
          "2023-03-31T00:00:00",
          "2023-04-01T00:00:00",
          "2023-04-02T00:00:00",
          "2023-04-03T00:00:00",
          "2023-04-04T00:00:00",
          "2023-04-05T00:00:00",
          "2023-04-06T00:00:00",
          "2023-04-07T00:00:00",
          "2023-04-08T00:00:00",
          "2023-04-09T00:00:00",
          "2023-04-10T00:00:00",
          "2023-04-11T00:00:00",
          "2023-04-12T00:00:00",
          "2023-04-13T00:00:00",
          "2023-04-14T00:00:00",
          "2023-04-15T00:00:00",
          "2023-04-16T00:00:00",
          "2023-04-17T00:00:00",
          "2023-04-18T00:00:00",
          "2023-04-19T00:00:00",
          "2023-04-20T00:00:00",
          "2023-04-21T00:00:00",
          "2023-04-22T00:00:00",
          "2023-04-23T00:00:00",
          "2023-04-24T00:00:00",
          "2023-04-25T00:00:00",
          "2023-04-26T00:00:00",
          "2023-04-27T00:00:00",
          "2023-04-28T00:00:00",
          "2023-04-29T00:00:00",
          "2023-04-30T00:00:00",
          "2023-05-01T00:00:00",
          "2023-05-02T00:00:00",
          "2023-05-03T00:00:00",
          "2023-05-04T00:00:00",
          "2023-05-05T00:00:00",
          "2023-05-06T00:00:00",
          "2023-05-07T00:00:00",
          "2023-05-08T00:00:00",
          "2023-05-09T00:00:00",
          "2023-05-10T00:00:00",
          "2023-05-11T00:00:00",
          "2023-05-12T00:00:00",
          "2023-05-13T00:00:00",
          "2023-05-14T00:00:00",
          "2023-05-15T00:00:00",
          "2023-05-16T00:00:00",
          "2023-05-17T00:00:00",
          "2023-05-18T00:00:00",
          "2023-05-19T00:00:00",
          "2023-05-20T00:00:00",
          "2023-05-21T00:00:00",
          "2023-05-22T00:00:00",
          "2023-05-23T00:00:00",
          "2023-05-24T00:00:00",
          "2023-05-25T00:00:00",
          "2023-05-26T00:00:00",
          "2023-05-27T00:00:00",
          "2023-05-28T00:00:00",
          "2023-05-29T00:00:00",
          "2023-05-30T00:00:00",
          "2023-05-31T00:00:00",
          "2023-06-01T00:00:00",
          "2023-06-02T00:00:00",
          "2023-06-03T00:00:00",
          "2023-06-04T00:00:00",
          "2023-06-05T00:00:00",
          "2023-06-06T00:00:00",
          "2023-06-07T00:00:00",
          "2023-06-08T00:00:00",
          "2023-06-09T00:00:00",
          "2023-06-10T00:00:00",
          "2023-06-11T00:00:00",
          "2023-06-12T00:00:00",
          "2023-06-13T00:00:00",
          "2023-06-14T00:00:00",
          "2023-06-15T00:00:00",
          "2023-06-16T00:00:00",
          "2023-06-17T00:00:00",
          "2023-06-18T00:00:00",
          "2023-06-19T00:00:00",
          "2023-06-20T00:00:00",
          "2023-06-21T00:00:00",
          "2023-06-22T00:00:00",
          "2023-06-23T00:00:00",
          "2023-06-24T00:00:00",
          "2023-06-25T00:00:00",
          "2023-06-26T00:00:00",
          "2023-06-27T00:00:00",
          "2023-06-28T00:00:00",
          "2023-06-29T00:00:00",
          "2023-06-30T00:00:00",
          "2023-07-01T00:00:00",
          "2023-07-02T00:00:00",
          "2023-07-03T00:00:00",
          "2023-07-04T00:00:00",
          "2023-07-05T00:00:00",
          "2023-07-06T00:00:00",
          "2023-07-07T00:00:00",
          "2023-07-08T00:00:00",
          "2023-07-09T00:00:00",
          "2023-07-10T00:00:00",
          "2023-07-11T00:00:00",
          "2023-07-12T00:00:00",
          "2023-07-13T00:00:00",
          "2023-07-14T00:00:00",
          "2023-07-15T00:00:00",
          "2023-07-16T00:00:00",
          "2023-07-17T00:00:00",
          "2023-07-18T00:00:00",
          "2023-07-19T00:00:00",
          "2023-07-20T00:00:00",
          "2023-07-21T00:00:00",
          "2023-07-22T00:00:00",
          "2023-07-23T00:00:00",
          "2023-07-24T00:00:00",
          "2023-07-25T00:00:00",
          "2023-07-26T00:00:00",
          "2023-07-27T00:00:00",
          "2023-07-28T00:00:00",
          "2023-07-29T00:00:00",
          "2023-07-30T00:00:00",
          "2023-07-31T00:00:00",
          "2023-08-01T00:00:00",
          "2023-08-02T00:00:00",
          "2023-08-03T00:00:00",
          "2023-08-04T00:00:00",
          "2023-08-05T00:00:00",
          "2023-08-06T00:00:00",
          "2023-08-07T00:00:00",
          "2023-08-08T00:00:00",
          "2023-08-09T00:00:00",
          "2023-08-10T00:00:00",
          "2023-08-11T00:00:00",
          "2023-08-12T00:00:00",
          "2023-08-13T00:00:00",
          "2023-08-14T00:00:00",
          "2023-08-15T00:00:00",
          "2023-08-16T00:00:00",
          "2023-08-17T00:00:00",
          "2023-08-18T00:00:00",
          "2023-08-19T00:00:00",
          "2023-08-20T00:00:00",
          "2023-08-21T00:00:00",
          "2023-08-22T00:00:00",
          "2023-08-23T00:00:00",
          "2023-08-24T00:00:00",
          "2023-08-25T00:00:00",
          "2023-08-26T00:00:00",
          "2023-08-27T00:00:00",
          "2023-08-28T00:00:00",
          "2023-08-29T00:00:00",
          "2023-08-30T00:00:00",
          "2023-08-31T00:00:00",
          "2023-09-01T00:00:00",
          "2023-09-02T00:00:00",
          "2023-09-03T00:00:00",
          "2023-09-04T00:00:00",
          "2023-09-05T00:00:00",
          "2023-09-06T00:00:00",
          "2023-09-07T00:00:00",
          "2023-09-08T00:00:00",
          "2023-09-09T00:00:00",
          "2023-09-10T00:00:00",
          "2023-09-11T00:00:00",
          "2023-09-12T00:00:00",
          "2023-09-13T00:00:00",
          "2023-09-14T00:00:00",
          "2023-09-15T00:00:00",
          "2023-09-16T00:00:00",
          "2023-09-17T00:00:00"
         ],
         "y": [
          27741.167106,
          1008689.307332,
          2469417.0911,
          4434926.218236,
          8099641.570428,
          10974510.790932,
          12863616.81179,
          17145285.815552,
          19661121.546508,
          19988086.985056,
          23117262.735996,
          25644821.957824,
          28651829.786538,
          28884579.256156,
          33514860.665108,
          34184154.836926,
          38660935.40082,
          45076045.350338,
          58230868.973834,
          65004188.677952,
          63148866.557198,
          58520591.462314,
          58332270.347092,
          58269711.12687,
          57168538.219958,
          56282028.725528,
          51498134.621824,
          36296274.34341,
          34600188.648736,
          32898568.412268,
          32230730.681846,
          32251683.210798,
          39602337.752774,
          42712984.216334,
          43641474.69199,
          43764991.031698,
          44530500.502868,
          44440032.959822,
          42349700.507988,
          37300636.241902,
          35509957.658512,
          33815404.94128,
          33744866.326294,
          32866328.941514,
          29196001.106804,
          28739987.214624,
          28767418.384414,
          31187536.248092,
          28874918.206206,
          28345132.181002,
          27861875.34666,
          32263849.953546,
          32573263.256488,
          32707298.129092,
          34779694.536494,
          34779037.913598,
          35037883.987164,
          35508028.864444,
          36547539.594444,
          39692678.208558,
          40244468.717584,
          39843940.6522,
          40095624.91525,
          40867985.18235,
          41205218.77643,
          42754213.719484,
          44766903.11896,
          48371960.506258,
          48032383.733856,
          52640348.496036,
          54962836.424956,
          54709599.859728,
          56923449.212334,
          56284274.645652,
          57698100.565218,
          57473694.34008,
          57805163.40475,
          57567577.64621,
          55461662.869308,
          55470392.435478,
          55472877.777448,
          55354133.815184,
          53977850.226604,
          54143440.5894,
          52345494.586224,
          52356442.788346,
          49743602.263512,
          50093009.650086,
          50829207.594994,
          52288268.045568,
          52814204.262822,
          52721965.477032,
          52815463.956008,
          53641419.458842,
          53627695.246264,
          54446842.456454,
          54406661.85197,
          55608573.16917,
          58092805.430128,
          58448440.748,
          59176603.557174,
          59797975.846658,
          59851253.314816,
          59657222.933242,
          58306095.326434,
          59282713.51232,
          59807645.281908,
          60099481.718296,
          59906226.193544,
          60266272.805424,
          60644422.284582,
          62803448.97474,
          61671562.497934,
          61683494.97545,
          61851555.162994,
          60922514.509488,
          60906779.750094,
          60842146.712128,
          61093512.698386,
          61225967.566578,
          60807697.884894,
          61026238.578148,
          59738662.113634,
          57654324.25597,
          56816616.944048,
          56189300.99335,
          55727525.793958,
          49899081.043696,
          48887861.32529,
          48507265.962694,
          47809839.778816,
          47014504.400458,
          46829143.022778,
          44835201.902382,
          44827679.022774,
          44924516.88908,
          44518976.480378,
          46667131.751244,
          46615012.64342,
          44377568.090984,
          44139975.60809,
          44174040.716672,
          44103740.504116,
          43659501.68672,
          43008015.530514,
          42718586.116194,
          40289067.00623,
          39688147.62891,
          39451910.060028,
          39603199.885902,
          39435042.567998,
          38966309.279918,
          39368527.021134,
          39229338.02757,
          39111549.25243,
          38995977.240452,
          39141656.086726,
          35218265.58119,
          35787337.78766,
          35784559.838992,
          35161098.730198,
          34831663.456284,
          35110501.439918,
          34597286.008124,
          34385271.647394,
          34320602.579418,
          34309253.609332,
          37906968.357104,
          38982410.618232,
          39096666.504976,
          38854383.80995,
          37565380.456888,
          38167115.795358,
          38283439.21864,
          38621583.007056,
          38763330.879676,
          38573908.14281,
          38507594.324448
         ]
        }
       ],
       "layout": {
        "font": {
         "color": "black",
         "family": "Clear Sans",
         "size": 18
        },
        "legend": {
         "orientation": "h",
         "x": 0.5,
         "xanchor": "center",
         "y": 1.1
        },
        "margin": {
         "b": 10,
         "l": 10,
         "r": 10,
         "t": 10
        },
        "showlegend": true,
        "template": {
         "data": {
          "bar": [
           {
            "error_x": {
             "color": "rgb(36,36,36)"
            },
            "error_y": {
             "color": "rgb(36,36,36)"
            },
            "marker": {
             "line": {
              "color": "white",
              "width": 0.5
             },
             "pattern": {
              "fillmode": "overlay",
              "size": 10,
              "solidity": 0.2
             }
            },
            "type": "bar"
           }
          ],
          "barpolar": [
           {
            "marker": {
             "line": {
              "color": "white",
              "width": 0.5
             },
             "pattern": {
              "fillmode": "overlay",
              "size": 10,
              "solidity": 0.2
             }
            },
            "type": "barpolar"
           }
          ],
          "carpet": [
           {
            "aaxis": {
             "endlinecolor": "rgb(36,36,36)",
             "gridcolor": "white",
             "linecolor": "white",
             "minorgridcolor": "white",
             "startlinecolor": "rgb(36,36,36)"
            },
            "baxis": {
             "endlinecolor": "rgb(36,36,36)",
             "gridcolor": "white",
             "linecolor": "white",
             "minorgridcolor": "white",
             "startlinecolor": "rgb(36,36,36)"
            },
            "type": "carpet"
           }
          ],
          "choropleth": [
           {
            "colorbar": {
             "outlinewidth": 1,
             "tickcolor": "rgb(36,36,36)",
             "ticks": "outside"
            },
            "type": "choropleth"
           }
          ],
          "contour": [
           {
            "colorbar": {
             "outlinewidth": 1,
             "tickcolor": "rgb(36,36,36)",
             "ticks": "outside"
            },
            "colorscale": [
             [
              0,
              "#440154"
             ],
             [
              0.1111111111111111,
              "#482878"
             ],
             [
              0.2222222222222222,
              "#3e4989"
             ],
             [
              0.3333333333333333,
              "#31688e"
             ],
             [
              0.4444444444444444,
              "#26828e"
             ],
             [
              0.5555555555555556,
              "#1f9e89"
             ],
             [
              0.6666666666666666,
              "#35b779"
             ],
             [
              0.7777777777777778,
              "#6ece58"
             ],
             [
              0.8888888888888888,
              "#b5de2b"
             ],
             [
              1,
              "#fde725"
             ]
            ],
            "type": "contour"
           }
          ],
          "contourcarpet": [
           {
            "colorbar": {
             "outlinewidth": 1,
             "tickcolor": "rgb(36,36,36)",
             "ticks": "outside"
            },
            "type": "contourcarpet"
           }
          ],
          "heatmap": [
           {
            "colorbar": {
             "outlinewidth": 1,
             "tickcolor": "rgb(36,36,36)",
             "ticks": "outside"
            },
            "colorscale": [
             [
              0,
              "#440154"
             ],
             [
              0.1111111111111111,
              "#482878"
             ],
             [
              0.2222222222222222,
              "#3e4989"
             ],
             [
              0.3333333333333333,
              "#31688e"
             ],
             [
              0.4444444444444444,
              "#26828e"
             ],
             [
              0.5555555555555556,
              "#1f9e89"
             ],
             [
              0.6666666666666666,
              "#35b779"
             ],
             [
              0.7777777777777778,
              "#6ece58"
             ],
             [
              0.8888888888888888,
              "#b5de2b"
             ],
             [
              1,
              "#fde725"
             ]
            ],
            "type": "heatmap"
           }
          ],
          "heatmapgl": [
           {
            "colorbar": {
             "outlinewidth": 1,
             "tickcolor": "rgb(36,36,36)",
             "ticks": "outside"
            },
            "colorscale": [
             [
              0,
              "#440154"
             ],
             [
              0.1111111111111111,
              "#482878"
             ],
             [
              0.2222222222222222,
              "#3e4989"
             ],
             [
              0.3333333333333333,
              "#31688e"
             ],
             [
              0.4444444444444444,
              "#26828e"
             ],
             [
              0.5555555555555556,
              "#1f9e89"
             ],
             [
              0.6666666666666666,
              "#35b779"
             ],
             [
              0.7777777777777778,
              "#6ece58"
             ],
             [
              0.8888888888888888,
              "#b5de2b"
             ],
             [
              1,
              "#fde725"
             ]
            ],
            "type": "heatmapgl"
           }
          ],
          "histogram": [
           {
            "marker": {
             "line": {
              "color": "white",
              "width": 0.6
             }
            },
            "type": "histogram"
           }
          ],
          "histogram2d": [
           {
            "colorbar": {
             "outlinewidth": 1,
             "tickcolor": "rgb(36,36,36)",
             "ticks": "outside"
            },
            "colorscale": [
             [
              0,
              "#440154"
             ],
             [
              0.1111111111111111,
              "#482878"
             ],
             [
              0.2222222222222222,
              "#3e4989"
             ],
             [
              0.3333333333333333,
              "#31688e"
             ],
             [
              0.4444444444444444,
              "#26828e"
             ],
             [
              0.5555555555555556,
              "#1f9e89"
             ],
             [
              0.6666666666666666,
              "#35b779"
             ],
             [
              0.7777777777777778,
              "#6ece58"
             ],
             [
              0.8888888888888888,
              "#b5de2b"
             ],
             [
              1,
              "#fde725"
             ]
            ],
            "type": "histogram2d"
           }
          ],
          "histogram2dcontour": [
           {
            "colorbar": {
             "outlinewidth": 1,
             "tickcolor": "rgb(36,36,36)",
             "ticks": "outside"
            },
            "colorscale": [
             [
              0,
              "#440154"
             ],
             [
              0.1111111111111111,
              "#482878"
             ],
             [
              0.2222222222222222,
              "#3e4989"
             ],
             [
              0.3333333333333333,
              "#31688e"
             ],
             [
              0.4444444444444444,
              "#26828e"
             ],
             [
              0.5555555555555556,
              "#1f9e89"
             ],
             [
              0.6666666666666666,
              "#35b779"
             ],
             [
              0.7777777777777778,
              "#6ece58"
             ],
             [
              0.8888888888888888,
              "#b5de2b"
             ],
             [
              1,
              "#fde725"
             ]
            ],
            "type": "histogram2dcontour"
           }
          ],
          "mesh3d": [
           {
            "colorbar": {
             "outlinewidth": 1,
             "tickcolor": "rgb(36,36,36)",
             "ticks": "outside"
            },
            "type": "mesh3d"
           }
          ],
          "parcoords": [
           {
            "line": {
             "colorbar": {
              "outlinewidth": 1,
              "tickcolor": "rgb(36,36,36)",
              "ticks": "outside"
             }
            },
            "type": "parcoords"
           }
          ],
          "pie": [
           {
            "automargin": true,
            "type": "pie"
           }
          ],
          "scatter": [
           {
            "fillpattern": {
             "fillmode": "overlay",
             "size": 10,
             "solidity": 0.2
            },
            "type": "scatter"
           }
          ],
          "scatter3d": [
           {
            "line": {
             "colorbar": {
              "outlinewidth": 1,
              "tickcolor": "rgb(36,36,36)",
              "ticks": "outside"
             }
            },
            "marker": {
             "colorbar": {
              "outlinewidth": 1,
              "tickcolor": "rgb(36,36,36)",
              "ticks": "outside"
             }
            },
            "type": "scatter3d"
           }
          ],
          "scattercarpet": [
           {
            "marker": {
             "colorbar": {
              "outlinewidth": 1,
              "tickcolor": "rgb(36,36,36)",
              "ticks": "outside"
             }
            },
            "type": "scattercarpet"
           }
          ],
          "scattergeo": [
           {
            "marker": {
             "colorbar": {
              "outlinewidth": 1,
              "tickcolor": "rgb(36,36,36)",
              "ticks": "outside"
             }
            },
            "type": "scattergeo"
           }
          ],
          "scattergl": [
           {
            "marker": {
             "colorbar": {
              "outlinewidth": 1,
              "tickcolor": "rgb(36,36,36)",
              "ticks": "outside"
             }
            },
            "type": "scattergl"
           }
          ],
          "scattermapbox": [
           {
            "marker": {
             "colorbar": {
              "outlinewidth": 1,
              "tickcolor": "rgb(36,36,36)",
              "ticks": "outside"
             }
            },
            "type": "scattermapbox"
           }
          ],
          "scatterpolar": [
           {
            "marker": {
             "colorbar": {
              "outlinewidth": 1,
              "tickcolor": "rgb(36,36,36)",
              "ticks": "outside"
             }
            },
            "type": "scatterpolar"
           }
          ],
          "scatterpolargl": [
           {
            "marker": {
             "colorbar": {
              "outlinewidth": 1,
              "tickcolor": "rgb(36,36,36)",
              "ticks": "outside"
             }
            },
            "type": "scatterpolargl"
           }
          ],
          "scatterternary": [
           {
            "marker": {
             "colorbar": {
              "outlinewidth": 1,
              "tickcolor": "rgb(36,36,36)",
              "ticks": "outside"
             }
            },
            "type": "scatterternary"
           }
          ],
          "surface": [
           {
            "colorbar": {
             "outlinewidth": 1,
             "tickcolor": "rgb(36,36,36)",
             "ticks": "outside"
            },
            "colorscale": [
             [
              0,
              "#440154"
             ],
             [
              0.1111111111111111,
              "#482878"
             ],
             [
              0.2222222222222222,
              "#3e4989"
             ],
             [
              0.3333333333333333,
              "#31688e"
             ],
             [
              0.4444444444444444,
              "#26828e"
             ],
             [
              0.5555555555555556,
              "#1f9e89"
             ],
             [
              0.6666666666666666,
              "#35b779"
             ],
             [
              0.7777777777777778,
              "#6ece58"
             ],
             [
              0.8888888888888888,
              "#b5de2b"
             ],
             [
              1,
              "#fde725"
             ]
            ],
            "type": "surface"
           }
          ],
          "table": [
           {
            "cells": {
             "fill": {
              "color": "rgb(237,237,237)"
             },
             "line": {
              "color": "white"
             }
            },
            "header": {
             "fill": {
              "color": "rgb(217,217,217)"
             },
             "line": {
              "color": "white"
             }
            },
            "type": "table"
           }
          ]
         },
         "layout": {
          "annotationdefaults": {
           "arrowhead": 0,
           "arrowwidth": 1
          },
          "autotypenumbers": "strict",
          "coloraxis": {
           "colorbar": {
            "outlinewidth": 1,
            "tickcolor": "rgb(36,36,36)",
            "ticks": "outside"
           }
          },
          "colorscale": {
           "diverging": [
            [
             0,
             "rgb(103,0,31)"
            ],
            [
             0.1,
             "rgb(178,24,43)"
            ],
            [
             0.2,
             "rgb(214,96,77)"
            ],
            [
             0.3,
             "rgb(244,165,130)"
            ],
            [
             0.4,
             "rgb(253,219,199)"
            ],
            [
             0.5,
             "rgb(247,247,247)"
            ],
            [
             0.6,
             "rgb(209,229,240)"
            ],
            [
             0.7,
             "rgb(146,197,222)"
            ],
            [
             0.8,
             "rgb(67,147,195)"
            ],
            [
             0.9,
             "rgb(33,102,172)"
            ],
            [
             1,
             "rgb(5,48,97)"
            ]
           ],
           "sequential": [
            [
             0,
             "#440154"
            ],
            [
             0.1111111111111111,
             "#482878"
            ],
            [
             0.2222222222222222,
             "#3e4989"
            ],
            [
             0.3333333333333333,
             "#31688e"
            ],
            [
             0.4444444444444444,
             "#26828e"
            ],
            [
             0.5555555555555556,
             "#1f9e89"
            ],
            [
             0.6666666666666666,
             "#35b779"
            ],
            [
             0.7777777777777778,
             "#6ece58"
            ],
            [
             0.8888888888888888,
             "#b5de2b"
            ],
            [
             1,
             "#fde725"
            ]
           ],
           "sequentialminus": [
            [
             0,
             "#440154"
            ],
            [
             0.1111111111111111,
             "#482878"
            ],
            [
             0.2222222222222222,
             "#3e4989"
            ],
            [
             0.3333333333333333,
             "#31688e"
            ],
            [
             0.4444444444444444,
             "#26828e"
            ],
            [
             0.5555555555555556,
             "#1f9e89"
            ],
            [
             0.6666666666666666,
             "#35b779"
            ],
            [
             0.7777777777777778,
             "#6ece58"
            ],
            [
             0.8888888888888888,
             "#b5de2b"
            ],
            [
             1,
             "#fde725"
            ]
           ]
          },
          "colorway": [
           "#1F77B4",
           "#FF7F0E",
           "#2CA02C",
           "#D62728",
           "#9467BD",
           "#8C564B",
           "#E377C2",
           "#7F7F7F",
           "#BCBD22",
           "#17BECF"
          ],
          "font": {
           "color": "rgb(36,36,36)"
          },
          "geo": {
           "bgcolor": "white",
           "lakecolor": "white",
           "landcolor": "white",
           "showlakes": true,
           "showland": true,
           "subunitcolor": "white"
          },
          "hoverlabel": {
           "align": "left"
          },
          "hovermode": "closest",
          "mapbox": {
           "style": "light"
          },
          "paper_bgcolor": "white",
          "plot_bgcolor": "white",
          "polar": {
           "angularaxis": {
            "gridcolor": "rgb(232,232,232)",
            "linecolor": "rgb(36,36,36)",
            "showgrid": false,
            "showline": true,
            "ticks": "outside"
           },
           "bgcolor": "white",
           "radialaxis": {
            "gridcolor": "rgb(232,232,232)",
            "linecolor": "rgb(36,36,36)",
            "showgrid": false,
            "showline": true,
            "ticks": "outside"
           }
          },
          "scene": {
           "xaxis": {
            "backgroundcolor": "white",
            "gridcolor": "rgb(232,232,232)",
            "gridwidth": 2,
            "linecolor": "rgb(36,36,36)",
            "showbackground": true,
            "showgrid": false,
            "showline": true,
            "ticks": "outside",
            "zeroline": false,
            "zerolinecolor": "rgb(36,36,36)"
           },
           "yaxis": {
            "backgroundcolor": "white",
            "gridcolor": "rgb(232,232,232)",
            "gridwidth": 2,
            "linecolor": "rgb(36,36,36)",
            "showbackground": true,
            "showgrid": false,
            "showline": true,
            "ticks": "outside",
            "zeroline": false,
            "zerolinecolor": "rgb(36,36,36)"
           },
           "zaxis": {
            "backgroundcolor": "white",
            "gridcolor": "rgb(232,232,232)",
            "gridwidth": 2,
            "linecolor": "rgb(36,36,36)",
            "showbackground": true,
            "showgrid": false,
            "showline": true,
            "ticks": "outside",
            "zeroline": false,
            "zerolinecolor": "rgb(36,36,36)"
           }
          },
          "shapedefaults": {
           "fillcolor": "black",
           "line": {
            "width": 0
           },
           "opacity": 0.3
          },
          "ternary": {
           "aaxis": {
            "gridcolor": "rgb(232,232,232)",
            "linecolor": "rgb(36,36,36)",
            "showgrid": false,
            "showline": true,
            "ticks": "outside"
           },
           "baxis": {
            "gridcolor": "rgb(232,232,232)",
            "linecolor": "rgb(36,36,36)",
            "showgrid": false,
            "showline": true,
            "ticks": "outside"
           },
           "bgcolor": "white",
           "caxis": {
            "gridcolor": "rgb(232,232,232)",
            "linecolor": "rgb(36,36,36)",
            "showgrid": false,
            "showline": true,
            "ticks": "outside"
           }
          },
          "title": {
           "x": 0.05
          },
          "xaxis": {
           "automargin": true,
           "gridcolor": "rgb(232,232,232)",
           "linecolor": "rgb(36,36,36)",
           "showgrid": false,
           "showline": true,
           "ticks": "outside",
           "title": {
            "standoff": 15
           },
           "zeroline": false,
           "zerolinecolor": "rgb(36,36,36)"
          },
          "yaxis": {
           "automargin": true,
           "gridcolor": "rgb(232,232,232)",
           "linecolor": "rgb(36,36,36)",
           "showgrid": false,
           "showline": true,
           "ticks": "outside",
           "title": {
            "standoff": 15
           },
           "zeroline": false,
           "zerolinecolor": "rgb(36,36,36)"
          }
         }
        },
        "xaxis": {
         "griddash": "dash",
         "minor": {
          "griddash": "dot",
          "ticks": "inside"
         },
         "showgrid": true,
         "title": {
          "text": "Date"
         }
        },
        "yaxis": {
         "griddash": "dash",
         "minor": {
          "griddash": "dot",
          "ticks": "inside"
         },
         "showgrid": true,
         "title": {
          "text": "Reserves [ETH]"
         }
        }
       }
      }
     },
     "metadata": {},
     "output_type": "display_data"
    }
   ],
   "source": [
    "fig = go.Figure(layout=layout)\n",
    "\n",
    "fig.add_trace(go.Scatter(x=df_per_day['timestamp'],\n",
    "                            y=df_per_day['reserves_ETH'].astype(\n",
    "                                float),\n",
    "                            mode='lines',\n",
    "                            name = 'ETH-BTC at SyncSwap'))\n",
    "\n",
    "fig.update_layout(xaxis_title='Date',\n",
    "                    yaxis_title='Reserves [ETH]', showlegend=True,\n",
    "                    legend=dict(xanchor='center', x=0.5, y=1.10, orientation='h'),)\n",
    "#fig.write_image(f\"./plots/{contract_name}_{event_name}.pdf\")\n",
    "fig.show()\n"
   ]
  },
  {
   "cell_type": "code",
   "execution_count": 24,
   "metadata": {},
   "outputs": [
    {
     "data": {
      "text/html": [
       "<div>\n",
       "<style scoped>\n",
       "    .dataframe tbody tr th:only-of-type {\n",
       "        vertical-align: middle;\n",
       "    }\n",
       "\n",
       "    .dataframe tbody tr th {\n",
       "        vertical-align: top;\n",
       "    }\n",
       "\n",
       "    .dataframe thead th {\n",
       "        text-align: right;\n",
       "    }\n",
       "</style>\n",
       "<table border=\"1\" class=\"dataframe\">\n",
       "  <thead>\n",
       "    <tr style=\"text-align: right;\">\n",
       "      <th></th>\n",
       "      <th>amount0In</th>\n",
       "      <th>amount0Out</th>\n",
       "      <th>reserve_0</th>\n",
       "      <th>volume_ETH</th>\n",
       "    </tr>\n",
       "    <tr>\n",
       "      <th>timestamp</th>\n",
       "      <th></th>\n",
       "      <th></th>\n",
       "      <th></th>\n",
       "      <th></th>\n",
       "    </tr>\n",
       "  </thead>\n",
       "  <tbody>\n",
       "    <tr>\n",
       "      <th>2023-03-24</th>\n",
       "      <td>2.328426e+04</td>\n",
       "      <td>14.492404</td>\n",
       "      <td>1.387058e+04</td>\n",
       "      <td>23298.755396</td>\n",
       "    </tr>\n",
       "    <tr>\n",
       "      <th>2023-03-25</th>\n",
       "      <td>4.835559e+06</td>\n",
       "      <td>2821.041234</td>\n",
       "      <td>5.043447e+05</td>\n",
       "      <td>4838380.32248</td>\n",
       "    </tr>\n",
       "    <tr>\n",
       "      <th>2023-03-26</th>\n",
       "      <td>1.344763e+07</td>\n",
       "      <td>7730.086858</td>\n",
       "      <td>1.234709e+06</td>\n",
       "      <td>13455361.9702</td>\n",
       "    </tr>\n",
       "    <tr>\n",
       "      <th>2023-03-27</th>\n",
       "      <td>1.124823e+07</td>\n",
       "      <td>6337.890088</td>\n",
       "      <td>2.217463e+06</td>\n",
       "      <td>11254571.542578</td>\n",
       "    </tr>\n",
       "    <tr>\n",
       "      <th>2023-03-28</th>\n",
       "      <td>1.239335e+07</td>\n",
       "      <td>7589.119983</td>\n",
       "      <td>4.049821e+06</td>\n",
       "      <td>12400935.864748</td>\n",
       "    </tr>\n",
       "  </tbody>\n",
       "</table>\n",
       "</div>"
      ],
      "text/plain": [
       "               amount0In   amount0Out     reserve_0       volume_ETH\n",
       "timestamp                                                           \n",
       "2023-03-24  2.328426e+04    14.492404  1.387058e+04     23298.755396\n",
       "2023-03-25  4.835559e+06  2821.041234  5.043447e+05    4838380.32248\n",
       "2023-03-26  1.344763e+07  7730.086858  1.234709e+06    13455361.9702\n",
       "2023-03-27  1.124823e+07  6337.890088  2.217463e+06  11254571.542578\n",
       "2023-03-28  1.239335e+07  7589.119983  4.049821e+06  12400935.864748"
      ]
     },
     "execution_count": 24,
     "metadata": {},
     "output_type": "execute_result"
    }
   ],
   "source": [
    "df_per_day2 = swap_df.resample('D').agg(dict(amount0In='sum', amount0Out='sum', reserve_0 = 'last'))\n",
    "df_per_day2['volume_ETH'] = df_per_day2['amount0In'] + df_per_day2['amount0Out'] #this is wrong as it is last, not sum; and assumes price from the pool\n",
    "\n",
    "df_per_day2.head()\n"
   ]
  },
  {
   "cell_type": "code",
   "execution_count": 25,
   "metadata": {},
   "outputs": [
    {
     "data": {
      "application/vnd.plotly.v1+json": {
       "config": {
        "plotlyServerURL": "https://plot.ly"
       },
       "data": [
        {
         "mode": "lines",
         "name": "ETH-BTC at SyncSwap",
         "type": "scatter",
         "x": [
          "2023-03-24T00:00:00",
          "2023-03-25T00:00:00",
          "2023-03-26T00:00:00",
          "2023-03-27T00:00:00",
          "2023-03-28T00:00:00",
          "2023-03-29T00:00:00",
          "2023-03-30T00:00:00",
          "2023-03-31T00:00:00",
          "2023-04-01T00:00:00",
          "2023-04-02T00:00:00",
          "2023-04-03T00:00:00",
          "2023-04-04T00:00:00",
          "2023-04-05T00:00:00",
          "2023-04-06T00:00:00",
          "2023-04-07T00:00:00",
          "2023-04-08T00:00:00",
          "2023-04-09T00:00:00",
          "2023-04-10T00:00:00",
          "2023-04-11T00:00:00",
          "2023-04-12T00:00:00",
          "2023-04-13T00:00:00",
          "2023-04-14T00:00:00",
          "2023-04-15T00:00:00",
          "2023-04-16T00:00:00",
          "2023-04-17T00:00:00",
          "2023-04-18T00:00:00",
          "2023-04-19T00:00:00",
          "2023-04-20T00:00:00",
          "2023-04-21T00:00:00",
          "2023-04-22T00:00:00",
          "2023-04-23T00:00:00",
          "2023-04-24T00:00:00",
          "2023-04-25T00:00:00",
          "2023-04-26T00:00:00",
          "2023-04-27T00:00:00",
          "2023-04-28T00:00:00",
          "2023-04-29T00:00:00",
          "2023-04-30T00:00:00",
          "2023-05-01T00:00:00",
          "2023-05-02T00:00:00",
          "2023-05-03T00:00:00",
          "2023-05-04T00:00:00",
          "2023-05-05T00:00:00",
          "2023-05-06T00:00:00",
          "2023-05-07T00:00:00",
          "2023-05-08T00:00:00",
          "2023-05-09T00:00:00",
          "2023-05-10T00:00:00",
          "2023-05-11T00:00:00",
          "2023-05-12T00:00:00",
          "2023-05-13T00:00:00",
          "2023-05-14T00:00:00",
          "2023-05-15T00:00:00",
          "2023-05-16T00:00:00",
          "2023-05-17T00:00:00",
          "2023-05-18T00:00:00",
          "2023-05-19T00:00:00",
          "2023-05-20T00:00:00",
          "2023-05-21T00:00:00",
          "2023-05-22T00:00:00",
          "2023-05-23T00:00:00",
          "2023-05-24T00:00:00",
          "2023-05-25T00:00:00",
          "2023-05-26T00:00:00",
          "2023-05-27T00:00:00",
          "2023-05-28T00:00:00",
          "2023-05-29T00:00:00",
          "2023-05-30T00:00:00",
          "2023-05-31T00:00:00",
          "2023-06-01T00:00:00",
          "2023-06-02T00:00:00",
          "2023-06-03T00:00:00",
          "2023-06-04T00:00:00",
          "2023-06-05T00:00:00",
          "2023-06-06T00:00:00",
          "2023-06-07T00:00:00",
          "2023-06-08T00:00:00",
          "2023-06-09T00:00:00",
          "2023-06-10T00:00:00",
          "2023-06-11T00:00:00",
          "2023-06-12T00:00:00",
          "2023-06-13T00:00:00",
          "2023-06-14T00:00:00",
          "2023-06-15T00:00:00",
          "2023-06-16T00:00:00",
          "2023-06-17T00:00:00",
          "2023-06-18T00:00:00",
          "2023-06-19T00:00:00",
          "2023-06-20T00:00:00",
          "2023-06-21T00:00:00",
          "2023-06-22T00:00:00",
          "2023-06-23T00:00:00",
          "2023-06-24T00:00:00",
          "2023-06-25T00:00:00",
          "2023-06-26T00:00:00",
          "2023-06-27T00:00:00",
          "2023-06-28T00:00:00",
          "2023-06-29T00:00:00",
          "2023-06-30T00:00:00",
          "2023-07-01T00:00:00",
          "2023-07-02T00:00:00",
          "2023-07-03T00:00:00",
          "2023-07-04T00:00:00",
          "2023-07-05T00:00:00",
          "2023-07-06T00:00:00",
          "2023-07-07T00:00:00",
          "2023-07-08T00:00:00",
          "2023-07-09T00:00:00",
          "2023-07-10T00:00:00",
          "2023-07-11T00:00:00",
          "2023-07-12T00:00:00",
          "2023-07-13T00:00:00",
          "2023-07-14T00:00:00",
          "2023-07-15T00:00:00",
          "2023-07-16T00:00:00",
          "2023-07-17T00:00:00",
          "2023-07-18T00:00:00",
          "2023-07-19T00:00:00",
          "2023-07-20T00:00:00",
          "2023-07-21T00:00:00",
          "2023-07-22T00:00:00",
          "2023-07-23T00:00:00",
          "2023-07-24T00:00:00",
          "2023-07-25T00:00:00",
          "2023-07-26T00:00:00",
          "2023-07-27T00:00:00",
          "2023-07-28T00:00:00",
          "2023-07-29T00:00:00",
          "2023-07-30T00:00:00",
          "2023-07-31T00:00:00",
          "2023-08-01T00:00:00",
          "2023-08-02T00:00:00",
          "2023-08-03T00:00:00",
          "2023-08-04T00:00:00",
          "2023-08-05T00:00:00",
          "2023-08-06T00:00:00",
          "2023-08-07T00:00:00",
          "2023-08-08T00:00:00",
          "2023-08-09T00:00:00",
          "2023-08-10T00:00:00",
          "2023-08-11T00:00:00",
          "2023-08-12T00:00:00",
          "2023-08-13T00:00:00",
          "2023-08-14T00:00:00",
          "2023-08-15T00:00:00",
          "2023-08-16T00:00:00",
          "2023-08-17T00:00:00",
          "2023-08-18T00:00:00",
          "2023-08-19T00:00:00",
          "2023-08-20T00:00:00",
          "2023-08-21T00:00:00",
          "2023-08-22T00:00:00",
          "2023-08-23T00:00:00",
          "2023-08-24T00:00:00",
          "2023-08-25T00:00:00",
          "2023-08-26T00:00:00",
          "2023-08-27T00:00:00",
          "2023-08-28T00:00:00",
          "2023-08-29T00:00:00",
          "2023-08-30T00:00:00",
          "2023-08-31T00:00:00",
          "2023-09-01T00:00:00",
          "2023-09-02T00:00:00",
          "2023-09-03T00:00:00",
          "2023-09-04T00:00:00",
          "2023-09-05T00:00:00",
          "2023-09-06T00:00:00",
          "2023-09-07T00:00:00",
          "2023-09-08T00:00:00",
          "2023-09-09T00:00:00",
          "2023-09-10T00:00:00",
          "2023-09-11T00:00:00",
          "2023-09-12T00:00:00",
          "2023-09-13T00:00:00",
          "2023-09-14T00:00:00",
          "2023-09-15T00:00:00",
          "2023-09-16T00:00:00",
          "2023-09-17T00:00:00"
         ],
         "y": [
          23298.755395568332,
          4838380.322480348,
          13455361.970200328,
          11254571.542577913,
          12400935.86474785,
          11688271.319099277,
          12955011.857141776,
          29377768.87245937,
          22857332.03178549,
          36678926.557395786,
          42983080.20566942,
          36067818.01189998,
          19785334.97209477,
          60449456.41288426,
          48563788.58997253,
          51913585.38278913,
          44281464.98426626,
          119789340.83710752,
          170072288.4155131,
          87736053.40979843,
          32724570.7328085,
          33822772.93994748,
          37813132.37548343,
          33181424.95205727,
          30451848.929872796,
          14559798.128202554,
          18717970.990206107,
          12103377.231289811,
          14645516.146651473,
          19974859.610438917,
          16768825.650466423,
          16394476.213504974,
          27671697.93480644,
          25853904.168959312,
          25958662.428885296,
          19073731.550282873,
          16343494.378801236,
          16224653.651256358,
          10824352.324318398,
          3465877.551281336,
          4403652.535856165,
          5653324.385967433,
          2452851.129728106,
          3750391.758097159,
          3671809.891876481,
          3579322.8548998334,
          10360150.724621838,
          7442050.219822525,
          2269855.4925684556,
          4494322.295869889,
          10570238.73021389,
          10937196.915791221,
          7619142.1326509835,
          9525511.935479539,
          14610499.186338576,
          11204360.750235848,
          10428435.836217012,
          15865830.943105457,
          22846477.173268523,
          13903615.74895269,
          9933278.180173086,
          17858181.467223078,
          17506533.08450333,
          16898726.320005473,
          23246583.967818428,
          20097047.885562744,
          14057404.981738407,
          9833547.7012424,
          22172299.188090995,
          10334781.533603149,
          13755832.678457163,
          18775484.34020127,
          24100061.6307712,
          16353465.671449222,
          14987712.160009123,
          14400337.957791377,
          12141114.172139227,
          10963762.643133698,
          11013498.339382526,
          15001756.631887382,
          14008461.615627632,
          13121574.29230902,
          13886284.643011237,
          10279074.266172709,
          9049043.944500498,
          9909962.776241519,
          8987345.698116569,
          10236050.606615711,
          12124656.252271984,
          11866613.46127779,
          12384035.259553557,
          9996443.320778579,
          12323285.850101072,
          14106062.264455449,
          15746684.203750107,
          14315308.372562444,
          15752400.613503903,
          12744423.210689351,
          14854155.25532906,
          14883343.011165421,
          15846581.120834319,
          13101307.381474862,
          14915371.078154674,
          5591699.209101787,
          7669300.579087407,
          9832528.633612102,
          14391970.078946874,
          14344987.93710724,
          13870820.11700249,
          13756569.712487835,
          14825433.84471091,
          11863853.37043459,
          13591677.170850072,
          15322490.148993252,
          13257823.871842671,
          13058795.120445218,
          9639845.79376248,
          13239717.80603982,
          12398453.56208776,
          10245992.677412055,
          12890363.341415754,
          13874544.383633114,
          10266222.995107656,
          30575504.147160772,
          15253114.84505277,
          10876731.24538124,
          7601782.721311776,
          14600294.316563707,
          11656041.0351944,
          11196587.273978233,
          9241882.520224389,
          8120201.96796524,
          8787093.610950464,
          9923045.501382096,
          9549056.582539072,
          10671964.094912605,
          9289993.746444292,
          8469418.931767166,
          8838101.245504135,
          7552046.645364644,
          7961754.505458521,
          9361338.779880492,
          10128587.937438475,
          9959072.951282226,
          7964095.459022786,
          7000784.773031153,
          9222891.219544182,
          7354296.431265526,
          8442224.410216872,
          7241161.548273808,
          9941584.374765046,
          6723788.7961314395,
          8477765.831825338,
          8844649.055345189,
          6964015.572650921,
          10032316.464659369,
          9378718.195788559,
          7329624.073092482,
          6777921.365041592,
          7013492.5854071425,
          8496723.748499785,
          5827377.68436048,
          7257048.281150131,
          7510912.88873276,
          5437923.103418489,
          7149178.883148572,
          6009092.037102775,
          6542981.457757107,
          6686178.006038483,
          6595859.270224943,
          6848010.792295816,
          6915032.927702618,
          6278663.065730889,
          4232135.601382024,
          5595091.957287463,
          5152348.605324569,
          5883283.505263357,
          5123516.065928064
         ]
        }
       ],
       "layout": {
        "font": {
         "color": "black",
         "family": "Clear Sans",
         "size": 18
        },
        "legend": {
         "orientation": "h",
         "x": 0.5,
         "xanchor": "center",
         "y": 1.1
        },
        "margin": {
         "b": 10,
         "l": 10,
         "r": 10,
         "t": 10
        },
        "showlegend": true,
        "template": {
         "data": {
          "bar": [
           {
            "error_x": {
             "color": "rgb(36,36,36)"
            },
            "error_y": {
             "color": "rgb(36,36,36)"
            },
            "marker": {
             "line": {
              "color": "white",
              "width": 0.5
             },
             "pattern": {
              "fillmode": "overlay",
              "size": 10,
              "solidity": 0.2
             }
            },
            "type": "bar"
           }
          ],
          "barpolar": [
           {
            "marker": {
             "line": {
              "color": "white",
              "width": 0.5
             },
             "pattern": {
              "fillmode": "overlay",
              "size": 10,
              "solidity": 0.2
             }
            },
            "type": "barpolar"
           }
          ],
          "carpet": [
           {
            "aaxis": {
             "endlinecolor": "rgb(36,36,36)",
             "gridcolor": "white",
             "linecolor": "white",
             "minorgridcolor": "white",
             "startlinecolor": "rgb(36,36,36)"
            },
            "baxis": {
             "endlinecolor": "rgb(36,36,36)",
             "gridcolor": "white",
             "linecolor": "white",
             "minorgridcolor": "white",
             "startlinecolor": "rgb(36,36,36)"
            },
            "type": "carpet"
           }
          ],
          "choropleth": [
           {
            "colorbar": {
             "outlinewidth": 1,
             "tickcolor": "rgb(36,36,36)",
             "ticks": "outside"
            },
            "type": "choropleth"
           }
          ],
          "contour": [
           {
            "colorbar": {
             "outlinewidth": 1,
             "tickcolor": "rgb(36,36,36)",
             "ticks": "outside"
            },
            "colorscale": [
             [
              0,
              "#440154"
             ],
             [
              0.1111111111111111,
              "#482878"
             ],
             [
              0.2222222222222222,
              "#3e4989"
             ],
             [
              0.3333333333333333,
              "#31688e"
             ],
             [
              0.4444444444444444,
              "#26828e"
             ],
             [
              0.5555555555555556,
              "#1f9e89"
             ],
             [
              0.6666666666666666,
              "#35b779"
             ],
             [
              0.7777777777777778,
              "#6ece58"
             ],
             [
              0.8888888888888888,
              "#b5de2b"
             ],
             [
              1,
              "#fde725"
             ]
            ],
            "type": "contour"
           }
          ],
          "contourcarpet": [
           {
            "colorbar": {
             "outlinewidth": 1,
             "tickcolor": "rgb(36,36,36)",
             "ticks": "outside"
            },
            "type": "contourcarpet"
           }
          ],
          "heatmap": [
           {
            "colorbar": {
             "outlinewidth": 1,
             "tickcolor": "rgb(36,36,36)",
             "ticks": "outside"
            },
            "colorscale": [
             [
              0,
              "#440154"
             ],
             [
              0.1111111111111111,
              "#482878"
             ],
             [
              0.2222222222222222,
              "#3e4989"
             ],
             [
              0.3333333333333333,
              "#31688e"
             ],
             [
              0.4444444444444444,
              "#26828e"
             ],
             [
              0.5555555555555556,
              "#1f9e89"
             ],
             [
              0.6666666666666666,
              "#35b779"
             ],
             [
              0.7777777777777778,
              "#6ece58"
             ],
             [
              0.8888888888888888,
              "#b5de2b"
             ],
             [
              1,
              "#fde725"
             ]
            ],
            "type": "heatmap"
           }
          ],
          "heatmapgl": [
           {
            "colorbar": {
             "outlinewidth": 1,
             "tickcolor": "rgb(36,36,36)",
             "ticks": "outside"
            },
            "colorscale": [
             [
              0,
              "#440154"
             ],
             [
              0.1111111111111111,
              "#482878"
             ],
             [
              0.2222222222222222,
              "#3e4989"
             ],
             [
              0.3333333333333333,
              "#31688e"
             ],
             [
              0.4444444444444444,
              "#26828e"
             ],
             [
              0.5555555555555556,
              "#1f9e89"
             ],
             [
              0.6666666666666666,
              "#35b779"
             ],
             [
              0.7777777777777778,
              "#6ece58"
             ],
             [
              0.8888888888888888,
              "#b5de2b"
             ],
             [
              1,
              "#fde725"
             ]
            ],
            "type": "heatmapgl"
           }
          ],
          "histogram": [
           {
            "marker": {
             "line": {
              "color": "white",
              "width": 0.6
             }
            },
            "type": "histogram"
           }
          ],
          "histogram2d": [
           {
            "colorbar": {
             "outlinewidth": 1,
             "tickcolor": "rgb(36,36,36)",
             "ticks": "outside"
            },
            "colorscale": [
             [
              0,
              "#440154"
             ],
             [
              0.1111111111111111,
              "#482878"
             ],
             [
              0.2222222222222222,
              "#3e4989"
             ],
             [
              0.3333333333333333,
              "#31688e"
             ],
             [
              0.4444444444444444,
              "#26828e"
             ],
             [
              0.5555555555555556,
              "#1f9e89"
             ],
             [
              0.6666666666666666,
              "#35b779"
             ],
             [
              0.7777777777777778,
              "#6ece58"
             ],
             [
              0.8888888888888888,
              "#b5de2b"
             ],
             [
              1,
              "#fde725"
             ]
            ],
            "type": "histogram2d"
           }
          ],
          "histogram2dcontour": [
           {
            "colorbar": {
             "outlinewidth": 1,
             "tickcolor": "rgb(36,36,36)",
             "ticks": "outside"
            },
            "colorscale": [
             [
              0,
              "#440154"
             ],
             [
              0.1111111111111111,
              "#482878"
             ],
             [
              0.2222222222222222,
              "#3e4989"
             ],
             [
              0.3333333333333333,
              "#31688e"
             ],
             [
              0.4444444444444444,
              "#26828e"
             ],
             [
              0.5555555555555556,
              "#1f9e89"
             ],
             [
              0.6666666666666666,
              "#35b779"
             ],
             [
              0.7777777777777778,
              "#6ece58"
             ],
             [
              0.8888888888888888,
              "#b5de2b"
             ],
             [
              1,
              "#fde725"
             ]
            ],
            "type": "histogram2dcontour"
           }
          ],
          "mesh3d": [
           {
            "colorbar": {
             "outlinewidth": 1,
             "tickcolor": "rgb(36,36,36)",
             "ticks": "outside"
            },
            "type": "mesh3d"
           }
          ],
          "parcoords": [
           {
            "line": {
             "colorbar": {
              "outlinewidth": 1,
              "tickcolor": "rgb(36,36,36)",
              "ticks": "outside"
             }
            },
            "type": "parcoords"
           }
          ],
          "pie": [
           {
            "automargin": true,
            "type": "pie"
           }
          ],
          "scatter": [
           {
            "fillpattern": {
             "fillmode": "overlay",
             "size": 10,
             "solidity": 0.2
            },
            "type": "scatter"
           }
          ],
          "scatter3d": [
           {
            "line": {
             "colorbar": {
              "outlinewidth": 1,
              "tickcolor": "rgb(36,36,36)",
              "ticks": "outside"
             }
            },
            "marker": {
             "colorbar": {
              "outlinewidth": 1,
              "tickcolor": "rgb(36,36,36)",
              "ticks": "outside"
             }
            },
            "type": "scatter3d"
           }
          ],
          "scattercarpet": [
           {
            "marker": {
             "colorbar": {
              "outlinewidth": 1,
              "tickcolor": "rgb(36,36,36)",
              "ticks": "outside"
             }
            },
            "type": "scattercarpet"
           }
          ],
          "scattergeo": [
           {
            "marker": {
             "colorbar": {
              "outlinewidth": 1,
              "tickcolor": "rgb(36,36,36)",
              "ticks": "outside"
             }
            },
            "type": "scattergeo"
           }
          ],
          "scattergl": [
           {
            "marker": {
             "colorbar": {
              "outlinewidth": 1,
              "tickcolor": "rgb(36,36,36)",
              "ticks": "outside"
             }
            },
            "type": "scattergl"
           }
          ],
          "scattermapbox": [
           {
            "marker": {
             "colorbar": {
              "outlinewidth": 1,
              "tickcolor": "rgb(36,36,36)",
              "ticks": "outside"
             }
            },
            "type": "scattermapbox"
           }
          ],
          "scatterpolar": [
           {
            "marker": {
             "colorbar": {
              "outlinewidth": 1,
              "tickcolor": "rgb(36,36,36)",
              "ticks": "outside"
             }
            },
            "type": "scatterpolar"
           }
          ],
          "scatterpolargl": [
           {
            "marker": {
             "colorbar": {
              "outlinewidth": 1,
              "tickcolor": "rgb(36,36,36)",
              "ticks": "outside"
             }
            },
            "type": "scatterpolargl"
           }
          ],
          "scatterternary": [
           {
            "marker": {
             "colorbar": {
              "outlinewidth": 1,
              "tickcolor": "rgb(36,36,36)",
              "ticks": "outside"
             }
            },
            "type": "scatterternary"
           }
          ],
          "surface": [
           {
            "colorbar": {
             "outlinewidth": 1,
             "tickcolor": "rgb(36,36,36)",
             "ticks": "outside"
            },
            "colorscale": [
             [
              0,
              "#440154"
             ],
             [
              0.1111111111111111,
              "#482878"
             ],
             [
              0.2222222222222222,
              "#3e4989"
             ],
             [
              0.3333333333333333,
              "#31688e"
             ],
             [
              0.4444444444444444,
              "#26828e"
             ],
             [
              0.5555555555555556,
              "#1f9e89"
             ],
             [
              0.6666666666666666,
              "#35b779"
             ],
             [
              0.7777777777777778,
              "#6ece58"
             ],
             [
              0.8888888888888888,
              "#b5de2b"
             ],
             [
              1,
              "#fde725"
             ]
            ],
            "type": "surface"
           }
          ],
          "table": [
           {
            "cells": {
             "fill": {
              "color": "rgb(237,237,237)"
             },
             "line": {
              "color": "white"
             }
            },
            "header": {
             "fill": {
              "color": "rgb(217,217,217)"
             },
             "line": {
              "color": "white"
             }
            },
            "type": "table"
           }
          ]
         },
         "layout": {
          "annotationdefaults": {
           "arrowhead": 0,
           "arrowwidth": 1
          },
          "autotypenumbers": "strict",
          "coloraxis": {
           "colorbar": {
            "outlinewidth": 1,
            "tickcolor": "rgb(36,36,36)",
            "ticks": "outside"
           }
          },
          "colorscale": {
           "diverging": [
            [
             0,
             "rgb(103,0,31)"
            ],
            [
             0.1,
             "rgb(178,24,43)"
            ],
            [
             0.2,
             "rgb(214,96,77)"
            ],
            [
             0.3,
             "rgb(244,165,130)"
            ],
            [
             0.4,
             "rgb(253,219,199)"
            ],
            [
             0.5,
             "rgb(247,247,247)"
            ],
            [
             0.6,
             "rgb(209,229,240)"
            ],
            [
             0.7,
             "rgb(146,197,222)"
            ],
            [
             0.8,
             "rgb(67,147,195)"
            ],
            [
             0.9,
             "rgb(33,102,172)"
            ],
            [
             1,
             "rgb(5,48,97)"
            ]
           ],
           "sequential": [
            [
             0,
             "#440154"
            ],
            [
             0.1111111111111111,
             "#482878"
            ],
            [
             0.2222222222222222,
             "#3e4989"
            ],
            [
             0.3333333333333333,
             "#31688e"
            ],
            [
             0.4444444444444444,
             "#26828e"
            ],
            [
             0.5555555555555556,
             "#1f9e89"
            ],
            [
             0.6666666666666666,
             "#35b779"
            ],
            [
             0.7777777777777778,
             "#6ece58"
            ],
            [
             0.8888888888888888,
             "#b5de2b"
            ],
            [
             1,
             "#fde725"
            ]
           ],
           "sequentialminus": [
            [
             0,
             "#440154"
            ],
            [
             0.1111111111111111,
             "#482878"
            ],
            [
             0.2222222222222222,
             "#3e4989"
            ],
            [
             0.3333333333333333,
             "#31688e"
            ],
            [
             0.4444444444444444,
             "#26828e"
            ],
            [
             0.5555555555555556,
             "#1f9e89"
            ],
            [
             0.6666666666666666,
             "#35b779"
            ],
            [
             0.7777777777777778,
             "#6ece58"
            ],
            [
             0.8888888888888888,
             "#b5de2b"
            ],
            [
             1,
             "#fde725"
            ]
           ]
          },
          "colorway": [
           "#1F77B4",
           "#FF7F0E",
           "#2CA02C",
           "#D62728",
           "#9467BD",
           "#8C564B",
           "#E377C2",
           "#7F7F7F",
           "#BCBD22",
           "#17BECF"
          ],
          "font": {
           "color": "rgb(36,36,36)"
          },
          "geo": {
           "bgcolor": "white",
           "lakecolor": "white",
           "landcolor": "white",
           "showlakes": true,
           "showland": true,
           "subunitcolor": "white"
          },
          "hoverlabel": {
           "align": "left"
          },
          "hovermode": "closest",
          "mapbox": {
           "style": "light"
          },
          "paper_bgcolor": "white",
          "plot_bgcolor": "white",
          "polar": {
           "angularaxis": {
            "gridcolor": "rgb(232,232,232)",
            "linecolor": "rgb(36,36,36)",
            "showgrid": false,
            "showline": true,
            "ticks": "outside"
           },
           "bgcolor": "white",
           "radialaxis": {
            "gridcolor": "rgb(232,232,232)",
            "linecolor": "rgb(36,36,36)",
            "showgrid": false,
            "showline": true,
            "ticks": "outside"
           }
          },
          "scene": {
           "xaxis": {
            "backgroundcolor": "white",
            "gridcolor": "rgb(232,232,232)",
            "gridwidth": 2,
            "linecolor": "rgb(36,36,36)",
            "showbackground": true,
            "showgrid": false,
            "showline": true,
            "ticks": "outside",
            "zeroline": false,
            "zerolinecolor": "rgb(36,36,36)"
           },
           "yaxis": {
            "backgroundcolor": "white",
            "gridcolor": "rgb(232,232,232)",
            "gridwidth": 2,
            "linecolor": "rgb(36,36,36)",
            "showbackground": true,
            "showgrid": false,
            "showline": true,
            "ticks": "outside",
            "zeroline": false,
            "zerolinecolor": "rgb(36,36,36)"
           },
           "zaxis": {
            "backgroundcolor": "white",
            "gridcolor": "rgb(232,232,232)",
            "gridwidth": 2,
            "linecolor": "rgb(36,36,36)",
            "showbackground": true,
            "showgrid": false,
            "showline": true,
            "ticks": "outside",
            "zeroline": false,
            "zerolinecolor": "rgb(36,36,36)"
           }
          },
          "shapedefaults": {
           "fillcolor": "black",
           "line": {
            "width": 0
           },
           "opacity": 0.3
          },
          "ternary": {
           "aaxis": {
            "gridcolor": "rgb(232,232,232)",
            "linecolor": "rgb(36,36,36)",
            "showgrid": false,
            "showline": true,
            "ticks": "outside"
           },
           "baxis": {
            "gridcolor": "rgb(232,232,232)",
            "linecolor": "rgb(36,36,36)",
            "showgrid": false,
            "showline": true,
            "ticks": "outside"
           },
           "bgcolor": "white",
           "caxis": {
            "gridcolor": "rgb(232,232,232)",
            "linecolor": "rgb(36,36,36)",
            "showgrid": false,
            "showline": true,
            "ticks": "outside"
           }
          },
          "title": {
           "x": 0.05
          },
          "xaxis": {
           "automargin": true,
           "gridcolor": "rgb(232,232,232)",
           "linecolor": "rgb(36,36,36)",
           "showgrid": false,
           "showline": true,
           "ticks": "outside",
           "title": {
            "standoff": 15
           },
           "zeroline": false,
           "zerolinecolor": "rgb(36,36,36)"
          },
          "yaxis": {
           "automargin": true,
           "gridcolor": "rgb(232,232,232)",
           "linecolor": "rgb(36,36,36)",
           "showgrid": false,
           "showline": true,
           "ticks": "outside",
           "title": {
            "standoff": 15
           },
           "zeroline": false,
           "zerolinecolor": "rgb(36,36,36)"
          }
         }
        },
        "xaxis": {
         "griddash": "dash",
         "minor": {
          "griddash": "dot",
          "ticks": "inside"
         },
         "showgrid": true,
         "title": {
          "text": "Date"
         }
        },
        "yaxis": {
         "griddash": "dash",
         "minor": {
          "griddash": "dot",
          "ticks": "inside"
         },
         "showgrid": true,
         "title": {
          "text": "Trading Volume [ETH]"
         }
        }
       }
      }
     },
     "metadata": {},
     "output_type": "display_data"
    }
   ],
   "source": [
    "fig = go.Figure(layout=layout)\n",
    "\n",
    "fig.add_trace(go.Scatter(x=df_per_day['timestamp'],\n",
    "                            y=df_per_day2['volume_ETH'].astype(\n",
    "                                float),\n",
    "                            mode='lines',\n",
    "                            name = 'ETH-BTC at SyncSwap'))\n",
    "\n",
    "fig.update_layout(xaxis_title='Date',\n",
    "                    yaxis_title='Trading Volume [ETH]', showlegend=True,\n",
    "                    legend=dict(xanchor='center', x=0.5, y=1.10, orientation='h'),)\n",
    "#fig.write_image(f\"./plots/{contract_name}_{event_name}.pdf\")\n",
    "fig.show()\n"
   ]
  },
  {
   "cell_type": "code",
   "execution_count": 26,
   "metadata": {},
   "outputs": [],
   "source": [
    "def getAnnualReturn(dailyReturn) :\n",
    "    #return ( dailyReturn * 365) * 100\n",
    "    return ((dailyReturn + 1)**365 - 1) * 100\n",
    "\n",
    "df_per_day2['LP_Fee'] = df_per_day2['volume_ETH'] * 0.0008\n",
    "df_per_day2['reserves_ETH'] = 2 * df_per_day2['reserve_0'] #that works only for Uniswap v2 (and its forks)\n",
    "df_per_day2['Return'] = df_per_day2['LP_Fee'] / df_per_day2['reserves_ETH']\n",
    "df_per_day2['annual_Return'] = getAnnualReturn(df_per_day2['Return'])\n"
   ]
  },
  {
   "cell_type": "code",
   "execution_count": 27,
   "metadata": {},
   "outputs": [
    {
     "data": {
      "application/vnd.plotly.v1+json": {
       "config": {
        "plotlyServerURL": "https://plot.ly"
       },
       "data": [
        {
         "mode": "lines",
         "name": "ETH-BTC at SyncSwap",
         "type": "scatter",
         "x": [
          "2023-03-24T00:00:00",
          "2023-03-25T00:00:00",
          "2023-03-26T00:00:00",
          "2023-03-27T00:00:00",
          "2023-03-28T00:00:00",
          "2023-03-29T00:00:00",
          "2023-03-30T00:00:00",
          "2023-03-31T00:00:00",
          "2023-04-01T00:00:00",
          "2023-04-02T00:00:00",
          "2023-04-03T00:00:00",
          "2023-04-04T00:00:00",
          "2023-04-05T00:00:00",
          "2023-04-06T00:00:00",
          "2023-04-07T00:00:00",
          "2023-04-08T00:00:00",
          "2023-04-09T00:00:00",
          "2023-04-10T00:00:00",
          "2023-04-11T00:00:00",
          "2023-04-12T00:00:00",
          "2023-04-13T00:00:00",
          "2023-04-14T00:00:00",
          "2023-04-15T00:00:00",
          "2023-04-16T00:00:00",
          "2023-04-17T00:00:00",
          "2023-04-18T00:00:00",
          "2023-04-19T00:00:00",
          "2023-04-20T00:00:00",
          "2023-04-21T00:00:00",
          "2023-04-22T00:00:00",
          "2023-04-23T00:00:00",
          "2023-04-24T00:00:00",
          "2023-04-25T00:00:00",
          "2023-04-26T00:00:00",
          "2023-04-27T00:00:00",
          "2023-04-28T00:00:00",
          "2023-04-29T00:00:00",
          "2023-04-30T00:00:00",
          "2023-05-01T00:00:00",
          "2023-05-02T00:00:00",
          "2023-05-03T00:00:00",
          "2023-05-04T00:00:00",
          "2023-05-05T00:00:00",
          "2023-05-06T00:00:00",
          "2023-05-07T00:00:00",
          "2023-05-08T00:00:00",
          "2023-05-09T00:00:00",
          "2023-05-10T00:00:00",
          "2023-05-11T00:00:00",
          "2023-05-12T00:00:00",
          "2023-05-13T00:00:00",
          "2023-05-14T00:00:00",
          "2023-05-15T00:00:00",
          "2023-05-16T00:00:00",
          "2023-05-17T00:00:00",
          "2023-05-18T00:00:00",
          "2023-05-19T00:00:00",
          "2023-05-20T00:00:00",
          "2023-05-21T00:00:00",
          "2023-05-22T00:00:00",
          "2023-05-23T00:00:00",
          "2023-05-24T00:00:00",
          "2023-05-25T00:00:00",
          "2023-05-26T00:00:00",
          "2023-05-27T00:00:00",
          "2023-05-28T00:00:00",
          "2023-05-29T00:00:00",
          "2023-05-30T00:00:00",
          "2023-05-31T00:00:00",
          "2023-06-01T00:00:00",
          "2023-06-02T00:00:00",
          "2023-06-03T00:00:00",
          "2023-06-04T00:00:00",
          "2023-06-05T00:00:00",
          "2023-06-06T00:00:00",
          "2023-06-07T00:00:00",
          "2023-06-08T00:00:00",
          "2023-06-09T00:00:00",
          "2023-06-10T00:00:00",
          "2023-06-11T00:00:00",
          "2023-06-12T00:00:00",
          "2023-06-13T00:00:00",
          "2023-06-14T00:00:00",
          "2023-06-15T00:00:00",
          "2023-06-16T00:00:00",
          "2023-06-17T00:00:00",
          "2023-06-18T00:00:00",
          "2023-06-19T00:00:00",
          "2023-06-20T00:00:00",
          "2023-06-21T00:00:00",
          "2023-06-22T00:00:00",
          "2023-06-23T00:00:00",
          "2023-06-24T00:00:00",
          "2023-06-25T00:00:00",
          "2023-06-26T00:00:00",
          "2023-06-27T00:00:00",
          "2023-06-28T00:00:00",
          "2023-06-29T00:00:00",
          "2023-06-30T00:00:00",
          "2023-07-01T00:00:00",
          "2023-07-02T00:00:00",
          "2023-07-03T00:00:00",
          "2023-07-04T00:00:00",
          "2023-07-05T00:00:00",
          "2023-07-06T00:00:00",
          "2023-07-07T00:00:00",
          "2023-07-08T00:00:00",
          "2023-07-09T00:00:00",
          "2023-07-10T00:00:00",
          "2023-07-11T00:00:00",
          "2023-07-12T00:00:00",
          "2023-07-13T00:00:00",
          "2023-07-14T00:00:00",
          "2023-07-15T00:00:00",
          "2023-07-16T00:00:00",
          "2023-07-17T00:00:00",
          "2023-07-18T00:00:00",
          "2023-07-19T00:00:00",
          "2023-07-20T00:00:00",
          "2023-07-21T00:00:00",
          "2023-07-22T00:00:00",
          "2023-07-23T00:00:00",
          "2023-07-24T00:00:00",
          "2023-07-25T00:00:00",
          "2023-07-26T00:00:00",
          "2023-07-27T00:00:00",
          "2023-07-28T00:00:00",
          "2023-07-29T00:00:00",
          "2023-07-30T00:00:00",
          "2023-07-31T00:00:00",
          "2023-08-01T00:00:00",
          "2023-08-02T00:00:00",
          "2023-08-03T00:00:00",
          "2023-08-04T00:00:00",
          "2023-08-05T00:00:00",
          "2023-08-06T00:00:00",
          "2023-08-07T00:00:00",
          "2023-08-08T00:00:00",
          "2023-08-09T00:00:00",
          "2023-08-10T00:00:00",
          "2023-08-11T00:00:00",
          "2023-08-12T00:00:00",
          "2023-08-13T00:00:00",
          "2023-08-14T00:00:00",
          "2023-08-15T00:00:00",
          "2023-08-16T00:00:00",
          "2023-08-17T00:00:00",
          "2023-08-18T00:00:00",
          "2023-08-19T00:00:00",
          "2023-08-20T00:00:00",
          "2023-08-21T00:00:00",
          "2023-08-22T00:00:00",
          "2023-08-23T00:00:00",
          "2023-08-24T00:00:00",
          "2023-08-25T00:00:00",
          "2023-08-26T00:00:00",
          "2023-08-27T00:00:00",
          "2023-08-28T00:00:00",
          "2023-08-29T00:00:00",
          "2023-08-30T00:00:00",
          "2023-08-31T00:00:00",
          "2023-09-01T00:00:00",
          "2023-09-02T00:00:00",
          "2023-09-03T00:00:00",
          "2023-09-04T00:00:00",
          "2023-09-05T00:00:00",
          "2023-09-06T00:00:00",
          "2023-09-07T00:00:00",
          "2023-09-08T00:00:00",
          "2023-09-09T00:00:00",
          "2023-09-10T00:00:00",
          "2023-09-11T00:00:00",
          "2023-09-12T00:00:00",
          "2023-09-13T00:00:00",
          "2023-09-14T00:00:00",
          "2023-09-15T00:00:00",
          "2023-09-16T00:00:00",
          "2023-09-17T00:00:00"
         ],
         "y": [
          27.78224121533155,
          304.69195024732664,
          389.19557389022714,
          109.64828949437874,
          56.32895666877684,
          36.4596379346654,
          34.17251836217756,
          64.8701224308869,
          40.398022364776764,
          70.81972453344588,
          72.03483038097691,
          50.74939601480477,
          22.333780403054494,
          84.15077769733203,
          52.63351428645466,
          55.76450464828644,
          39.69591592708361,
          117.09496008388007,
          134.39476266596827,
          48.27512736282409,
          16.333033674670915,
          18.37961762815454,
          20.832623180437903,
          18.08567375464436,
          16.824884623592396,
          7.845633882454739,
          11.195251775136983,
          10.225436827351908,
          13.153645281785643,
          19.392850967998076,
          16.403047687474338,
          15.997910127737347,
          22.626723110276338,
          19.327664654405762,
          18.96332436353225,
          13.568699324510924,
          11.310512554823426,
          11.247914707545581,
          7.748107286937134,
          2.7502260975099224,
          3.687319311583259,
          5.0024877696513315,
          2.1451153770713605,
          3.388001753326675,
          3.740383620855736,
          3.703359403981743,
          11.087082948267701,
          7.215553654498619,
          2.3218835748126887,
          4.738411910074936,
          11.712917423980397,
          10.403575465351222,
          7.068079583585485,
          8.875052605085564,
          13.048281387660655,
          9.862362421226045,
          9.078599763446027,
          13.934008727424096,
          20.020028640553434,
          10.768018569816618,
          7.4725553089832975,
          13.979893585913828,
          13.595151949789797,
          12.830974086467982,
          17.90385418615672,
          14.709393801648552,
          9.60144597034487,
          6.115286444223633,
          14.42686125372019,
          5.899814435068773,
          7.580910211479286,
          10.538767205367527,
          13.156888395132738,
          8.853320088563699,
          7.8792447008276145,
          7.589708602205381,
          6.324452060668562,
          5.718239655947133,
          5.9694162399358985,
          8.216292596633679,
          7.651692944162947,
          7.166272198141832,
          7.800475353046865,
          5.69967987120803,
          5.177055462911917,
          5.682086222296312,
          5.416904359795205,
          6.147841330116388,
          7.212880982305525,
          6.850686218519941,
          7.086060297455132,
          5.69220818461611,
          7.049931896527584,
          7.980346241873271,
          8.951190722171187,
          7.978866581867394,
          8.820895480510217,
          6.920426118609568,
          7.751329800027662,
          7.718102605651889,
          8.13223810173682,
          6.605988193511747,
          7.547377750421003,
          2.774622068185617,
          3.915329386451538,
          4.961917058620258,
          7.278645348774027,
          7.217582175739112,
          6.994159703975611,
          6.891782366586963,
          7.398580304400215,
          5.670538753648913,
          6.646308656035482,
          7.522190257929862,
          6.458448189705135,
          6.458504438907964,
          4.729697614771888,
          6.5597750246503495,
          6.104505196198606,
          5.007553980041712,
          6.385018853273627,
          6.863406618669976,
          5.1457614078787905,
          16.74500565298709,
          8.153632130351717,
          5.814665406244979,
          4.063333030110461,
          8.918331968247273,
          7.209339248087776,
          6.971692926469686,
          5.806387484099451,
          5.172309969398636,
          5.631583261240203,
          6.675410572480467,
          6.417053716193077,
          7.182087321243036,
          6.282237802646495,
          5.441908964967812,
          5.691928655896072,
          5.094350431532568,
          5.407725313433653,
          6.382960981798558,
          6.935185930236432,
          6.886934337403772,
          5.555604018961202,
          4.90135571123278,
          6.91221869279004,
          5.55945874018049,
          6.447217654617798,
          5.483694968293129,
          7.638246888541,
          5.167303484421337,
          6.489367258779644,
          6.804342747790493,
          5.336354670119947,
          7.800679224023144,
          7.246454227755961,
          6.265019329611765,
          5.685654171810173,
          5.88942674212336,
          7.310396162761079,
          5.006143258112394,
          6.220717006928633,
          6.543840580613347,
          4.72586758508744,
          6.270783452405926,
          5.246890142686755,
          5.168912214774979,
          5.135495654501887,
          5.0492346082540385,
          5.280792946545754,
          5.521800420712886,
          4.920439648388575,
          3.2805019488654663,
          4.320683285999505,
          3.9572971170502402,
          4.553953678858758,
          3.9613639810128554
         ]
        }
       ],
       "layout": {
        "font": {
         "color": "black",
         "family": "Clear Sans",
         "size": 18
        },
        "legend": {
         "orientation": "h",
         "x": 0.5,
         "xanchor": "center",
         "y": 1.1
        },
        "margin": {
         "b": 10,
         "l": 10,
         "r": 10,
         "t": 10
        },
        "showlegend": true,
        "template": {
         "data": {
          "bar": [
           {
            "error_x": {
             "color": "rgb(36,36,36)"
            },
            "error_y": {
             "color": "rgb(36,36,36)"
            },
            "marker": {
             "line": {
              "color": "white",
              "width": 0.5
             },
             "pattern": {
              "fillmode": "overlay",
              "size": 10,
              "solidity": 0.2
             }
            },
            "type": "bar"
           }
          ],
          "barpolar": [
           {
            "marker": {
             "line": {
              "color": "white",
              "width": 0.5
             },
             "pattern": {
              "fillmode": "overlay",
              "size": 10,
              "solidity": 0.2
             }
            },
            "type": "barpolar"
           }
          ],
          "carpet": [
           {
            "aaxis": {
             "endlinecolor": "rgb(36,36,36)",
             "gridcolor": "white",
             "linecolor": "white",
             "minorgridcolor": "white",
             "startlinecolor": "rgb(36,36,36)"
            },
            "baxis": {
             "endlinecolor": "rgb(36,36,36)",
             "gridcolor": "white",
             "linecolor": "white",
             "minorgridcolor": "white",
             "startlinecolor": "rgb(36,36,36)"
            },
            "type": "carpet"
           }
          ],
          "choropleth": [
           {
            "colorbar": {
             "outlinewidth": 1,
             "tickcolor": "rgb(36,36,36)",
             "ticks": "outside"
            },
            "type": "choropleth"
           }
          ],
          "contour": [
           {
            "colorbar": {
             "outlinewidth": 1,
             "tickcolor": "rgb(36,36,36)",
             "ticks": "outside"
            },
            "colorscale": [
             [
              0,
              "#440154"
             ],
             [
              0.1111111111111111,
              "#482878"
             ],
             [
              0.2222222222222222,
              "#3e4989"
             ],
             [
              0.3333333333333333,
              "#31688e"
             ],
             [
              0.4444444444444444,
              "#26828e"
             ],
             [
              0.5555555555555556,
              "#1f9e89"
             ],
             [
              0.6666666666666666,
              "#35b779"
             ],
             [
              0.7777777777777778,
              "#6ece58"
             ],
             [
              0.8888888888888888,
              "#b5de2b"
             ],
             [
              1,
              "#fde725"
             ]
            ],
            "type": "contour"
           }
          ],
          "contourcarpet": [
           {
            "colorbar": {
             "outlinewidth": 1,
             "tickcolor": "rgb(36,36,36)",
             "ticks": "outside"
            },
            "type": "contourcarpet"
           }
          ],
          "heatmap": [
           {
            "colorbar": {
             "outlinewidth": 1,
             "tickcolor": "rgb(36,36,36)",
             "ticks": "outside"
            },
            "colorscale": [
             [
              0,
              "#440154"
             ],
             [
              0.1111111111111111,
              "#482878"
             ],
             [
              0.2222222222222222,
              "#3e4989"
             ],
             [
              0.3333333333333333,
              "#31688e"
             ],
             [
              0.4444444444444444,
              "#26828e"
             ],
             [
              0.5555555555555556,
              "#1f9e89"
             ],
             [
              0.6666666666666666,
              "#35b779"
             ],
             [
              0.7777777777777778,
              "#6ece58"
             ],
             [
              0.8888888888888888,
              "#b5de2b"
             ],
             [
              1,
              "#fde725"
             ]
            ],
            "type": "heatmap"
           }
          ],
          "heatmapgl": [
           {
            "colorbar": {
             "outlinewidth": 1,
             "tickcolor": "rgb(36,36,36)",
             "ticks": "outside"
            },
            "colorscale": [
             [
              0,
              "#440154"
             ],
             [
              0.1111111111111111,
              "#482878"
             ],
             [
              0.2222222222222222,
              "#3e4989"
             ],
             [
              0.3333333333333333,
              "#31688e"
             ],
             [
              0.4444444444444444,
              "#26828e"
             ],
             [
              0.5555555555555556,
              "#1f9e89"
             ],
             [
              0.6666666666666666,
              "#35b779"
             ],
             [
              0.7777777777777778,
              "#6ece58"
             ],
             [
              0.8888888888888888,
              "#b5de2b"
             ],
             [
              1,
              "#fde725"
             ]
            ],
            "type": "heatmapgl"
           }
          ],
          "histogram": [
           {
            "marker": {
             "line": {
              "color": "white",
              "width": 0.6
             }
            },
            "type": "histogram"
           }
          ],
          "histogram2d": [
           {
            "colorbar": {
             "outlinewidth": 1,
             "tickcolor": "rgb(36,36,36)",
             "ticks": "outside"
            },
            "colorscale": [
             [
              0,
              "#440154"
             ],
             [
              0.1111111111111111,
              "#482878"
             ],
             [
              0.2222222222222222,
              "#3e4989"
             ],
             [
              0.3333333333333333,
              "#31688e"
             ],
             [
              0.4444444444444444,
              "#26828e"
             ],
             [
              0.5555555555555556,
              "#1f9e89"
             ],
             [
              0.6666666666666666,
              "#35b779"
             ],
             [
              0.7777777777777778,
              "#6ece58"
             ],
             [
              0.8888888888888888,
              "#b5de2b"
             ],
             [
              1,
              "#fde725"
             ]
            ],
            "type": "histogram2d"
           }
          ],
          "histogram2dcontour": [
           {
            "colorbar": {
             "outlinewidth": 1,
             "tickcolor": "rgb(36,36,36)",
             "ticks": "outside"
            },
            "colorscale": [
             [
              0,
              "#440154"
             ],
             [
              0.1111111111111111,
              "#482878"
             ],
             [
              0.2222222222222222,
              "#3e4989"
             ],
             [
              0.3333333333333333,
              "#31688e"
             ],
             [
              0.4444444444444444,
              "#26828e"
             ],
             [
              0.5555555555555556,
              "#1f9e89"
             ],
             [
              0.6666666666666666,
              "#35b779"
             ],
             [
              0.7777777777777778,
              "#6ece58"
             ],
             [
              0.8888888888888888,
              "#b5de2b"
             ],
             [
              1,
              "#fde725"
             ]
            ],
            "type": "histogram2dcontour"
           }
          ],
          "mesh3d": [
           {
            "colorbar": {
             "outlinewidth": 1,
             "tickcolor": "rgb(36,36,36)",
             "ticks": "outside"
            },
            "type": "mesh3d"
           }
          ],
          "parcoords": [
           {
            "line": {
             "colorbar": {
              "outlinewidth": 1,
              "tickcolor": "rgb(36,36,36)",
              "ticks": "outside"
             }
            },
            "type": "parcoords"
           }
          ],
          "pie": [
           {
            "automargin": true,
            "type": "pie"
           }
          ],
          "scatter": [
           {
            "fillpattern": {
             "fillmode": "overlay",
             "size": 10,
             "solidity": 0.2
            },
            "type": "scatter"
           }
          ],
          "scatter3d": [
           {
            "line": {
             "colorbar": {
              "outlinewidth": 1,
              "tickcolor": "rgb(36,36,36)",
              "ticks": "outside"
             }
            },
            "marker": {
             "colorbar": {
              "outlinewidth": 1,
              "tickcolor": "rgb(36,36,36)",
              "ticks": "outside"
             }
            },
            "type": "scatter3d"
           }
          ],
          "scattercarpet": [
           {
            "marker": {
             "colorbar": {
              "outlinewidth": 1,
              "tickcolor": "rgb(36,36,36)",
              "ticks": "outside"
             }
            },
            "type": "scattercarpet"
           }
          ],
          "scattergeo": [
           {
            "marker": {
             "colorbar": {
              "outlinewidth": 1,
              "tickcolor": "rgb(36,36,36)",
              "ticks": "outside"
             }
            },
            "type": "scattergeo"
           }
          ],
          "scattergl": [
           {
            "marker": {
             "colorbar": {
              "outlinewidth": 1,
              "tickcolor": "rgb(36,36,36)",
              "ticks": "outside"
             }
            },
            "type": "scattergl"
           }
          ],
          "scattermapbox": [
           {
            "marker": {
             "colorbar": {
              "outlinewidth": 1,
              "tickcolor": "rgb(36,36,36)",
              "ticks": "outside"
             }
            },
            "type": "scattermapbox"
           }
          ],
          "scatterpolar": [
           {
            "marker": {
             "colorbar": {
              "outlinewidth": 1,
              "tickcolor": "rgb(36,36,36)",
              "ticks": "outside"
             }
            },
            "type": "scatterpolar"
           }
          ],
          "scatterpolargl": [
           {
            "marker": {
             "colorbar": {
              "outlinewidth": 1,
              "tickcolor": "rgb(36,36,36)",
              "ticks": "outside"
             }
            },
            "type": "scatterpolargl"
           }
          ],
          "scatterternary": [
           {
            "marker": {
             "colorbar": {
              "outlinewidth": 1,
              "tickcolor": "rgb(36,36,36)",
              "ticks": "outside"
             }
            },
            "type": "scatterternary"
           }
          ],
          "surface": [
           {
            "colorbar": {
             "outlinewidth": 1,
             "tickcolor": "rgb(36,36,36)",
             "ticks": "outside"
            },
            "colorscale": [
             [
              0,
              "#440154"
             ],
             [
              0.1111111111111111,
              "#482878"
             ],
             [
              0.2222222222222222,
              "#3e4989"
             ],
             [
              0.3333333333333333,
              "#31688e"
             ],
             [
              0.4444444444444444,
              "#26828e"
             ],
             [
              0.5555555555555556,
              "#1f9e89"
             ],
             [
              0.6666666666666666,
              "#35b779"
             ],
             [
              0.7777777777777778,
              "#6ece58"
             ],
             [
              0.8888888888888888,
              "#b5de2b"
             ],
             [
              1,
              "#fde725"
             ]
            ],
            "type": "surface"
           }
          ],
          "table": [
           {
            "cells": {
             "fill": {
              "color": "rgb(237,237,237)"
             },
             "line": {
              "color": "white"
             }
            },
            "header": {
             "fill": {
              "color": "rgb(217,217,217)"
             },
             "line": {
              "color": "white"
             }
            },
            "type": "table"
           }
          ]
         },
         "layout": {
          "annotationdefaults": {
           "arrowhead": 0,
           "arrowwidth": 1
          },
          "autotypenumbers": "strict",
          "coloraxis": {
           "colorbar": {
            "outlinewidth": 1,
            "tickcolor": "rgb(36,36,36)",
            "ticks": "outside"
           }
          },
          "colorscale": {
           "diverging": [
            [
             0,
             "rgb(103,0,31)"
            ],
            [
             0.1,
             "rgb(178,24,43)"
            ],
            [
             0.2,
             "rgb(214,96,77)"
            ],
            [
             0.3,
             "rgb(244,165,130)"
            ],
            [
             0.4,
             "rgb(253,219,199)"
            ],
            [
             0.5,
             "rgb(247,247,247)"
            ],
            [
             0.6,
             "rgb(209,229,240)"
            ],
            [
             0.7,
             "rgb(146,197,222)"
            ],
            [
             0.8,
             "rgb(67,147,195)"
            ],
            [
             0.9,
             "rgb(33,102,172)"
            ],
            [
             1,
             "rgb(5,48,97)"
            ]
           ],
           "sequential": [
            [
             0,
             "#440154"
            ],
            [
             0.1111111111111111,
             "#482878"
            ],
            [
             0.2222222222222222,
             "#3e4989"
            ],
            [
             0.3333333333333333,
             "#31688e"
            ],
            [
             0.4444444444444444,
             "#26828e"
            ],
            [
             0.5555555555555556,
             "#1f9e89"
            ],
            [
             0.6666666666666666,
             "#35b779"
            ],
            [
             0.7777777777777778,
             "#6ece58"
            ],
            [
             0.8888888888888888,
             "#b5de2b"
            ],
            [
             1,
             "#fde725"
            ]
           ],
           "sequentialminus": [
            [
             0,
             "#440154"
            ],
            [
             0.1111111111111111,
             "#482878"
            ],
            [
             0.2222222222222222,
             "#3e4989"
            ],
            [
             0.3333333333333333,
             "#31688e"
            ],
            [
             0.4444444444444444,
             "#26828e"
            ],
            [
             0.5555555555555556,
             "#1f9e89"
            ],
            [
             0.6666666666666666,
             "#35b779"
            ],
            [
             0.7777777777777778,
             "#6ece58"
            ],
            [
             0.8888888888888888,
             "#b5de2b"
            ],
            [
             1,
             "#fde725"
            ]
           ]
          },
          "colorway": [
           "#1F77B4",
           "#FF7F0E",
           "#2CA02C",
           "#D62728",
           "#9467BD",
           "#8C564B",
           "#E377C2",
           "#7F7F7F",
           "#BCBD22",
           "#17BECF"
          ],
          "font": {
           "color": "rgb(36,36,36)"
          },
          "geo": {
           "bgcolor": "white",
           "lakecolor": "white",
           "landcolor": "white",
           "showlakes": true,
           "showland": true,
           "subunitcolor": "white"
          },
          "hoverlabel": {
           "align": "left"
          },
          "hovermode": "closest",
          "mapbox": {
           "style": "light"
          },
          "paper_bgcolor": "white",
          "plot_bgcolor": "white",
          "polar": {
           "angularaxis": {
            "gridcolor": "rgb(232,232,232)",
            "linecolor": "rgb(36,36,36)",
            "showgrid": false,
            "showline": true,
            "ticks": "outside"
           },
           "bgcolor": "white",
           "radialaxis": {
            "gridcolor": "rgb(232,232,232)",
            "linecolor": "rgb(36,36,36)",
            "showgrid": false,
            "showline": true,
            "ticks": "outside"
           }
          },
          "scene": {
           "xaxis": {
            "backgroundcolor": "white",
            "gridcolor": "rgb(232,232,232)",
            "gridwidth": 2,
            "linecolor": "rgb(36,36,36)",
            "showbackground": true,
            "showgrid": false,
            "showline": true,
            "ticks": "outside",
            "zeroline": false,
            "zerolinecolor": "rgb(36,36,36)"
           },
           "yaxis": {
            "backgroundcolor": "white",
            "gridcolor": "rgb(232,232,232)",
            "gridwidth": 2,
            "linecolor": "rgb(36,36,36)",
            "showbackground": true,
            "showgrid": false,
            "showline": true,
            "ticks": "outside",
            "zeroline": false,
            "zerolinecolor": "rgb(36,36,36)"
           },
           "zaxis": {
            "backgroundcolor": "white",
            "gridcolor": "rgb(232,232,232)",
            "gridwidth": 2,
            "linecolor": "rgb(36,36,36)",
            "showbackground": true,
            "showgrid": false,
            "showline": true,
            "ticks": "outside",
            "zeroline": false,
            "zerolinecolor": "rgb(36,36,36)"
           }
          },
          "shapedefaults": {
           "fillcolor": "black",
           "line": {
            "width": 0
           },
           "opacity": 0.3
          },
          "ternary": {
           "aaxis": {
            "gridcolor": "rgb(232,232,232)",
            "linecolor": "rgb(36,36,36)",
            "showgrid": false,
            "showline": true,
            "ticks": "outside"
           },
           "baxis": {
            "gridcolor": "rgb(232,232,232)",
            "linecolor": "rgb(36,36,36)",
            "showgrid": false,
            "showline": true,
            "ticks": "outside"
           },
           "bgcolor": "white",
           "caxis": {
            "gridcolor": "rgb(232,232,232)",
            "linecolor": "rgb(36,36,36)",
            "showgrid": false,
            "showline": true,
            "ticks": "outside"
           }
          },
          "title": {
           "x": 0.05
          },
          "xaxis": {
           "automargin": true,
           "gridcolor": "rgb(232,232,232)",
           "linecolor": "rgb(36,36,36)",
           "showgrid": false,
           "showline": true,
           "ticks": "outside",
           "title": {
            "standoff": 15
           },
           "zeroline": false,
           "zerolinecolor": "rgb(36,36,36)"
          },
          "yaxis": {
           "automargin": true,
           "gridcolor": "rgb(232,232,232)",
           "linecolor": "rgb(36,36,36)",
           "showgrid": false,
           "showline": true,
           "ticks": "outside",
           "title": {
            "standoff": 15
           },
           "zeroline": false,
           "zerolinecolor": "rgb(36,36,36)"
          }
         }
        },
        "xaxis": {
         "griddash": "dash",
         "minor": {
          "griddash": "dot",
          "ticks": "inside"
         },
         "showgrid": true,
         "title": {
          "text": "Date"
         }
        },
        "yaxis": {
         "griddash": "dash",
         "minor": {
          "griddash": "dot",
          "ticks": "inside"
         },
         "showgrid": true,
         "title": {
          "text": "Return on Farming [Percent]"
         }
        }
       }
      }
     },
     "metadata": {},
     "output_type": "display_data"
    }
   ],
   "source": [
    "\n",
    "fig = go.Figure(layout=layout)\n",
    "\n",
    "fig.add_trace(go.Scatter(x=df_per_day['timestamp'],\n",
    "                            y=df_per_day2['annual_Return'].astype(\n",
    "                                float),\n",
    "                            mode='lines',\n",
    "                            name = 'ETH-BTC at SyncSwap'))\n",
    "\n",
    "fig.update_layout(xaxis_title='Date',\n",
    "                    yaxis_title='Return on Farming [Percent]', showlegend=True,\n",
    "                    legend=dict(xanchor='center', x=0.5, y=1.10, orientation='h'),)\n",
    "#fig.write_image(f\"./plots/{contract_name}_{event_name}.pdf\")\n",
    "fig.show()\n",
    "\n",
    "\n",
    "\n"
   ]
  }
 ],
 "metadata": {
  "kernelspec": {
   "display_name": "base",
   "language": "python",
   "name": "python3"
  },
  "language_info": {
   "codemirror_mode": {
    "name": "ipython",
    "version": 3
   },
   "file_extension": ".py",
   "mimetype": "text/x-python",
   "name": "python",
   "nbconvert_exporter": "python",
   "pygments_lexer": "ipython3",
   "version": "3.9.6"
  },
  "orig_nbformat": 4
 },
 "nbformat": 4,
 "nbformat_minor": 2
}
