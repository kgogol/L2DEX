{
 "cells": [
  {
   "cell_type": "markdown",
   "metadata": {},
   "source": [
    "# DEX on zkSync Era - dataset parser\n",
    "\n",
    "- Krzysztof Gogol\n",
    "- email: [gogol@ifi.uzh.ch](mailto:gogol@ifi.uzh.ch)\n",
    "- Website: https://gogol.substack.com/"
   ]
  },
  {
   "cell_type": "code",
   "execution_count": 1,
   "metadata": {},
   "outputs": [
    {
     "name": "stderr",
     "output_type": "stream",
     "text": [
      "/Users/kris/Library/Python/3.9/lib/python/site-packages/urllib3/__init__.py:34: NotOpenSSLWarning: urllib3 v2 only supports OpenSSL 1.1.1+, currently the 'ssl' module is compiled with 'LibreSSL 2.8.3'. See: https://github.com/urllib3/urllib3/issues/3020\n",
      "  warnings.warn(\n"
     ]
    }
   ],
   "source": [
    "import gzip\n",
    "import pickle\n",
    "import os\n",
    "from tqdm.notebook import tqdm\n",
    "import pandas as pd\n",
    "#from web3 import Web3\n",
    "import web3\n",
    "import numpy as np\n",
    "import matplotlib.pyplot as plt\n",
    "import matplotlib.gridspec as gridspec\n",
    "import datetime\n",
    "\n",
    "from  functions_parser import process_swap_data, process_sync_data\n",
    "from  functions_MAV import calculate_metrics\n",
    "\n",
    "#CONST_BTC = 1e8\n",
    "#CONST_ETH = 1e18\n",
    "#CONST_USDC = 1e6\n",
    "\n",
    "fee = 8\n"
   ]
  },
  {
   "cell_type": "code",
   "execution_count": 2,
   "metadata": {},
   "outputs": [],
   "source": [
    "CONST_Token0 = 1e6 #USDC\n",
    "CONST_Token1 = 1e18 #ETH\n",
    "\n",
    "token0 = 'USDC'\n",
    "token1 = 'ETH'\n",
    "\n",
    "exchange_name = 'zkSwap'\n",
    "\n",
    "file_swap_data = 'zkSwap-Uniswap-V2-ETH-USDC_Swap_fees.csv.gz'\n",
    "file_sync_data = 'zkSwap-Uniswap-V2-ETH-USDC_Sync.csv.gz'\n",
    "\n",
    "file_market_data = './MarketData/df1h_usdc_eth.pickle'\n",
    "frequency = 'H'\n",
    "\n",
    "file_market_data = './MarketData/df1m_usdc_eth.pickle'\n",
    "frequency = 'T'"
   ]
  },
  {
   "cell_type": "code",
   "execution_count": 3,
   "metadata": {},
   "outputs": [],
   "source": [
    "CONST_Token0 = 1e6 #USDC\n",
    "CONST_Token1 = 1e18 #ETH\n",
    "\n",
    "token0 = 'USDC'\n",
    "token1 = 'ETH'\n",
    "\n",
    "exchange_name = 'SyncSwap'\n",
    "\n",
    "file_swap_data = 'SyncSwap-USDC-ETH_Swap_fees.csv.gz'\n",
    "file_sync_data = 'SyncSwap-USDC-ETH_Sync.csv.gz'\n",
    "\n",
    "file_market_data = './MarketData/df1h_usdc_eth.pickle'\n",
    "frequency = 'H'\n",
    "\n",
    "file_market_data = './MarketData/df1m_usdc_eth.pickle'\n",
    "frequency = 'T'"
   ]
  },
  {
   "cell_type": "code",
   "execution_count": 4,
   "metadata": {},
   "outputs": [],
   "source": [
    "CONST_Token0 = 1e18 #ETH\n",
    "CONST_Token1 = 1e8 #BTC\n",
    "\n",
    "token0 = 'ETH'\n",
    "token1 = 'BTC'\n",
    "\n",
    "exchange_name = 'zkSwap'\n",
    "\n",
    "file_swap_data = 'zkSwap-Uniswap-V2-WBTC-ETH_Swap_fees.csv.gz'\n",
    "file_sync_data = 'zkSwap-Uniswap-V2-WBTC-ETH_Sync.csv.gz'\n",
    "\n",
    "file_market_data = './MarketData/df1h_eth_btc.pickle'\n",
    "frequency = 'H'\n",
    "frequency = 'T'"
   ]
  },
  {
   "cell_type": "code",
   "execution_count": 5,
   "metadata": {},
   "outputs": [],
   "source": [
    "CONST_Token0 = 1e18 #ETH\n",
    "CONST_Token1 = 1e8 #BTC\n",
    "\n",
    "token0 = 'ETH'\n",
    "token1 = 'BTC'\n",
    "\n",
    "exchange_name = 'SyncSwap'\n",
    "\n",
    "file_swap_data = 'SyncSwap-V2-ETH-WBTC_Swap_fees.csv.gz'\n",
    "file_sync_data = 'SyncSwap-V2-ETH-WBTC_Sync.csv.gz'\n",
    "\n",
    "file_market_data = './MarketData/df1h_eth_btc.pickle'\n",
    "frequency = 'H'\n",
    "frequency = 'T'"
   ]
  },
  {
   "cell_type": "code",
   "execution_count": null,
   "metadata": {},
   "outputs": [],
   "source": []
  },
  {
   "cell_type": "code",
   "execution_count": 6,
   "metadata": {},
   "outputs": [],
   "source": [
    "CONST_Token0 = 1e6 #USDC\n",
    "CONST_Token1 = 1e18 #ETH\n",
    "\n",
    "token0 = 'USDC'\n",
    "token1 = 'ETH'\n",
    "\n",
    "exchange_name = 'SyncSwap'\n",
    "\n",
    "file_swap_data = 'SyncSwap-USDC-ETH_Swap_fees.csv.gz'\n",
    "file_sync_data = 'SyncSwap-USDC-ETH_Sync.csv.gz'\n",
    "\n",
    "file_market_data = './MarketData/df1h_usdc_eth.pickle'\n",
    "frequency = 'H'\n",
    "\n",
    "file_market_data = './MarketData/df1m_usdc_eth.pickle'\n",
    "frequency = 'T'"
   ]
  },
  {
   "cell_type": "code",
   "execution_count": 7,
   "metadata": {},
   "outputs": [],
   "source": [
    "path_dir = './data/'\n",
    "os.makedirs(path_dir, exist_ok=True)\n",
    "\n",
    "export_dir = './export/'\n",
    "os.makedirs(export_dir, exist_ok=True)"
   ]
  },
  {
   "cell_type": "code",
   "execution_count": 8,
   "metadata": {},
   "outputs": [
    {
     "data": {
      "text/html": [
       "<div>\n",
       "<style scoped>\n",
       "    .dataframe tbody tr th:only-of-type {\n",
       "        vertical-align: middle;\n",
       "    }\n",
       "\n",
       "    .dataframe tbody tr th {\n",
       "        vertical-align: top;\n",
       "    }\n",
       "\n",
       "    .dataframe thead th {\n",
       "        text-align: right;\n",
       "    }\n",
       "</style>\n",
       "<table border=\"1\" class=\"dataframe\">\n",
       "  <thead>\n",
       "    <tr style=\"text-align: right;\">\n",
       "      <th></th>\n",
       "      <th>transactionHash</th>\n",
       "      <th>blockNumber</th>\n",
       "      <th>transactionIndex</th>\n",
       "      <th>logIndex</th>\n",
       "      <th>timestamp</th>\n",
       "      <th>gasUsed</th>\n",
       "      <th>effectiveGasPrice</th>\n",
       "      <th>fees</th>\n",
       "      <th>amount0In</th>\n",
       "      <th>amount1In</th>\n",
       "      <th>amount0Out</th>\n",
       "      <th>amount1Out</th>\n",
       "      <th>effective_price</th>\n",
       "    </tr>\n",
       "  </thead>\n",
       "  <tbody>\n",
       "    <tr>\n",
       "      <th>3</th>\n",
       "      <td>0x000001d446b3b84e0f88600e567c8e1dc53f61ec95a6...</td>\n",
       "      <td>12925913</td>\n",
       "      <td>5</td>\n",
       "      <td>31</td>\n",
       "      <td>2023-09-03 19:02:03</td>\n",
       "      <td>414833</td>\n",
       "      <td>250000000</td>\n",
       "      <td>0.000104</td>\n",
       "      <td>0.000000</td>\n",
       "      <td>0.062898</td>\n",
       "      <td>102.659903</td>\n",
       "      <td>0.000000</td>\n",
       "      <td>1632.165860</td>\n",
       "    </tr>\n",
       "    <tr>\n",
       "      <th>4</th>\n",
       "      <td>0x0000022e0b6687178061b18a81880da863f8bec729b9...</td>\n",
       "      <td>13632078</td>\n",
       "      <td>3</td>\n",
       "      <td>16</td>\n",
       "      <td>2023-09-12 03:35:05</td>\n",
       "      <td>463557</td>\n",
       "      <td>250000000</td>\n",
       "      <td>0.000116</td>\n",
       "      <td>0.000000</td>\n",
       "      <td>0.000072</td>\n",
       "      <td>0.114170</td>\n",
       "      <td>0.000000</td>\n",
       "      <td>1582.617133</td>\n",
       "    </tr>\n",
       "    <tr>\n",
       "      <th>6</th>\n",
       "      <td>0x000003c3df29596ed35b103a8d0666bb8afc62a22bfe...</td>\n",
       "      <td>7469199</td>\n",
       "      <td>6</td>\n",
       "      <td>49</td>\n",
       "      <td>2023-07-01 10:28:24</td>\n",
       "      <td>550271</td>\n",
       "      <td>250000000</td>\n",
       "      <td>0.000138</td>\n",
       "      <td>153.761296</td>\n",
       "      <td>0.000000</td>\n",
       "      <td>0.000000</td>\n",
       "      <td>0.079983</td>\n",
       "      <td>1922.425150</td>\n",
       "    </tr>\n",
       "    <tr>\n",
       "      <th>8</th>\n",
       "      <td>0x000005d05abc90a2fe04c653c9babdd2cfc675312c6b...</td>\n",
       "      <td>7558192</td>\n",
       "      <td>6</td>\n",
       "      <td>35</td>\n",
       "      <td>2023-07-02 11:29:56</td>\n",
       "      <td>442671</td>\n",
       "      <td>250000000</td>\n",
       "      <td>0.000111</td>\n",
       "      <td>0.000000</td>\n",
       "      <td>0.080683</td>\n",
       "      <td>153.924459</td>\n",
       "      <td>0.000000</td>\n",
       "      <td>1907.760837</td>\n",
       "    </tr>\n",
       "    <tr>\n",
       "      <th>13</th>\n",
       "      <td>0x000010c8a753336d40ca311f0dbc77b33e6de16ed4e8...</td>\n",
       "      <td>13493487</td>\n",
       "      <td>14</td>\n",
       "      <td>110</td>\n",
       "      <td>2023-09-10 12:06:47</td>\n",
       "      <td>373297</td>\n",
       "      <td>250000000</td>\n",
       "      <td>0.000093</td>\n",
       "      <td>0.000000</td>\n",
       "      <td>0.000078</td>\n",
       "      <td>0.125829</td>\n",
       "      <td>0.000000</td>\n",
       "      <td>1617.547243</td>\n",
       "    </tr>\n",
       "  </tbody>\n",
       "</table>\n",
       "</div>"
      ],
      "text/plain": [
       "                                      transactionHash  blockNumber  \\\n",
       "3   0x000001d446b3b84e0f88600e567c8e1dc53f61ec95a6...     12925913   \n",
       "4   0x0000022e0b6687178061b18a81880da863f8bec729b9...     13632078   \n",
       "6   0x000003c3df29596ed35b103a8d0666bb8afc62a22bfe...      7469199   \n",
       "8   0x000005d05abc90a2fe04c653c9babdd2cfc675312c6b...      7558192   \n",
       "13  0x000010c8a753336d40ca311f0dbc77b33e6de16ed4e8...     13493487   \n",
       "\n",
       "    transactionIndex  logIndex           timestamp  gasUsed  \\\n",
       "3                  5        31 2023-09-03 19:02:03   414833   \n",
       "4                  3        16 2023-09-12 03:35:05   463557   \n",
       "6                  6        49 2023-07-01 10:28:24   550271   \n",
       "8                  6        35 2023-07-02 11:29:56   442671   \n",
       "13                14       110 2023-09-10 12:06:47   373297   \n",
       "\n",
       "    effectiveGasPrice      fees   amount0In  amount1In  amount0Out  \\\n",
       "3           250000000  0.000104    0.000000   0.062898  102.659903   \n",
       "4           250000000  0.000116    0.000000   0.000072    0.114170   \n",
       "6           250000000  0.000138  153.761296   0.000000    0.000000   \n",
       "8           250000000  0.000111    0.000000   0.080683  153.924459   \n",
       "13          250000000  0.000093    0.000000   0.000078    0.125829   \n",
       "\n",
       "    amount1Out  effective_price  \n",
       "3     0.000000      1632.165860  \n",
       "4     0.000000      1582.617133  \n",
       "6     0.079983      1922.425150  \n",
       "8     0.000000      1907.760837  \n",
       "13    0.000000      1617.547243  "
      ]
     },
     "execution_count": 8,
     "metadata": {},
     "output_type": "execute_result"
    }
   ],
   "source": [
    "#Loading data from swap method\n",
    "swap_df = pd.read_csv(path_dir+'/'+file_swap_data, sep=',', compression='gzip')\n",
    "\n",
    "process_swap_data(swap_df, CONST_Token0, CONST_Token1)\n",
    "\n",
    "columns_to_drop = ['price_buy_token0', 'price_buy_token1', 'address', 'topics_0', 'topics_1', 'topics_2', 'topics_3',  'data', 'event_name', 'status', 'Unnamed: 0.1', 'Unnamed: 0']\n",
    "swap_df.drop(columns=columns_to_drop, inplace=True)\n",
    "\n",
    "swap_df['timestamp'] = pd.to_datetime(swap_df['timestamp'])\n",
    "swap_df = swap_df[swap_df['timestamp'] >= pd.Timestamp(2023, 7, 1)]\n",
    "\n",
    "swap_df.head()\n"
   ]
  },
  {
   "cell_type": "code",
   "execution_count": 9,
   "metadata": {},
   "outputs": [
    {
     "data": {
      "text/html": [
       "<div>\n",
       "<style scoped>\n",
       "    .dataframe tbody tr th:only-of-type {\n",
       "        vertical-align: middle;\n",
       "    }\n",
       "\n",
       "    .dataframe tbody tr th {\n",
       "        vertical-align: top;\n",
       "    }\n",
       "\n",
       "    .dataframe thead th {\n",
       "        text-align: right;\n",
       "    }\n",
       "</style>\n",
       "<table border=\"1\" class=\"dataframe\">\n",
       "  <thead>\n",
       "    <tr style=\"text-align: right;\">\n",
       "      <th></th>\n",
       "      <th>blockNumber</th>\n",
       "      <th>transactionHash</th>\n",
       "      <th>transactionIndex</th>\n",
       "      <th>logIndex</th>\n",
       "      <th>timestamp</th>\n",
       "      <th>reserve_0</th>\n",
       "      <th>reserve_1</th>\n",
       "      <th>spot_price</th>\n",
       "    </tr>\n",
       "  </thead>\n",
       "  <tbody>\n",
       "    <tr>\n",
       "      <th>0</th>\n",
       "      <td>13106</td>\n",
       "      <td>0x7bc13feafc02db763e5db405de99d69364b0979763af...</td>\n",
       "      <td>7</td>\n",
       "      <td>36</td>\n",
       "      <td>2023-03-24 14:23:49</td>\n",
       "      <td>5.000000</td>\n",
       "      <td>0.00280</td>\n",
       "      <td>1785.714286</td>\n",
       "    </tr>\n",
       "    <tr>\n",
       "      <th>1</th>\n",
       "      <td>13463</td>\n",
       "      <td>0xe796d825e6a33a55483d273b101cd567c6e57caf39b5...</td>\n",
       "      <td>0</td>\n",
       "      <td>6</td>\n",
       "      <td>2023-03-24 14:31:39</td>\n",
       "      <td>3.686151</td>\n",
       "      <td>0.00380</td>\n",
       "      <td>970.039737</td>\n",
       "    </tr>\n",
       "    <tr>\n",
       "      <th>2</th>\n",
       "      <td>13849</td>\n",
       "      <td>0xe0590193ade2eaaedb063e270e62afbdb5bcd54eb0a3...</td>\n",
       "      <td>0</td>\n",
       "      <td>6</td>\n",
       "      <td>2023-03-24 14:39:58</td>\n",
       "      <td>3.591819</td>\n",
       "      <td>0.00390</td>\n",
       "      <td>920.979231</td>\n",
       "    </tr>\n",
       "    <tr>\n",
       "      <th>3</th>\n",
       "      <td>13859</td>\n",
       "      <td>0x070a3c311dab420e0bb41ebee9c360ee49f8dcae7fc4...</td>\n",
       "      <td>2</td>\n",
       "      <td>12</td>\n",
       "      <td>2023-03-24 14:40:09</td>\n",
       "      <td>3.502199</td>\n",
       "      <td>0.00400</td>\n",
       "      <td>875.549750</td>\n",
       "    </tr>\n",
       "    <tr>\n",
       "      <th>4</th>\n",
       "      <td>13911</td>\n",
       "      <td>0xa23d767e5959ae44441eef7d979743b38e7b1154937c...</td>\n",
       "      <td>0</td>\n",
       "      <td>9</td>\n",
       "      <td>2023-03-24 14:41:08</td>\n",
       "      <td>3.686151</td>\n",
       "      <td>0.00421</td>\n",
       "      <td>875.549750</td>\n",
       "    </tr>\n",
       "  </tbody>\n",
       "</table>\n",
       "</div>"
      ],
      "text/plain": [
       "   blockNumber                                    transactionHash  \\\n",
       "0        13106  0x7bc13feafc02db763e5db405de99d69364b0979763af...   \n",
       "1        13463  0xe796d825e6a33a55483d273b101cd567c6e57caf39b5...   \n",
       "2        13849  0xe0590193ade2eaaedb063e270e62afbdb5bcd54eb0a3...   \n",
       "3        13859  0x070a3c311dab420e0bb41ebee9c360ee49f8dcae7fc4...   \n",
       "4        13911  0xa23d767e5959ae44441eef7d979743b38e7b1154937c...   \n",
       "\n",
       "   transactionIndex  logIndex            timestamp  reserve_0  reserve_1  \\\n",
       "0                 7        36  2023-03-24 14:23:49   5.000000    0.00280   \n",
       "1                 0         6  2023-03-24 14:31:39   3.686151    0.00380   \n",
       "2                 0         6  2023-03-24 14:39:58   3.591819    0.00390   \n",
       "3                 2        12  2023-03-24 14:40:09   3.502199    0.00400   \n",
       "4                 0         9  2023-03-24 14:41:08   3.686151    0.00421   \n",
       "\n",
       "    spot_price  \n",
       "0  1785.714286  \n",
       "1   970.039737  \n",
       "2   920.979231  \n",
       "3   875.549750  \n",
       "4   875.549750  "
      ]
     },
     "execution_count": 9,
     "metadata": {},
     "output_type": "execute_result"
    }
   ],
   "source": [
    "#Loading data from sync method\n",
    "sync_df = pd.read_csv(path_dir+'/'+file_sync_data, sep=',', compression='gzip')\n",
    "sync_df=process_sync_data(sync_df, CONST_Token0, CONST_Token1)\n",
    "\n",
    "columns_to_drop = ['address', 'topics_0', 'topics_1', 'topics_2', 'topics_3',  'data', 'event_name', 'Unnamed: 0']\n",
    "sync_df.drop(columns=columns_to_drop, inplace=True)\n",
    "\n",
    "sync_df.head()\n"
   ]
  },
  {
   "cell_type": "code",
   "execution_count": 10,
   "metadata": {},
   "outputs": [
    {
     "data": {
      "text/html": [
       "<div>\n",
       "<style scoped>\n",
       "    .dataframe tbody tr th:only-of-type {\n",
       "        vertical-align: middle;\n",
       "    }\n",
       "\n",
       "    .dataframe tbody tr th {\n",
       "        vertical-align: top;\n",
       "    }\n",
       "\n",
       "    .dataframe thead th {\n",
       "        text-align: right;\n",
       "    }\n",
       "</style>\n",
       "<table border=\"1\" class=\"dataframe\">\n",
       "  <thead>\n",
       "    <tr style=\"text-align: right;\">\n",
       "      <th></th>\n",
       "      <th>transactionHash</th>\n",
       "      <th>blockNumber</th>\n",
       "      <th>transactionIndex</th>\n",
       "      <th>logIndex</th>\n",
       "      <th>timestamp</th>\n",
       "      <th>gasUsed</th>\n",
       "      <th>effectiveGasPrice</th>\n",
       "      <th>fees</th>\n",
       "      <th>amount0In</th>\n",
       "      <th>amount1In</th>\n",
       "      <th>amount0Out</th>\n",
       "      <th>amount1Out</th>\n",
       "      <th>effective_price</th>\n",
       "      <th>reserve_0</th>\n",
       "      <th>reserve_1</th>\n",
       "      <th>spot_price</th>\n",
       "    </tr>\n",
       "  </thead>\n",
       "  <tbody>\n",
       "    <tr>\n",
       "      <th>0</th>\n",
       "      <td>0x000001d446b3b84e0f88600e567c8e1dc53f61ec95a6...</td>\n",
       "      <td>12925913</td>\n",
       "      <td>5</td>\n",
       "      <td>31</td>\n",
       "      <td>2023-09-03 19:02:03</td>\n",
       "      <td>414833</td>\n",
       "      <td>250000000</td>\n",
       "      <td>0.000104</td>\n",
       "      <td>0.000000</td>\n",
       "      <td>0.062898</td>\n",
       "      <td>102.659903</td>\n",
       "      <td>0.000000</td>\n",
       "      <td>1632.165860</td>\n",
       "      <td>1.729764e+07</td>\n",
       "      <td>10566.237286</td>\n",
       "      <td>1637.067352</td>\n",
       "    </tr>\n",
       "    <tr>\n",
       "      <th>1</th>\n",
       "      <td>0x0000022e0b6687178061b18a81880da863f8bec729b9...</td>\n",
       "      <td>13632078</td>\n",
       "      <td>3</td>\n",
       "      <td>16</td>\n",
       "      <td>2023-09-12 03:35:05</td>\n",
       "      <td>463557</td>\n",
       "      <td>250000000</td>\n",
       "      <td>0.000116</td>\n",
       "      <td>0.000000</td>\n",
       "      <td>0.000072</td>\n",
       "      <td>0.114170</td>\n",
       "      <td>0.000000</td>\n",
       "      <td>1582.617133</td>\n",
       "      <td>1.903878e+07</td>\n",
       "      <td>11993.807532</td>\n",
       "      <td>1587.384189</td>\n",
       "    </tr>\n",
       "    <tr>\n",
       "      <th>2</th>\n",
       "      <td>0x000003c3df29596ed35b103a8d0666bb8afc62a22bfe...</td>\n",
       "      <td>7469199</td>\n",
       "      <td>6</td>\n",
       "      <td>49</td>\n",
       "      <td>2023-07-01 10:28:24</td>\n",
       "      <td>550271</td>\n",
       "      <td>250000000</td>\n",
       "      <td>0.000138</td>\n",
       "      <td>153.761296</td>\n",
       "      <td>0.000000</td>\n",
       "      <td>0.000000</td>\n",
       "      <td>0.079983</td>\n",
       "      <td>1922.425150</td>\n",
       "      <td>2.900690e+07</td>\n",
       "      <td>15134.023917</td>\n",
       "      <td>1916.668035</td>\n",
       "    </tr>\n",
       "    <tr>\n",
       "      <th>3</th>\n",
       "      <td>0x000005d05abc90a2fe04c653c9babdd2cfc675312c6b...</td>\n",
       "      <td>7558192</td>\n",
       "      <td>6</td>\n",
       "      <td>35</td>\n",
       "      <td>2023-07-02 11:29:56</td>\n",
       "      <td>442671</td>\n",
       "      <td>250000000</td>\n",
       "      <td>0.000111</td>\n",
       "      <td>0.000000</td>\n",
       "      <td>0.080683</td>\n",
       "      <td>153.924459</td>\n",
       "      <td>0.000000</td>\n",
       "      <td>1907.760837</td>\n",
       "      <td>2.934002e+07</td>\n",
       "      <td>15333.240109</td>\n",
       "      <td>1913.491275</td>\n",
       "    </tr>\n",
       "    <tr>\n",
       "      <th>4</th>\n",
       "      <td>0x000010c8a753336d40ca311f0dbc77b33e6de16ed4e8...</td>\n",
       "      <td>13493487</td>\n",
       "      <td>14</td>\n",
       "      <td>110</td>\n",
       "      <td>2023-09-10 12:06:47</td>\n",
       "      <td>373297</td>\n",
       "      <td>250000000</td>\n",
       "      <td>0.000093</td>\n",
       "      <td>0.000000</td>\n",
       "      <td>0.000078</td>\n",
       "      <td>0.125829</td>\n",
       "      <td>0.000000</td>\n",
       "      <td>1617.547243</td>\n",
       "      <td>1.943701e+07</td>\n",
       "      <td>11980.224350</td>\n",
       "      <td>1622.424958</td>\n",
       "    </tr>\n",
       "  </tbody>\n",
       "</table>\n",
       "</div>"
      ],
      "text/plain": [
       "                                     transactionHash  blockNumber  \\\n",
       "0  0x000001d446b3b84e0f88600e567c8e1dc53f61ec95a6...     12925913   \n",
       "1  0x0000022e0b6687178061b18a81880da863f8bec729b9...     13632078   \n",
       "2  0x000003c3df29596ed35b103a8d0666bb8afc62a22bfe...      7469199   \n",
       "3  0x000005d05abc90a2fe04c653c9babdd2cfc675312c6b...      7558192   \n",
       "4  0x000010c8a753336d40ca311f0dbc77b33e6de16ed4e8...     13493487   \n",
       "\n",
       "   transactionIndex  logIndex           timestamp  gasUsed  effectiveGasPrice  \\\n",
       "0                 5        31 2023-09-03 19:02:03   414833          250000000   \n",
       "1                 3        16 2023-09-12 03:35:05   463557          250000000   \n",
       "2                 6        49 2023-07-01 10:28:24   550271          250000000   \n",
       "3                 6        35 2023-07-02 11:29:56   442671          250000000   \n",
       "4                14       110 2023-09-10 12:06:47   373297          250000000   \n",
       "\n",
       "       fees   amount0In  amount1In  amount0Out  amount1Out  effective_price  \\\n",
       "0  0.000104    0.000000   0.062898  102.659903    0.000000      1632.165860   \n",
       "1  0.000116    0.000000   0.000072    0.114170    0.000000      1582.617133   \n",
       "2  0.000138  153.761296   0.000000    0.000000    0.079983      1922.425150   \n",
       "3  0.000111    0.000000   0.080683  153.924459    0.000000      1907.760837   \n",
       "4  0.000093    0.000000   0.000078    0.125829    0.000000      1617.547243   \n",
       "\n",
       "      reserve_0     reserve_1   spot_price  \n",
       "0  1.729764e+07  10566.237286  1637.067352  \n",
       "1  1.903878e+07  11993.807532  1587.384189  \n",
       "2  2.900690e+07  15134.023917  1916.668035  \n",
       "3  2.934002e+07  15333.240109  1913.491275  \n",
       "4  1.943701e+07  11980.224350  1622.424958  "
      ]
     },
     "execution_count": 10,
     "metadata": {},
     "output_type": "execute_result"
    }
   ],
   "source": [
    "#join swap_df and sync_df\n",
    "swap_df = swap_df.merge(sync_df[['transactionHash','reserve_0', 'reserve_1', 'spot_price']], on='transactionHash', how='left')\n",
    "swap_df.head()\n"
   ]
  },
  {
   "cell_type": "code",
   "execution_count": 11,
   "metadata": {},
   "outputs": [],
   "source": [
    "del sync_df"
   ]
  },
  {
   "cell_type": "markdown",
   "metadata": {},
   "source": []
  },
  {
   "cell_type": "code",
   "execution_count": 12,
   "metadata": {},
   "outputs": [
    {
     "data": {
      "text/html": [
       "<div>\n",
       "<style scoped>\n",
       "    .dataframe tbody tr th:only-of-type {\n",
       "        vertical-align: middle;\n",
       "    }\n",
       "\n",
       "    .dataframe tbody tr th {\n",
       "        vertical-align: top;\n",
       "    }\n",
       "\n",
       "    .dataframe thead th {\n",
       "        text-align: right;\n",
       "    }\n",
       "</style>\n",
       "<table border=\"1\" class=\"dataframe\">\n",
       "  <thead>\n",
       "    <tr style=\"text-align: right;\">\n",
       "      <th></th>\n",
       "      <th>timestamp</th>\n",
       "      <th>CEX_price</th>\n",
       "    </tr>\n",
       "  </thead>\n",
       "  <tbody>\n",
       "    <tr>\n",
       "      <th>0</th>\n",
       "      <td>2023-06-01 00:00:00</td>\n",
       "      <td>1875.24</td>\n",
       "    </tr>\n",
       "    <tr>\n",
       "      <th>1</th>\n",
       "      <td>2023-06-01 00:04:00</td>\n",
       "      <td>1875.67</td>\n",
       "    </tr>\n",
       "    <tr>\n",
       "      <th>2</th>\n",
       "      <td>2023-06-01 00:05:00</td>\n",
       "      <td>1876.68</td>\n",
       "    </tr>\n",
       "    <tr>\n",
       "      <th>3</th>\n",
       "      <td>2023-06-01 00:06:00</td>\n",
       "      <td>1873.88</td>\n",
       "    </tr>\n",
       "    <tr>\n",
       "      <th>4</th>\n",
       "      <td>2023-06-01 00:07:00</td>\n",
       "      <td>1874.63</td>\n",
       "    </tr>\n",
       "  </tbody>\n",
       "</table>\n",
       "</div>"
      ],
      "text/plain": [
       "            timestamp  CEX_price\n",
       "0 2023-06-01 00:00:00    1875.24\n",
       "1 2023-06-01 00:04:00    1875.67\n",
       "2 2023-06-01 00:05:00    1876.68\n",
       "3 2023-06-01 00:06:00    1873.88\n",
       "4 2023-06-01 00:07:00    1874.63"
      ]
     },
     "execution_count": 12,
     "metadata": {},
     "output_type": "execute_result"
    }
   ],
   "source": [
    "\n",
    "prices_df = pd.read_pickle(file_market_data)\n",
    "\n",
    "prices_df_columns_to_drop = ['symbol', 'base', 'market_venue', 'open', 'high',  'low', 'volume', 'trades', 'vwap']\n",
    "columns_to_drop = [col for col in prices_df_columns_to_drop if col in prices_df.columns]\n",
    "prices_df.drop(columns=columns_to_drop, inplace=True)\n",
    "\n",
    "prices_df.rename(columns={'close': 'CEX_price'}, inplace=True)\n",
    "\n",
    "prices_df.head()"
   ]
  },
  {
   "cell_type": "code",
   "execution_count": 13,
   "metadata": {},
   "outputs": [
    {
     "data": {
      "text/html": [
       "<div>\n",
       "<style scoped>\n",
       "    .dataframe tbody tr th:only-of-type {\n",
       "        vertical-align: middle;\n",
       "    }\n",
       "\n",
       "    .dataframe tbody tr th {\n",
       "        vertical-align: top;\n",
       "    }\n",
       "\n",
       "    .dataframe thead th {\n",
       "        text-align: right;\n",
       "    }\n",
       "</style>\n",
       "<table border=\"1\" class=\"dataframe\">\n",
       "  <thead>\n",
       "    <tr style=\"text-align: right;\">\n",
       "      <th></th>\n",
       "      <th>transactionHash</th>\n",
       "      <th>blockNumber</th>\n",
       "      <th>transactionIndex</th>\n",
       "      <th>logIndex</th>\n",
       "      <th>timestamp</th>\n",
       "      <th>gasUsed</th>\n",
       "      <th>effectiveGasPrice</th>\n",
       "      <th>fees</th>\n",
       "      <th>amount0In</th>\n",
       "      <th>amount1In</th>\n",
       "      <th>amount0Out</th>\n",
       "      <th>amount1Out</th>\n",
       "      <th>effective_price</th>\n",
       "      <th>reserve_0</th>\n",
       "      <th>reserve_1</th>\n",
       "      <th>spot_price</th>\n",
       "      <th>date_hour</th>\n",
       "      <th>CEX_price</th>\n",
       "    </tr>\n",
       "  </thead>\n",
       "  <tbody>\n",
       "    <tr>\n",
       "      <th>0</th>\n",
       "      <td>0x000001d446b3b84e0f88600e567c8e1dc53f61ec95a6...</td>\n",
       "      <td>12925913</td>\n",
       "      <td>5</td>\n",
       "      <td>31</td>\n",
       "      <td>2023-09-03 19:02:03</td>\n",
       "      <td>414833</td>\n",
       "      <td>250000000</td>\n",
       "      <td>0.000104</td>\n",
       "      <td>0.000000</td>\n",
       "      <td>0.062898</td>\n",
       "      <td>102.659903</td>\n",
       "      <td>0.000000</td>\n",
       "      <td>1632.165860</td>\n",
       "      <td>1.729764e+07</td>\n",
       "      <td>10566.237286</td>\n",
       "      <td>1637.067352</td>\n",
       "      <td>2023-09-03 19:02:00</td>\n",
       "      <td>NaN</td>\n",
       "    </tr>\n",
       "    <tr>\n",
       "      <th>1</th>\n",
       "      <td>0x0000022e0b6687178061b18a81880da863f8bec729b9...</td>\n",
       "      <td>13632078</td>\n",
       "      <td>3</td>\n",
       "      <td>16</td>\n",
       "      <td>2023-09-12 03:35:05</td>\n",
       "      <td>463557</td>\n",
       "      <td>250000000</td>\n",
       "      <td>0.000116</td>\n",
       "      <td>0.000000</td>\n",
       "      <td>0.000072</td>\n",
       "      <td>0.114170</td>\n",
       "      <td>0.000000</td>\n",
       "      <td>1582.617133</td>\n",
       "      <td>1.903878e+07</td>\n",
       "      <td>11993.807532</td>\n",
       "      <td>1587.384189</td>\n",
       "      <td>2023-09-12 03:35:00</td>\n",
       "      <td>NaN</td>\n",
       "    </tr>\n",
       "    <tr>\n",
       "      <th>2</th>\n",
       "      <td>0x000003c3df29596ed35b103a8d0666bb8afc62a22bfe...</td>\n",
       "      <td>7469199</td>\n",
       "      <td>6</td>\n",
       "      <td>49</td>\n",
       "      <td>2023-07-01 10:28:24</td>\n",
       "      <td>550271</td>\n",
       "      <td>250000000</td>\n",
       "      <td>0.000138</td>\n",
       "      <td>153.761296</td>\n",
       "      <td>0.000000</td>\n",
       "      <td>0.000000</td>\n",
       "      <td>0.079983</td>\n",
       "      <td>1922.425150</td>\n",
       "      <td>2.900690e+07</td>\n",
       "      <td>15134.023917</td>\n",
       "      <td>1916.668035</td>\n",
       "      <td>2023-07-01 10:28:00</td>\n",
       "      <td>NaN</td>\n",
       "    </tr>\n",
       "    <tr>\n",
       "      <th>3</th>\n",
       "      <td>0x000005d05abc90a2fe04c653c9babdd2cfc675312c6b...</td>\n",
       "      <td>7558192</td>\n",
       "      <td>6</td>\n",
       "      <td>35</td>\n",
       "      <td>2023-07-02 11:29:56</td>\n",
       "      <td>442671</td>\n",
       "      <td>250000000</td>\n",
       "      <td>0.000111</td>\n",
       "      <td>0.000000</td>\n",
       "      <td>0.080683</td>\n",
       "      <td>153.924459</td>\n",
       "      <td>0.000000</td>\n",
       "      <td>1907.760837</td>\n",
       "      <td>2.934002e+07</td>\n",
       "      <td>15333.240109</td>\n",
       "      <td>1913.491275</td>\n",
       "      <td>2023-07-02 11:29:00</td>\n",
       "      <td>NaN</td>\n",
       "    </tr>\n",
       "    <tr>\n",
       "      <th>4</th>\n",
       "      <td>0x000010c8a753336d40ca311f0dbc77b33e6de16ed4e8...</td>\n",
       "      <td>13493487</td>\n",
       "      <td>14</td>\n",
       "      <td>110</td>\n",
       "      <td>2023-09-10 12:06:47</td>\n",
       "      <td>373297</td>\n",
       "      <td>250000000</td>\n",
       "      <td>0.000093</td>\n",
       "      <td>0.000000</td>\n",
       "      <td>0.000078</td>\n",
       "      <td>0.125829</td>\n",
       "      <td>0.000000</td>\n",
       "      <td>1617.547243</td>\n",
       "      <td>1.943701e+07</td>\n",
       "      <td>11980.224350</td>\n",
       "      <td>1622.424958</td>\n",
       "      <td>2023-09-10 12:06:00</td>\n",
       "      <td>NaN</td>\n",
       "    </tr>\n",
       "  </tbody>\n",
       "</table>\n",
       "</div>"
      ],
      "text/plain": [
       "                                     transactionHash  blockNumber  \\\n",
       "0  0x000001d446b3b84e0f88600e567c8e1dc53f61ec95a6...     12925913   \n",
       "1  0x0000022e0b6687178061b18a81880da863f8bec729b9...     13632078   \n",
       "2  0x000003c3df29596ed35b103a8d0666bb8afc62a22bfe...      7469199   \n",
       "3  0x000005d05abc90a2fe04c653c9babdd2cfc675312c6b...      7558192   \n",
       "4  0x000010c8a753336d40ca311f0dbc77b33e6de16ed4e8...     13493487   \n",
       "\n",
       "   transactionIndex  logIndex           timestamp  gasUsed  effectiveGasPrice  \\\n",
       "0                 5        31 2023-09-03 19:02:03   414833          250000000   \n",
       "1                 3        16 2023-09-12 03:35:05   463557          250000000   \n",
       "2                 6        49 2023-07-01 10:28:24   550271          250000000   \n",
       "3                 6        35 2023-07-02 11:29:56   442671          250000000   \n",
       "4                14       110 2023-09-10 12:06:47   373297          250000000   \n",
       "\n",
       "       fees   amount0In  amount1In  amount0Out  amount1Out  effective_price  \\\n",
       "0  0.000104    0.000000   0.062898  102.659903    0.000000      1632.165860   \n",
       "1  0.000116    0.000000   0.000072    0.114170    0.000000      1582.617133   \n",
       "2  0.000138  153.761296   0.000000    0.000000    0.079983      1922.425150   \n",
       "3  0.000111    0.000000   0.080683  153.924459    0.000000      1907.760837   \n",
       "4  0.000093    0.000000   0.000078    0.125829    0.000000      1617.547243   \n",
       "\n",
       "      reserve_0     reserve_1   spot_price           date_hour  CEX_price  \n",
       "0  1.729764e+07  10566.237286  1637.067352 2023-09-03 19:02:00        NaN  \n",
       "1  1.903878e+07  11993.807532  1587.384189 2023-09-12 03:35:00        NaN  \n",
       "2  2.900690e+07  15134.023917  1916.668035 2023-07-01 10:28:00        NaN  \n",
       "3  2.934002e+07  15333.240109  1913.491275 2023-07-02 11:29:00        NaN  \n",
       "4  1.943701e+07  11980.224350  1622.424958 2023-09-10 12:06:00        NaN  "
      ]
     },
     "execution_count": 13,
     "metadata": {},
     "output_type": "execute_result"
    }
   ],
   "source": [
    "# Merging swap data with market prices\n",
    "\n",
    "swap_df['date_hour'] = swap_df['timestamp'].dt.floor(frequency)\n",
    "\n",
    "prices_df['date_hour'] = pd.to_datetime(prices_df['timestamp']).dt.floor(frequency)\n",
    "\n",
    "# Merge based on date and hour\n",
    "swap_df = pd.merge(swap_df, prices_df[['date_hour', 'CEX_price']],\n",
    "                   on='date_hour',\n",
    "                     how='left')\n",
    "\n",
    "del prices_df\n",
    "\n",
    "swap_df.head()"
   ]
  },
  {
   "cell_type": "code",
   "execution_count": 14,
   "metadata": {},
   "outputs": [],
   "source": [
    "# Calculationg LPFees\n",
    "\n",
    "#def getAnnualReturn(dailyReturn):\n",
    "#    return ((dailyReturn + 1)**365 - 1) * 100\n",
    "\n",
    "swap_df['price_diff'] = (abs(swap_df['spot_price'] - swap_df['CEX_price']))/swap_df['CEX_price']\n",
    "swap_df['r_price_diff'] = (swap_df['spot_price'] - swap_df['CEX_price'])/swap_df['CEX_price']\n",
    "swap_df['volume_total_0']  =  swap_df['amount0In'] + swap_df['amount0Out']\n",
    "swap_df['balance_total_0']  =  swap_df['amount0In'] - swap_df['amount0Out']\n",
    "\n",
    "swap_df['LP_Fee_0'] = swap_df['volume_total_0'] * fee / 10000\n",
    "swap_df['LP_Fee_total_0']  = swap_df['LP_Fee_0']\n",
    "swap_df['LP_fee_p'] = swap_df['LP_Fee_0'] / swap_df['volume_total_0']\n",
    "\n",
    "#swap_df['price_impact_p'] = (swap_df['effective_price']  - swap_df['spot_price']) / swap_df['effective_price']\n",
    "#swap_df['price_impact_0'] = swap_df['price_impact_p'] * swap_df['volume_total_0']\n",
    "\n",
    "#swap_df['block_slippage_0'] = 1\n",
    "#swap_df['block_slippage_p'] = 1\n",
    "\n",
    "#swap_df['annual_return'] = swap_df['LP_Fee_0'] / swap_df['reserve_0']\n",
    "#swap_df['annual_return'] = getAnnualReturn(swap_df['annual_return'])"
   ]
  },
  {
   "cell_type": "code",
   "execution_count": 15,
   "metadata": {},
   "outputs": [
    {
     "data": {
      "text/html": [
       "<div>\n",
       "<style scoped>\n",
       "    .dataframe tbody tr th:only-of-type {\n",
       "        vertical-align: middle;\n",
       "    }\n",
       "\n",
       "    .dataframe tbody tr th {\n",
       "        vertical-align: top;\n",
       "    }\n",
       "\n",
       "    .dataframe thead th {\n",
       "        text-align: right;\n",
       "    }\n",
       "</style>\n",
       "<table border=\"1\" class=\"dataframe\">\n",
       "  <thead>\n",
       "    <tr style=\"text-align: right;\">\n",
       "      <th></th>\n",
       "      <th>transactionHash</th>\n",
       "      <th>blockNumber</th>\n",
       "      <th>transactionIndex</th>\n",
       "      <th>logIndex</th>\n",
       "      <th>timestamp</th>\n",
       "      <th>gasUsed</th>\n",
       "      <th>effectiveGasPrice</th>\n",
       "      <th>fees_0</th>\n",
       "      <th>amount0In</th>\n",
       "      <th>amount1In</th>\n",
       "      <th>...</th>\n",
       "      <th>date_hour</th>\n",
       "      <th>CEX_price</th>\n",
       "      <th>price_diff</th>\n",
       "      <th>r_price_diff</th>\n",
       "      <th>volume_total_0</th>\n",
       "      <th>balance_total_0</th>\n",
       "      <th>LP_Fee_0</th>\n",
       "      <th>LP_Fee_total_0</th>\n",
       "      <th>LP_fee_p</th>\n",
       "      <th>fees_p</th>\n",
       "    </tr>\n",
       "  </thead>\n",
       "  <tbody>\n",
       "    <tr>\n",
       "      <th>0</th>\n",
       "      <td>0x000001d446b3b84e0f88600e567c8e1dc53f61ec95a6...</td>\n",
       "      <td>12925913</td>\n",
       "      <td>5</td>\n",
       "      <td>31</td>\n",
       "      <td>2023-09-03 19:02:03</td>\n",
       "      <td>414833</td>\n",
       "      <td>250000000</td>\n",
       "      <td>0.169777</td>\n",
       "      <td>0.000000</td>\n",
       "      <td>0.062898</td>\n",
       "      <td>...</td>\n",
       "      <td>2023-09-03 19:02:00</td>\n",
       "      <td>NaN</td>\n",
       "      <td>NaN</td>\n",
       "      <td>NaN</td>\n",
       "      <td>102.659903</td>\n",
       "      <td>-102.659903</td>\n",
       "      <td>0.082128</td>\n",
       "      <td>0.082128</td>\n",
       "      <td>0.0008</td>\n",
       "      <td>0.001654</td>\n",
       "    </tr>\n",
       "    <tr>\n",
       "      <th>1</th>\n",
       "      <td>0x0000022e0b6687178061b18a81880da863f8bec729b9...</td>\n",
       "      <td>13632078</td>\n",
       "      <td>3</td>\n",
       "      <td>16</td>\n",
       "      <td>2023-09-12 03:35:05</td>\n",
       "      <td>463557</td>\n",
       "      <td>250000000</td>\n",
       "      <td>0.183961</td>\n",
       "      <td>0.000000</td>\n",
       "      <td>0.000072</td>\n",
       "      <td>...</td>\n",
       "      <td>2023-09-12 03:35:00</td>\n",
       "      <td>NaN</td>\n",
       "      <td>NaN</td>\n",
       "      <td>NaN</td>\n",
       "      <td>0.114170</td>\n",
       "      <td>-0.114170</td>\n",
       "      <td>0.000091</td>\n",
       "      <td>0.000091</td>\n",
       "      <td>0.0008</td>\n",
       "      <td>1.611288</td>\n",
       "    </tr>\n",
       "    <tr>\n",
       "      <th>2</th>\n",
       "      <td>0x000003c3df29596ed35b103a8d0666bb8afc62a22bfe...</td>\n",
       "      <td>7469199</td>\n",
       "      <td>6</td>\n",
       "      <td>49</td>\n",
       "      <td>2023-07-01 10:28:24</td>\n",
       "      <td>550271</td>\n",
       "      <td>250000000</td>\n",
       "      <td>0.263672</td>\n",
       "      <td>153.761296</td>\n",
       "      <td>0.000000</td>\n",
       "      <td>...</td>\n",
       "      <td>2023-07-01 10:28:00</td>\n",
       "      <td>NaN</td>\n",
       "      <td>NaN</td>\n",
       "      <td>NaN</td>\n",
       "      <td>153.761296</td>\n",
       "      <td>153.761296</td>\n",
       "      <td>0.123009</td>\n",
       "      <td>0.123009</td>\n",
       "      <td>0.0008</td>\n",
       "      <td>0.001715</td>\n",
       "    </tr>\n",
       "    <tr>\n",
       "      <th>3</th>\n",
       "      <td>0x000005d05abc90a2fe04c653c9babdd2cfc675312c6b...</td>\n",
       "      <td>7558192</td>\n",
       "      <td>6</td>\n",
       "      <td>35</td>\n",
       "      <td>2023-07-02 11:29:56</td>\n",
       "      <td>442671</td>\n",
       "      <td>250000000</td>\n",
       "      <td>0.211762</td>\n",
       "      <td>0.000000</td>\n",
       "      <td>0.080683</td>\n",
       "      <td>...</td>\n",
       "      <td>2023-07-02 11:29:00</td>\n",
       "      <td>NaN</td>\n",
       "      <td>NaN</td>\n",
       "      <td>NaN</td>\n",
       "      <td>153.924459</td>\n",
       "      <td>-153.924459</td>\n",
       "      <td>0.123140</td>\n",
       "      <td>0.123140</td>\n",
       "      <td>0.0008</td>\n",
       "      <td>0.001376</td>\n",
       "    </tr>\n",
       "    <tr>\n",
       "      <th>4</th>\n",
       "      <td>0x000010c8a753336d40ca311f0dbc77b33e6de16ed4e8...</td>\n",
       "      <td>13493487</td>\n",
       "      <td>14</td>\n",
       "      <td>110</td>\n",
       "      <td>2023-09-10 12:06:47</td>\n",
       "      <td>373297</td>\n",
       "      <td>250000000</td>\n",
       "      <td>0.151412</td>\n",
       "      <td>0.000000</td>\n",
       "      <td>0.000078</td>\n",
       "      <td>...</td>\n",
       "      <td>2023-09-10 12:06:00</td>\n",
       "      <td>NaN</td>\n",
       "      <td>NaN</td>\n",
       "      <td>NaN</td>\n",
       "      <td>0.125829</td>\n",
       "      <td>-0.125829</td>\n",
       "      <td>0.000101</td>\n",
       "      <td>0.000101</td>\n",
       "      <td>0.0008</td>\n",
       "      <td>1.203312</td>\n",
       "    </tr>\n",
       "  </tbody>\n",
       "</table>\n",
       "<p>5 rows × 26 columns</p>\n",
       "</div>"
      ],
      "text/plain": [
       "                                     transactionHash  blockNumber  \\\n",
       "0  0x000001d446b3b84e0f88600e567c8e1dc53f61ec95a6...     12925913   \n",
       "1  0x0000022e0b6687178061b18a81880da863f8bec729b9...     13632078   \n",
       "2  0x000003c3df29596ed35b103a8d0666bb8afc62a22bfe...      7469199   \n",
       "3  0x000005d05abc90a2fe04c653c9babdd2cfc675312c6b...      7558192   \n",
       "4  0x000010c8a753336d40ca311f0dbc77b33e6de16ed4e8...     13493487   \n",
       "\n",
       "   transactionIndex  logIndex           timestamp  gasUsed  effectiveGasPrice  \\\n",
       "0                 5        31 2023-09-03 19:02:03   414833          250000000   \n",
       "1                 3        16 2023-09-12 03:35:05   463557          250000000   \n",
       "2                 6        49 2023-07-01 10:28:24   550271          250000000   \n",
       "3                 6        35 2023-07-02 11:29:56   442671          250000000   \n",
       "4                14       110 2023-09-10 12:06:47   373297          250000000   \n",
       "\n",
       "     fees_0   amount0In  amount1In  ...           date_hour  CEX_price  \\\n",
       "0  0.169777    0.000000   0.062898  ... 2023-09-03 19:02:00        NaN   \n",
       "1  0.183961    0.000000   0.000072  ... 2023-09-12 03:35:00        NaN   \n",
       "2  0.263672  153.761296   0.000000  ... 2023-07-01 10:28:00        NaN   \n",
       "3  0.211762    0.000000   0.080683  ... 2023-07-02 11:29:00        NaN   \n",
       "4  0.151412    0.000000   0.000078  ... 2023-09-10 12:06:00        NaN   \n",
       "\n",
       "   price_diff  r_price_diff  volume_total_0  balance_total_0  LP_Fee_0  \\\n",
       "0         NaN           NaN      102.659903      -102.659903  0.082128   \n",
       "1         NaN           NaN        0.114170        -0.114170  0.000091   \n",
       "2         NaN           NaN      153.761296       153.761296  0.123009   \n",
       "3         NaN           NaN      153.924459      -153.924459  0.123140   \n",
       "4         NaN           NaN        0.125829        -0.125829  0.000101   \n",
       "\n",
       "   LP_Fee_total_0  LP_fee_p    fees_p  \n",
       "0        0.082128    0.0008  0.001654  \n",
       "1        0.000091    0.0008  1.611288  \n",
       "2        0.123009    0.0008  0.001715  \n",
       "3        0.123140    0.0008  0.001376  \n",
       "4        0.000101    0.0008  1.203312  \n",
       "\n",
       "[5 rows x 26 columns]"
      ]
     },
     "execution_count": 15,
     "metadata": {},
     "output_type": "execute_result"
    }
   ],
   "source": [
    "# Converting gas fees\n",
    "\n",
    "if (token0 == 'ETH') :\n",
    "    swap_df.rename(columns={'fees': 'fees_0'}, inplace=True)\n",
    "\n",
    "if token1 == 'ETH':\n",
    "    # Update fees column based on conditions without iterating\n",
    "    swap_df['fees'] = swap_df['fees'].where(pd.notna(swap_df['CEX_price']), swap_df['spot_price'] * swap_df['fees'])\n",
    "    swap_df['fees'] = swap_df['fees'].where(pd.isna(swap_df['CEX_price']), swap_df['CEX_price'] * swap_df['fees'])\n",
    "    \n",
    "    # Rename the 'fees' column to 'fees_0'\n",
    "    swap_df.rename(columns={'fees': 'fees_0'}, inplace=True)\n",
    "\n",
    "swap_df['fees_p'] = swap_df['fees_0'] / swap_df['volume_total_0']\n",
    "\n",
    "swap_df.head()"
   ]
  },
  {
   "cell_type": "code",
   "execution_count": 16,
   "metadata": {},
   "outputs": [],
   "source": [
    "#volume can be positive or negative, -> then implied slippage (the imbalance) -> descirbe more in the discussion part of the paper\n",
    "    #also total sum withing a block\n",
    "\n",
    "# Group by blockNumber and sort by transactionIndex within each group\n",
    "swap_df.sort_values(by=['blockNumber', 'transactionIndex'], inplace=True)\n",
    "\n",
    "# Calculationg BlockSlippage\n",
    "swap_df['block_slippage_0'] = np.full(len(swap_df), 0)\n",
    "\n",
    "# Calculate block slippage within each block using vectorized operations\n",
    "swap_df['block_slippage_0'] = swap_df.groupby('blockNumber')['balance_total_0'].cumsum()\n",
    "\n",
    "# Subtract balance_total_0 from block_slippage_0 directly\n",
    "swap_df['block_slippage_0'] -= swap_df['balance_total_0']\n",
    "\n",
    "#swap_df.head()"
   ]
  },
  {
   "cell_type": "code",
   "execution_count": 17,
   "metadata": {},
   "outputs": [
    {
     "data": {
      "text/html": [
       "<div>\n",
       "<style scoped>\n",
       "    .dataframe tbody tr th:only-of-type {\n",
       "        vertical-align: middle;\n",
       "    }\n",
       "\n",
       "    .dataframe tbody tr th {\n",
       "        vertical-align: top;\n",
       "    }\n",
       "\n",
       "    .dataframe thead th {\n",
       "        text-align: right;\n",
       "    }\n",
       "</style>\n",
       "<table border=\"1\" class=\"dataframe\">\n",
       "  <thead>\n",
       "    <tr style=\"text-align: right;\">\n",
       "      <th></th>\n",
       "      <th>transactionHash</th>\n",
       "      <th>blockNumber</th>\n",
       "      <th>transactionIndex</th>\n",
       "      <th>logIndex</th>\n",
       "      <th>timestamp</th>\n",
       "      <th>gasUsed</th>\n",
       "      <th>effectiveGasPrice</th>\n",
       "      <th>fees_0</th>\n",
       "      <th>amount0In</th>\n",
       "      <th>amount1In</th>\n",
       "      <th>...</th>\n",
       "      <th>CEX_price</th>\n",
       "      <th>price_diff</th>\n",
       "      <th>r_price_diff</th>\n",
       "      <th>volume_total_0</th>\n",
       "      <th>balance_total_0</th>\n",
       "      <th>LP_Fee_0</th>\n",
       "      <th>LP_Fee_total_0</th>\n",
       "      <th>LP_fee_p</th>\n",
       "      <th>fees_p</th>\n",
       "      <th>block_slippage_0</th>\n",
       "    </tr>\n",
       "  </thead>\n",
       "  <tbody>\n",
       "    <tr>\n",
       "      <th>434855</th>\n",
       "      <td>0x12c78e51e635507feef938b41a709dec0b589a51ab4e...</td>\n",
       "      <td>9805213</td>\n",
       "      <td>1</td>\n",
       "      <td>6</td>\n",
       "      <td>2023-07-28 23:30:55</td>\n",
       "      <td>414271</td>\n",
       "      <td>250000000</td>\n",
       "      <td>0.194701</td>\n",
       "      <td>0.0</td>\n",
       "      <td>0.000018</td>\n",
       "      <td>...</td>\n",
       "      <td>NaN</td>\n",
       "      <td>NaN</td>\n",
       "      <td>NaN</td>\n",
       "      <td>0.033381</td>\n",
       "      <td>-0.033381</td>\n",
       "      <td>0.000027</td>\n",
       "      <td>0.000027</td>\n",
       "      <td>0.0008</td>\n",
       "      <td>5.832693</td>\n",
       "      <td>0.0</td>\n",
       "    </tr>\n",
       "  </tbody>\n",
       "</table>\n",
       "<p>1 rows × 27 columns</p>\n",
       "</div>"
      ],
      "text/plain": [
       "                                          transactionHash  blockNumber  \\\n",
       "434855  0x12c78e51e635507feef938b41a709dec0b589a51ab4e...      9805213   \n",
       "\n",
       "        transactionIndex  logIndex           timestamp  gasUsed  \\\n",
       "434855                 1         6 2023-07-28 23:30:55   414271   \n",
       "\n",
       "        effectiveGasPrice    fees_0  amount0In  amount1In  ...  CEX_price  \\\n",
       "434855          250000000  0.194701        0.0   0.000018  ...        NaN   \n",
       "\n",
       "        price_diff  r_price_diff  volume_total_0  balance_total_0  LP_Fee_0  \\\n",
       "434855         NaN           NaN        0.033381        -0.033381  0.000027   \n",
       "\n",
       "       LP_Fee_total_0  LP_fee_p    fees_p  block_slippage_0  \n",
       "434855       0.000027    0.0008  5.832693               0.0  \n",
       "\n",
       "[1 rows x 27 columns]"
      ]
     },
     "execution_count": 17,
     "metadata": {},
     "output_type": "execute_result"
    }
   ],
   "source": [
    "#swap_df[swap_df['block_slippage_0'] > 100]\n",
    "swap_df[swap_df['blockNumber'] == 9805213]\n",
    "\n"
   ]
  },
  {
   "cell_type": "code",
   "execution_count": 18,
   "metadata": {},
   "outputs": [],
   "source": [
    "swap_df.to_csv(export_dir + f'swaps_{token0}_{token1}_{exchange_name}.csv')"
   ]
  },
  {
   "cell_type": "markdown",
   "metadata": {},
   "source": []
  },
  {
   "cell_type": "code",
   "execution_count": 19,
   "metadata": {},
   "outputs": [
    {
     "data": {
      "text/html": [
       "<div>\n",
       "<style scoped>\n",
       "    .dataframe tbody tr th:only-of-type {\n",
       "        vertical-align: middle;\n",
       "    }\n",
       "\n",
       "    .dataframe tbody tr th {\n",
       "        vertical-align: top;\n",
       "    }\n",
       "\n",
       "    .dataframe thead th {\n",
       "        text-align: right;\n",
       "    }\n",
       "</style>\n",
       "<table border=\"1\" class=\"dataframe\">\n",
       "  <thead>\n",
       "    <tr style=\"text-align: right;\">\n",
       "      <th></th>\n",
       "      <th>volume_total_0</th>\n",
       "      <th>LP_Fee_total_0</th>\n",
       "      <th>block_slippage_total_0</th>\n",
       "      <th>price_diff</th>\n",
       "      <th>volume_avg_1m_0</th>\n",
       "      <th>fees_avg_1m_0</th>\n",
       "      <th>fees_total_0</th>\n",
       "      <th>block_slippage_avg_1m_0</th>\n",
       "      <th>swap_count_1m</th>\n",
       "      <th>reserve_0</th>\n",
       "      <th>reserve_1</th>\n",
       "      <th>spot_price</th>\n",
       "      <th>CEX_price</th>\n",
       "      <th>fees_0</th>\n",
       "      <th>LP_Fee_0</th>\n",
       "      <th>block_slippage_0</th>\n",
       "      <th>transactionHash</th>\n",
       "    </tr>\n",
       "    <tr>\n",
       "      <th>timestamp</th>\n",
       "      <th></th>\n",
       "      <th></th>\n",
       "      <th></th>\n",
       "      <th></th>\n",
       "      <th></th>\n",
       "      <th></th>\n",
       "      <th></th>\n",
       "      <th></th>\n",
       "      <th></th>\n",
       "      <th></th>\n",
       "      <th></th>\n",
       "      <th></th>\n",
       "      <th></th>\n",
       "      <th></th>\n",
       "      <th></th>\n",
       "      <th></th>\n",
       "      <th></th>\n",
       "    </tr>\n",
       "  </thead>\n",
       "  <tbody>\n",
       "    <tr>\n",
       "      <th>2023-07-01 00:07:00</th>\n",
       "      <td>4497.988040</td>\n",
       "      <td>3.598390</td>\n",
       "      <td>174.213884</td>\n",
       "      <td>0.004178</td>\n",
       "      <td>204.454002</td>\n",
       "      <td>0.206483</td>\n",
       "      <td>4.542633</td>\n",
       "      <td>7.918813</td>\n",
       "      <td>22</td>\n",
       "      <td>2.903758e+07</td>\n",
       "      <td>15037.359822</td>\n",
       "      <td>1931.028978</td>\n",
       "      <td>1939.13</td>\n",
       "      <td>0.189071</td>\n",
       "      <td>0.021097</td>\n",
       "      <td>0.000000</td>\n",
       "      <td>0xdd291d7c18826a4f6db01e0759c683c826f713a0e13d...</td>\n",
       "    </tr>\n",
       "    <tr>\n",
       "      <th>2023-07-01 00:10:00</th>\n",
       "      <td>4088.250413</td>\n",
       "      <td>3.270600</td>\n",
       "      <td>-20.613542</td>\n",
       "      <td>0.004240</td>\n",
       "      <td>151.416682</td>\n",
       "      <td>0.237910</td>\n",
       "      <td>6.423564</td>\n",
       "      <td>-0.763465</td>\n",
       "      <td>27</td>\n",
       "      <td>2.903987e+07</td>\n",
       "      <td>15039.491469</td>\n",
       "      <td>1930.907805</td>\n",
       "      <td>1939.13</td>\n",
       "      <td>0.506861</td>\n",
       "      <td>0.047011</td>\n",
       "      <td>0.000000</td>\n",
       "      <td>0x9972087952fa90131377e32216763bf75a21e5eb8890...</td>\n",
       "    </tr>\n",
       "    <tr>\n",
       "      <th>2023-07-01 00:11:00</th>\n",
       "      <td>5729.658562</td>\n",
       "      <td>4.583727</td>\n",
       "      <td>-88.287348</td>\n",
       "      <td>0.004521</td>\n",
       "      <td>184.827696</td>\n",
       "      <td>0.222379</td>\n",
       "      <td>6.893738</td>\n",
       "      <td>-2.847979</td>\n",
       "      <td>31</td>\n",
       "      <td>2.903524e+07</td>\n",
       "      <td>15041.252550</td>\n",
       "      <td>1930.373502</td>\n",
       "      <td>1939.14</td>\n",
       "      <td>0.222904</td>\n",
       "      <td>0.415717</td>\n",
       "      <td>0.000000</td>\n",
       "      <td>0x8ec53017652ae4e2e30c46e8d4a42850a4031574b08d...</td>\n",
       "    </tr>\n",
       "    <tr>\n",
       "      <th>2023-07-01 00:25:00</th>\n",
       "      <td>4001.173191</td>\n",
       "      <td>3.200939</td>\n",
       "      <td>1614.288565</td>\n",
       "      <td>0.005744</td>\n",
       "      <td>121.247672</td>\n",
       "      <td>0.229112</td>\n",
       "      <td>7.560694</td>\n",
       "      <td>48.917835</td>\n",
       "      <td>33</td>\n",
       "      <td>2.902163e+07</td>\n",
       "      <td>15052.785150</td>\n",
       "      <td>1927.990746</td>\n",
       "      <td>1939.13</td>\n",
       "      <td>0.246983</td>\n",
       "      <td>0.015685</td>\n",
       "      <td>0.000000</td>\n",
       "      <td>0x9682d5803f07c5ece249d14b179a1db715be4768f22f...</td>\n",
       "    </tr>\n",
       "    <tr>\n",
       "      <th>2023-07-01 00:28:00</th>\n",
       "      <td>15689.728449</td>\n",
       "      <td>12.551783</td>\n",
       "      <td>10709.786389</td>\n",
       "      <td>0.004589</td>\n",
       "      <td>475.446317</td>\n",
       "      <td>0.229468</td>\n",
       "      <td>7.572435</td>\n",
       "      <td>324.538981</td>\n",
       "      <td>33</td>\n",
       "      <td>2.903656e+07</td>\n",
       "      <td>15042.978437</td>\n",
       "      <td>1930.240376</td>\n",
       "      <td>1939.14</td>\n",
       "      <td>0.223189</td>\n",
       "      <td>0.003079</td>\n",
       "      <td>-873.726743</td>\n",
       "      <td>0x967cbd475bd0b4dfac2a726722c3114d20693ad27ba2...</td>\n",
       "    </tr>\n",
       "  </tbody>\n",
       "</table>\n",
       "</div>"
      ],
      "text/plain": [
       "                     volume_total_0  LP_Fee_total_0  block_slippage_total_0  \\\n",
       "timestamp                                                                     \n",
       "2023-07-01 00:07:00     4497.988040        3.598390              174.213884   \n",
       "2023-07-01 00:10:00     4088.250413        3.270600              -20.613542   \n",
       "2023-07-01 00:11:00     5729.658562        4.583727              -88.287348   \n",
       "2023-07-01 00:25:00     4001.173191        3.200939             1614.288565   \n",
       "2023-07-01 00:28:00    15689.728449       12.551783            10709.786389   \n",
       "\n",
       "                     price_diff  volume_avg_1m_0  fees_avg_1m_0  fees_total_0  \\\n",
       "timestamp                                                                       \n",
       "2023-07-01 00:07:00    0.004178       204.454002       0.206483      4.542633   \n",
       "2023-07-01 00:10:00    0.004240       151.416682       0.237910      6.423564   \n",
       "2023-07-01 00:11:00    0.004521       184.827696       0.222379      6.893738   \n",
       "2023-07-01 00:25:00    0.005744       121.247672       0.229112      7.560694   \n",
       "2023-07-01 00:28:00    0.004589       475.446317       0.229468      7.572435   \n",
       "\n",
       "                     block_slippage_avg_1m_0  swap_count_1m     reserve_0  \\\n",
       "timestamp                                                                   \n",
       "2023-07-01 00:07:00                 7.918813             22  2.903758e+07   \n",
       "2023-07-01 00:10:00                -0.763465             27  2.903987e+07   \n",
       "2023-07-01 00:11:00                -2.847979             31  2.903524e+07   \n",
       "2023-07-01 00:25:00                48.917835             33  2.902163e+07   \n",
       "2023-07-01 00:28:00               324.538981             33  2.903656e+07   \n",
       "\n",
       "                        reserve_1   spot_price  CEX_price    fees_0  LP_Fee_0  \\\n",
       "timestamp                                                                       \n",
       "2023-07-01 00:07:00  15037.359822  1931.028978    1939.13  0.189071  0.021097   \n",
       "2023-07-01 00:10:00  15039.491469  1930.907805    1939.13  0.506861  0.047011   \n",
       "2023-07-01 00:11:00  15041.252550  1930.373502    1939.14  0.222904  0.415717   \n",
       "2023-07-01 00:25:00  15052.785150  1927.990746    1939.13  0.246983  0.015685   \n",
       "2023-07-01 00:28:00  15042.978437  1930.240376    1939.14  0.223189  0.003079   \n",
       "\n",
       "                     block_slippage_0  \\\n",
       "timestamp                               \n",
       "2023-07-01 00:07:00          0.000000   \n",
       "2023-07-01 00:10:00          0.000000   \n",
       "2023-07-01 00:11:00          0.000000   \n",
       "2023-07-01 00:25:00          0.000000   \n",
       "2023-07-01 00:28:00       -873.726743   \n",
       "\n",
       "                                                       transactionHash  \n",
       "timestamp                                                               \n",
       "2023-07-01 00:07:00  0xdd291d7c18826a4f6db01e0759c683c826f713a0e13d...  \n",
       "2023-07-01 00:10:00  0x9972087952fa90131377e32216763bf75a21e5eb8890...  \n",
       "2023-07-01 00:11:00  0x8ec53017652ae4e2e30c46e8d4a42850a4031574b08d...  \n",
       "2023-07-01 00:25:00  0x9682d5803f07c5ece249d14b179a1db715be4768f22f...  \n",
       "2023-07-01 00:28:00  0x967cbd475bd0b4dfac2a726722c3114d20693ad27ba2...  "
      ]
     },
     "execution_count": 19,
     "metadata": {},
     "output_type": "execute_result"
    }
   ],
   "source": [
    "# Finding max price diff per minute or hour\n",
    "\n",
    "swap_df['block_slippage_total_0'] = swap_df['block_slippage_0']\n",
    "swap_df['block_slippage_avg_1m_0'] = swap_df['block_slippage_0']\n",
    "swap_df['volume_avg_1m_0'] = swap_df['volume_total_0']\n",
    "swap_df['fees_avg_1m_0'] = swap_df['fees_0']\n",
    "swap_df['fees_total_0'] = swap_df['fees_0']\n",
    "swap_df['swap_count_1m'] = np.full(len(swap_df), 1)\n",
    "\n",
    "#agg_dic = dict(volume_total_0='sum', price_diff='max')\n",
    "agg_dic = dict(volume_total_0='sum', LP_Fee_total_0 = 'sum', block_slippage_total_0 = 'sum', price_diff='last', volume_avg_1m_0='mean', fees_avg_1m_0='mean', fees_total_0 = 'sum', block_slippage_avg_1m_0='mean', swap_count_1m = 'count')\n",
    "\n",
    "\n",
    "swap_df.set_index('timestamp', inplace=True)\n",
    "df_per_freq = swap_df.resample(frequency).agg(agg_dic).dropna(subset=['price_diff'])\n",
    "\n",
    "# Reset index to make 'timestamp' a column again\n",
    "df_per_freq.reset_index(inplace=True)\n",
    "\n",
    "# Merge based on 'price_diff' and keep 'timestamp' as index\n",
    "df_per_freq = pd.merge(df_per_freq, swap_df[['price_diff', 'reserve_0', 'reserve_1', 'spot_price', 'CEX_price', 'fees_0', 'LP_Fee_0', 'block_slippage_0', 'transactionHash']],    \n",
    "                       how='left', left_on='price_diff', right_on='price_diff')\n",
    "\n",
    "# Set 'timestamp' as index\n",
    "df_per_freq.set_index('timestamp', inplace=True)\n",
    "\n",
    "\n",
    "df_per_freq.head()\n"
   ]
  },
  {
   "cell_type": "code",
   "execution_count": 20,
   "metadata": {},
   "outputs": [
    {
     "data": {
      "text/html": [
       "<div>\n",
       "<style scoped>\n",
       "    .dataframe tbody tr th:only-of-type {\n",
       "        vertical-align: middle;\n",
       "    }\n",
       "\n",
       "    .dataframe tbody tr th {\n",
       "        vertical-align: top;\n",
       "    }\n",
       "\n",
       "    .dataframe thead th {\n",
       "        text-align: right;\n",
       "    }\n",
       "</style>\n",
       "<table border=\"1\" class=\"dataframe\">\n",
       "  <thead>\n",
       "    <tr style=\"text-align: right;\">\n",
       "      <th></th>\n",
       "      <th>volume_total_0</th>\n",
       "      <th>LP_Fee_total_0</th>\n",
       "      <th>block_slippage_total_0</th>\n",
       "      <th>price_diff</th>\n",
       "      <th>volume_avg_1m_0</th>\n",
       "      <th>fees_avg_1m_0</th>\n",
       "      <th>fees_total_0</th>\n",
       "      <th>block_slippage_avg_1m_0</th>\n",
       "      <th>swap_count_1m</th>\n",
       "      <th>reserve_0</th>\n",
       "      <th>...</th>\n",
       "      <th>CEX_price</th>\n",
       "      <th>fees_0</th>\n",
       "      <th>LP_Fee_0</th>\n",
       "      <th>block_slippage_0</th>\n",
       "      <th>transactionHash</th>\n",
       "      <th>MAV_0</th>\n",
       "      <th>V_max_1</th>\n",
       "      <th>V_max_0</th>\n",
       "      <th>reserve_total_0</th>\n",
       "      <th>LP_fee_MAV_0</th>\n",
       "    </tr>\n",
       "    <tr>\n",
       "      <th>timestamp</th>\n",
       "      <th></th>\n",
       "      <th></th>\n",
       "      <th></th>\n",
       "      <th></th>\n",
       "      <th></th>\n",
       "      <th></th>\n",
       "      <th></th>\n",
       "      <th></th>\n",
       "      <th></th>\n",
       "      <th></th>\n",
       "      <th></th>\n",
       "      <th></th>\n",
       "      <th></th>\n",
       "      <th></th>\n",
       "      <th></th>\n",
       "      <th></th>\n",
       "      <th></th>\n",
       "      <th></th>\n",
       "      <th></th>\n",
       "      <th></th>\n",
       "      <th></th>\n",
       "    </tr>\n",
       "  </thead>\n",
       "  <tbody>\n",
       "    <tr>\n",
       "      <th>2023-07-01 00:07:00</th>\n",
       "      <td>4497.988040</td>\n",
       "      <td>3.598390</td>\n",
       "      <td>174.213884</td>\n",
       "      <td>0.004178</td>\n",
       "      <td>204.454002</td>\n",
       "      <td>0.206483</td>\n",
       "      <td>4.542633</td>\n",
       "      <td>7.918813</td>\n",
       "      <td>22</td>\n",
       "      <td>2.903758e+07</td>\n",
       "      <td>...</td>\n",
       "      <td>1939.13</td>\n",
       "      <td>0.189071</td>\n",
       "      <td>0.021097</td>\n",
       "      <td>0.000000</td>\n",
       "      <td>0xdd291d7c18826a4f6db01e0759c683c826f713a0e13d...</td>\n",
       "      <td>127.762201</td>\n",
       "      <td>31.542244</td>\n",
       "      <td>60908.988147</td>\n",
       "      <td>5.807516e+07</td>\n",
       "      <td>48.727191</td>\n",
       "    </tr>\n",
       "    <tr>\n",
       "      <th>2023-07-01 00:10:00</th>\n",
       "      <td>4088.250413</td>\n",
       "      <td>3.270600</td>\n",
       "      <td>-20.613542</td>\n",
       "      <td>0.004240</td>\n",
       "      <td>151.416682</td>\n",
       "      <td>0.237910</td>\n",
       "      <td>6.423564</td>\n",
       "      <td>-0.763465</td>\n",
       "      <td>27</td>\n",
       "      <td>2.903987e+07</td>\n",
       "      <td>...</td>\n",
       "      <td>1939.13</td>\n",
       "      <td>0.506861</td>\n",
       "      <td>0.047011</td>\n",
       "      <td>0.000000</td>\n",
       "      <td>0x9972087952fa90131377e32216763bf75a21e5eb8890...</td>\n",
       "      <td>131.639795</td>\n",
       "      <td>32.020596</td>\n",
       "      <td>61828.817883</td>\n",
       "      <td>5.807974e+07</td>\n",
       "      <td>49.463054</td>\n",
       "    </tr>\n",
       "    <tr>\n",
       "      <th>2023-07-01 00:11:00</th>\n",
       "      <td>5729.658562</td>\n",
       "      <td>4.583727</td>\n",
       "      <td>-88.287348</td>\n",
       "      <td>0.004521</td>\n",
       "      <td>184.827696</td>\n",
       "      <td>0.222379</td>\n",
       "      <td>6.893738</td>\n",
       "      <td>-2.847979</td>\n",
       "      <td>31</td>\n",
       "      <td>2.903524e+07</td>\n",
       "      <td>...</td>\n",
       "      <td>1939.14</td>\n",
       "      <td>0.222904</td>\n",
       "      <td>0.415717</td>\n",
       "      <td>0.000000</td>\n",
       "      <td>0x8ec53017652ae4e2e30c46e8d4a42850a4031574b08d...</td>\n",
       "      <td>149.704517</td>\n",
       "      <td>34.153780</td>\n",
       "      <td>65929.552447</td>\n",
       "      <td>5.807047e+07</td>\n",
       "      <td>52.743642</td>\n",
       "    </tr>\n",
       "    <tr>\n",
       "      <th>2023-07-01 00:25:00</th>\n",
       "      <td>4001.173191</td>\n",
       "      <td>3.200939</td>\n",
       "      <td>1614.288565</td>\n",
       "      <td>0.005744</td>\n",
       "      <td>121.247672</td>\n",
       "      <td>0.229112</td>\n",
       "      <td>7.560694</td>\n",
       "      <td>48.917835</td>\n",
       "      <td>33</td>\n",
       "      <td>2.902163e+07</td>\n",
       "      <td>...</td>\n",
       "      <td>1939.13</td>\n",
       "      <td>0.246983</td>\n",
       "      <td>0.015685</td>\n",
       "      <td>0.000000</td>\n",
       "      <td>0x9682d5803f07c5ece249d14b179a1db715be4768f22f...</td>\n",
       "      <td>242.194417</td>\n",
       "      <td>43.484855</td>\n",
       "      <td>83838.397443</td>\n",
       "      <td>5.804326e+07</td>\n",
       "      <td>67.070718</td>\n",
       "    </tr>\n",
       "    <tr>\n",
       "      <th>2023-07-01 00:28:00</th>\n",
       "      <td>15689.728449</td>\n",
       "      <td>12.551783</td>\n",
       "      <td>10709.786389</td>\n",
       "      <td>0.004589</td>\n",
       "      <td>475.446317</td>\n",
       "      <td>0.229468</td>\n",
       "      <td>7.572435</td>\n",
       "      <td>324.538981</td>\n",
       "      <td>33</td>\n",
       "      <td>2.903656e+07</td>\n",
       "      <td>...</td>\n",
       "      <td>1939.14</td>\n",
       "      <td>0.223189</td>\n",
       "      <td>0.003079</td>\n",
       "      <td>-873.726743</td>\n",
       "      <td>0x967cbd475bd0b4dfac2a726722c3114d20693ad27ba2...</td>\n",
       "      <td>154.314158</td>\n",
       "      <td>34.678804</td>\n",
       "      <td>66938.426848</td>\n",
       "      <td>5.807313e+07</td>\n",
       "      <td>53.550741</td>\n",
       "    </tr>\n",
       "  </tbody>\n",
       "</table>\n",
       "<p>5 rows × 22 columns</p>\n",
       "</div>"
      ],
      "text/plain": [
       "                     volume_total_0  LP_Fee_total_0  block_slippage_total_0  \\\n",
       "timestamp                                                                     \n",
       "2023-07-01 00:07:00     4497.988040        3.598390              174.213884   \n",
       "2023-07-01 00:10:00     4088.250413        3.270600              -20.613542   \n",
       "2023-07-01 00:11:00     5729.658562        4.583727              -88.287348   \n",
       "2023-07-01 00:25:00     4001.173191        3.200939             1614.288565   \n",
       "2023-07-01 00:28:00    15689.728449       12.551783            10709.786389   \n",
       "\n",
       "                     price_diff  volume_avg_1m_0  fees_avg_1m_0  fees_total_0  \\\n",
       "timestamp                                                                       \n",
       "2023-07-01 00:07:00    0.004178       204.454002       0.206483      4.542633   \n",
       "2023-07-01 00:10:00    0.004240       151.416682       0.237910      6.423564   \n",
       "2023-07-01 00:11:00    0.004521       184.827696       0.222379      6.893738   \n",
       "2023-07-01 00:25:00    0.005744       121.247672       0.229112      7.560694   \n",
       "2023-07-01 00:28:00    0.004589       475.446317       0.229468      7.572435   \n",
       "\n",
       "                     block_slippage_avg_1m_0  swap_count_1m     reserve_0  \\\n",
       "timestamp                                                                   \n",
       "2023-07-01 00:07:00                 7.918813             22  2.903758e+07   \n",
       "2023-07-01 00:10:00                -0.763465             27  2.903987e+07   \n",
       "2023-07-01 00:11:00                -2.847979             31  2.903524e+07   \n",
       "2023-07-01 00:25:00                48.917835             33  2.902163e+07   \n",
       "2023-07-01 00:28:00               324.538981             33  2.903656e+07   \n",
       "\n",
       "                     ...  CEX_price    fees_0  LP_Fee_0  block_slippage_0  \\\n",
       "timestamp            ...                                                    \n",
       "2023-07-01 00:07:00  ...    1939.13  0.189071  0.021097          0.000000   \n",
       "2023-07-01 00:10:00  ...    1939.13  0.506861  0.047011          0.000000   \n",
       "2023-07-01 00:11:00  ...    1939.14  0.222904  0.415717          0.000000   \n",
       "2023-07-01 00:25:00  ...    1939.13  0.246983  0.015685          0.000000   \n",
       "2023-07-01 00:28:00  ...    1939.14  0.223189  0.003079       -873.726743   \n",
       "\n",
       "                                                       transactionHash  \\\n",
       "timestamp                                                                \n",
       "2023-07-01 00:07:00  0xdd291d7c18826a4f6db01e0759c683c826f713a0e13d...   \n",
       "2023-07-01 00:10:00  0x9972087952fa90131377e32216763bf75a21e5eb8890...   \n",
       "2023-07-01 00:11:00  0x8ec53017652ae4e2e30c46e8d4a42850a4031574b08d...   \n",
       "2023-07-01 00:25:00  0x9682d5803f07c5ece249d14b179a1db715be4768f22f...   \n",
       "2023-07-01 00:28:00  0x967cbd475bd0b4dfac2a726722c3114d20693ad27ba2...   \n",
       "\n",
       "                          MAV_0    V_max_1       V_max_0  reserve_total_0  \\\n",
       "timestamp                                                                   \n",
       "2023-07-01 00:07:00  127.762201  31.542244  60908.988147     5.807516e+07   \n",
       "2023-07-01 00:10:00  131.639795  32.020596  61828.817883     5.807974e+07   \n",
       "2023-07-01 00:11:00  149.704517  34.153780  65929.552447     5.807047e+07   \n",
       "2023-07-01 00:25:00  242.194417  43.484855  83838.397443     5.804326e+07   \n",
       "2023-07-01 00:28:00  154.314158  34.678804  66938.426848     5.807313e+07   \n",
       "\n",
       "                     LP_fee_MAV_0  \n",
       "timestamp                          \n",
       "2023-07-01 00:07:00     48.727191  \n",
       "2023-07-01 00:10:00     49.463054  \n",
       "2023-07-01 00:11:00     52.743642  \n",
       "2023-07-01 00:25:00     67.070718  \n",
       "2023-07-01 00:28:00     53.550741  \n",
       "\n",
       "[5 rows x 22 columns]"
      ]
     },
     "execution_count": 20,
     "metadata": {},
     "output_type": "execute_result"
    }
   ],
   "source": [
    "#calulating MAV_0, V_max_0, reserve_total_0, LP_fee_0\n",
    "\n",
    "df_per_freq = calculate_metrics(df_per_freq)\n",
    "df_per_freq['LP_fee_MAV_0'] = df_per_freq['V_max_0'] * fee / 10000\n",
    "df_per_freq.head()\n"
   ]
  },
  {
   "cell_type": "code",
   "execution_count": 21,
   "metadata": {},
   "outputs": [
    {
     "name": "stdout",
     "output_type": "stream",
     "text": [
      "threshold: 0.003193655993413677\n"
     ]
    }
   ],
   "source": [
    "#calculate threshold for max MAV as  Q3 + 1.5 IQR\n",
    "\n",
    "data = df_per_freq['price_diff'].dropna()\n",
    "\n",
    "# Calculate Q1 (25th percentile)\n",
    "Q1 = np.percentile(data, 25)\n",
    "\n",
    "# Calculate Q3 (75th percentile)\n",
    "Q3 = np.percentile(data, 75)\n",
    "\n",
    "# Calculate the interquartile range (IQR)\n",
    "IQR = Q3 - Q1\n",
    "\n",
    "threshold = Q3 #+ 1.5 * IQR\n",
    "print(\"threshold:\", threshold)\n",
    "\n",
    "\n",
    "del(data)"
   ]
  },
  {
   "cell_type": "code",
   "execution_count": 22,
   "metadata": {},
   "outputs": [
    {
     "data": {
      "text/plain": [
       "Index(['volume_total_0', 'LP_Fee_total_0', 'block_slippage_total_0',\n",
       "       'price_diff', 'volume_avg_1m_0', 'fees_avg_1m_0', 'fees_total_0',\n",
       "       'block_slippage_avg_1m_0', 'swap_count_1m', 'reserve_0', 'reserve_1',\n",
       "       'spot_price', 'CEX_price', 'fees_0', 'LP_Fee_0', 'block_slippage_0',\n",
       "       'transactionHash', 'MAV_0', 'V_max_1', 'V_max_0', 'reserve_total_0',\n",
       "       'LP_fee_MAV_0'],\n",
       "      dtype='object')"
      ]
     },
     "execution_count": 22,
     "metadata": {},
     "output_type": "execute_result"
    }
   ],
   "source": [
    "df_per_freq.columns"
   ]
  },
  {
   "cell_type": "code",
   "execution_count": 23,
   "metadata": {},
   "outputs": [
    {
     "name": "stderr",
     "output_type": "stream",
     "text": [
      "/var/folders/y_/27jchs_x56gfpv07wkchjxj40000gn/T/ipykernel_3851/4220668361.py:33: FutureWarning: Setting an item of incompatible dtype is deprecated and will raise in a future error of pandas. Value '127.76220149793653' has dtype incompatible with int64, please explicitly cast to a compatible dtype first.\n",
      "  df_per_freq.at[i,'max_MAV_0'] = mav_MAX\n",
      "/var/folders/y_/27jchs_x56gfpv07wkchjxj40000gn/T/ipykernel_3851/4220668361.py:36: FutureWarning: Setting an item of incompatible dtype is deprecated and will raise in a future error of pandas. Value '174.213884' has dtype incompatible with int64, please explicitly cast to a compatible dtype first.\n",
      "  df_per_freq.at[i,'block_slippage_sum_upto_max_MAV_0'] = block_slippage_sum_upto_max_MAV_0\n",
      "/var/folders/y_/27jchs_x56gfpv07wkchjxj40000gn/T/ipykernel_3851/4220668361.py:37: FutureWarning: Setting an item of incompatible dtype is deprecated and will raise in a future error of pandas. Value '4497.98804' has dtype incompatible with int64, please explicitly cast to a compatible dtype first.\n",
      "  df_per_freq.at[i,'volume_sum_upto_max_MAV_0'] = volume_sum_upto_max_MAV_0\n",
      "/var/folders/y_/27jchs_x56gfpv07wkchjxj40000gn/T/ipykernel_3851/4220668361.py:38: FutureWarning: Setting an item of incompatible dtype is deprecated and will raise in a future error of pandas. Value '4.5426326010375' has dtype incompatible with int64, please explicitly cast to a compatible dtype first.\n",
      "  df_per_freq.at[i,'fees_sum_upto_max_MAV_0'] = fees_sum_upto_max_MAV_0\n"
     ]
    }
   ],
   "source": [
    "#calcualte max MAV in the period and decay factor\n",
    "mav_MAX = 0\n",
    "i_max = pd.Timestamp(0)\n",
    "decay = 0\n",
    "max_decay = 0\n",
    "\n",
    "block_slippage_sum_upto_max_MAV_0= 0\n",
    "volume_sum_upto_max_MAV_0= 0\n",
    "fees_sum_upto_max_MAV_0 = 0\n",
    "swap_count = 0\n",
    "\n",
    "\n",
    "df_per_freq['max_MAV_0'] = np.full(len(df_per_freq), 0)\n",
    "df_per_freq['decay'] = np.full(len(df_per_freq), 0)\n",
    "df_per_freq['max_decay'] = np.full(len(df_per_freq), 0)\n",
    "\n",
    "df_per_freq['swap_count_upto_max_MAV'] = np.full(len(df_per_freq), 0)\n",
    "df_per_freq['block_slippage_sum_upto_max_MAV_0'] = np.full(len(df_per_freq), 0)\n",
    "df_per_freq['volume_sum_upto_max_MAV_0'] = np.full(len(df_per_freq), 0)\n",
    "df_per_freq['fees_sum_upto_max_MAV_0'] = np.full(len(df_per_freq), 0)\n",
    "\n",
    "\n",
    "for i, row in df_per_freq.iterrows():\n",
    "    if row['price_diff'] > threshold:\n",
    "        \n",
    "        swap_count += row['swap_count_1m']\n",
    "        block_slippage_sum_upto_max_MAV_0 += row['block_slippage_total_0']\n",
    "        volume_sum_upto_max_MAV_0 += row['volume_total_0']\n",
    "        fees_sum_upto_max_MAV_0 += row['fees_total_0']\n",
    "\n",
    "        if row['MAV_0'] > mav_MAX:\n",
    "            mav_MAX = row['MAV_0']\n",
    "            df_per_freq.at[i,'max_MAV_0'] = mav_MAX\n",
    "\n",
    "            df_per_freq.at[i,'swap_count_upto_max_MAV'] = swap_count\n",
    "            df_per_freq.at[i,'block_slippage_sum_upto_max_MAV_0'] = block_slippage_sum_upto_max_MAV_0\n",
    "            df_per_freq.at[i,'volume_sum_upto_max_MAV_0'] = volume_sum_upto_max_MAV_0\n",
    "            df_per_freq.at[i,'fees_sum_upto_max_MAV_0'] = fees_sum_upto_max_MAV_0\n",
    "\n",
    "\n",
    "            if (i_max != pd.Timestamp(0)) :\n",
    "                df_per_freq.at[i_max, 'max_MAV_0'] = 0\n",
    "                df_per_freq.at[i_max, 'max_decay'] = 0\n",
    "\n",
    "                df_per_freq.at[i_max, 'swap_count_upto_max_MAV'] = 0\n",
    "                df_per_freq.at[i_max, 'block_slippage_sum_upto_max_MAV_0'] = 0\n",
    "                df_per_freq.at[i_max, 'volume_sum_upto_max_MAV_0'] = 0\n",
    "                df_per_freq.at[i_max, 'fees_sum_upto_max_MAV_0'] = 0\n",
    "\n",
    "                for j, _ in df_per_freq.loc[i_max:i].iterrows():\n",
    "                    df_per_freq.at[j, 'decay'] = 0\n",
    "            i_max = i\n",
    "        else:\n",
    "            df_per_freq.at[i,'decay'] = (i_max - i).total_seconds()\n",
    "    else:\n",
    "        max_decay = (i_max - i).total_seconds()\n",
    "        df_per_freq.at[i_max,'max_decay'] = max_decay\n",
    "        mav_MAX = 0\n",
    "        i_max = pd.Timestamp(0)\n",
    "        max_decay = 0\n",
    "\n",
    "        block_slippage_sum_upto_max_MAV_0= 0\n",
    "        volume_sum_upto_max_MAV_0= 0\n",
    "        fees_sum_upto_max_MAV_0 = 0\n",
    "        swap_count = 0\n",
    "        \n",
    "df_per_freq['max_decay_min'] = df_per_freq['max_decay'] / 60\n"
   ]
  },
  {
   "cell_type": "code",
   "execution_count": 24,
   "metadata": {},
   "outputs": [
    {
     "name": "stdout",
     "output_type": "stream",
     "text": [
      "datetime64[ns]\n"
     ]
    }
   ],
   "source": [
    "df_per_freq.index = pd.to_datetime(df_per_freq.index)\n",
    "print(df_per_freq.index.dtype)"
   ]
  },
  {
   "cell_type": "code",
   "execution_count": 25,
   "metadata": {},
   "outputs": [],
   "source": [
    "df_per_freq.to_csv(export_dir + f'swaps1m_{token0}_{token1}_{exchange_name}.csv')"
   ]
  },
  {
   "cell_type": "code",
   "execution_count": 26,
   "metadata": {},
   "outputs": [
    {
     "data": {
      "text/plain": [
       "Index(['volume_total_0', 'LP_Fee_total_0', 'block_slippage_total_0',\n",
       "       'price_diff', 'volume_avg_1m_0', 'fees_avg_1m_0', 'fees_total_0',\n",
       "       'block_slippage_avg_1m_0', 'swap_count_1m', 'reserve_0', 'reserve_1',\n",
       "       'spot_price', 'CEX_price', 'fees_0', 'LP_Fee_0', 'block_slippage_0',\n",
       "       'transactionHash', 'MAV_0', 'V_max_1', 'V_max_0', 'reserve_total_0',\n",
       "       'LP_fee_MAV_0', 'max_MAV_0', 'decay', 'max_decay',\n",
       "       'swap_count_upto_max_MAV', 'block_slippage_sum_upto_max_MAV_0',\n",
       "       'volume_sum_upto_max_MAV_0', 'fees_sum_upto_max_MAV_0',\n",
       "       'max_decay_min'],\n",
       "      dtype='object')"
      ]
     },
     "execution_count": 26,
     "metadata": {},
     "output_type": "execute_result"
    }
   ],
   "source": [
    "df_per_freq.columns"
   ]
  },
  {
   "cell_type": "code",
   "execution_count": 27,
   "metadata": {},
   "outputs": [
    {
     "data": {
      "text/html": [
       "<div>\n",
       "<style scoped>\n",
       "    .dataframe tbody tr th:only-of-type {\n",
       "        vertical-align: middle;\n",
       "    }\n",
       "\n",
       "    .dataframe tbody tr th {\n",
       "        vertical-align: top;\n",
       "    }\n",
       "\n",
       "    .dataframe thead th {\n",
       "        text-align: right;\n",
       "    }\n",
       "</style>\n",
       "<table border=\"1\" class=\"dataframe\">\n",
       "  <thead>\n",
       "    <tr style=\"text-align: right;\">\n",
       "      <th></th>\n",
       "      <th>volume_total_0</th>\n",
       "      <th>LP_Fee_total_0</th>\n",
       "      <th>block_slippage_total_0</th>\n",
       "      <th>price_diff</th>\n",
       "      <th>volume_avg_1m_0</th>\n",
       "      <th>fees_avg_1m_0</th>\n",
       "      <th>fees_total_0</th>\n",
       "      <th>block_slippage_avg_1m_0</th>\n",
       "      <th>swap_count_1m</th>\n",
       "      <th>reserve_0</th>\n",
       "      <th>...</th>\n",
       "      <th>reserve_total_0</th>\n",
       "      <th>LP_fee_MAV_0</th>\n",
       "      <th>max_MAV_0</th>\n",
       "      <th>decay</th>\n",
       "      <th>max_decay</th>\n",
       "      <th>swap_count_upto_max_MAV</th>\n",
       "      <th>block_slippage_sum_upto_max_MAV_0</th>\n",
       "      <th>volume_sum_upto_max_MAV_0</th>\n",
       "      <th>fees_sum_upto_max_MAV_0</th>\n",
       "      <th>max_decay_min</th>\n",
       "    </tr>\n",
       "    <tr>\n",
       "      <th>timestamp</th>\n",
       "      <th></th>\n",
       "      <th></th>\n",
       "      <th></th>\n",
       "      <th></th>\n",
       "      <th></th>\n",
       "      <th></th>\n",
       "      <th></th>\n",
       "      <th></th>\n",
       "      <th></th>\n",
       "      <th></th>\n",
       "      <th></th>\n",
       "      <th></th>\n",
       "      <th></th>\n",
       "      <th></th>\n",
       "      <th></th>\n",
       "      <th></th>\n",
       "      <th></th>\n",
       "      <th></th>\n",
       "      <th></th>\n",
       "      <th></th>\n",
       "      <th></th>\n",
       "    </tr>\n",
       "  </thead>\n",
       "  <tbody>\n",
       "    <tr>\n",
       "      <th>2023-07-01 00:25:00</th>\n",
       "      <td>4001.173191</td>\n",
       "      <td>3.200939</td>\n",
       "      <td>1614.288565</td>\n",
       "      <td>0.005744</td>\n",
       "      <td>121.247672</td>\n",
       "      <td>0.229112</td>\n",
       "      <td>7.560694</td>\n",
       "      <td>48.917835</td>\n",
       "      <td>33.0</td>\n",
       "      <td>2.902163e+07</td>\n",
       "      <td>...</td>\n",
       "      <td>5.804326e+07</td>\n",
       "      <td>67.070718</td>\n",
       "      <td>242.194417</td>\n",
       "      <td>0.0</td>\n",
       "      <td>-2100.0</td>\n",
       "      <td>113.0</td>\n",
       "      <td>1679.601559</td>\n",
       "      <td>18317.070206</td>\n",
       "      <td>25.420628</td>\n",
       "      <td>-35.0</td>\n",
       "    </tr>\n",
       "    <tr>\n",
       "      <th>2023-07-01 01:04:00</th>\n",
       "      <td>3161.761033</td>\n",
       "      <td>2.529409</td>\n",
       "      <td>-320.635684</td>\n",
       "      <td>0.004803</td>\n",
       "      <td>109.026243</td>\n",
       "      <td>0.247073</td>\n",
       "      <td>7.165113</td>\n",
       "      <td>-11.056403</td>\n",
       "      <td>29.0</td>\n",
       "      <td>2.908052e+07</td>\n",
       "      <td>...</td>\n",
       "      <td>5.816104e+07</td>\n",
       "      <td>56.137691</td>\n",
       "      <td>169.327296</td>\n",
       "      <td>0.0</td>\n",
       "      <td>-60.0</td>\n",
       "      <td>29.0</td>\n",
       "      <td>-320.635684</td>\n",
       "      <td>3161.761033</td>\n",
       "      <td>7.165113</td>\n",
       "      <td>-1.0</td>\n",
       "    </tr>\n",
       "    <tr>\n",
       "      <th>2023-07-01 02:01:00</th>\n",
       "      <td>18759.451103</td>\n",
       "      <td>15.007561</td>\n",
       "      <td>3788.780544</td>\n",
       "      <td>0.004395</td>\n",
       "      <td>256.978782</td>\n",
       "      <td>0.228314</td>\n",
       "      <td>16.666944</td>\n",
       "      <td>51.901103</td>\n",
       "      <td>73.0</td>\n",
       "      <td>2.903147e+07</td>\n",
       "      <td>...</td>\n",
       "      <td>5.806293e+07</td>\n",
       "      <td>51.267270</td>\n",
       "      <td>141.459283</td>\n",
       "      <td>0.0</td>\n",
       "      <td>-300.0</td>\n",
       "      <td>73.0</td>\n",
       "      <td>3788.780544</td>\n",
       "      <td>18759.451103</td>\n",
       "      <td>16.666944</td>\n",
       "      <td>-5.0</td>\n",
       "    </tr>\n",
       "    <tr>\n",
       "      <th>2023-07-01 03:01:00</th>\n",
       "      <td>20108.607303</td>\n",
       "      <td>16.086886</td>\n",
       "      <td>-49812.777521</td>\n",
       "      <td>0.005093</td>\n",
       "      <td>124.127206</td>\n",
       "      <td>0.251036</td>\n",
       "      <td>40.667771</td>\n",
       "      <td>-307.486281</td>\n",
       "      <td>162.0</td>\n",
       "      <td>2.898753e+07</td>\n",
       "      <td>...</td>\n",
       "      <td>5.797506e+07</td>\n",
       "      <td>59.354407</td>\n",
       "      <td>189.895536</td>\n",
       "      <td>0.0</td>\n",
       "      <td>-780.0</td>\n",
       "      <td>233.0</td>\n",
       "      <td>-52721.132917</td>\n",
       "      <td>27279.573868</td>\n",
       "      <td>59.989506</td>\n",
       "      <td>-13.0</td>\n",
       "    </tr>\n",
       "    <tr>\n",
       "      <th>2023-07-01 04:25:00</th>\n",
       "      <td>9622.972053</td>\n",
       "      <td>7.698378</td>\n",
       "      <td>-2606.792445</td>\n",
       "      <td>0.003624</td>\n",
       "      <td>133.652390</td>\n",
       "      <td>0.239844</td>\n",
       "      <td>17.268766</td>\n",
       "      <td>-36.205451</td>\n",
       "      <td>72.0</td>\n",
       "      <td>2.896957e+07</td>\n",
       "      <td>...</td>\n",
       "      <td>5.793913e+07</td>\n",
       "      <td>41.846793</td>\n",
       "      <td>94.450091</td>\n",
       "      <td>0.0</td>\n",
       "      <td>-6540.0</td>\n",
       "      <td>72.0</td>\n",
       "      <td>-2606.792445</td>\n",
       "      <td>9622.972053</td>\n",
       "      <td>17.268766</td>\n",
       "      <td>-109.0</td>\n",
       "    </tr>\n",
       "    <tr>\n",
       "      <th>...</th>\n",
       "      <td>...</td>\n",
       "      <td>...</td>\n",
       "      <td>...</td>\n",
       "      <td>...</td>\n",
       "      <td>...</td>\n",
       "      <td>...</td>\n",
       "      <td>...</td>\n",
       "      <td>...</td>\n",
       "      <td>...</td>\n",
       "      <td>...</td>\n",
       "      <td>...</td>\n",
       "      <td>...</td>\n",
       "      <td>...</td>\n",
       "      <td>...</td>\n",
       "      <td>...</td>\n",
       "      <td>...</td>\n",
       "      <td>...</td>\n",
       "      <td>...</td>\n",
       "      <td>...</td>\n",
       "      <td>...</td>\n",
       "      <td>...</td>\n",
       "    </tr>\n",
       "    <tr>\n",
       "      <th>2023-09-16 11:42:00</th>\n",
       "      <td>4478.584738</td>\n",
       "      <td>3.582868</td>\n",
       "      <td>1285.736246</td>\n",
       "      <td>0.006002</td>\n",
       "      <td>84.501599</td>\n",
       "      <td>0.159732</td>\n",
       "      <td>8.465781</td>\n",
       "      <td>24.259174</td>\n",
       "      <td>53.0</td>\n",
       "      <td>1.930297e+07</td>\n",
       "      <td>...</td>\n",
       "      <td>3.860595e+07</td>\n",
       "      <td>46.623583</td>\n",
       "      <td>175.957230</td>\n",
       "      <td>0.0</td>\n",
       "      <td>-11880.0</td>\n",
       "      <td>127.0</td>\n",
       "      <td>22376.914715</td>\n",
       "      <td>24275.933252</td>\n",
       "      <td>20.002568</td>\n",
       "      <td>-198.0</td>\n",
       "    </tr>\n",
       "    <tr>\n",
       "      <th>2023-09-16 16:01:00</th>\n",
       "      <td>2322.794589</td>\n",
       "      <td>1.858236</td>\n",
       "      <td>1128.078747</td>\n",
       "      <td>0.009292</td>\n",
       "      <td>54.018479</td>\n",
       "      <td>0.201234</td>\n",
       "      <td>8.653055</td>\n",
       "      <td>26.234389</td>\n",
       "      <td>43.0</td>\n",
       "      <td>1.927943e+07</td>\n",
       "      <td>...</td>\n",
       "      <td>3.855886e+07</td>\n",
       "      <td>72.326580</td>\n",
       "      <td>423.956904</td>\n",
       "      <td>0.0</td>\n",
       "      <td>-9420.0</td>\n",
       "      <td>72.0</td>\n",
       "      <td>1303.710587</td>\n",
       "      <td>3694.382014</td>\n",
       "      <td>14.634077</td>\n",
       "      <td>-157.0</td>\n",
       "    </tr>\n",
       "    <tr>\n",
       "      <th>2023-09-16 20:07:00</th>\n",
       "      <td>1232.741561</td>\n",
       "      <td>0.986193</td>\n",
       "      <td>554.865689</td>\n",
       "      <td>0.005410</td>\n",
       "      <td>32.440567</td>\n",
       "      <td>0.180663</td>\n",
       "      <td>6.865210</td>\n",
       "      <td>14.601729</td>\n",
       "      <td>38.0</td>\n",
       "      <td>1.929969e+07</td>\n",
       "      <td>...</td>\n",
       "      <td>3.859937e+07</td>\n",
       "      <td>41.993658</td>\n",
       "      <td>142.770081</td>\n",
       "      <td>0.0</td>\n",
       "      <td>-3000.0</td>\n",
       "      <td>38.0</td>\n",
       "      <td>554.865689</td>\n",
       "      <td>1232.741561</td>\n",
       "      <td>6.865210</td>\n",
       "      <td>-50.0</td>\n",
       "    </tr>\n",
       "    <tr>\n",
       "      <th>2023-09-17 03:34:00</th>\n",
       "      <td>2174.340624</td>\n",
       "      <td>1.739472</td>\n",
       "      <td>-543.808925</td>\n",
       "      <td>0.007619</td>\n",
       "      <td>41.025295</td>\n",
       "      <td>0.150253</td>\n",
       "      <td>7.963389</td>\n",
       "      <td>-10.260546</td>\n",
       "      <td>53.0</td>\n",
       "      <td>1.925810e+07</td>\n",
       "      <td>...</td>\n",
       "      <td>3.851620e+07</td>\n",
       "      <td>59.141679</td>\n",
       "      <td>283.787906</td>\n",
       "      <td>0.0</td>\n",
       "      <td>-5040.0</td>\n",
       "      <td>136.0</td>\n",
       "      <td>-10806.154669</td>\n",
       "      <td>15525.238506</td>\n",
       "      <td>21.301925</td>\n",
       "      <td>-84.0</td>\n",
       "    </tr>\n",
       "    <tr>\n",
       "      <th>2023-09-17 05:55:00</th>\n",
       "      <td>7507.922561</td>\n",
       "      <td>6.006338</td>\n",
       "      <td>-13139.449111</td>\n",
       "      <td>0.011724</td>\n",
       "      <td>123.080698</td>\n",
       "      <td>0.157689</td>\n",
       "      <td>9.619029</td>\n",
       "      <td>-215.400805</td>\n",
       "      <td>61.0</td>\n",
       "      <td>1.927111e+07</td>\n",
       "      <td>...</td>\n",
       "      <td>3.854221e+07</td>\n",
       "      <td>91.449040</td>\n",
       "      <td>678.065533</td>\n",
       "      <td>0.0</td>\n",
       "      <td>0.0</td>\n",
       "      <td>61.0</td>\n",
       "      <td>-13139.449111</td>\n",
       "      <td>7507.922561</td>\n",
       "      <td>9.619029</td>\n",
       "      <td>0.0</td>\n",
       "    </tr>\n",
       "  </tbody>\n",
       "</table>\n",
       "<p>500 rows × 30 columns</p>\n",
       "</div>"
      ],
      "text/plain": [
       "                     volume_total_0  LP_Fee_total_0  block_slippage_total_0  \\\n",
       "timestamp                                                                     \n",
       "2023-07-01 00:25:00     4001.173191        3.200939             1614.288565   \n",
       "2023-07-01 01:04:00     3161.761033        2.529409             -320.635684   \n",
       "2023-07-01 02:01:00    18759.451103       15.007561             3788.780544   \n",
       "2023-07-01 03:01:00    20108.607303       16.086886           -49812.777521   \n",
       "2023-07-01 04:25:00     9622.972053        7.698378            -2606.792445   \n",
       "...                             ...             ...                     ...   \n",
       "2023-09-16 11:42:00     4478.584738        3.582868             1285.736246   \n",
       "2023-09-16 16:01:00     2322.794589        1.858236             1128.078747   \n",
       "2023-09-16 20:07:00     1232.741561        0.986193              554.865689   \n",
       "2023-09-17 03:34:00     2174.340624        1.739472             -543.808925   \n",
       "2023-09-17 05:55:00     7507.922561        6.006338           -13139.449111   \n",
       "\n",
       "                     price_diff  volume_avg_1m_0  fees_avg_1m_0  fees_total_0  \\\n",
       "timestamp                                                                       \n",
       "2023-07-01 00:25:00    0.005744       121.247672       0.229112      7.560694   \n",
       "2023-07-01 01:04:00    0.004803       109.026243       0.247073      7.165113   \n",
       "2023-07-01 02:01:00    0.004395       256.978782       0.228314     16.666944   \n",
       "2023-07-01 03:01:00    0.005093       124.127206       0.251036     40.667771   \n",
       "2023-07-01 04:25:00    0.003624       133.652390       0.239844     17.268766   \n",
       "...                         ...              ...            ...           ...   \n",
       "2023-09-16 11:42:00    0.006002        84.501599       0.159732      8.465781   \n",
       "2023-09-16 16:01:00    0.009292        54.018479       0.201234      8.653055   \n",
       "2023-09-16 20:07:00    0.005410        32.440567       0.180663      6.865210   \n",
       "2023-09-17 03:34:00    0.007619        41.025295       0.150253      7.963389   \n",
       "2023-09-17 05:55:00    0.011724       123.080698       0.157689      9.619029   \n",
       "\n",
       "                     block_slippage_avg_1m_0  swap_count_1m     reserve_0  \\\n",
       "timestamp                                                                   \n",
       "2023-07-01 00:25:00                48.917835           33.0  2.902163e+07   \n",
       "2023-07-01 01:04:00               -11.056403           29.0  2.908052e+07   \n",
       "2023-07-01 02:01:00                51.901103           73.0  2.903147e+07   \n",
       "2023-07-01 03:01:00              -307.486281          162.0  2.898753e+07   \n",
       "2023-07-01 04:25:00               -36.205451           72.0  2.896957e+07   \n",
       "...                                      ...            ...           ...   \n",
       "2023-09-16 11:42:00                24.259174           53.0  1.930297e+07   \n",
       "2023-09-16 16:01:00                26.234389           43.0  1.927943e+07   \n",
       "2023-09-16 20:07:00                14.601729           38.0  1.929969e+07   \n",
       "2023-09-17 03:34:00               -10.260546           53.0  1.925810e+07   \n",
       "2023-09-17 05:55:00              -215.400805           61.0  1.927111e+07   \n",
       "\n",
       "                     ...  reserve_total_0  LP_fee_MAV_0   max_MAV_0  decay  \\\n",
       "timestamp            ...                                                     \n",
       "2023-07-01 00:25:00  ...     5.804326e+07     67.070718  242.194417    0.0   \n",
       "2023-07-01 01:04:00  ...     5.816104e+07     56.137691  169.327296    0.0   \n",
       "2023-07-01 02:01:00  ...     5.806293e+07     51.267270  141.459283    0.0   \n",
       "2023-07-01 03:01:00  ...     5.797506e+07     59.354407  189.895536    0.0   \n",
       "2023-07-01 04:25:00  ...     5.793913e+07     41.846793   94.450091    0.0   \n",
       "...                  ...              ...           ...         ...    ...   \n",
       "2023-09-16 11:42:00  ...     3.860595e+07     46.623583  175.957230    0.0   \n",
       "2023-09-16 16:01:00  ...     3.855886e+07     72.326580  423.956904    0.0   \n",
       "2023-09-16 20:07:00  ...     3.859937e+07     41.993658  142.770081    0.0   \n",
       "2023-09-17 03:34:00  ...     3.851620e+07     59.141679  283.787906    0.0   \n",
       "2023-09-17 05:55:00  ...     3.854221e+07     91.449040  678.065533    0.0   \n",
       "\n",
       "                     max_decay  swap_count_upto_max_MAV  \\\n",
       "timestamp                                                 \n",
       "2023-07-01 00:25:00    -2100.0                    113.0   \n",
       "2023-07-01 01:04:00      -60.0                     29.0   \n",
       "2023-07-01 02:01:00     -300.0                     73.0   \n",
       "2023-07-01 03:01:00     -780.0                    233.0   \n",
       "2023-07-01 04:25:00    -6540.0                     72.0   \n",
       "...                        ...                      ...   \n",
       "2023-09-16 11:42:00   -11880.0                    127.0   \n",
       "2023-09-16 16:01:00    -9420.0                     72.0   \n",
       "2023-09-16 20:07:00    -3000.0                     38.0   \n",
       "2023-09-17 03:34:00    -5040.0                    136.0   \n",
       "2023-09-17 05:55:00        0.0                     61.0   \n",
       "\n",
       "                    block_slippage_sum_upto_max_MAV_0  \\\n",
       "timestamp                                               \n",
       "2023-07-01 00:25:00                       1679.601559   \n",
       "2023-07-01 01:04:00                       -320.635684   \n",
       "2023-07-01 02:01:00                       3788.780544   \n",
       "2023-07-01 03:01:00                     -52721.132917   \n",
       "2023-07-01 04:25:00                      -2606.792445   \n",
       "...                                               ...   \n",
       "2023-09-16 11:42:00                      22376.914715   \n",
       "2023-09-16 16:01:00                       1303.710587   \n",
       "2023-09-16 20:07:00                        554.865689   \n",
       "2023-09-17 03:34:00                     -10806.154669   \n",
       "2023-09-17 05:55:00                     -13139.449111   \n",
       "\n",
       "                     volume_sum_upto_max_MAV_0  fees_sum_upto_max_MAV_0  \\\n",
       "timestamp                                                                 \n",
       "2023-07-01 00:25:00               18317.070206                25.420628   \n",
       "2023-07-01 01:04:00                3161.761033                 7.165113   \n",
       "2023-07-01 02:01:00               18759.451103                16.666944   \n",
       "2023-07-01 03:01:00               27279.573868                59.989506   \n",
       "2023-07-01 04:25:00                9622.972053                17.268766   \n",
       "...                                        ...                      ...   \n",
       "2023-09-16 11:42:00               24275.933252                20.002568   \n",
       "2023-09-16 16:01:00                3694.382014                14.634077   \n",
       "2023-09-16 20:07:00                1232.741561                 6.865210   \n",
       "2023-09-17 03:34:00               15525.238506                21.301925   \n",
       "2023-09-17 05:55:00                7507.922561                 9.619029   \n",
       "\n",
       "                     max_decay_min  \n",
       "timestamp                           \n",
       "2023-07-01 00:25:00          -35.0  \n",
       "2023-07-01 01:04:00           -1.0  \n",
       "2023-07-01 02:01:00           -5.0  \n",
       "2023-07-01 03:01:00          -13.0  \n",
       "2023-07-01 04:25:00         -109.0  \n",
       "...                            ...  \n",
       "2023-09-16 11:42:00         -198.0  \n",
       "2023-09-16 16:01:00         -157.0  \n",
       "2023-09-16 20:07:00          -50.0  \n",
       "2023-09-17 03:34:00          -84.0  \n",
       "2023-09-17 05:55:00            0.0  \n",
       "\n",
       "[500 rows x 30 columns]"
      ]
     },
     "execution_count": 27,
     "metadata": {},
     "output_type": "execute_result"
    }
   ],
   "source": [
    "df_per_freq[(df_per_freq['max_MAV_0'] > 0) & (df_per_freq['swap_count_upto_max_MAV'] > 0)]\n"
   ]
  },
  {
   "cell_type": "code",
   "execution_count": 28,
   "metadata": {},
   "outputs": [
    {
     "data": {
      "text/html": [
       "<div>\n",
       "<style scoped>\n",
       "    .dataframe tbody tr th:only-of-type {\n",
       "        vertical-align: middle;\n",
       "    }\n",
       "\n",
       "    .dataframe tbody tr th {\n",
       "        vertical-align: top;\n",
       "    }\n",
       "\n",
       "    .dataframe thead th {\n",
       "        text-align: right;\n",
       "    }\n",
       "</style>\n",
       "<table border=\"1\" class=\"dataframe\">\n",
       "  <thead>\n",
       "    <tr style=\"text-align: right;\">\n",
       "      <th></th>\n",
       "      <th>volume_total_0</th>\n",
       "      <th>price_diff</th>\n",
       "      <th>reserve_total_0</th>\n",
       "      <th>spot_price</th>\n",
       "      <th>CEX_price</th>\n",
       "      <th>MAV_0</th>\n",
       "      <th>max_MAV_0</th>\n",
       "      <th>LP_Fee_0</th>\n",
       "      <th>decay</th>\n",
       "      <th>fees_0</th>\n",
       "      <th>LP_Fee_total_0</th>\n",
       "      <th>block_slippage_total_0</th>\n",
       "      <th>annual_return</th>\n",
       "    </tr>\n",
       "    <tr>\n",
       "      <th>timestamp</th>\n",
       "      <th></th>\n",
       "      <th></th>\n",
       "      <th></th>\n",
       "      <th></th>\n",
       "      <th></th>\n",
       "      <th></th>\n",
       "      <th></th>\n",
       "      <th></th>\n",
       "      <th></th>\n",
       "      <th></th>\n",
       "      <th></th>\n",
       "      <th></th>\n",
       "      <th></th>\n",
       "    </tr>\n",
       "  </thead>\n",
       "  <tbody>\n",
       "    <tr>\n",
       "      <th>2023-07-01</th>\n",
       "      <td>8.882829e+05</td>\n",
       "      <td>0.007758</td>\n",
       "      <td>5.841889e+07</td>\n",
       "      <td>1920.434231</td>\n",
       "      <td>1929.43</td>\n",
       "      <td>10740.700615</td>\n",
       "      <td>3074.131786</td>\n",
       "      <td>16.463641</td>\n",
       "      <td>0.0</td>\n",
       "      <td>25.051828</td>\n",
       "      <td>710.626317</td>\n",
       "      <td>46374.415949</td>\n",
       "      <td>2.818205e-07</td>\n",
       "    </tr>\n",
       "    <tr>\n",
       "      <th>2023-07-02</th>\n",
       "      <td>1.667948e+06</td>\n",
       "      <td>0.011614</td>\n",
       "      <td>5.919535e+07</td>\n",
       "      <td>1934.234019</td>\n",
       "      <td>1934.28</td>\n",
       "      <td>11394.086173</td>\n",
       "      <td>2841.167746</td>\n",
       "      <td>20.429295</td>\n",
       "      <td>0.0</td>\n",
       "      <td>20.909859</td>\n",
       "      <td>1334.358795</td>\n",
       "      <td>-335647.433687</td>\n",
       "      <td>3.451165e-07</td>\n",
       "    </tr>\n",
       "    <tr>\n",
       "      <th>2023-07-03</th>\n",
       "      <td>1.110038e+06</td>\n",
       "      <td>0.007999</td>\n",
       "      <td>5.978279e+07</td>\n",
       "      <td>1952.141819</td>\n",
       "      <td>1960.27</td>\n",
       "      <td>8621.717849</td>\n",
       "      <td>3362.900325</td>\n",
       "      <td>28.807641</td>\n",
       "      <td>0.0</td>\n",
       "      <td>33.103592</td>\n",
       "      <td>888.030078</td>\n",
       "      <td>4314.655881</td>\n",
       "      <td>4.818718e-07</td>\n",
       "    </tr>\n",
       "    <tr>\n",
       "      <th>2023-07-04</th>\n",
       "      <td>6.393950e+05</td>\n",
       "      <td>0.005873</td>\n",
       "      <td>5.985536e+07</td>\n",
       "      <td>1937.497361</td>\n",
       "      <td>1943.32</td>\n",
       "      <td>3780.812782</td>\n",
       "      <td>1201.497022</td>\n",
       "      <td>8.382262</td>\n",
       "      <td>0.0</td>\n",
       "      <td>26.311715</td>\n",
       "      <td>511.516002</td>\n",
       "      <td>28240.421861</td>\n",
       "      <td>1.400420e-07</td>\n",
       "    </tr>\n",
       "    <tr>\n",
       "      <th>2023-07-05</th>\n",
       "      <td>5.011815e+05</td>\n",
       "      <td>0.008010</td>\n",
       "      <td>5.965722e+07</td>\n",
       "      <td>1908.854113</td>\n",
       "      <td>1918.84</td>\n",
       "      <td>5240.813272</td>\n",
       "      <td>1853.190578</td>\n",
       "      <td>12.788207</td>\n",
       "      <td>0.0</td>\n",
       "      <td>43.224514</td>\n",
       "      <td>400.945183</td>\n",
       "      <td>-105074.421489</td>\n",
       "      <td>2.143614e-07</td>\n",
       "    </tr>\n",
       "  </tbody>\n",
       "</table>\n",
       "</div>"
      ],
      "text/plain": [
       "            volume_total_0  price_diff  reserve_total_0   spot_price  \\\n",
       "timestamp                                                              \n",
       "2023-07-01    8.882829e+05    0.007758     5.841889e+07  1920.434231   \n",
       "2023-07-02    1.667948e+06    0.011614     5.919535e+07  1934.234019   \n",
       "2023-07-03    1.110038e+06    0.007999     5.978279e+07  1952.141819   \n",
       "2023-07-04    6.393950e+05    0.005873     5.985536e+07  1937.497361   \n",
       "2023-07-05    5.011815e+05    0.008010     5.965722e+07  1908.854113   \n",
       "\n",
       "            CEX_price         MAV_0    max_MAV_0   LP_Fee_0  decay     fees_0  \\\n",
       "timestamp                                                                       \n",
       "2023-07-01    1929.43  10740.700615  3074.131786  16.463641    0.0  25.051828   \n",
       "2023-07-02    1934.28  11394.086173  2841.167746  20.429295    0.0  20.909859   \n",
       "2023-07-03    1960.27   8621.717849  3362.900325  28.807641    0.0  33.103592   \n",
       "2023-07-04    1943.32   3780.812782  1201.497022   8.382262    0.0  26.311715   \n",
       "2023-07-05    1918.84   5240.813272  1853.190578  12.788207    0.0  43.224514   \n",
       "\n",
       "            LP_Fee_total_0  block_slippage_total_0  annual_return  \n",
       "timestamp                                                          \n",
       "2023-07-01      710.626317            46374.415949   2.818205e-07  \n",
       "2023-07-02     1334.358795          -335647.433687   3.451165e-07  \n",
       "2023-07-03      888.030078             4314.655881   4.818718e-07  \n",
       "2023-07-04      511.516002            28240.421861   1.400420e-07  \n",
       "2023-07-05      400.945183          -105074.421489   2.143614e-07  "
      ]
     },
     "execution_count": 28,
     "metadata": {},
     "output_type": "execute_result"
    }
   ],
   "source": [
    "#aggregating data to daily\n",
    "\n",
    "agg_day_dic = dict(volume_total_0='sum', price_diff='max', reserve_total_0='last', spot_price='last', CEX_price='last', MAV_0='sum', max_MAV_0 = 'sum',LP_Fee_0='sum', decay='max', fees_0 ='sum', LP_Fee_total_0='sum', block_slippage_total_0='sum')\n",
    "\n",
    "#df_per_freq.set_index('timestamp', inplace=True)\n",
    "df_per_day = df_per_freq.resample('D').agg(agg_day_dic).dropna(subset=['price_diff'])\n",
    "\n",
    "# Reset index to make 'timestamp' a column again\n",
    "#df_per_day.reset_index(inplace=True)\n",
    "df_per_day['annual_return'] = df_per_day['LP_Fee_0'] / df_per_day['reserve_total_0']\n",
    "\n",
    "\n",
    "df_per_day.head()"
   ]
  },
  {
   "cell_type": "code",
   "execution_count": 82,
   "metadata": {},
   "outputs": [],
   "source": [
    "import plotly.graph_objects as go\n",
    "#from utils_plot import *\n",
    "from kaleido import *\n",
    "\n",
    "colors = {'red': '#ee443a', 'blue': '#42bbf1', 'dark_blue': '#1a4fec',\n",
    "          'green': '#50be61', 'grey': '#b7b7b7', 'orange': '#f28222', 'purple': '#6e18ee', 'brown': '#a65628', 'pink': '#ef4793',\n",
    "          'yellow': '#f8c94c', 'black': '#000000', 'white': '#ffffff', 'light_blue': '#a6cee3', 'light_green': '#b2df8a',\n",
    "          'light_grey': '#999999', 'light_orange': '#fdbf6f', 'light_purple': '#cab2d6', 'light_brown': '#ffff99', 'light_pink': '#1f78b4',\n",
    "          'light_yellow': '#fb9a99', 'light_black': '#e31a1c', 'light_white': '#33a02c', 'gold': '#ff7f00', 'silver': '#b2df8a'}\n",
    "\n",
    "layout = go.Layout(\n",
    "    margin=go.layout.Margin(\n",
    "        l=10,  # left margin\n",
    "        r=10,  # right margin\n",
    "        b=10,  # bottom margin\n",
    "        t=10  # top margin\n",
    "    ),\n",
    "    template='simple_white',\n",
    "    xaxis=dict(minor_ticks=\"inside\", showgrid=True, griddash='dash',\n",
    "               minor_griddash=\"dot\"),\n",
    "    yaxis=dict(minor_ticks=\"inside\", showgrid=True, griddash='dash',\n",
    "               minor_griddash=\"dot\"),\n",
    "    #font=dict(size=18, family='Clear Sans',\n",
    "    #          color='black'),\n",
    "\n",
    ")\n",
    "\n",
    "settings = {\n",
    "    'AddLiquidity': {'color': colors['blue'], 'style': None, 'width': 4.5},\n",
    "    'RemoveLiquidity': {'color': colors['red'], 'style': 'dash', 'width': 4},\n",
    "    'RemoveLiquidityOne': {'color': colors['green'], 'style': 'dot', 'width': 3.5},\n",
    "    'RemoveLiquidityImbalance': {'color': colors['brown'], 'style': 'dashdot', 'width': 3},\n",
    "}\n",
    "\n"
   ]
  },
  {
   "cell_type": "code",
   "execution_count": 85,
   "metadata": {},
   "outputs": [
    {
     "data": {
      "application/vnd.plotly.v1+json": {
       "config": {
        "plotlyServerURL": "https://plot.ly"
       },
       "data": [
        {
         "mode": "lines",
         "name": "AMM ETH Price",
         "type": "scatter",
         "x": [
          "2023-07-01T00:00:00",
          "2023-07-02T00:00:00",
          "2023-07-03T00:00:00",
          "2023-07-04T00:00:00",
          "2023-07-05T00:00:00",
          "2023-07-06T00:00:00",
          "2023-07-07T00:00:00",
          "2023-07-08T00:00:00",
          "2023-07-09T00:00:00",
          "2023-07-10T00:00:00",
          "2023-07-11T00:00:00",
          "2023-07-12T00:00:00",
          "2023-07-13T00:00:00",
          "2023-07-14T00:00:00",
          "2023-07-15T00:00:00",
          "2023-07-16T00:00:00",
          "2023-07-17T00:00:00",
          "2023-07-18T00:00:00",
          "2023-07-19T00:00:00",
          "2023-07-20T00:00:00",
          "2023-07-21T00:00:00",
          "2023-07-22T00:00:00",
          "2023-07-23T00:00:00",
          "2023-07-24T00:00:00",
          "2023-07-25T00:00:00",
          "2023-07-26T00:00:00",
          "2023-07-27T00:00:00",
          "2023-07-28T00:00:00",
          "2023-07-29T00:00:00",
          "2023-07-30T00:00:00",
          "2023-07-31T00:00:00",
          "2023-08-01T00:00:00",
          "2023-08-02T00:00:00",
          "2023-08-03T00:00:00",
          "2023-08-04T00:00:00",
          "2023-08-05T00:00:00",
          "2023-08-06T00:00:00",
          "2023-08-07T00:00:00",
          "2023-08-08T00:00:00",
          "2023-08-09T00:00:00",
          "2023-08-10T00:00:00",
          "2023-08-11T00:00:00",
          "2023-08-12T00:00:00",
          "2023-08-13T00:00:00",
          "2023-08-14T00:00:00",
          "2023-08-15T00:00:00",
          "2023-08-16T00:00:00",
          "2023-08-17T00:00:00",
          "2023-08-18T00:00:00",
          "2023-08-19T00:00:00",
          "2023-08-20T00:00:00",
          "2023-08-21T00:00:00",
          "2023-08-22T00:00:00",
          "2023-08-23T00:00:00",
          "2023-08-24T00:00:00",
          "2023-08-25T00:00:00",
          "2023-08-26T00:00:00",
          "2023-08-27T00:00:00",
          "2023-08-28T00:00:00",
          "2023-08-29T00:00:00",
          "2023-08-30T00:00:00",
          "2023-08-31T00:00:00",
          "2023-09-01T00:00:00",
          "2023-09-02T00:00:00",
          "2023-09-03T00:00:00",
          "2023-09-04T00:00:00",
          "2023-09-05T00:00:00",
          "2023-09-06T00:00:00",
          "2023-09-07T00:00:00",
          "2023-09-08T00:00:00",
          "2023-09-09T00:00:00",
          "2023-09-10T00:00:00",
          "2023-09-11T00:00:00",
          "2023-09-12T00:00:00",
          "2023-09-13T00:00:00",
          "2023-09-14T00:00:00",
          "2023-09-15T00:00:00",
          "2023-09-16T00:00:00",
          "2023-09-17T00:00:00"
         ],
         "y": [
          1920.4342309170636,
          1934.2340192855647,
          1952.1418189378778,
          1937.497361377031,
          1908.8541127369544,
          1859.1145608285096,
          1865.4255477974784,
          1859.3896359024766,
          1862.2940563899185,
          1876.8710678345649,
          1874.5224711805693,
          1870.0332508257443,
          1994.6894951482468,
          1931.3861332327042,
          1931.1474544432974,
          1924.1647279873573,
          1912.721769085022,
          1897.2020357473361,
          1889.2904560898921,
          1892.8395475618413,
          1891.776944424005,
          1860.8413406473114,
          1883.8427971662459,
          1844.53577330275,
          1860.9835117343198,
          1870.0457274402445,
          1859.0116750502,
          1877.0215699545292,
          1880.2020989189864,
          1859.186722247234,
          1851.2534806181775,
          1869.3456739435849,
          1839.8211579135816,
          1833.85760886798,
          1828.5722776258904,
          1836.7349926620705,
          1828.6860577083464,
          1820.6995487451384,
          1860.1614682017807,
          1850.864152087961,
          1847.1641991186264,
          1843.6755642650235,
          1845.8039983915064,
          1838.8040355291344,
          1841.2014849750776,
          1821.9809652763943,
          1805.852279596493,
          1686.6235383963758,
          1662.0790682701447,
          1669.4193504553364,
          1684.3958468511412,
          1671.0532654197616,
          1632.8825797319705,
          1677.7403867306912,
          1658.5188659789812,
          1650.8629588075573,
          1647.0015046140652,
          1653.9693576069087,
          1650.5134282993222,
          1726.6816503940438,
          1702.7217318915848,
          1641.1666896197128,
          1627.3399157769097,
          1637.4577138590682,
          1635.675563631809,
          1619.8253121371165,
          1630.4584930971876,
          1630.1002631554063,
          1648.2530156360592,
          1636.9334318431181,
          1633.124355496848,
          1620.760847684336,
          1547.1517140366104,
          1601.0500146200184,
          1606.0013526486484,
          1628.6049416983249,
          1642.9615513734268,
          1633.990995695202,
          1628.9948474128091
         ]
        },
        {
         "mode": "lines",
         "name": "CEX ETH Price",
         "type": "scatter",
         "x": [
          "2023-07-01T00:00:00",
          "2023-07-02T00:00:00",
          "2023-07-03T00:00:00",
          "2023-07-04T00:00:00",
          "2023-07-05T00:00:00",
          "2023-07-06T00:00:00",
          "2023-07-07T00:00:00",
          "2023-07-08T00:00:00",
          "2023-07-09T00:00:00",
          "2023-07-10T00:00:00",
          "2023-07-11T00:00:00",
          "2023-07-12T00:00:00",
          "2023-07-13T00:00:00",
          "2023-07-14T00:00:00",
          "2023-07-15T00:00:00",
          "2023-07-16T00:00:00",
          "2023-07-17T00:00:00",
          "2023-07-18T00:00:00",
          "2023-07-19T00:00:00",
          "2023-07-20T00:00:00",
          "2023-07-21T00:00:00",
          "2023-07-22T00:00:00",
          "2023-07-23T00:00:00",
          "2023-07-24T00:00:00",
          "2023-07-25T00:00:00",
          "2023-07-26T00:00:00",
          "2023-07-27T00:00:00",
          "2023-07-28T00:00:00",
          "2023-07-29T00:00:00",
          "2023-07-30T00:00:00",
          "2023-07-31T00:00:00",
          "2023-08-01T00:00:00",
          "2023-08-02T00:00:00",
          "2023-08-03T00:00:00",
          "2023-08-04T00:00:00",
          "2023-08-05T00:00:00",
          "2023-08-06T00:00:00",
          "2023-08-07T00:00:00",
          "2023-08-08T00:00:00",
          "2023-08-09T00:00:00",
          "2023-08-10T00:00:00",
          "2023-08-11T00:00:00",
          "2023-08-12T00:00:00",
          "2023-08-13T00:00:00",
          "2023-08-14T00:00:00",
          "2023-08-15T00:00:00",
          "2023-08-16T00:00:00",
          "2023-08-17T00:00:00",
          "2023-08-18T00:00:00",
          "2023-08-19T00:00:00",
          "2023-08-20T00:00:00",
          "2023-08-21T00:00:00",
          "2023-08-22T00:00:00",
          "2023-08-23T00:00:00",
          "2023-08-24T00:00:00",
          "2023-08-25T00:00:00",
          "2023-08-26T00:00:00",
          "2023-08-27T00:00:00",
          "2023-08-28T00:00:00",
          "2023-08-29T00:00:00",
          "2023-08-30T00:00:00",
          "2023-08-31T00:00:00",
          "2023-09-01T00:00:00",
          "2023-09-02T00:00:00",
          "2023-09-03T00:00:00",
          "2023-09-04T00:00:00",
          "2023-09-05T00:00:00",
          "2023-09-06T00:00:00",
          "2023-09-07T00:00:00",
          "2023-09-08T00:00:00",
          "2023-09-09T00:00:00",
          "2023-09-10T00:00:00",
          "2023-09-11T00:00:00",
          "2023-09-12T00:00:00",
          "2023-09-13T00:00:00",
          "2023-09-14T00:00:00",
          "2023-09-15T00:00:00",
          "2023-09-16T00:00:00",
          "2023-09-17T00:00:00"
         ],
         "y": [
          1929.43,
          1934.28,
          1960.27,
          1943.32,
          1918.84,
          1847.72,
          1874.92,
          1858.27,
          1862.42,
          1881.28,
          1880.99,
          1878.07,
          1999.49,
          1934.9,
          1926.66,
          1919.75,
          1914.99,
          1894.89,
          1894.3,
          1894.89,
          1897.29,
          1855.78,
          1887,
          1851.9,
          1856.39,
          1869,
          1864.58,
          1877.24,
          1886.73,
          1860,
          1858,
          1856,
          1838.46,
          1834.41,
          1828.07,
          1837.36,
          1833.24,
          1824.93,
          1855.51,
          1855.51,
          1851.04,
          1846.57,
          1850.2,
          1840.05,
          1841.5,
          1823.19,
          1812.05,
          1682.01,
          1659.88,
          1666.17,
          1687.46,
          1666.35,
          1627.92,
          1681.36,
          1662.86,
          1651.43,
          1651.34,
          1656,
          1654.95,
          1728.17,
          1706.1,
          1633.4,
          1636.08,
          1645.14,
          1638.54,
          1624.43,
          1642.89,
          1633.41,
          1653.01,
          1638.05,
          1637.94,
          1629.7,
          1551.17,
          1611.04,
          1616.41,
          1639.34,
          1650,
          1642.64,
          1635.24
         ]
        }
       ],
       "layout": {
        "height": 300,
        "legend": {
         "orientation": "h",
         "x": 0.5,
         "xanchor": "center",
         "y": 1.1
        },
        "margin": {
         "b": 10,
         "l": 10,
         "r": 10,
         "t": 10
        },
        "showlegend": true,
        "template": {
         "data": {
          "bar": [
           {
            "error_x": {
             "color": "rgb(36,36,36)"
            },
            "error_y": {
             "color": "rgb(36,36,36)"
            },
            "marker": {
             "line": {
              "color": "white",
              "width": 0.5
             },
             "pattern": {
              "fillmode": "overlay",
              "size": 10,
              "solidity": 0.2
             }
            },
            "type": "bar"
           }
          ],
          "barpolar": [
           {
            "marker": {
             "line": {
              "color": "white",
              "width": 0.5
             },
             "pattern": {
              "fillmode": "overlay",
              "size": 10,
              "solidity": 0.2
             }
            },
            "type": "barpolar"
           }
          ],
          "carpet": [
           {
            "aaxis": {
             "endlinecolor": "rgb(36,36,36)",
             "gridcolor": "white",
             "linecolor": "white",
             "minorgridcolor": "white",
             "startlinecolor": "rgb(36,36,36)"
            },
            "baxis": {
             "endlinecolor": "rgb(36,36,36)",
             "gridcolor": "white",
             "linecolor": "white",
             "minorgridcolor": "white",
             "startlinecolor": "rgb(36,36,36)"
            },
            "type": "carpet"
           }
          ],
          "choropleth": [
           {
            "colorbar": {
             "outlinewidth": 1,
             "tickcolor": "rgb(36,36,36)",
             "ticks": "outside"
            },
            "type": "choropleth"
           }
          ],
          "contour": [
           {
            "colorbar": {
             "outlinewidth": 1,
             "tickcolor": "rgb(36,36,36)",
             "ticks": "outside"
            },
            "colorscale": [
             [
              0,
              "#440154"
             ],
             [
              0.1111111111111111,
              "#482878"
             ],
             [
              0.2222222222222222,
              "#3e4989"
             ],
             [
              0.3333333333333333,
              "#31688e"
             ],
             [
              0.4444444444444444,
              "#26828e"
             ],
             [
              0.5555555555555556,
              "#1f9e89"
             ],
             [
              0.6666666666666666,
              "#35b779"
             ],
             [
              0.7777777777777778,
              "#6ece58"
             ],
             [
              0.8888888888888888,
              "#b5de2b"
             ],
             [
              1,
              "#fde725"
             ]
            ],
            "type": "contour"
           }
          ],
          "contourcarpet": [
           {
            "colorbar": {
             "outlinewidth": 1,
             "tickcolor": "rgb(36,36,36)",
             "ticks": "outside"
            },
            "type": "contourcarpet"
           }
          ],
          "heatmap": [
           {
            "colorbar": {
             "outlinewidth": 1,
             "tickcolor": "rgb(36,36,36)",
             "ticks": "outside"
            },
            "colorscale": [
             [
              0,
              "#440154"
             ],
             [
              0.1111111111111111,
              "#482878"
             ],
             [
              0.2222222222222222,
              "#3e4989"
             ],
             [
              0.3333333333333333,
              "#31688e"
             ],
             [
              0.4444444444444444,
              "#26828e"
             ],
             [
              0.5555555555555556,
              "#1f9e89"
             ],
             [
              0.6666666666666666,
              "#35b779"
             ],
             [
              0.7777777777777778,
              "#6ece58"
             ],
             [
              0.8888888888888888,
              "#b5de2b"
             ],
             [
              1,
              "#fde725"
             ]
            ],
            "type": "heatmap"
           }
          ],
          "heatmapgl": [
           {
            "colorbar": {
             "outlinewidth": 1,
             "tickcolor": "rgb(36,36,36)",
             "ticks": "outside"
            },
            "colorscale": [
             [
              0,
              "#440154"
             ],
             [
              0.1111111111111111,
              "#482878"
             ],
             [
              0.2222222222222222,
              "#3e4989"
             ],
             [
              0.3333333333333333,
              "#31688e"
             ],
             [
              0.4444444444444444,
              "#26828e"
             ],
             [
              0.5555555555555556,
              "#1f9e89"
             ],
             [
              0.6666666666666666,
              "#35b779"
             ],
             [
              0.7777777777777778,
              "#6ece58"
             ],
             [
              0.8888888888888888,
              "#b5de2b"
             ],
             [
              1,
              "#fde725"
             ]
            ],
            "type": "heatmapgl"
           }
          ],
          "histogram": [
           {
            "marker": {
             "line": {
              "color": "white",
              "width": 0.6
             }
            },
            "type": "histogram"
           }
          ],
          "histogram2d": [
           {
            "colorbar": {
             "outlinewidth": 1,
             "tickcolor": "rgb(36,36,36)",
             "ticks": "outside"
            },
            "colorscale": [
             [
              0,
              "#440154"
             ],
             [
              0.1111111111111111,
              "#482878"
             ],
             [
              0.2222222222222222,
              "#3e4989"
             ],
             [
              0.3333333333333333,
              "#31688e"
             ],
             [
              0.4444444444444444,
              "#26828e"
             ],
             [
              0.5555555555555556,
              "#1f9e89"
             ],
             [
              0.6666666666666666,
              "#35b779"
             ],
             [
              0.7777777777777778,
              "#6ece58"
             ],
             [
              0.8888888888888888,
              "#b5de2b"
             ],
             [
              1,
              "#fde725"
             ]
            ],
            "type": "histogram2d"
           }
          ],
          "histogram2dcontour": [
           {
            "colorbar": {
             "outlinewidth": 1,
             "tickcolor": "rgb(36,36,36)",
             "ticks": "outside"
            },
            "colorscale": [
             [
              0,
              "#440154"
             ],
             [
              0.1111111111111111,
              "#482878"
             ],
             [
              0.2222222222222222,
              "#3e4989"
             ],
             [
              0.3333333333333333,
              "#31688e"
             ],
             [
              0.4444444444444444,
              "#26828e"
             ],
             [
              0.5555555555555556,
              "#1f9e89"
             ],
             [
              0.6666666666666666,
              "#35b779"
             ],
             [
              0.7777777777777778,
              "#6ece58"
             ],
             [
              0.8888888888888888,
              "#b5de2b"
             ],
             [
              1,
              "#fde725"
             ]
            ],
            "type": "histogram2dcontour"
           }
          ],
          "mesh3d": [
           {
            "colorbar": {
             "outlinewidth": 1,
             "tickcolor": "rgb(36,36,36)",
             "ticks": "outside"
            },
            "type": "mesh3d"
           }
          ],
          "parcoords": [
           {
            "line": {
             "colorbar": {
              "outlinewidth": 1,
              "tickcolor": "rgb(36,36,36)",
              "ticks": "outside"
             }
            },
            "type": "parcoords"
           }
          ],
          "pie": [
           {
            "automargin": true,
            "type": "pie"
           }
          ],
          "scatter": [
           {
            "fillpattern": {
             "fillmode": "overlay",
             "size": 10,
             "solidity": 0.2
            },
            "type": "scatter"
           }
          ],
          "scatter3d": [
           {
            "line": {
             "colorbar": {
              "outlinewidth": 1,
              "tickcolor": "rgb(36,36,36)",
              "ticks": "outside"
             }
            },
            "marker": {
             "colorbar": {
              "outlinewidth": 1,
              "tickcolor": "rgb(36,36,36)",
              "ticks": "outside"
             }
            },
            "type": "scatter3d"
           }
          ],
          "scattercarpet": [
           {
            "marker": {
             "colorbar": {
              "outlinewidth": 1,
              "tickcolor": "rgb(36,36,36)",
              "ticks": "outside"
             }
            },
            "type": "scattercarpet"
           }
          ],
          "scattergeo": [
           {
            "marker": {
             "colorbar": {
              "outlinewidth": 1,
              "tickcolor": "rgb(36,36,36)",
              "ticks": "outside"
             }
            },
            "type": "scattergeo"
           }
          ],
          "scattergl": [
           {
            "marker": {
             "colorbar": {
              "outlinewidth": 1,
              "tickcolor": "rgb(36,36,36)",
              "ticks": "outside"
             }
            },
            "type": "scattergl"
           }
          ],
          "scattermapbox": [
           {
            "marker": {
             "colorbar": {
              "outlinewidth": 1,
              "tickcolor": "rgb(36,36,36)",
              "ticks": "outside"
             }
            },
            "type": "scattermapbox"
           }
          ],
          "scatterpolar": [
           {
            "marker": {
             "colorbar": {
              "outlinewidth": 1,
              "tickcolor": "rgb(36,36,36)",
              "ticks": "outside"
             }
            },
            "type": "scatterpolar"
           }
          ],
          "scatterpolargl": [
           {
            "marker": {
             "colorbar": {
              "outlinewidth": 1,
              "tickcolor": "rgb(36,36,36)",
              "ticks": "outside"
             }
            },
            "type": "scatterpolargl"
           }
          ],
          "scatterternary": [
           {
            "marker": {
             "colorbar": {
              "outlinewidth": 1,
              "tickcolor": "rgb(36,36,36)",
              "ticks": "outside"
             }
            },
            "type": "scatterternary"
           }
          ],
          "surface": [
           {
            "colorbar": {
             "outlinewidth": 1,
             "tickcolor": "rgb(36,36,36)",
             "ticks": "outside"
            },
            "colorscale": [
             [
              0,
              "#440154"
             ],
             [
              0.1111111111111111,
              "#482878"
             ],
             [
              0.2222222222222222,
              "#3e4989"
             ],
             [
              0.3333333333333333,
              "#31688e"
             ],
             [
              0.4444444444444444,
              "#26828e"
             ],
             [
              0.5555555555555556,
              "#1f9e89"
             ],
             [
              0.6666666666666666,
              "#35b779"
             ],
             [
              0.7777777777777778,
              "#6ece58"
             ],
             [
              0.8888888888888888,
              "#b5de2b"
             ],
             [
              1,
              "#fde725"
             ]
            ],
            "type": "surface"
           }
          ],
          "table": [
           {
            "cells": {
             "fill": {
              "color": "rgb(237,237,237)"
             },
             "line": {
              "color": "white"
             }
            },
            "header": {
             "fill": {
              "color": "rgb(217,217,217)"
             },
             "line": {
              "color": "white"
             }
            },
            "type": "table"
           }
          ]
         },
         "layout": {
          "annotationdefaults": {
           "arrowhead": 0,
           "arrowwidth": 1
          },
          "autotypenumbers": "strict",
          "coloraxis": {
           "colorbar": {
            "outlinewidth": 1,
            "tickcolor": "rgb(36,36,36)",
            "ticks": "outside"
           }
          },
          "colorscale": {
           "diverging": [
            [
             0,
             "rgb(103,0,31)"
            ],
            [
             0.1,
             "rgb(178,24,43)"
            ],
            [
             0.2,
             "rgb(214,96,77)"
            ],
            [
             0.3,
             "rgb(244,165,130)"
            ],
            [
             0.4,
             "rgb(253,219,199)"
            ],
            [
             0.5,
             "rgb(247,247,247)"
            ],
            [
             0.6,
             "rgb(209,229,240)"
            ],
            [
             0.7,
             "rgb(146,197,222)"
            ],
            [
             0.8,
             "rgb(67,147,195)"
            ],
            [
             0.9,
             "rgb(33,102,172)"
            ],
            [
             1,
             "rgb(5,48,97)"
            ]
           ],
           "sequential": [
            [
             0,
             "#440154"
            ],
            [
             0.1111111111111111,
             "#482878"
            ],
            [
             0.2222222222222222,
             "#3e4989"
            ],
            [
             0.3333333333333333,
             "#31688e"
            ],
            [
             0.4444444444444444,
             "#26828e"
            ],
            [
             0.5555555555555556,
             "#1f9e89"
            ],
            [
             0.6666666666666666,
             "#35b779"
            ],
            [
             0.7777777777777778,
             "#6ece58"
            ],
            [
             0.8888888888888888,
             "#b5de2b"
            ],
            [
             1,
             "#fde725"
            ]
           ],
           "sequentialminus": [
            [
             0,
             "#440154"
            ],
            [
             0.1111111111111111,
             "#482878"
            ],
            [
             0.2222222222222222,
             "#3e4989"
            ],
            [
             0.3333333333333333,
             "#31688e"
            ],
            [
             0.4444444444444444,
             "#26828e"
            ],
            [
             0.5555555555555556,
             "#1f9e89"
            ],
            [
             0.6666666666666666,
             "#35b779"
            ],
            [
             0.7777777777777778,
             "#6ece58"
            ],
            [
             0.8888888888888888,
             "#b5de2b"
            ],
            [
             1,
             "#fde725"
            ]
           ]
          },
          "colorway": [
           "#1F77B4",
           "#FF7F0E",
           "#2CA02C",
           "#D62728",
           "#9467BD",
           "#8C564B",
           "#E377C2",
           "#7F7F7F",
           "#BCBD22",
           "#17BECF"
          ],
          "font": {
           "color": "rgb(36,36,36)"
          },
          "geo": {
           "bgcolor": "white",
           "lakecolor": "white",
           "landcolor": "white",
           "showlakes": true,
           "showland": true,
           "subunitcolor": "white"
          },
          "hoverlabel": {
           "align": "left"
          },
          "hovermode": "closest",
          "mapbox": {
           "style": "light"
          },
          "paper_bgcolor": "white",
          "plot_bgcolor": "white",
          "polar": {
           "angularaxis": {
            "gridcolor": "rgb(232,232,232)",
            "linecolor": "rgb(36,36,36)",
            "showgrid": false,
            "showline": true,
            "ticks": "outside"
           },
           "bgcolor": "white",
           "radialaxis": {
            "gridcolor": "rgb(232,232,232)",
            "linecolor": "rgb(36,36,36)",
            "showgrid": false,
            "showline": true,
            "ticks": "outside"
           }
          },
          "scene": {
           "xaxis": {
            "backgroundcolor": "white",
            "gridcolor": "rgb(232,232,232)",
            "gridwidth": 2,
            "linecolor": "rgb(36,36,36)",
            "showbackground": true,
            "showgrid": false,
            "showline": true,
            "ticks": "outside",
            "zeroline": false,
            "zerolinecolor": "rgb(36,36,36)"
           },
           "yaxis": {
            "backgroundcolor": "white",
            "gridcolor": "rgb(232,232,232)",
            "gridwidth": 2,
            "linecolor": "rgb(36,36,36)",
            "showbackground": true,
            "showgrid": false,
            "showline": true,
            "ticks": "outside",
            "zeroline": false,
            "zerolinecolor": "rgb(36,36,36)"
           },
           "zaxis": {
            "backgroundcolor": "white",
            "gridcolor": "rgb(232,232,232)",
            "gridwidth": 2,
            "linecolor": "rgb(36,36,36)",
            "showbackground": true,
            "showgrid": false,
            "showline": true,
            "ticks": "outside",
            "zeroline": false,
            "zerolinecolor": "rgb(36,36,36)"
           }
          },
          "shapedefaults": {
           "fillcolor": "black",
           "line": {
            "width": 0
           },
           "opacity": 0.3
          },
          "ternary": {
           "aaxis": {
            "gridcolor": "rgb(232,232,232)",
            "linecolor": "rgb(36,36,36)",
            "showgrid": false,
            "showline": true,
            "ticks": "outside"
           },
           "baxis": {
            "gridcolor": "rgb(232,232,232)",
            "linecolor": "rgb(36,36,36)",
            "showgrid": false,
            "showline": true,
            "ticks": "outside"
           },
           "bgcolor": "white",
           "caxis": {
            "gridcolor": "rgb(232,232,232)",
            "linecolor": "rgb(36,36,36)",
            "showgrid": false,
            "showline": true,
            "ticks": "outside"
           }
          },
          "title": {
           "x": 0.05
          },
          "xaxis": {
           "automargin": true,
           "gridcolor": "rgb(232,232,232)",
           "linecolor": "rgb(36,36,36)",
           "showgrid": false,
           "showline": true,
           "ticks": "outside",
           "title": {
            "standoff": 15
           },
           "zeroline": false,
           "zerolinecolor": "rgb(36,36,36)"
          },
          "yaxis": {
           "automargin": true,
           "gridcolor": "rgb(232,232,232)",
           "linecolor": "rgb(36,36,36)",
           "showgrid": false,
           "showline": true,
           "ticks": "outside",
           "title": {
            "standoff": 15
           },
           "zeroline": false,
           "zerolinecolor": "rgb(36,36,36)"
          }
         }
        },
        "width": 600,
        "xaxis": {
         "griddash": "dash",
         "minor": {
          "griddash": "dot",
          "ticks": "inside"
         },
         "showgrid": true
        },
        "yaxis": {
         "griddash": "dash",
         "minor": {
          "griddash": "dot",
          "ticks": "inside"
         },
         "showgrid": true,
         "title": {
          "text": "Daily close price (USD)"
         }
        }
       }
      }
     },
     "metadata": {},
     "output_type": "display_data"
    }
   ],
   "source": [
    "\n",
    "fig = go.Figure(layout=layout)\n",
    "fig.update_layout(width=600, height=300)\n",
    "\n",
    "fig.add_trace(go.Scatter(x=df_per_day.index,\n",
    "                            y=df_per_day['spot_price'].astype(\n",
    "                                float),\n",
    "                            mode='lines',\n",
    "                            name = 'AMM ETH Price'))\n",
    "\n",
    "fig.add_trace(go.Scatter(x=df_per_day.index,\n",
    "                            y=df_per_day['CEX_price'].astype(\n",
    "                                float),\n",
    "                            mode='lines',\n",
    "                            name = 'CEX ETH Price'))\n",
    "\n",
    "fig.update_layout(  yaxis_title='Daily close price (USD)', showlegend=True,\n",
    "                    legend=dict(xanchor='center', x=0.5, y=1.10, orientation='h'),)\n",
    "#fig.write_image(f\"./plots/{contract_name}_{event_name}.pdf\")"
   ]
  },
  {
   "cell_type": "code",
   "execution_count": 31,
   "metadata": {},
   "outputs": [
    {
     "data": {
      "application/vnd.plotly.v1+json": {
       "config": {
        "plotlyServerURL": "https://plot.ly"
       },
       "data": [
        {
         "mode": "lines",
         "name": "Daily MAV for USDC-ETH at SyncSwap",
         "type": "scatter",
         "x": [
          "2023-07-01T00:00:00",
          "2023-07-02T00:00:00",
          "2023-07-03T00:00:00",
          "2023-07-04T00:00:00",
          "2023-07-05T00:00:00",
          "2023-07-06T00:00:00",
          "2023-07-07T00:00:00",
          "2023-07-08T00:00:00",
          "2023-07-09T00:00:00",
          "2023-07-10T00:00:00",
          "2023-07-11T00:00:00",
          "2023-07-12T00:00:00",
          "2023-07-13T00:00:00",
          "2023-07-14T00:00:00",
          "2023-07-15T00:00:00",
          "2023-07-16T00:00:00",
          "2023-07-17T00:00:00",
          "2023-07-18T00:00:00",
          "2023-07-19T00:00:00",
          "2023-07-20T00:00:00",
          "2023-07-21T00:00:00",
          "2023-07-22T00:00:00",
          "2023-07-23T00:00:00",
          "2023-07-24T00:00:00",
          "2023-07-25T00:00:00",
          "2023-07-26T00:00:00",
          "2023-07-27T00:00:00",
          "2023-07-28T00:00:00",
          "2023-07-29T00:00:00",
          "2023-07-30T00:00:00",
          "2023-07-31T00:00:00",
          "2023-08-01T00:00:00",
          "2023-08-02T00:00:00",
          "2023-08-03T00:00:00",
          "2023-08-04T00:00:00",
          "2023-08-05T00:00:00",
          "2023-08-06T00:00:00",
          "2023-08-07T00:00:00",
          "2023-08-08T00:00:00",
          "2023-08-09T00:00:00",
          "2023-08-10T00:00:00",
          "2023-08-11T00:00:00",
          "2023-08-12T00:00:00",
          "2023-08-13T00:00:00",
          "2023-08-14T00:00:00",
          "2023-08-15T00:00:00",
          "2023-08-16T00:00:00",
          "2023-08-17T00:00:00",
          "2023-08-18T00:00:00",
          "2023-08-19T00:00:00",
          "2023-08-20T00:00:00",
          "2023-08-21T00:00:00",
          "2023-08-22T00:00:00",
          "2023-08-23T00:00:00",
          "2023-08-24T00:00:00",
          "2023-08-25T00:00:00",
          "2023-08-26T00:00:00",
          "2023-08-27T00:00:00",
          "2023-08-28T00:00:00",
          "2023-08-29T00:00:00",
          "2023-08-30T00:00:00",
          "2023-08-31T00:00:00",
          "2023-09-01T00:00:00",
          "2023-09-02T00:00:00",
          "2023-09-03T00:00:00",
          "2023-09-04T00:00:00",
          "2023-09-05T00:00:00",
          "2023-09-06T00:00:00",
          "2023-09-07T00:00:00",
          "2023-09-08T00:00:00",
          "2023-09-09T00:00:00",
          "2023-09-10T00:00:00",
          "2023-09-11T00:00:00",
          "2023-09-12T00:00:00",
          "2023-09-13T00:00:00",
          "2023-09-14T00:00:00",
          "2023-09-15T00:00:00",
          "2023-09-16T00:00:00",
          "2023-09-17T00:00:00"
         ],
         "y": [
          10740.70061500919,
          11394.086172809002,
          8621.717848788216,
          3780.8127822168235,
          5240.813271822759,
          11674.97880733319,
          13398.303521333488,
          4960.594466987896,
          26440.71208617601,
          14335.466966553575,
          3659.030068353636,
          6502.038487105528,
          39574.781025859476,
          13710.09948274654,
          2417.6335883393845,
          2147.3388837122675,
          3971.801887250785,
          2625.8702478401833,
          3129.4801385888472,
          3362.9340843822447,
          943.9357964738793,
          748.6686587985173,
          2117.7647427974566,
          2602.1394587470786,
          1853.9153858457632,
          1842.7588277249674,
          1823.8695764694285,
          1378.3173413558766,
          1095.446912201117,
          1036.7750305739007,
          811.9985063933638,
          3899.1833822380486,
          2239.5928156147725,
          1256.486797145005,
          1320.3274535391954,
          308.8581928128272,
          705.8589892781027,
          1053.8854536022475,
          1858.6691341203689,
          757.4790297169873,
          788.3033577989324,
          852.2311134698541,
          309.07113711323376,
          1549.903434465498,
          1316.5062538128416,
          945.2437057875102,
          839.5598855126482,
          30526.69182682296,
          8342.970468645455,
          726.0336344740458,
          936.7649233368059,
          1315.2126340942855,
          2516.2922450075216,
          3935.824759820301,
          1370.2706432954033,
          1200.1623586626938,
          220.1770673129306,
          1184.9273165159393,
          782.1253988016088,
          27551.168859217723,
          517.9493781903337,
          4949.547293047478,
          1713.9547274239294,
          5904.522868335514,
          3672.748922105572,
          1534.6829736065865,
          2237.120158659941,
          8277.871937654892,
          6914.170997197003,
          4295.725582823352,
          1204.9574567177144,
          8124.61958910384,
          8957.144899844521,
          11941.465286077193,
          3531.146681544245,
          6269.763432150614,
          3180.6258332933953,
          4443.033771351215,
          2293.144636461555
         ]
        }
       ],
       "layout": {
        "legend": {
         "orientation": "h",
         "x": 0.5,
         "xanchor": "center",
         "y": 1.1
        },
        "margin": {
         "b": 10,
         "l": 10,
         "r": 10,
         "t": 10
        },
        "showlegend": true,
        "template": {
         "data": {
          "bar": [
           {
            "error_x": {
             "color": "rgb(36,36,36)"
            },
            "error_y": {
             "color": "rgb(36,36,36)"
            },
            "marker": {
             "line": {
              "color": "white",
              "width": 0.5
             },
             "pattern": {
              "fillmode": "overlay",
              "size": 10,
              "solidity": 0.2
             }
            },
            "type": "bar"
           }
          ],
          "barpolar": [
           {
            "marker": {
             "line": {
              "color": "white",
              "width": 0.5
             },
             "pattern": {
              "fillmode": "overlay",
              "size": 10,
              "solidity": 0.2
             }
            },
            "type": "barpolar"
           }
          ],
          "carpet": [
           {
            "aaxis": {
             "endlinecolor": "rgb(36,36,36)",
             "gridcolor": "white",
             "linecolor": "white",
             "minorgridcolor": "white",
             "startlinecolor": "rgb(36,36,36)"
            },
            "baxis": {
             "endlinecolor": "rgb(36,36,36)",
             "gridcolor": "white",
             "linecolor": "white",
             "minorgridcolor": "white",
             "startlinecolor": "rgb(36,36,36)"
            },
            "type": "carpet"
           }
          ],
          "choropleth": [
           {
            "colorbar": {
             "outlinewidth": 1,
             "tickcolor": "rgb(36,36,36)",
             "ticks": "outside"
            },
            "type": "choropleth"
           }
          ],
          "contour": [
           {
            "colorbar": {
             "outlinewidth": 1,
             "tickcolor": "rgb(36,36,36)",
             "ticks": "outside"
            },
            "colorscale": [
             [
              0,
              "#440154"
             ],
             [
              0.1111111111111111,
              "#482878"
             ],
             [
              0.2222222222222222,
              "#3e4989"
             ],
             [
              0.3333333333333333,
              "#31688e"
             ],
             [
              0.4444444444444444,
              "#26828e"
             ],
             [
              0.5555555555555556,
              "#1f9e89"
             ],
             [
              0.6666666666666666,
              "#35b779"
             ],
             [
              0.7777777777777778,
              "#6ece58"
             ],
             [
              0.8888888888888888,
              "#b5de2b"
             ],
             [
              1,
              "#fde725"
             ]
            ],
            "type": "contour"
           }
          ],
          "contourcarpet": [
           {
            "colorbar": {
             "outlinewidth": 1,
             "tickcolor": "rgb(36,36,36)",
             "ticks": "outside"
            },
            "type": "contourcarpet"
           }
          ],
          "heatmap": [
           {
            "colorbar": {
             "outlinewidth": 1,
             "tickcolor": "rgb(36,36,36)",
             "ticks": "outside"
            },
            "colorscale": [
             [
              0,
              "#440154"
             ],
             [
              0.1111111111111111,
              "#482878"
             ],
             [
              0.2222222222222222,
              "#3e4989"
             ],
             [
              0.3333333333333333,
              "#31688e"
             ],
             [
              0.4444444444444444,
              "#26828e"
             ],
             [
              0.5555555555555556,
              "#1f9e89"
             ],
             [
              0.6666666666666666,
              "#35b779"
             ],
             [
              0.7777777777777778,
              "#6ece58"
             ],
             [
              0.8888888888888888,
              "#b5de2b"
             ],
             [
              1,
              "#fde725"
             ]
            ],
            "type": "heatmap"
           }
          ],
          "heatmapgl": [
           {
            "colorbar": {
             "outlinewidth": 1,
             "tickcolor": "rgb(36,36,36)",
             "ticks": "outside"
            },
            "colorscale": [
             [
              0,
              "#440154"
             ],
             [
              0.1111111111111111,
              "#482878"
             ],
             [
              0.2222222222222222,
              "#3e4989"
             ],
             [
              0.3333333333333333,
              "#31688e"
             ],
             [
              0.4444444444444444,
              "#26828e"
             ],
             [
              0.5555555555555556,
              "#1f9e89"
             ],
             [
              0.6666666666666666,
              "#35b779"
             ],
             [
              0.7777777777777778,
              "#6ece58"
             ],
             [
              0.8888888888888888,
              "#b5de2b"
             ],
             [
              1,
              "#fde725"
             ]
            ],
            "type": "heatmapgl"
           }
          ],
          "histogram": [
           {
            "marker": {
             "line": {
              "color": "white",
              "width": 0.6
             }
            },
            "type": "histogram"
           }
          ],
          "histogram2d": [
           {
            "colorbar": {
             "outlinewidth": 1,
             "tickcolor": "rgb(36,36,36)",
             "ticks": "outside"
            },
            "colorscale": [
             [
              0,
              "#440154"
             ],
             [
              0.1111111111111111,
              "#482878"
             ],
             [
              0.2222222222222222,
              "#3e4989"
             ],
             [
              0.3333333333333333,
              "#31688e"
             ],
             [
              0.4444444444444444,
              "#26828e"
             ],
             [
              0.5555555555555556,
              "#1f9e89"
             ],
             [
              0.6666666666666666,
              "#35b779"
             ],
             [
              0.7777777777777778,
              "#6ece58"
             ],
             [
              0.8888888888888888,
              "#b5de2b"
             ],
             [
              1,
              "#fde725"
             ]
            ],
            "type": "histogram2d"
           }
          ],
          "histogram2dcontour": [
           {
            "colorbar": {
             "outlinewidth": 1,
             "tickcolor": "rgb(36,36,36)",
             "ticks": "outside"
            },
            "colorscale": [
             [
              0,
              "#440154"
             ],
             [
              0.1111111111111111,
              "#482878"
             ],
             [
              0.2222222222222222,
              "#3e4989"
             ],
             [
              0.3333333333333333,
              "#31688e"
             ],
             [
              0.4444444444444444,
              "#26828e"
             ],
             [
              0.5555555555555556,
              "#1f9e89"
             ],
             [
              0.6666666666666666,
              "#35b779"
             ],
             [
              0.7777777777777778,
              "#6ece58"
             ],
             [
              0.8888888888888888,
              "#b5de2b"
             ],
             [
              1,
              "#fde725"
             ]
            ],
            "type": "histogram2dcontour"
           }
          ],
          "mesh3d": [
           {
            "colorbar": {
             "outlinewidth": 1,
             "tickcolor": "rgb(36,36,36)",
             "ticks": "outside"
            },
            "type": "mesh3d"
           }
          ],
          "parcoords": [
           {
            "line": {
             "colorbar": {
              "outlinewidth": 1,
              "tickcolor": "rgb(36,36,36)",
              "ticks": "outside"
             }
            },
            "type": "parcoords"
           }
          ],
          "pie": [
           {
            "automargin": true,
            "type": "pie"
           }
          ],
          "scatter": [
           {
            "fillpattern": {
             "fillmode": "overlay",
             "size": 10,
             "solidity": 0.2
            },
            "type": "scatter"
           }
          ],
          "scatter3d": [
           {
            "line": {
             "colorbar": {
              "outlinewidth": 1,
              "tickcolor": "rgb(36,36,36)",
              "ticks": "outside"
             }
            },
            "marker": {
             "colorbar": {
              "outlinewidth": 1,
              "tickcolor": "rgb(36,36,36)",
              "ticks": "outside"
             }
            },
            "type": "scatter3d"
           }
          ],
          "scattercarpet": [
           {
            "marker": {
             "colorbar": {
              "outlinewidth": 1,
              "tickcolor": "rgb(36,36,36)",
              "ticks": "outside"
             }
            },
            "type": "scattercarpet"
           }
          ],
          "scattergeo": [
           {
            "marker": {
             "colorbar": {
              "outlinewidth": 1,
              "tickcolor": "rgb(36,36,36)",
              "ticks": "outside"
             }
            },
            "type": "scattergeo"
           }
          ],
          "scattergl": [
           {
            "marker": {
             "colorbar": {
              "outlinewidth": 1,
              "tickcolor": "rgb(36,36,36)",
              "ticks": "outside"
             }
            },
            "type": "scattergl"
           }
          ],
          "scattermapbox": [
           {
            "marker": {
             "colorbar": {
              "outlinewidth": 1,
              "tickcolor": "rgb(36,36,36)",
              "ticks": "outside"
             }
            },
            "type": "scattermapbox"
           }
          ],
          "scatterpolar": [
           {
            "marker": {
             "colorbar": {
              "outlinewidth": 1,
              "tickcolor": "rgb(36,36,36)",
              "ticks": "outside"
             }
            },
            "type": "scatterpolar"
           }
          ],
          "scatterpolargl": [
           {
            "marker": {
             "colorbar": {
              "outlinewidth": 1,
              "tickcolor": "rgb(36,36,36)",
              "ticks": "outside"
             }
            },
            "type": "scatterpolargl"
           }
          ],
          "scatterternary": [
           {
            "marker": {
             "colorbar": {
              "outlinewidth": 1,
              "tickcolor": "rgb(36,36,36)",
              "ticks": "outside"
             }
            },
            "type": "scatterternary"
           }
          ],
          "surface": [
           {
            "colorbar": {
             "outlinewidth": 1,
             "tickcolor": "rgb(36,36,36)",
             "ticks": "outside"
            },
            "colorscale": [
             [
              0,
              "#440154"
             ],
             [
              0.1111111111111111,
              "#482878"
             ],
             [
              0.2222222222222222,
              "#3e4989"
             ],
             [
              0.3333333333333333,
              "#31688e"
             ],
             [
              0.4444444444444444,
              "#26828e"
             ],
             [
              0.5555555555555556,
              "#1f9e89"
             ],
             [
              0.6666666666666666,
              "#35b779"
             ],
             [
              0.7777777777777778,
              "#6ece58"
             ],
             [
              0.8888888888888888,
              "#b5de2b"
             ],
             [
              1,
              "#fde725"
             ]
            ],
            "type": "surface"
           }
          ],
          "table": [
           {
            "cells": {
             "fill": {
              "color": "rgb(237,237,237)"
             },
             "line": {
              "color": "white"
             }
            },
            "header": {
             "fill": {
              "color": "rgb(217,217,217)"
             },
             "line": {
              "color": "white"
             }
            },
            "type": "table"
           }
          ]
         },
         "layout": {
          "annotationdefaults": {
           "arrowhead": 0,
           "arrowwidth": 1
          },
          "autotypenumbers": "strict",
          "coloraxis": {
           "colorbar": {
            "outlinewidth": 1,
            "tickcolor": "rgb(36,36,36)",
            "ticks": "outside"
           }
          },
          "colorscale": {
           "diverging": [
            [
             0,
             "rgb(103,0,31)"
            ],
            [
             0.1,
             "rgb(178,24,43)"
            ],
            [
             0.2,
             "rgb(214,96,77)"
            ],
            [
             0.3,
             "rgb(244,165,130)"
            ],
            [
             0.4,
             "rgb(253,219,199)"
            ],
            [
             0.5,
             "rgb(247,247,247)"
            ],
            [
             0.6,
             "rgb(209,229,240)"
            ],
            [
             0.7,
             "rgb(146,197,222)"
            ],
            [
             0.8,
             "rgb(67,147,195)"
            ],
            [
             0.9,
             "rgb(33,102,172)"
            ],
            [
             1,
             "rgb(5,48,97)"
            ]
           ],
           "sequential": [
            [
             0,
             "#440154"
            ],
            [
             0.1111111111111111,
             "#482878"
            ],
            [
             0.2222222222222222,
             "#3e4989"
            ],
            [
             0.3333333333333333,
             "#31688e"
            ],
            [
             0.4444444444444444,
             "#26828e"
            ],
            [
             0.5555555555555556,
             "#1f9e89"
            ],
            [
             0.6666666666666666,
             "#35b779"
            ],
            [
             0.7777777777777778,
             "#6ece58"
            ],
            [
             0.8888888888888888,
             "#b5de2b"
            ],
            [
             1,
             "#fde725"
            ]
           ],
           "sequentialminus": [
            [
             0,
             "#440154"
            ],
            [
             0.1111111111111111,
             "#482878"
            ],
            [
             0.2222222222222222,
             "#3e4989"
            ],
            [
             0.3333333333333333,
             "#31688e"
            ],
            [
             0.4444444444444444,
             "#26828e"
            ],
            [
             0.5555555555555556,
             "#1f9e89"
            ],
            [
             0.6666666666666666,
             "#35b779"
            ],
            [
             0.7777777777777778,
             "#6ece58"
            ],
            [
             0.8888888888888888,
             "#b5de2b"
            ],
            [
             1,
             "#fde725"
            ]
           ]
          },
          "colorway": [
           "#1F77B4",
           "#FF7F0E",
           "#2CA02C",
           "#D62728",
           "#9467BD",
           "#8C564B",
           "#E377C2",
           "#7F7F7F",
           "#BCBD22",
           "#17BECF"
          ],
          "font": {
           "color": "rgb(36,36,36)"
          },
          "geo": {
           "bgcolor": "white",
           "lakecolor": "white",
           "landcolor": "white",
           "showlakes": true,
           "showland": true,
           "subunitcolor": "white"
          },
          "hoverlabel": {
           "align": "left"
          },
          "hovermode": "closest",
          "mapbox": {
           "style": "light"
          },
          "paper_bgcolor": "white",
          "plot_bgcolor": "white",
          "polar": {
           "angularaxis": {
            "gridcolor": "rgb(232,232,232)",
            "linecolor": "rgb(36,36,36)",
            "showgrid": false,
            "showline": true,
            "ticks": "outside"
           },
           "bgcolor": "white",
           "radialaxis": {
            "gridcolor": "rgb(232,232,232)",
            "linecolor": "rgb(36,36,36)",
            "showgrid": false,
            "showline": true,
            "ticks": "outside"
           }
          },
          "scene": {
           "xaxis": {
            "backgroundcolor": "white",
            "gridcolor": "rgb(232,232,232)",
            "gridwidth": 2,
            "linecolor": "rgb(36,36,36)",
            "showbackground": true,
            "showgrid": false,
            "showline": true,
            "ticks": "outside",
            "zeroline": false,
            "zerolinecolor": "rgb(36,36,36)"
           },
           "yaxis": {
            "backgroundcolor": "white",
            "gridcolor": "rgb(232,232,232)",
            "gridwidth": 2,
            "linecolor": "rgb(36,36,36)",
            "showbackground": true,
            "showgrid": false,
            "showline": true,
            "ticks": "outside",
            "zeroline": false,
            "zerolinecolor": "rgb(36,36,36)"
           },
           "zaxis": {
            "backgroundcolor": "white",
            "gridcolor": "rgb(232,232,232)",
            "gridwidth": 2,
            "linecolor": "rgb(36,36,36)",
            "showbackground": true,
            "showgrid": false,
            "showline": true,
            "ticks": "outside",
            "zeroline": false,
            "zerolinecolor": "rgb(36,36,36)"
           }
          },
          "shapedefaults": {
           "fillcolor": "black",
           "line": {
            "width": 0
           },
           "opacity": 0.3
          },
          "ternary": {
           "aaxis": {
            "gridcolor": "rgb(232,232,232)",
            "linecolor": "rgb(36,36,36)",
            "showgrid": false,
            "showline": true,
            "ticks": "outside"
           },
           "baxis": {
            "gridcolor": "rgb(232,232,232)",
            "linecolor": "rgb(36,36,36)",
            "showgrid": false,
            "showline": true,
            "ticks": "outside"
           },
           "bgcolor": "white",
           "caxis": {
            "gridcolor": "rgb(232,232,232)",
            "linecolor": "rgb(36,36,36)",
            "showgrid": false,
            "showline": true,
            "ticks": "outside"
           }
          },
          "title": {
           "x": 0.05
          },
          "xaxis": {
           "automargin": true,
           "gridcolor": "rgb(232,232,232)",
           "linecolor": "rgb(36,36,36)",
           "showgrid": false,
           "showline": true,
           "ticks": "outside",
           "title": {
            "standoff": 15
           },
           "zeroline": false,
           "zerolinecolor": "rgb(36,36,36)"
          },
          "yaxis": {
           "automargin": true,
           "gridcolor": "rgb(232,232,232)",
           "linecolor": "rgb(36,36,36)",
           "showgrid": false,
           "showline": true,
           "ticks": "outside",
           "title": {
            "standoff": 15
           },
           "zeroline": false,
           "zerolinecolor": "rgb(36,36,36)"
          }
         }
        },
        "xaxis": {
         "title": {
          "text": "Date"
         }
        },
        "yaxis": {
         "title": {
          "text": "Daily MAV (USDC)"
         }
        }
       }
      }
     },
     "metadata": {},
     "output_type": "display_data"
    }
   ],
   "source": [
    "fig = go.Figure(layout=layout)\n",
    "\n",
    "fig.add_trace(go.Scatter(x=df_per_day.index,\n",
    "                            y=df_per_day['MAV_0'].astype(\n",
    "                                float),\n",
    "                            mode='lines',\n",
    "                            name = f'Daily MAV for {token0}-{token1} at {exchange_name}'))\n",
    "\n",
    "fig.update_layout(xaxis_title='Date',\n",
    "                    yaxis_title=f'Daily MAV ({token0})', showlegend=True,\n",
    "                    legend=dict(xanchor='center', x=0.5, y=1.10, orientation='h'),)\n",
    "#fig.write_image(f\"./plots/{contract_name}_{event_name}.pdf\")\n",
    "fig.show()"
   ]
  },
  {
   "cell_type": "code",
   "execution_count": 32,
   "metadata": {},
   "outputs": [
    {
     "data": {
      "application/vnd.plotly.v1+json": {
       "config": {
        "plotlyServerURL": "https://plot.ly"
       },
       "data": [
        {
         "mode": "lines",
         "name": "Daily max MAV for USDC-ETH at SyncSwap",
         "type": "scatter",
         "x": [
          "2023-07-01T00:00:00",
          "2023-07-02T00:00:00",
          "2023-07-03T00:00:00",
          "2023-07-04T00:00:00",
          "2023-07-05T00:00:00",
          "2023-07-06T00:00:00",
          "2023-07-07T00:00:00",
          "2023-07-08T00:00:00",
          "2023-07-09T00:00:00",
          "2023-07-10T00:00:00",
          "2023-07-11T00:00:00",
          "2023-07-12T00:00:00",
          "2023-07-13T00:00:00",
          "2023-07-14T00:00:00",
          "2023-07-15T00:00:00",
          "2023-07-16T00:00:00",
          "2023-07-17T00:00:00",
          "2023-07-18T00:00:00",
          "2023-07-19T00:00:00",
          "2023-07-20T00:00:00",
          "2023-07-21T00:00:00",
          "2023-07-22T00:00:00",
          "2023-07-23T00:00:00",
          "2023-07-24T00:00:00",
          "2023-07-25T00:00:00",
          "2023-07-26T00:00:00",
          "2023-07-27T00:00:00",
          "2023-07-28T00:00:00",
          "2023-07-29T00:00:00",
          "2023-07-30T00:00:00",
          "2023-07-31T00:00:00",
          "2023-08-01T00:00:00",
          "2023-08-02T00:00:00",
          "2023-08-03T00:00:00",
          "2023-08-04T00:00:00",
          "2023-08-05T00:00:00",
          "2023-08-06T00:00:00",
          "2023-08-07T00:00:00",
          "2023-08-08T00:00:00",
          "2023-08-09T00:00:00",
          "2023-08-10T00:00:00",
          "2023-08-11T00:00:00",
          "2023-08-12T00:00:00",
          "2023-08-13T00:00:00",
          "2023-08-14T00:00:00",
          "2023-08-15T00:00:00",
          "2023-08-16T00:00:00",
          "2023-08-17T00:00:00",
          "2023-08-18T00:00:00",
          "2023-08-19T00:00:00",
          "2023-08-20T00:00:00",
          "2023-08-21T00:00:00",
          "2023-08-22T00:00:00",
          "2023-08-23T00:00:00",
          "2023-08-24T00:00:00",
          "2023-08-25T00:00:00",
          "2023-08-26T00:00:00",
          "2023-08-27T00:00:00",
          "2023-08-28T00:00:00",
          "2023-08-29T00:00:00",
          "2023-08-30T00:00:00",
          "2023-08-31T00:00:00",
          "2023-09-01T00:00:00",
          "2023-09-02T00:00:00",
          "2023-09-03T00:00:00",
          "2023-09-04T00:00:00",
          "2023-09-05T00:00:00",
          "2023-09-06T00:00:00",
          "2023-09-07T00:00:00",
          "2023-09-08T00:00:00",
          "2023-09-09T00:00:00",
          "2023-09-10T00:00:00",
          "2023-09-11T00:00:00",
          "2023-09-12T00:00:00",
          "2023-09-13T00:00:00",
          "2023-09-14T00:00:00",
          "2023-09-15T00:00:00",
          "2023-09-16T00:00:00",
          "2023-09-17T00:00:00"
         ],
         "y": [
          3074.1317860872737,
          2841.1677457344294,
          3362.900325236597,
          1201.497022305187,
          1853.190578016376,
          3436.333101779218,
          3577.294700621691,
          1587.5210237597892,
          4089.849595823014,
          2873.050831096223,
          1278.7999043029017,
          2544.3292875120405,
          8800.361481640803,
          4098.608539535815,
          490.42264902309284,
          704.3186025818281,
          1072.5319598576273,
          288.05015511309983,
          637.9180159045778,
          608.080297645004,
          96.46467747720602,
          218.42942606565506,
          394.605741921029,
          376.03778499930564,
          817.8890146903416,
          190.59604788670276,
          345.3529477077814,
          326.42701266541695,
          205.7541145168376,
          262.06860584746084,
          153.44456024492317,
          1162.672178474726,
          309.5325205764075,
          140.68001482108005,
          454.59908667597887,
          76.75232766526679,
          238.07614931025938,
          132.78603345634468,
          199.22816922977273,
          87.74700155234397,
          75.32993920631993,
          101.21211886212035,
          58.12559533396079,
          295.19493009117497,
          289.9388211531237,
          312.9189483271027,
          232.87278138654935,
          8669.512138978469,
          4531.015876760132,
          56.57658693547413,
          88.6500309882121,
          409.1086007432101,
          729.5523831964904,
          1364.6480571520906,
          549.8623376186032,
          830.2605610238573,
          0,
          659.3477248649356,
          313.04512213944827,
          5038.356653987506,
          72.45008621294252,
          3354.361128005103,
          421.31772631655724,
          694.1743990694749,
          832.3939821021984,
          844.2147221036898,
          906.856438203091,
          2154.525352930665,
          987.8427145317098,
          1288.3874818676913,
          277.77652316432943,
          1832.0796714422204,
          2503.26539575412,
          2537.2062131741,
          1446.801620369656,
          2296.2116098957804,
          1202.653036121001,
          1131.1274157496528,
          961.8534389931808
         ]
        }
       ],
       "layout": {
        "legend": {
         "orientation": "h",
         "x": 0.5,
         "xanchor": "center",
         "y": 1.1
        },
        "margin": {
         "b": 10,
         "l": 10,
         "r": 10,
         "t": 10
        },
        "showlegend": true,
        "template": {
         "data": {
          "bar": [
           {
            "error_x": {
             "color": "rgb(36,36,36)"
            },
            "error_y": {
             "color": "rgb(36,36,36)"
            },
            "marker": {
             "line": {
              "color": "white",
              "width": 0.5
             },
             "pattern": {
              "fillmode": "overlay",
              "size": 10,
              "solidity": 0.2
             }
            },
            "type": "bar"
           }
          ],
          "barpolar": [
           {
            "marker": {
             "line": {
              "color": "white",
              "width": 0.5
             },
             "pattern": {
              "fillmode": "overlay",
              "size": 10,
              "solidity": 0.2
             }
            },
            "type": "barpolar"
           }
          ],
          "carpet": [
           {
            "aaxis": {
             "endlinecolor": "rgb(36,36,36)",
             "gridcolor": "white",
             "linecolor": "white",
             "minorgridcolor": "white",
             "startlinecolor": "rgb(36,36,36)"
            },
            "baxis": {
             "endlinecolor": "rgb(36,36,36)",
             "gridcolor": "white",
             "linecolor": "white",
             "minorgridcolor": "white",
             "startlinecolor": "rgb(36,36,36)"
            },
            "type": "carpet"
           }
          ],
          "choropleth": [
           {
            "colorbar": {
             "outlinewidth": 1,
             "tickcolor": "rgb(36,36,36)",
             "ticks": "outside"
            },
            "type": "choropleth"
           }
          ],
          "contour": [
           {
            "colorbar": {
             "outlinewidth": 1,
             "tickcolor": "rgb(36,36,36)",
             "ticks": "outside"
            },
            "colorscale": [
             [
              0,
              "#440154"
             ],
             [
              0.1111111111111111,
              "#482878"
             ],
             [
              0.2222222222222222,
              "#3e4989"
             ],
             [
              0.3333333333333333,
              "#31688e"
             ],
             [
              0.4444444444444444,
              "#26828e"
             ],
             [
              0.5555555555555556,
              "#1f9e89"
             ],
             [
              0.6666666666666666,
              "#35b779"
             ],
             [
              0.7777777777777778,
              "#6ece58"
             ],
             [
              0.8888888888888888,
              "#b5de2b"
             ],
             [
              1,
              "#fde725"
             ]
            ],
            "type": "contour"
           }
          ],
          "contourcarpet": [
           {
            "colorbar": {
             "outlinewidth": 1,
             "tickcolor": "rgb(36,36,36)",
             "ticks": "outside"
            },
            "type": "contourcarpet"
           }
          ],
          "heatmap": [
           {
            "colorbar": {
             "outlinewidth": 1,
             "tickcolor": "rgb(36,36,36)",
             "ticks": "outside"
            },
            "colorscale": [
             [
              0,
              "#440154"
             ],
             [
              0.1111111111111111,
              "#482878"
             ],
             [
              0.2222222222222222,
              "#3e4989"
             ],
             [
              0.3333333333333333,
              "#31688e"
             ],
             [
              0.4444444444444444,
              "#26828e"
             ],
             [
              0.5555555555555556,
              "#1f9e89"
             ],
             [
              0.6666666666666666,
              "#35b779"
             ],
             [
              0.7777777777777778,
              "#6ece58"
             ],
             [
              0.8888888888888888,
              "#b5de2b"
             ],
             [
              1,
              "#fde725"
             ]
            ],
            "type": "heatmap"
           }
          ],
          "heatmapgl": [
           {
            "colorbar": {
             "outlinewidth": 1,
             "tickcolor": "rgb(36,36,36)",
             "ticks": "outside"
            },
            "colorscale": [
             [
              0,
              "#440154"
             ],
             [
              0.1111111111111111,
              "#482878"
             ],
             [
              0.2222222222222222,
              "#3e4989"
             ],
             [
              0.3333333333333333,
              "#31688e"
             ],
             [
              0.4444444444444444,
              "#26828e"
             ],
             [
              0.5555555555555556,
              "#1f9e89"
             ],
             [
              0.6666666666666666,
              "#35b779"
             ],
             [
              0.7777777777777778,
              "#6ece58"
             ],
             [
              0.8888888888888888,
              "#b5de2b"
             ],
             [
              1,
              "#fde725"
             ]
            ],
            "type": "heatmapgl"
           }
          ],
          "histogram": [
           {
            "marker": {
             "line": {
              "color": "white",
              "width": 0.6
             }
            },
            "type": "histogram"
           }
          ],
          "histogram2d": [
           {
            "colorbar": {
             "outlinewidth": 1,
             "tickcolor": "rgb(36,36,36)",
             "ticks": "outside"
            },
            "colorscale": [
             [
              0,
              "#440154"
             ],
             [
              0.1111111111111111,
              "#482878"
             ],
             [
              0.2222222222222222,
              "#3e4989"
             ],
             [
              0.3333333333333333,
              "#31688e"
             ],
             [
              0.4444444444444444,
              "#26828e"
             ],
             [
              0.5555555555555556,
              "#1f9e89"
             ],
             [
              0.6666666666666666,
              "#35b779"
             ],
             [
              0.7777777777777778,
              "#6ece58"
             ],
             [
              0.8888888888888888,
              "#b5de2b"
             ],
             [
              1,
              "#fde725"
             ]
            ],
            "type": "histogram2d"
           }
          ],
          "histogram2dcontour": [
           {
            "colorbar": {
             "outlinewidth": 1,
             "tickcolor": "rgb(36,36,36)",
             "ticks": "outside"
            },
            "colorscale": [
             [
              0,
              "#440154"
             ],
             [
              0.1111111111111111,
              "#482878"
             ],
             [
              0.2222222222222222,
              "#3e4989"
             ],
             [
              0.3333333333333333,
              "#31688e"
             ],
             [
              0.4444444444444444,
              "#26828e"
             ],
             [
              0.5555555555555556,
              "#1f9e89"
             ],
             [
              0.6666666666666666,
              "#35b779"
             ],
             [
              0.7777777777777778,
              "#6ece58"
             ],
             [
              0.8888888888888888,
              "#b5de2b"
             ],
             [
              1,
              "#fde725"
             ]
            ],
            "type": "histogram2dcontour"
           }
          ],
          "mesh3d": [
           {
            "colorbar": {
             "outlinewidth": 1,
             "tickcolor": "rgb(36,36,36)",
             "ticks": "outside"
            },
            "type": "mesh3d"
           }
          ],
          "parcoords": [
           {
            "line": {
             "colorbar": {
              "outlinewidth": 1,
              "tickcolor": "rgb(36,36,36)",
              "ticks": "outside"
             }
            },
            "type": "parcoords"
           }
          ],
          "pie": [
           {
            "automargin": true,
            "type": "pie"
           }
          ],
          "scatter": [
           {
            "fillpattern": {
             "fillmode": "overlay",
             "size": 10,
             "solidity": 0.2
            },
            "type": "scatter"
           }
          ],
          "scatter3d": [
           {
            "line": {
             "colorbar": {
              "outlinewidth": 1,
              "tickcolor": "rgb(36,36,36)",
              "ticks": "outside"
             }
            },
            "marker": {
             "colorbar": {
              "outlinewidth": 1,
              "tickcolor": "rgb(36,36,36)",
              "ticks": "outside"
             }
            },
            "type": "scatter3d"
           }
          ],
          "scattercarpet": [
           {
            "marker": {
             "colorbar": {
              "outlinewidth": 1,
              "tickcolor": "rgb(36,36,36)",
              "ticks": "outside"
             }
            },
            "type": "scattercarpet"
           }
          ],
          "scattergeo": [
           {
            "marker": {
             "colorbar": {
              "outlinewidth": 1,
              "tickcolor": "rgb(36,36,36)",
              "ticks": "outside"
             }
            },
            "type": "scattergeo"
           }
          ],
          "scattergl": [
           {
            "marker": {
             "colorbar": {
              "outlinewidth": 1,
              "tickcolor": "rgb(36,36,36)",
              "ticks": "outside"
             }
            },
            "type": "scattergl"
           }
          ],
          "scattermapbox": [
           {
            "marker": {
             "colorbar": {
              "outlinewidth": 1,
              "tickcolor": "rgb(36,36,36)",
              "ticks": "outside"
             }
            },
            "type": "scattermapbox"
           }
          ],
          "scatterpolar": [
           {
            "marker": {
             "colorbar": {
              "outlinewidth": 1,
              "tickcolor": "rgb(36,36,36)",
              "ticks": "outside"
             }
            },
            "type": "scatterpolar"
           }
          ],
          "scatterpolargl": [
           {
            "marker": {
             "colorbar": {
              "outlinewidth": 1,
              "tickcolor": "rgb(36,36,36)",
              "ticks": "outside"
             }
            },
            "type": "scatterpolargl"
           }
          ],
          "scatterternary": [
           {
            "marker": {
             "colorbar": {
              "outlinewidth": 1,
              "tickcolor": "rgb(36,36,36)",
              "ticks": "outside"
             }
            },
            "type": "scatterternary"
           }
          ],
          "surface": [
           {
            "colorbar": {
             "outlinewidth": 1,
             "tickcolor": "rgb(36,36,36)",
             "ticks": "outside"
            },
            "colorscale": [
             [
              0,
              "#440154"
             ],
             [
              0.1111111111111111,
              "#482878"
             ],
             [
              0.2222222222222222,
              "#3e4989"
             ],
             [
              0.3333333333333333,
              "#31688e"
             ],
             [
              0.4444444444444444,
              "#26828e"
             ],
             [
              0.5555555555555556,
              "#1f9e89"
             ],
             [
              0.6666666666666666,
              "#35b779"
             ],
             [
              0.7777777777777778,
              "#6ece58"
             ],
             [
              0.8888888888888888,
              "#b5de2b"
             ],
             [
              1,
              "#fde725"
             ]
            ],
            "type": "surface"
           }
          ],
          "table": [
           {
            "cells": {
             "fill": {
              "color": "rgb(237,237,237)"
             },
             "line": {
              "color": "white"
             }
            },
            "header": {
             "fill": {
              "color": "rgb(217,217,217)"
             },
             "line": {
              "color": "white"
             }
            },
            "type": "table"
           }
          ]
         },
         "layout": {
          "annotationdefaults": {
           "arrowhead": 0,
           "arrowwidth": 1
          },
          "autotypenumbers": "strict",
          "coloraxis": {
           "colorbar": {
            "outlinewidth": 1,
            "tickcolor": "rgb(36,36,36)",
            "ticks": "outside"
           }
          },
          "colorscale": {
           "diverging": [
            [
             0,
             "rgb(103,0,31)"
            ],
            [
             0.1,
             "rgb(178,24,43)"
            ],
            [
             0.2,
             "rgb(214,96,77)"
            ],
            [
             0.3,
             "rgb(244,165,130)"
            ],
            [
             0.4,
             "rgb(253,219,199)"
            ],
            [
             0.5,
             "rgb(247,247,247)"
            ],
            [
             0.6,
             "rgb(209,229,240)"
            ],
            [
             0.7,
             "rgb(146,197,222)"
            ],
            [
             0.8,
             "rgb(67,147,195)"
            ],
            [
             0.9,
             "rgb(33,102,172)"
            ],
            [
             1,
             "rgb(5,48,97)"
            ]
           ],
           "sequential": [
            [
             0,
             "#440154"
            ],
            [
             0.1111111111111111,
             "#482878"
            ],
            [
             0.2222222222222222,
             "#3e4989"
            ],
            [
             0.3333333333333333,
             "#31688e"
            ],
            [
             0.4444444444444444,
             "#26828e"
            ],
            [
             0.5555555555555556,
             "#1f9e89"
            ],
            [
             0.6666666666666666,
             "#35b779"
            ],
            [
             0.7777777777777778,
             "#6ece58"
            ],
            [
             0.8888888888888888,
             "#b5de2b"
            ],
            [
             1,
             "#fde725"
            ]
           ],
           "sequentialminus": [
            [
             0,
             "#440154"
            ],
            [
             0.1111111111111111,
             "#482878"
            ],
            [
             0.2222222222222222,
             "#3e4989"
            ],
            [
             0.3333333333333333,
             "#31688e"
            ],
            [
             0.4444444444444444,
             "#26828e"
            ],
            [
             0.5555555555555556,
             "#1f9e89"
            ],
            [
             0.6666666666666666,
             "#35b779"
            ],
            [
             0.7777777777777778,
             "#6ece58"
            ],
            [
             0.8888888888888888,
             "#b5de2b"
            ],
            [
             1,
             "#fde725"
            ]
           ]
          },
          "colorway": [
           "#1F77B4",
           "#FF7F0E",
           "#2CA02C",
           "#D62728",
           "#9467BD",
           "#8C564B",
           "#E377C2",
           "#7F7F7F",
           "#BCBD22",
           "#17BECF"
          ],
          "font": {
           "color": "rgb(36,36,36)"
          },
          "geo": {
           "bgcolor": "white",
           "lakecolor": "white",
           "landcolor": "white",
           "showlakes": true,
           "showland": true,
           "subunitcolor": "white"
          },
          "hoverlabel": {
           "align": "left"
          },
          "hovermode": "closest",
          "mapbox": {
           "style": "light"
          },
          "paper_bgcolor": "white",
          "plot_bgcolor": "white",
          "polar": {
           "angularaxis": {
            "gridcolor": "rgb(232,232,232)",
            "linecolor": "rgb(36,36,36)",
            "showgrid": false,
            "showline": true,
            "ticks": "outside"
           },
           "bgcolor": "white",
           "radialaxis": {
            "gridcolor": "rgb(232,232,232)",
            "linecolor": "rgb(36,36,36)",
            "showgrid": false,
            "showline": true,
            "ticks": "outside"
           }
          },
          "scene": {
           "xaxis": {
            "backgroundcolor": "white",
            "gridcolor": "rgb(232,232,232)",
            "gridwidth": 2,
            "linecolor": "rgb(36,36,36)",
            "showbackground": true,
            "showgrid": false,
            "showline": true,
            "ticks": "outside",
            "zeroline": false,
            "zerolinecolor": "rgb(36,36,36)"
           },
           "yaxis": {
            "backgroundcolor": "white",
            "gridcolor": "rgb(232,232,232)",
            "gridwidth": 2,
            "linecolor": "rgb(36,36,36)",
            "showbackground": true,
            "showgrid": false,
            "showline": true,
            "ticks": "outside",
            "zeroline": false,
            "zerolinecolor": "rgb(36,36,36)"
           },
           "zaxis": {
            "backgroundcolor": "white",
            "gridcolor": "rgb(232,232,232)",
            "gridwidth": 2,
            "linecolor": "rgb(36,36,36)",
            "showbackground": true,
            "showgrid": false,
            "showline": true,
            "ticks": "outside",
            "zeroline": false,
            "zerolinecolor": "rgb(36,36,36)"
           }
          },
          "shapedefaults": {
           "fillcolor": "black",
           "line": {
            "width": 0
           },
           "opacity": 0.3
          },
          "ternary": {
           "aaxis": {
            "gridcolor": "rgb(232,232,232)",
            "linecolor": "rgb(36,36,36)",
            "showgrid": false,
            "showline": true,
            "ticks": "outside"
           },
           "baxis": {
            "gridcolor": "rgb(232,232,232)",
            "linecolor": "rgb(36,36,36)",
            "showgrid": false,
            "showline": true,
            "ticks": "outside"
           },
           "bgcolor": "white",
           "caxis": {
            "gridcolor": "rgb(232,232,232)",
            "linecolor": "rgb(36,36,36)",
            "showgrid": false,
            "showline": true,
            "ticks": "outside"
           }
          },
          "title": {
           "x": 0.05
          },
          "xaxis": {
           "automargin": true,
           "gridcolor": "rgb(232,232,232)",
           "linecolor": "rgb(36,36,36)",
           "showgrid": false,
           "showline": true,
           "ticks": "outside",
           "title": {
            "standoff": 15
           },
           "zeroline": false,
           "zerolinecolor": "rgb(36,36,36)"
          },
          "yaxis": {
           "automargin": true,
           "gridcolor": "rgb(232,232,232)",
           "linecolor": "rgb(36,36,36)",
           "showgrid": false,
           "showline": true,
           "ticks": "outside",
           "title": {
            "standoff": 15
           },
           "zeroline": false,
           "zerolinecolor": "rgb(36,36,36)"
          }
         }
        },
        "xaxis": {
         "title": {
          "text": "Date"
         }
        },
        "yaxis": {
         "title": {
          "text": "Daily MAV (USDC)"
         }
        }
       }
      }
     },
     "metadata": {},
     "output_type": "display_data"
    }
   ],
   "source": [
    "fig = go.Figure(layout=layout)\n",
    "\n",
    "fig.add_trace(go.Scatter(x=df_per_day.index,\n",
    "                            y=df_per_day['max_MAV_0'].astype(\n",
    "                                float),\n",
    "                            mode='lines',\n",
    "                            name = f'Daily max MAV for {token0}-{token1} at {exchange_name}'))\n",
    "\n",
    "fig.update_layout(xaxis_title='Date',\n",
    "                    yaxis_title=f'Daily MAV ({token0})', showlegend=True,\n",
    "                    legend=dict(xanchor='center', x=0.5, y=1.10, orientation='h'),)\n",
    "#fig.write_image(f\"./plots/{contract_name}_{event_name}.pdf\")\n",
    "fig.show()\n",
    "\n"
   ]
  },
  {
   "cell_type": "code",
   "execution_count": 33,
   "metadata": {},
   "outputs": [],
   "source": [
    "\n",
    "df_per_freq['date'] = pd.to_datetime(df_per_freq.index).date\n",
    "#swap_df['timestamp'] = pd.to_datetime(swap_df['timestamp'])\n",
    "#swap_df['date_hour'] = swap_df['timestamp'].dt.floor(frequency)\n",
    "\n",
    "\n",
    "df_aug = df_per_freq[df_per_freq['date']==datetime.date(2023, 8, 29)]\n"
   ]
  },
  {
   "cell_type": "code",
   "execution_count": 123,
   "metadata": {},
   "outputs": [],
   "source": [
    "df_aug = df_per_freq[df_per_freq['date']==datetime.date(2023, 8, 29)]\n"
   ]
  },
  {
   "cell_type": "code",
   "execution_count": 128,
   "metadata": {},
   "outputs": [],
   "source": [
    "df_aug = df_per_freq[df_per_freq['date']==datetime.date(2023, 8, 29)]\n",
    "\n",
    "df_aug = df_aug[df_aug.index.time >= datetime.time(12, 0, 0)]\n",
    "\n",
    "df_aug = df_aug[df_aug.index.time <= datetime.time(20, 0, 0)]\n",
    "\n"
   ]
  },
  {
   "cell_type": "code",
   "execution_count": 125,
   "metadata": {},
   "outputs": [
    {
     "data": {
      "text/html": [
       "<div>\n",
       "<style scoped>\n",
       "    .dataframe tbody tr th:only-of-type {\n",
       "        vertical-align: middle;\n",
       "    }\n",
       "\n",
       "    .dataframe tbody tr th {\n",
       "        vertical-align: top;\n",
       "    }\n",
       "\n",
       "    .dataframe thead th {\n",
       "        text-align: right;\n",
       "    }\n",
       "</style>\n",
       "<table border=\"1\" class=\"dataframe\">\n",
       "  <thead>\n",
       "    <tr style=\"text-align: right;\">\n",
       "      <th></th>\n",
       "      <th>volume_total_0</th>\n",
       "      <th>LP_Fee_total_0</th>\n",
       "      <th>block_slippage_total_0</th>\n",
       "      <th>price_diff</th>\n",
       "      <th>volume_avg_1m_0</th>\n",
       "      <th>fees_avg_1m_0</th>\n",
       "      <th>fees_total_0</th>\n",
       "      <th>block_slippage_avg_1m_0</th>\n",
       "      <th>swap_count_1m</th>\n",
       "      <th>reserve_0</th>\n",
       "      <th>...</th>\n",
       "      <th>LP_fee_MAV_0</th>\n",
       "      <th>max_MAV_0</th>\n",
       "      <th>decay</th>\n",
       "      <th>max_decay</th>\n",
       "      <th>swap_count_upto_max_MAV</th>\n",
       "      <th>block_slippage_sum_upto_max_MAV_0</th>\n",
       "      <th>volume_sum_upto_max_MAV_0</th>\n",
       "      <th>fees_sum_upto_max_MAV_0</th>\n",
       "      <th>max_decay_min</th>\n",
       "      <th>date</th>\n",
       "    </tr>\n",
       "    <tr>\n",
       "      <th>timestamp</th>\n",
       "      <th></th>\n",
       "      <th></th>\n",
       "      <th></th>\n",
       "      <th></th>\n",
       "      <th></th>\n",
       "      <th></th>\n",
       "      <th></th>\n",
       "      <th></th>\n",
       "      <th></th>\n",
       "      <th></th>\n",
       "      <th></th>\n",
       "      <th></th>\n",
       "      <th></th>\n",
       "      <th></th>\n",
       "      <th></th>\n",
       "      <th></th>\n",
       "      <th></th>\n",
       "      <th></th>\n",
       "      <th></th>\n",
       "      <th></th>\n",
       "      <th></th>\n",
       "    </tr>\n",
       "  </thead>\n",
       "  <tbody>\n",
       "    <tr>\n",
       "      <th>2023-08-29 15:00:00</th>\n",
       "      <td>1690.041887</td>\n",
       "      <td>1.352034</td>\n",
       "      <td>-20.445339</td>\n",
       "      <td>0.007428</td>\n",
       "      <td>187.782432</td>\n",
       "      <td>1.193479</td>\n",
       "      <td>10.741313</td>\n",
       "      <td>-2.271704</td>\n",
       "      <td>9.0</td>\n",
       "      <td>1.781272e+07</td>\n",
       "      <td>...</td>\n",
       "      <td>53.318340</td>\n",
       "      <td>0.000000</td>\n",
       "      <td>-1080.0</td>\n",
       "      <td>0.0</td>\n",
       "      <td>0.0</td>\n",
       "      <td>0.000000</td>\n",
       "      <td>0.000000</td>\n",
       "      <td>0.000000</td>\n",
       "      <td>0.0</td>\n",
       "      <td>2023-08-29</td>\n",
       "    </tr>\n",
       "    <tr>\n",
       "      <th>2023-08-29 15:07:00</th>\n",
       "      <td>5145.065237</td>\n",
       "      <td>4.116052</td>\n",
       "      <td>0.000000</td>\n",
       "      <td>0.003959</td>\n",
       "      <td>428.755436</td>\n",
       "      <td>0.952150</td>\n",
       "      <td>11.425805</td>\n",
       "      <td>0.000000</td>\n",
       "      <td>12.0</td>\n",
       "      <td>1.781693e+07</td>\n",
       "      <td>...</td>\n",
       "      <td>28.325592</td>\n",
       "      <td>0.000000</td>\n",
       "      <td>-1500.0</td>\n",
       "      <td>0.0</td>\n",
       "      <td>0.0</td>\n",
       "      <td>0.000000</td>\n",
       "      <td>0.000000</td>\n",
       "      <td>0.000000</td>\n",
       "      <td>0.0</td>\n",
       "      <td>2023-08-29</td>\n",
       "    </tr>\n",
       "    <tr>\n",
       "      <th>2023-08-29 15:12:00</th>\n",
       "      <td>3140.492662</td>\n",
       "      <td>2.512394</td>\n",
       "      <td>18.534277</td>\n",
       "      <td>0.005898</td>\n",
       "      <td>314.049266</td>\n",
       "      <td>0.847656</td>\n",
       "      <td>8.476560</td>\n",
       "      <td>1.853428</td>\n",
       "      <td>10.0</td>\n",
       "      <td>1.783314e+07</td>\n",
       "      <td>...</td>\n",
       "      <td>42.321803</td>\n",
       "      <td>0.000000</td>\n",
       "      <td>-1800.0</td>\n",
       "      <td>0.0</td>\n",
       "      <td>0.0</td>\n",
       "      <td>0.000000</td>\n",
       "      <td>0.000000</td>\n",
       "      <td>0.000000</td>\n",
       "      <td>0.0</td>\n",
       "      <td>2023-08-29</td>\n",
       "    </tr>\n",
       "    <tr>\n",
       "      <th>2023-08-29 15:16:00</th>\n",
       "      <td>3057.974080</td>\n",
       "      <td>2.446379</td>\n",
       "      <td>0.456392</td>\n",
       "      <td>0.001340</td>\n",
       "      <td>339.774898</td>\n",
       "      <td>1.128279</td>\n",
       "      <td>10.154515</td>\n",
       "      <td>0.050710</td>\n",
       "      <td>9.0</td>\n",
       "      <td>1.783973e+07</td>\n",
       "      <td>...</td>\n",
       "      <td>9.577477</td>\n",
       "      <td>0.000000</td>\n",
       "      <td>0.0</td>\n",
       "      <td>0.0</td>\n",
       "      <td>0.0</td>\n",
       "      <td>0.000000</td>\n",
       "      <td>0.000000</td>\n",
       "      <td>0.000000</td>\n",
       "      <td>0.0</td>\n",
       "      <td>2023-08-29</td>\n",
       "    </tr>\n",
       "    <tr>\n",
       "      <th>2023-08-29 15:25:00</th>\n",
       "      <td>372.074009</td>\n",
       "      <td>0.297659</td>\n",
       "      <td>-44.378488</td>\n",
       "      <td>0.005066</td>\n",
       "      <td>53.153430</td>\n",
       "      <td>0.796438</td>\n",
       "      <td>5.575067</td>\n",
       "      <td>-6.339784</td>\n",
       "      <td>7.0</td>\n",
       "      <td>1.782685e+07</td>\n",
       "      <td>...</td>\n",
       "      <td>36.305024</td>\n",
       "      <td>115.525748</td>\n",
       "      <td>0.0</td>\n",
       "      <td>-1620.0</td>\n",
       "      <td>7.0</td>\n",
       "      <td>-44.378488</td>\n",
       "      <td>372.074009</td>\n",
       "      <td>5.575067</td>\n",
       "      <td>-27.0</td>\n",
       "      <td>2023-08-29</td>\n",
       "    </tr>\n",
       "  </tbody>\n",
       "</table>\n",
       "<p>5 rows × 31 columns</p>\n",
       "</div>"
      ],
      "text/plain": [
       "                     volume_total_0  LP_Fee_total_0  block_slippage_total_0  \\\n",
       "timestamp                                                                     \n",
       "2023-08-29 15:00:00     1690.041887        1.352034              -20.445339   \n",
       "2023-08-29 15:07:00     5145.065237        4.116052                0.000000   \n",
       "2023-08-29 15:12:00     3140.492662        2.512394               18.534277   \n",
       "2023-08-29 15:16:00     3057.974080        2.446379                0.456392   \n",
       "2023-08-29 15:25:00      372.074009        0.297659              -44.378488   \n",
       "\n",
       "                     price_diff  volume_avg_1m_0  fees_avg_1m_0  fees_total_0  \\\n",
       "timestamp                                                                       \n",
       "2023-08-29 15:00:00    0.007428       187.782432       1.193479     10.741313   \n",
       "2023-08-29 15:07:00    0.003959       428.755436       0.952150     11.425805   \n",
       "2023-08-29 15:12:00    0.005898       314.049266       0.847656      8.476560   \n",
       "2023-08-29 15:16:00    0.001340       339.774898       1.128279     10.154515   \n",
       "2023-08-29 15:25:00    0.005066        53.153430       0.796438      5.575067   \n",
       "\n",
       "                     block_slippage_avg_1m_0  swap_count_1m     reserve_0  \\\n",
       "timestamp                                                                   \n",
       "2023-08-29 15:00:00                -2.271704            9.0  1.781272e+07   \n",
       "2023-08-29 15:07:00                 0.000000           12.0  1.781693e+07   \n",
       "2023-08-29 15:12:00                 1.853428           10.0  1.783314e+07   \n",
       "2023-08-29 15:16:00                 0.050710            9.0  1.783973e+07   \n",
       "2023-08-29 15:25:00                -6.339784            7.0  1.782685e+07   \n",
       "\n",
       "                     ...  LP_fee_MAV_0   max_MAV_0   decay  max_decay  \\\n",
       "timestamp            ...                                                \n",
       "2023-08-29 15:00:00  ...     53.318340    0.000000 -1080.0        0.0   \n",
       "2023-08-29 15:07:00  ...     28.325592    0.000000 -1500.0        0.0   \n",
       "2023-08-29 15:12:00  ...     42.321803    0.000000 -1800.0        0.0   \n",
       "2023-08-29 15:16:00  ...      9.577477    0.000000     0.0        0.0   \n",
       "2023-08-29 15:25:00  ...     36.305024  115.525748     0.0    -1620.0   \n",
       "\n",
       "                     swap_count_upto_max_MAV  \\\n",
       "timestamp                                      \n",
       "2023-08-29 15:00:00                      0.0   \n",
       "2023-08-29 15:07:00                      0.0   \n",
       "2023-08-29 15:12:00                      0.0   \n",
       "2023-08-29 15:16:00                      0.0   \n",
       "2023-08-29 15:25:00                      7.0   \n",
       "\n",
       "                     block_slippage_sum_upto_max_MAV_0  \\\n",
       "timestamp                                                \n",
       "2023-08-29 15:00:00                           0.000000   \n",
       "2023-08-29 15:07:00                           0.000000   \n",
       "2023-08-29 15:12:00                           0.000000   \n",
       "2023-08-29 15:16:00                           0.000000   \n",
       "2023-08-29 15:25:00                         -44.378488   \n",
       "\n",
       "                    volume_sum_upto_max_MAV_0  fees_sum_upto_max_MAV_0  \\\n",
       "timestamp                                                                \n",
       "2023-08-29 15:00:00                  0.000000                 0.000000   \n",
       "2023-08-29 15:07:00                  0.000000                 0.000000   \n",
       "2023-08-29 15:12:00                  0.000000                 0.000000   \n",
       "2023-08-29 15:16:00                  0.000000                 0.000000   \n",
       "2023-08-29 15:25:00                372.074009                 5.575067   \n",
       "\n",
       "                     max_decay_min        date  \n",
       "timestamp                                       \n",
       "2023-08-29 15:00:00            0.0  2023-08-29  \n",
       "2023-08-29 15:07:00            0.0  2023-08-29  \n",
       "2023-08-29 15:12:00            0.0  2023-08-29  \n",
       "2023-08-29 15:16:00            0.0  2023-08-29  \n",
       "2023-08-29 15:25:00          -27.0  2023-08-29  \n",
       "\n",
       "[5 rows x 31 columns]"
      ]
     },
     "execution_count": 125,
     "metadata": {},
     "output_type": "execute_result"
    }
   ],
   "source": [
    "df_aug.head()"
   ]
  },
  {
   "cell_type": "code",
   "execution_count": 126,
   "metadata": {},
   "outputs": [
    {
     "data": {
      "application/vnd.plotly.v1+json": {
       "config": {
        "plotlyServerURL": "https://plot.ly"
       },
       "data": [
        {
         "mode": "lines",
         "name": "Spot Price",
         "type": "scatter",
         "x": [
          "2023-08-29T15:00:00",
          "2023-08-29T15:07:00",
          "2023-08-29T15:12:00",
          "2023-08-29T15:16:00",
          "2023-08-29T15:25:00",
          "2023-08-29T15:43:00",
          "2023-08-29T15:52:00",
          "2023-08-29T16:04:00",
          "2023-08-29T16:07:00",
          "2023-08-29T16:08:00",
          "2023-08-29T16:13:00",
          "2023-08-29T16:15:00",
          "2023-08-29T16:16:00",
          "2023-08-29T16:20:00",
          "2023-08-29T16:22:00",
          "2023-08-29T16:23:00",
          "2023-08-29T16:24:00",
          "2023-08-29T16:27:00",
          "2023-08-29T16:29:00",
          "2023-08-29T16:33:00",
          "2023-08-29T16:37:00",
          "2023-08-29T17:16:00",
          "2023-08-29T17:29:00",
          "2023-08-29T17:35:00",
          "2023-08-29T17:40:00",
          "2023-08-29T17:54:00",
          "2023-08-29T18:23:00",
          "2023-08-29T18:28:00",
          "2023-08-29T19:23:00",
          "2023-08-29T20:50:00",
          "2023-08-29T20:54:00",
          "2023-08-29T23:17:00",
          "2023-08-29T23:50:00"
         ],
         "y": [
          1708.9516016952794,
          1709.7146838614842,
          1711.5851195907064,
          1714.209264957206,
          1711.9439126326683,
          1714.9214728336112,
          1715.1652213155594,
          1713.9937037968582,
          1713.9676457221974,
          1713.9222598761673,
          1717.0116360292743,
          1718.4116178394147,
          1718.5866460099778,
          1718.462039403516,
          1719.5317474576862,
          1726.7422283267815,
          1728.876694378535,
          1729.047368603647,
          1729.0598962269028,
          1729.3674537941404,
          1729.206443396756,
          1728.2864403532744,
          1732.028536766905,
          1734.2337279943215,
          1734.6094286060747,
          1734.1543365556233,
          1734.6169774080145,
          1733.7535969584674,
          1735.0473168295762,
          1734.7870292068105,
          1732.9290963285569,
          1727.3186992979468,
          1726.6816503940438
         ]
        },
        {
         "mode": "lines",
         "name": "Market Price",
         "type": "scatter",
         "x": [
          "2023-08-29T15:00:00",
          "2023-08-29T15:07:00",
          "2023-08-29T15:12:00",
          "2023-08-29T15:16:00",
          "2023-08-29T15:25:00",
          "2023-08-29T15:43:00",
          "2023-08-29T15:52:00",
          "2023-08-29T16:04:00",
          "2023-08-29T16:07:00",
          "2023-08-29T16:08:00",
          "2023-08-29T16:13:00",
          "2023-08-29T16:15:00",
          "2023-08-29T16:16:00",
          "2023-08-29T16:20:00",
          "2023-08-29T16:22:00",
          "2023-08-29T16:23:00",
          "2023-08-29T16:24:00",
          "2023-08-29T16:27:00",
          "2023-08-29T16:29:00",
          "2023-08-29T16:33:00",
          "2023-08-29T16:37:00",
          "2023-08-29T17:16:00",
          "2023-08-29T17:29:00",
          "2023-08-29T17:35:00",
          "2023-08-29T17:40:00",
          "2023-08-29T17:54:00",
          "2023-08-29T18:23:00",
          "2023-08-29T18:28:00",
          "2023-08-29T19:23:00",
          "2023-08-29T20:50:00",
          "2023-08-29T20:54:00",
          "2023-08-29T23:17:00",
          "2023-08-29T23:50:00"
         ],
         "y": [
          1721.74,
          1716.51,
          1721.74,
          1716.51,
          1720.66,
          1721.74,
          1716.51,
          1711.3,
          1716.48,
          1716.51,
          1732.24,
          1732.24,
          1721.74,
          1729.18,
          1732.24,
          1738.88,
          1732.24,
          1745.38,
          1734.75,
          1732.24,
          1729.13,
          1735.97,
          1737.51,
          1742.8,
          1736.72,
          1732.24,
          1737.51,
          1737.51,
          1737.51,
          1732.24,
          1728.17,
          1726.72,
          1728.17
         ]
        }
       ],
       "layout": {
        "legend": {
         "orientation": "h",
         "x": 0.5,
         "xanchor": "center",
         "y": 1.1
        },
        "margin": {
         "b": 10,
         "l": 10,
         "r": 10,
         "t": 10
        },
        "showlegend": true,
        "template": {
         "data": {
          "bar": [
           {
            "error_x": {
             "color": "rgb(36,36,36)"
            },
            "error_y": {
             "color": "rgb(36,36,36)"
            },
            "marker": {
             "line": {
              "color": "white",
              "width": 0.5
             },
             "pattern": {
              "fillmode": "overlay",
              "size": 10,
              "solidity": 0.2
             }
            },
            "type": "bar"
           }
          ],
          "barpolar": [
           {
            "marker": {
             "line": {
              "color": "white",
              "width": 0.5
             },
             "pattern": {
              "fillmode": "overlay",
              "size": 10,
              "solidity": 0.2
             }
            },
            "type": "barpolar"
           }
          ],
          "carpet": [
           {
            "aaxis": {
             "endlinecolor": "rgb(36,36,36)",
             "gridcolor": "white",
             "linecolor": "white",
             "minorgridcolor": "white",
             "startlinecolor": "rgb(36,36,36)"
            },
            "baxis": {
             "endlinecolor": "rgb(36,36,36)",
             "gridcolor": "white",
             "linecolor": "white",
             "minorgridcolor": "white",
             "startlinecolor": "rgb(36,36,36)"
            },
            "type": "carpet"
           }
          ],
          "choropleth": [
           {
            "colorbar": {
             "outlinewidth": 1,
             "tickcolor": "rgb(36,36,36)",
             "ticks": "outside"
            },
            "type": "choropleth"
           }
          ],
          "contour": [
           {
            "colorbar": {
             "outlinewidth": 1,
             "tickcolor": "rgb(36,36,36)",
             "ticks": "outside"
            },
            "colorscale": [
             [
              0,
              "#440154"
             ],
             [
              0.1111111111111111,
              "#482878"
             ],
             [
              0.2222222222222222,
              "#3e4989"
             ],
             [
              0.3333333333333333,
              "#31688e"
             ],
             [
              0.4444444444444444,
              "#26828e"
             ],
             [
              0.5555555555555556,
              "#1f9e89"
             ],
             [
              0.6666666666666666,
              "#35b779"
             ],
             [
              0.7777777777777778,
              "#6ece58"
             ],
             [
              0.8888888888888888,
              "#b5de2b"
             ],
             [
              1,
              "#fde725"
             ]
            ],
            "type": "contour"
           }
          ],
          "contourcarpet": [
           {
            "colorbar": {
             "outlinewidth": 1,
             "tickcolor": "rgb(36,36,36)",
             "ticks": "outside"
            },
            "type": "contourcarpet"
           }
          ],
          "heatmap": [
           {
            "colorbar": {
             "outlinewidth": 1,
             "tickcolor": "rgb(36,36,36)",
             "ticks": "outside"
            },
            "colorscale": [
             [
              0,
              "#440154"
             ],
             [
              0.1111111111111111,
              "#482878"
             ],
             [
              0.2222222222222222,
              "#3e4989"
             ],
             [
              0.3333333333333333,
              "#31688e"
             ],
             [
              0.4444444444444444,
              "#26828e"
             ],
             [
              0.5555555555555556,
              "#1f9e89"
             ],
             [
              0.6666666666666666,
              "#35b779"
             ],
             [
              0.7777777777777778,
              "#6ece58"
             ],
             [
              0.8888888888888888,
              "#b5de2b"
             ],
             [
              1,
              "#fde725"
             ]
            ],
            "type": "heatmap"
           }
          ],
          "heatmapgl": [
           {
            "colorbar": {
             "outlinewidth": 1,
             "tickcolor": "rgb(36,36,36)",
             "ticks": "outside"
            },
            "colorscale": [
             [
              0,
              "#440154"
             ],
             [
              0.1111111111111111,
              "#482878"
             ],
             [
              0.2222222222222222,
              "#3e4989"
             ],
             [
              0.3333333333333333,
              "#31688e"
             ],
             [
              0.4444444444444444,
              "#26828e"
             ],
             [
              0.5555555555555556,
              "#1f9e89"
             ],
             [
              0.6666666666666666,
              "#35b779"
             ],
             [
              0.7777777777777778,
              "#6ece58"
             ],
             [
              0.8888888888888888,
              "#b5de2b"
             ],
             [
              1,
              "#fde725"
             ]
            ],
            "type": "heatmapgl"
           }
          ],
          "histogram": [
           {
            "marker": {
             "line": {
              "color": "white",
              "width": 0.6
             }
            },
            "type": "histogram"
           }
          ],
          "histogram2d": [
           {
            "colorbar": {
             "outlinewidth": 1,
             "tickcolor": "rgb(36,36,36)",
             "ticks": "outside"
            },
            "colorscale": [
             [
              0,
              "#440154"
             ],
             [
              0.1111111111111111,
              "#482878"
             ],
             [
              0.2222222222222222,
              "#3e4989"
             ],
             [
              0.3333333333333333,
              "#31688e"
             ],
             [
              0.4444444444444444,
              "#26828e"
             ],
             [
              0.5555555555555556,
              "#1f9e89"
             ],
             [
              0.6666666666666666,
              "#35b779"
             ],
             [
              0.7777777777777778,
              "#6ece58"
             ],
             [
              0.8888888888888888,
              "#b5de2b"
             ],
             [
              1,
              "#fde725"
             ]
            ],
            "type": "histogram2d"
           }
          ],
          "histogram2dcontour": [
           {
            "colorbar": {
             "outlinewidth": 1,
             "tickcolor": "rgb(36,36,36)",
             "ticks": "outside"
            },
            "colorscale": [
             [
              0,
              "#440154"
             ],
             [
              0.1111111111111111,
              "#482878"
             ],
             [
              0.2222222222222222,
              "#3e4989"
             ],
             [
              0.3333333333333333,
              "#31688e"
             ],
             [
              0.4444444444444444,
              "#26828e"
             ],
             [
              0.5555555555555556,
              "#1f9e89"
             ],
             [
              0.6666666666666666,
              "#35b779"
             ],
             [
              0.7777777777777778,
              "#6ece58"
             ],
             [
              0.8888888888888888,
              "#b5de2b"
             ],
             [
              1,
              "#fde725"
             ]
            ],
            "type": "histogram2dcontour"
           }
          ],
          "mesh3d": [
           {
            "colorbar": {
             "outlinewidth": 1,
             "tickcolor": "rgb(36,36,36)",
             "ticks": "outside"
            },
            "type": "mesh3d"
           }
          ],
          "parcoords": [
           {
            "line": {
             "colorbar": {
              "outlinewidth": 1,
              "tickcolor": "rgb(36,36,36)",
              "ticks": "outside"
             }
            },
            "type": "parcoords"
           }
          ],
          "pie": [
           {
            "automargin": true,
            "type": "pie"
           }
          ],
          "scatter": [
           {
            "fillpattern": {
             "fillmode": "overlay",
             "size": 10,
             "solidity": 0.2
            },
            "type": "scatter"
           }
          ],
          "scatter3d": [
           {
            "line": {
             "colorbar": {
              "outlinewidth": 1,
              "tickcolor": "rgb(36,36,36)",
              "ticks": "outside"
             }
            },
            "marker": {
             "colorbar": {
              "outlinewidth": 1,
              "tickcolor": "rgb(36,36,36)",
              "ticks": "outside"
             }
            },
            "type": "scatter3d"
           }
          ],
          "scattercarpet": [
           {
            "marker": {
             "colorbar": {
              "outlinewidth": 1,
              "tickcolor": "rgb(36,36,36)",
              "ticks": "outside"
             }
            },
            "type": "scattercarpet"
           }
          ],
          "scattergeo": [
           {
            "marker": {
             "colorbar": {
              "outlinewidth": 1,
              "tickcolor": "rgb(36,36,36)",
              "ticks": "outside"
             }
            },
            "type": "scattergeo"
           }
          ],
          "scattergl": [
           {
            "marker": {
             "colorbar": {
              "outlinewidth": 1,
              "tickcolor": "rgb(36,36,36)",
              "ticks": "outside"
             }
            },
            "type": "scattergl"
           }
          ],
          "scattermapbox": [
           {
            "marker": {
             "colorbar": {
              "outlinewidth": 1,
              "tickcolor": "rgb(36,36,36)",
              "ticks": "outside"
             }
            },
            "type": "scattermapbox"
           }
          ],
          "scatterpolar": [
           {
            "marker": {
             "colorbar": {
              "outlinewidth": 1,
              "tickcolor": "rgb(36,36,36)",
              "ticks": "outside"
             }
            },
            "type": "scatterpolar"
           }
          ],
          "scatterpolargl": [
           {
            "marker": {
             "colorbar": {
              "outlinewidth": 1,
              "tickcolor": "rgb(36,36,36)",
              "ticks": "outside"
             }
            },
            "type": "scatterpolargl"
           }
          ],
          "scatterternary": [
           {
            "marker": {
             "colorbar": {
              "outlinewidth": 1,
              "tickcolor": "rgb(36,36,36)",
              "ticks": "outside"
             }
            },
            "type": "scatterternary"
           }
          ],
          "surface": [
           {
            "colorbar": {
             "outlinewidth": 1,
             "tickcolor": "rgb(36,36,36)",
             "ticks": "outside"
            },
            "colorscale": [
             [
              0,
              "#440154"
             ],
             [
              0.1111111111111111,
              "#482878"
             ],
             [
              0.2222222222222222,
              "#3e4989"
             ],
             [
              0.3333333333333333,
              "#31688e"
             ],
             [
              0.4444444444444444,
              "#26828e"
             ],
             [
              0.5555555555555556,
              "#1f9e89"
             ],
             [
              0.6666666666666666,
              "#35b779"
             ],
             [
              0.7777777777777778,
              "#6ece58"
             ],
             [
              0.8888888888888888,
              "#b5de2b"
             ],
             [
              1,
              "#fde725"
             ]
            ],
            "type": "surface"
           }
          ],
          "table": [
           {
            "cells": {
             "fill": {
              "color": "rgb(237,237,237)"
             },
             "line": {
              "color": "white"
             }
            },
            "header": {
             "fill": {
              "color": "rgb(217,217,217)"
             },
             "line": {
              "color": "white"
             }
            },
            "type": "table"
           }
          ]
         },
         "layout": {
          "annotationdefaults": {
           "arrowhead": 0,
           "arrowwidth": 1
          },
          "autotypenumbers": "strict",
          "coloraxis": {
           "colorbar": {
            "outlinewidth": 1,
            "tickcolor": "rgb(36,36,36)",
            "ticks": "outside"
           }
          },
          "colorscale": {
           "diverging": [
            [
             0,
             "rgb(103,0,31)"
            ],
            [
             0.1,
             "rgb(178,24,43)"
            ],
            [
             0.2,
             "rgb(214,96,77)"
            ],
            [
             0.3,
             "rgb(244,165,130)"
            ],
            [
             0.4,
             "rgb(253,219,199)"
            ],
            [
             0.5,
             "rgb(247,247,247)"
            ],
            [
             0.6,
             "rgb(209,229,240)"
            ],
            [
             0.7,
             "rgb(146,197,222)"
            ],
            [
             0.8,
             "rgb(67,147,195)"
            ],
            [
             0.9,
             "rgb(33,102,172)"
            ],
            [
             1,
             "rgb(5,48,97)"
            ]
           ],
           "sequential": [
            [
             0,
             "#440154"
            ],
            [
             0.1111111111111111,
             "#482878"
            ],
            [
             0.2222222222222222,
             "#3e4989"
            ],
            [
             0.3333333333333333,
             "#31688e"
            ],
            [
             0.4444444444444444,
             "#26828e"
            ],
            [
             0.5555555555555556,
             "#1f9e89"
            ],
            [
             0.6666666666666666,
             "#35b779"
            ],
            [
             0.7777777777777778,
             "#6ece58"
            ],
            [
             0.8888888888888888,
             "#b5de2b"
            ],
            [
             1,
             "#fde725"
            ]
           ],
           "sequentialminus": [
            [
             0,
             "#440154"
            ],
            [
             0.1111111111111111,
             "#482878"
            ],
            [
             0.2222222222222222,
             "#3e4989"
            ],
            [
             0.3333333333333333,
             "#31688e"
            ],
            [
             0.4444444444444444,
             "#26828e"
            ],
            [
             0.5555555555555556,
             "#1f9e89"
            ],
            [
             0.6666666666666666,
             "#35b779"
            ],
            [
             0.7777777777777778,
             "#6ece58"
            ],
            [
             0.8888888888888888,
             "#b5de2b"
            ],
            [
             1,
             "#fde725"
            ]
           ]
          },
          "colorway": [
           "#1F77B4",
           "#FF7F0E",
           "#2CA02C",
           "#D62728",
           "#9467BD",
           "#8C564B",
           "#E377C2",
           "#7F7F7F",
           "#BCBD22",
           "#17BECF"
          ],
          "font": {
           "color": "rgb(36,36,36)"
          },
          "geo": {
           "bgcolor": "white",
           "lakecolor": "white",
           "landcolor": "white",
           "showlakes": true,
           "showland": true,
           "subunitcolor": "white"
          },
          "hoverlabel": {
           "align": "left"
          },
          "hovermode": "closest",
          "mapbox": {
           "style": "light"
          },
          "paper_bgcolor": "white",
          "plot_bgcolor": "white",
          "polar": {
           "angularaxis": {
            "gridcolor": "rgb(232,232,232)",
            "linecolor": "rgb(36,36,36)",
            "showgrid": false,
            "showline": true,
            "ticks": "outside"
           },
           "bgcolor": "white",
           "radialaxis": {
            "gridcolor": "rgb(232,232,232)",
            "linecolor": "rgb(36,36,36)",
            "showgrid": false,
            "showline": true,
            "ticks": "outside"
           }
          },
          "scene": {
           "xaxis": {
            "backgroundcolor": "white",
            "gridcolor": "rgb(232,232,232)",
            "gridwidth": 2,
            "linecolor": "rgb(36,36,36)",
            "showbackground": true,
            "showgrid": false,
            "showline": true,
            "ticks": "outside",
            "zeroline": false,
            "zerolinecolor": "rgb(36,36,36)"
           },
           "yaxis": {
            "backgroundcolor": "white",
            "gridcolor": "rgb(232,232,232)",
            "gridwidth": 2,
            "linecolor": "rgb(36,36,36)",
            "showbackground": true,
            "showgrid": false,
            "showline": true,
            "ticks": "outside",
            "zeroline": false,
            "zerolinecolor": "rgb(36,36,36)"
           },
           "zaxis": {
            "backgroundcolor": "white",
            "gridcolor": "rgb(232,232,232)",
            "gridwidth": 2,
            "linecolor": "rgb(36,36,36)",
            "showbackground": true,
            "showgrid": false,
            "showline": true,
            "ticks": "outside",
            "zeroline": false,
            "zerolinecolor": "rgb(36,36,36)"
           }
          },
          "shapedefaults": {
           "fillcolor": "black",
           "line": {
            "width": 0
           },
           "opacity": 0.3
          },
          "ternary": {
           "aaxis": {
            "gridcolor": "rgb(232,232,232)",
            "linecolor": "rgb(36,36,36)",
            "showgrid": false,
            "showline": true,
            "ticks": "outside"
           },
           "baxis": {
            "gridcolor": "rgb(232,232,232)",
            "linecolor": "rgb(36,36,36)",
            "showgrid": false,
            "showline": true,
            "ticks": "outside"
           },
           "bgcolor": "white",
           "caxis": {
            "gridcolor": "rgb(232,232,232)",
            "linecolor": "rgb(36,36,36)",
            "showgrid": false,
            "showline": true,
            "ticks": "outside"
           }
          },
          "title": {
           "x": 0.05
          },
          "xaxis": {
           "automargin": true,
           "gridcolor": "rgb(232,232,232)",
           "linecolor": "rgb(36,36,36)",
           "showgrid": false,
           "showline": true,
           "ticks": "outside",
           "title": {
            "standoff": 15
           },
           "zeroline": false,
           "zerolinecolor": "rgb(36,36,36)"
          },
          "yaxis": {
           "automargin": true,
           "gridcolor": "rgb(232,232,232)",
           "linecolor": "rgb(36,36,36)",
           "showgrid": false,
           "showline": true,
           "ticks": "outside",
           "title": {
            "standoff": 15
           },
           "zeroline": false,
           "zerolinecolor": "rgb(36,36,36)"
          }
         }
        },
        "xaxis": {
         "griddash": "dash",
         "minor": {
          "griddash": "dot",
          "ticks": "inside"
         },
         "showgrid": true,
         "title": {
          "text": "Date"
         }
        },
        "yaxis": {
         "griddash": "dash",
         "minor": {
          "griddash": "dot",
          "ticks": "inside"
         },
         "showgrid": true,
         "title": {
          "text": "Last price"
         }
        }
       }
      }
     },
     "metadata": {},
     "output_type": "display_data"
    }
   ],
   "source": [
    "#df_aug = df_per_freq[df_per_freq['date']==datetime.date(2023, 8, 17)]\n",
    "\n",
    "#df_aug = df_per_day[df_per_day.index >= pd.to_datetime('2023-08-02')]\n",
    "#df_aug = df_aug[df_aug.index <= pd.to_datetime('2023-08-15')]\n",
    "\n",
    "fig = go.Figure(layout=layout)\n",
    "\n",
    "#fig.add_trace(go.Scatter(x=df_per_day.index,\n",
    "#                            y=df_per_day['price_diff'].astype(\n",
    "#                                float),\n",
    "#                            mode='lines',\n",
    "#                            name = 'Price Diff'))\n",
    "\n",
    "fig.add_trace(go.Scatter(x=df_aug.index,\n",
    "                            y=df_aug['spot_price'].astype(\n",
    "                                float),\n",
    "                            mode='lines',\n",
    "                            name = 'Spot Price'))\n",
    "\n",
    "fig.add_trace(go.Scatter(x=df_aug.index,\n",
    "                            y=df_aug['CEX_price'].astype(\n",
    "                                float),\n",
    "                            mode='lines',\n",
    "                            name = 'Market Price'))\n",
    "\n",
    "fig.update_layout(xaxis_title='Date',\n",
    "                    yaxis_title='Last price', showlegend=True,\n",
    "                    legend=dict(xanchor='center', x=0.5, y=1.10, orientation='h'),)\n",
    "#fig.write_image(f\"./plots/{contract_name}_{event_name}.pdf\")\n",
    "fig.show()"
   ]
  },
  {
   "cell_type": "code",
   "execution_count": 90,
   "metadata": {},
   "outputs": [
    {
     "data": {
      "application/vnd.plotly.v1+json": {
       "config": {
        "plotlyServerURL": "https://plot.ly"
       },
       "data": [
        {
         "mode": "lines",
         "name": "Price Diff USDC-ETH at SyncSwap",
         "type": "scatter",
         "x": [
          "2023-08-17T00:37:00",
          "2023-08-17T00:38:00",
          "2023-08-17T00:44:00",
          "2023-08-17T00:45:00",
          "2023-08-17T00:47:00",
          "2023-08-17T00:52:00",
          "2023-08-17T00:53:00",
          "2023-08-17T01:10:00",
          "2023-08-17T01:17:00",
          "2023-08-17T01:28:00",
          "2023-08-17T01:30:00",
          "2023-08-17T01:42:00",
          "2023-08-17T01:43:00",
          "2023-08-17T02:24:00",
          "2023-08-17T02:28:00",
          "2023-08-17T02:29:00",
          "2023-08-17T04:08:00",
          "2023-08-17T05:19:00",
          "2023-08-17T05:55:00",
          "2023-08-17T05:56:00",
          "2023-08-17T06:31:00",
          "2023-08-17T08:40:00",
          "2023-08-17T08:45:00",
          "2023-08-17T09:00:00",
          "2023-08-17T09:09:00",
          "2023-08-17T09:15:00",
          "2023-08-17T09:30:00",
          "2023-08-17T10:25:00",
          "2023-08-17T10:46:00",
          "2023-08-17T11:35:00",
          "2023-08-17T11:50:00",
          "2023-08-17T12:10:00",
          "2023-08-17T12:31:00",
          "2023-08-17T12:45:00",
          "2023-08-17T13:20:00",
          "2023-08-17T13:25:00",
          "2023-08-17T13:44:00",
          "2023-08-17T13:57:00",
          "2023-08-17T14:21:00",
          "2023-08-17T14:34:00",
          "2023-08-17T14:41:00",
          "2023-08-17T14:42:00",
          "2023-08-17T14:43:00",
          "2023-08-17T15:01:00",
          "2023-08-17T15:02:00",
          "2023-08-17T15:15:00",
          "2023-08-17T15:33:00",
          "2023-08-17T15:34:00",
          "2023-08-17T15:35:00",
          "2023-08-17T15:36:00",
          "2023-08-17T15:37:00",
          "2023-08-17T15:39:00",
          "2023-08-17T15:50:00",
          "2023-08-17T15:55:00",
          "2023-08-17T16:00:00",
          "2023-08-17T16:04:00",
          "2023-08-17T16:06:00",
          "2023-08-17T16:07:00",
          "2023-08-17T16:08:00",
          "2023-08-17T16:09:00",
          "2023-08-17T16:10:00",
          "2023-08-17T16:15:00",
          "2023-08-17T16:16:00",
          "2023-08-17T16:32:00",
          "2023-08-17T16:33:00",
          "2023-08-17T16:34:00",
          "2023-08-17T16:39:00",
          "2023-08-17T16:47:00",
          "2023-08-17T16:50:00",
          "2023-08-17T17:30:00",
          "2023-08-17T18:09:00",
          "2023-08-17T18:19:00",
          "2023-08-17T18:21:00",
          "2023-08-17T18:22:00",
          "2023-08-17T18:24:00",
          "2023-08-17T18:28:00",
          "2023-08-17T18:35:00",
          "2023-08-17T18:43:00",
          "2023-08-17T18:44:00",
          "2023-08-17T19:06:00",
          "2023-08-17T19:07:00",
          "2023-08-17T19:17:00",
          "2023-08-17T19:18:00",
          "2023-08-17T19:24:00",
          "2023-08-17T19:37:00",
          "2023-08-17T20:37:00",
          "2023-08-17T20:50:00",
          "2023-08-17T20:51:00",
          "2023-08-17T20:54:00",
          "2023-08-17T20:55:00",
          "2023-08-17T20:56:00",
          "2023-08-17T20:57:00",
          "2023-08-17T20:59:00",
          "2023-08-17T21:00:00",
          "2023-08-17T21:12:00",
          "2023-08-17T21:13:00",
          "2023-08-17T21:16:00",
          "2023-08-17T21:17:00",
          "2023-08-17T21:20:00",
          "2023-08-17T21:37:00",
          "2023-08-17T21:41:00",
          "2023-08-17T21:43:00",
          "2023-08-17T21:56:00",
          "2023-08-17T21:57:00",
          "2023-08-17T22:04:00",
          "2023-08-17T22:08:00",
          "2023-08-17T22:09:00",
          "2023-08-17T22:12:00",
          "2023-08-17T22:13:00",
          "2023-08-17T22:14:00",
          "2023-08-17T22:33:00",
          "2023-08-17T22:37:00",
          "2023-08-17T22:55:00",
          "2023-08-17T22:56:00",
          "2023-08-17T22:57:00",
          "2023-08-17T22:59:00",
          "2023-08-17T23:00:00",
          "2023-08-17T23:01:00",
          "2023-08-17T23:02:00",
          "2023-08-17T23:03:00",
          "2023-08-17T23:06:00",
          "2023-08-17T23:07:00",
          "2023-08-17T23:08:00",
          "2023-08-17T23:18:00",
          "2023-08-17T23:20:00",
          "2023-08-17T23:21:00",
          "2023-08-17T23:26:00",
          "2023-08-17T23:27:00",
          "2023-08-17T23:28:00",
          "2023-08-17T23:33:00",
          "2023-08-17T23:34:00",
          "2023-08-17T23:35:00",
          "2023-08-17T23:36:00",
          "2023-08-17T23:39:00",
          "2023-08-17T23:42:00",
          "2023-08-17T23:43:00",
          "2023-08-17T23:44:00",
          "2023-08-17T23:48:00",
          "2023-08-17T23:50:00",
          "2023-08-17T23:59:00"
         ],
         "y": [
          0.0003607860542539823,
          0.0026165926850783053,
          0.002940424726000649,
          0.0007626432332164081,
          0.0015897284126329186,
          0.0005220866386293507,
          0.004366229710789604,
          0.0015361835628319822,
          0.0014063151067787072,
          0.0022724377096285573,
          0.002405699459065079,
          0.0005995888478747655,
          0.00011115031088631264,
          0.00217214894661105,
          0.0022227161227628147,
          0.002183714044621862,
          0.00035332872639950834,
          0.0015978496717200148,
          0.0009606255851833485,
          0.001390382299651118,
          0.0005042591697175998,
          0.0008835746918407539,
          0.001576481074148575,
          0.00270111548660865,
          0.003526657713769219,
          0.001463778638153099,
          0.000197184326289322,
          0.00037774265259830155,
          0.001128054486580067,
          0.0008994269740278837,
          0.0020644942597878063,
          0.002013857029553571,
          0.0016248402581769876,
          0.0014643741221688504,
          0.0012306826646398493,
          0.0012342937777990823,
          0.0003583322906179252,
          0.0014074398444455167,
          0.0012787750782852839,
          0.0022927183047432107,
          0.0025201423835458686,
          0.0028927873453248095,
          0.0035937676863417043,
          0.0014416384199140194,
          0.00607108104307752,
          0.00009331072529983455,
          0.0021931991095520595,
          0.0026452384495431786,
          0.004600753340342848,
          0.004932651739507361,
          0.005052060471428839,
          0.007883571419135477,
          0.003569705782400421,
          0.003420925934458739,
          0.0012611973978993213,
          0.007125688493804325,
          0.006460843530255917,
          0.004951087005230021,
          0.006575014258714642,
          0.006143807672097386,
          0.008421128796943554,
          0.004991628481208826,
          0.004509897009963229,
          0.0027605343576589864,
          0.0028160907395284526,
          0.002222671065272238,
          0.002832131074687626,
          0.0031193143237502733,
          0.002057588244445604,
          0.0014848412968566443,
          0.00014807173453342516,
          0.00018583739978291449,
          0.0002490424047686489,
          0.0002414706796907095,
          0.00021803403321796221,
          0.0051392013296704155,
          0.001008945322714029,
          0.024531182348435404,
          0.006035190054774287,
          0.002567322329864346,
          0.002441772885636618,
          0.002585891997335985,
          0.0025447503788824286,
          0.0008482484255513423,
          0.00007555811820036968,
          0.003404231300422285,
          0.006649497379022161,
          0.0064575853239340055,
          0.015337623766184633,
          0.007561636507464269,
          0.005463859989667334,
          0.004302346572538741,
          0.003440858941397221,
          0.0042439599174771536,
          0.004097425440411093,
          0.0018448825921730764,
          0.003936443275117708,
          0.003601022649775519,
          0.0004183114721395779,
          0.005552962684776034,
          0.009849300459577819,
          0.024857025694317414,
          0.012624619398066618,
          0.021724503934524533,
          0.021164403798026223,
          0.02138867968167549,
          0.020824863241997893,
          0.018496738948684786,
          0.022690769930674693,
          0.02059091197704205,
          0.00533628348239204,
          0.010096879979160079,
          0.0022650493058805174,
          0.000414410152210629,
          0.0005444080520009001,
          0.001988069337268133,
          0.003398359210743992,
          0.0016531414099210293,
          0.002214483120114602,
          0.003116091540242992,
          0.0031057950108886677,
          0.0023527145478156345,
          0.0007012699310030515,
          0.0006468460791086842,
          0.0008521081612093518,
          0.001264786470036888,
          0.001006838290222408,
          0.002021991541989947,
          0.004102088163306466,
          0.002675162358488961,
          0.0006095230044998021,
          0.0014615980972188852,
          0.0008421953449956002,
          0.0018065384008166259,
          0.0006150530025592577,
          0.0011596087379524306,
          0.0012733507096017278,
          0.002181011328966788,
          0.00028846334285144676,
          0.002742872156750445
         ]
        }
       ],
       "layout": {
        "legend": {
         "orientation": "h",
         "x": 0.5,
         "xanchor": "center",
         "y": 1.1
        },
        "margin": {
         "b": 10,
         "l": 10,
         "r": 10,
         "t": 10
        },
        "showlegend": true,
        "template": {
         "data": {
          "bar": [
           {
            "error_x": {
             "color": "rgb(36,36,36)"
            },
            "error_y": {
             "color": "rgb(36,36,36)"
            },
            "marker": {
             "line": {
              "color": "white",
              "width": 0.5
             },
             "pattern": {
              "fillmode": "overlay",
              "size": 10,
              "solidity": 0.2
             }
            },
            "type": "bar"
           }
          ],
          "barpolar": [
           {
            "marker": {
             "line": {
              "color": "white",
              "width": 0.5
             },
             "pattern": {
              "fillmode": "overlay",
              "size": 10,
              "solidity": 0.2
             }
            },
            "type": "barpolar"
           }
          ],
          "carpet": [
           {
            "aaxis": {
             "endlinecolor": "rgb(36,36,36)",
             "gridcolor": "white",
             "linecolor": "white",
             "minorgridcolor": "white",
             "startlinecolor": "rgb(36,36,36)"
            },
            "baxis": {
             "endlinecolor": "rgb(36,36,36)",
             "gridcolor": "white",
             "linecolor": "white",
             "minorgridcolor": "white",
             "startlinecolor": "rgb(36,36,36)"
            },
            "type": "carpet"
           }
          ],
          "choropleth": [
           {
            "colorbar": {
             "outlinewidth": 1,
             "tickcolor": "rgb(36,36,36)",
             "ticks": "outside"
            },
            "type": "choropleth"
           }
          ],
          "contour": [
           {
            "colorbar": {
             "outlinewidth": 1,
             "tickcolor": "rgb(36,36,36)",
             "ticks": "outside"
            },
            "colorscale": [
             [
              0,
              "#440154"
             ],
             [
              0.1111111111111111,
              "#482878"
             ],
             [
              0.2222222222222222,
              "#3e4989"
             ],
             [
              0.3333333333333333,
              "#31688e"
             ],
             [
              0.4444444444444444,
              "#26828e"
             ],
             [
              0.5555555555555556,
              "#1f9e89"
             ],
             [
              0.6666666666666666,
              "#35b779"
             ],
             [
              0.7777777777777778,
              "#6ece58"
             ],
             [
              0.8888888888888888,
              "#b5de2b"
             ],
             [
              1,
              "#fde725"
             ]
            ],
            "type": "contour"
           }
          ],
          "contourcarpet": [
           {
            "colorbar": {
             "outlinewidth": 1,
             "tickcolor": "rgb(36,36,36)",
             "ticks": "outside"
            },
            "type": "contourcarpet"
           }
          ],
          "heatmap": [
           {
            "colorbar": {
             "outlinewidth": 1,
             "tickcolor": "rgb(36,36,36)",
             "ticks": "outside"
            },
            "colorscale": [
             [
              0,
              "#440154"
             ],
             [
              0.1111111111111111,
              "#482878"
             ],
             [
              0.2222222222222222,
              "#3e4989"
             ],
             [
              0.3333333333333333,
              "#31688e"
             ],
             [
              0.4444444444444444,
              "#26828e"
             ],
             [
              0.5555555555555556,
              "#1f9e89"
             ],
             [
              0.6666666666666666,
              "#35b779"
             ],
             [
              0.7777777777777778,
              "#6ece58"
             ],
             [
              0.8888888888888888,
              "#b5de2b"
             ],
             [
              1,
              "#fde725"
             ]
            ],
            "type": "heatmap"
           }
          ],
          "heatmapgl": [
           {
            "colorbar": {
             "outlinewidth": 1,
             "tickcolor": "rgb(36,36,36)",
             "ticks": "outside"
            },
            "colorscale": [
             [
              0,
              "#440154"
             ],
             [
              0.1111111111111111,
              "#482878"
             ],
             [
              0.2222222222222222,
              "#3e4989"
             ],
             [
              0.3333333333333333,
              "#31688e"
             ],
             [
              0.4444444444444444,
              "#26828e"
             ],
             [
              0.5555555555555556,
              "#1f9e89"
             ],
             [
              0.6666666666666666,
              "#35b779"
             ],
             [
              0.7777777777777778,
              "#6ece58"
             ],
             [
              0.8888888888888888,
              "#b5de2b"
             ],
             [
              1,
              "#fde725"
             ]
            ],
            "type": "heatmapgl"
           }
          ],
          "histogram": [
           {
            "marker": {
             "line": {
              "color": "white",
              "width": 0.6
             }
            },
            "type": "histogram"
           }
          ],
          "histogram2d": [
           {
            "colorbar": {
             "outlinewidth": 1,
             "tickcolor": "rgb(36,36,36)",
             "ticks": "outside"
            },
            "colorscale": [
             [
              0,
              "#440154"
             ],
             [
              0.1111111111111111,
              "#482878"
             ],
             [
              0.2222222222222222,
              "#3e4989"
             ],
             [
              0.3333333333333333,
              "#31688e"
             ],
             [
              0.4444444444444444,
              "#26828e"
             ],
             [
              0.5555555555555556,
              "#1f9e89"
             ],
             [
              0.6666666666666666,
              "#35b779"
             ],
             [
              0.7777777777777778,
              "#6ece58"
             ],
             [
              0.8888888888888888,
              "#b5de2b"
             ],
             [
              1,
              "#fde725"
             ]
            ],
            "type": "histogram2d"
           }
          ],
          "histogram2dcontour": [
           {
            "colorbar": {
             "outlinewidth": 1,
             "tickcolor": "rgb(36,36,36)",
             "ticks": "outside"
            },
            "colorscale": [
             [
              0,
              "#440154"
             ],
             [
              0.1111111111111111,
              "#482878"
             ],
             [
              0.2222222222222222,
              "#3e4989"
             ],
             [
              0.3333333333333333,
              "#31688e"
             ],
             [
              0.4444444444444444,
              "#26828e"
             ],
             [
              0.5555555555555556,
              "#1f9e89"
             ],
             [
              0.6666666666666666,
              "#35b779"
             ],
             [
              0.7777777777777778,
              "#6ece58"
             ],
             [
              0.8888888888888888,
              "#b5de2b"
             ],
             [
              1,
              "#fde725"
             ]
            ],
            "type": "histogram2dcontour"
           }
          ],
          "mesh3d": [
           {
            "colorbar": {
             "outlinewidth": 1,
             "tickcolor": "rgb(36,36,36)",
             "ticks": "outside"
            },
            "type": "mesh3d"
           }
          ],
          "parcoords": [
           {
            "line": {
             "colorbar": {
              "outlinewidth": 1,
              "tickcolor": "rgb(36,36,36)",
              "ticks": "outside"
             }
            },
            "type": "parcoords"
           }
          ],
          "pie": [
           {
            "automargin": true,
            "type": "pie"
           }
          ],
          "scatter": [
           {
            "fillpattern": {
             "fillmode": "overlay",
             "size": 10,
             "solidity": 0.2
            },
            "type": "scatter"
           }
          ],
          "scatter3d": [
           {
            "line": {
             "colorbar": {
              "outlinewidth": 1,
              "tickcolor": "rgb(36,36,36)",
              "ticks": "outside"
             }
            },
            "marker": {
             "colorbar": {
              "outlinewidth": 1,
              "tickcolor": "rgb(36,36,36)",
              "ticks": "outside"
             }
            },
            "type": "scatter3d"
           }
          ],
          "scattercarpet": [
           {
            "marker": {
             "colorbar": {
              "outlinewidth": 1,
              "tickcolor": "rgb(36,36,36)",
              "ticks": "outside"
             }
            },
            "type": "scattercarpet"
           }
          ],
          "scattergeo": [
           {
            "marker": {
             "colorbar": {
              "outlinewidth": 1,
              "tickcolor": "rgb(36,36,36)",
              "ticks": "outside"
             }
            },
            "type": "scattergeo"
           }
          ],
          "scattergl": [
           {
            "marker": {
             "colorbar": {
              "outlinewidth": 1,
              "tickcolor": "rgb(36,36,36)",
              "ticks": "outside"
             }
            },
            "type": "scattergl"
           }
          ],
          "scattermapbox": [
           {
            "marker": {
             "colorbar": {
              "outlinewidth": 1,
              "tickcolor": "rgb(36,36,36)",
              "ticks": "outside"
             }
            },
            "type": "scattermapbox"
           }
          ],
          "scatterpolar": [
           {
            "marker": {
             "colorbar": {
              "outlinewidth": 1,
              "tickcolor": "rgb(36,36,36)",
              "ticks": "outside"
             }
            },
            "type": "scatterpolar"
           }
          ],
          "scatterpolargl": [
           {
            "marker": {
             "colorbar": {
              "outlinewidth": 1,
              "tickcolor": "rgb(36,36,36)",
              "ticks": "outside"
             }
            },
            "type": "scatterpolargl"
           }
          ],
          "scatterternary": [
           {
            "marker": {
             "colorbar": {
              "outlinewidth": 1,
              "tickcolor": "rgb(36,36,36)",
              "ticks": "outside"
             }
            },
            "type": "scatterternary"
           }
          ],
          "surface": [
           {
            "colorbar": {
             "outlinewidth": 1,
             "tickcolor": "rgb(36,36,36)",
             "ticks": "outside"
            },
            "colorscale": [
             [
              0,
              "#440154"
             ],
             [
              0.1111111111111111,
              "#482878"
             ],
             [
              0.2222222222222222,
              "#3e4989"
             ],
             [
              0.3333333333333333,
              "#31688e"
             ],
             [
              0.4444444444444444,
              "#26828e"
             ],
             [
              0.5555555555555556,
              "#1f9e89"
             ],
             [
              0.6666666666666666,
              "#35b779"
             ],
             [
              0.7777777777777778,
              "#6ece58"
             ],
             [
              0.8888888888888888,
              "#b5de2b"
             ],
             [
              1,
              "#fde725"
             ]
            ],
            "type": "surface"
           }
          ],
          "table": [
           {
            "cells": {
             "fill": {
              "color": "rgb(237,237,237)"
             },
             "line": {
              "color": "white"
             }
            },
            "header": {
             "fill": {
              "color": "rgb(217,217,217)"
             },
             "line": {
              "color": "white"
             }
            },
            "type": "table"
           }
          ]
         },
         "layout": {
          "annotationdefaults": {
           "arrowhead": 0,
           "arrowwidth": 1
          },
          "autotypenumbers": "strict",
          "coloraxis": {
           "colorbar": {
            "outlinewidth": 1,
            "tickcolor": "rgb(36,36,36)",
            "ticks": "outside"
           }
          },
          "colorscale": {
           "diverging": [
            [
             0,
             "rgb(103,0,31)"
            ],
            [
             0.1,
             "rgb(178,24,43)"
            ],
            [
             0.2,
             "rgb(214,96,77)"
            ],
            [
             0.3,
             "rgb(244,165,130)"
            ],
            [
             0.4,
             "rgb(253,219,199)"
            ],
            [
             0.5,
             "rgb(247,247,247)"
            ],
            [
             0.6,
             "rgb(209,229,240)"
            ],
            [
             0.7,
             "rgb(146,197,222)"
            ],
            [
             0.8,
             "rgb(67,147,195)"
            ],
            [
             0.9,
             "rgb(33,102,172)"
            ],
            [
             1,
             "rgb(5,48,97)"
            ]
           ],
           "sequential": [
            [
             0,
             "#440154"
            ],
            [
             0.1111111111111111,
             "#482878"
            ],
            [
             0.2222222222222222,
             "#3e4989"
            ],
            [
             0.3333333333333333,
             "#31688e"
            ],
            [
             0.4444444444444444,
             "#26828e"
            ],
            [
             0.5555555555555556,
             "#1f9e89"
            ],
            [
             0.6666666666666666,
             "#35b779"
            ],
            [
             0.7777777777777778,
             "#6ece58"
            ],
            [
             0.8888888888888888,
             "#b5de2b"
            ],
            [
             1,
             "#fde725"
            ]
           ],
           "sequentialminus": [
            [
             0,
             "#440154"
            ],
            [
             0.1111111111111111,
             "#482878"
            ],
            [
             0.2222222222222222,
             "#3e4989"
            ],
            [
             0.3333333333333333,
             "#31688e"
            ],
            [
             0.4444444444444444,
             "#26828e"
            ],
            [
             0.5555555555555556,
             "#1f9e89"
            ],
            [
             0.6666666666666666,
             "#35b779"
            ],
            [
             0.7777777777777778,
             "#6ece58"
            ],
            [
             0.8888888888888888,
             "#b5de2b"
            ],
            [
             1,
             "#fde725"
            ]
           ]
          },
          "colorway": [
           "#1F77B4",
           "#FF7F0E",
           "#2CA02C",
           "#D62728",
           "#9467BD",
           "#8C564B",
           "#E377C2",
           "#7F7F7F",
           "#BCBD22",
           "#17BECF"
          ],
          "font": {
           "color": "rgb(36,36,36)"
          },
          "geo": {
           "bgcolor": "white",
           "lakecolor": "white",
           "landcolor": "white",
           "showlakes": true,
           "showland": true,
           "subunitcolor": "white"
          },
          "hoverlabel": {
           "align": "left"
          },
          "hovermode": "closest",
          "mapbox": {
           "style": "light"
          },
          "paper_bgcolor": "white",
          "plot_bgcolor": "white",
          "polar": {
           "angularaxis": {
            "gridcolor": "rgb(232,232,232)",
            "linecolor": "rgb(36,36,36)",
            "showgrid": false,
            "showline": true,
            "ticks": "outside"
           },
           "bgcolor": "white",
           "radialaxis": {
            "gridcolor": "rgb(232,232,232)",
            "linecolor": "rgb(36,36,36)",
            "showgrid": false,
            "showline": true,
            "ticks": "outside"
           }
          },
          "scene": {
           "xaxis": {
            "backgroundcolor": "white",
            "gridcolor": "rgb(232,232,232)",
            "gridwidth": 2,
            "linecolor": "rgb(36,36,36)",
            "showbackground": true,
            "showgrid": false,
            "showline": true,
            "ticks": "outside",
            "zeroline": false,
            "zerolinecolor": "rgb(36,36,36)"
           },
           "yaxis": {
            "backgroundcolor": "white",
            "gridcolor": "rgb(232,232,232)",
            "gridwidth": 2,
            "linecolor": "rgb(36,36,36)",
            "showbackground": true,
            "showgrid": false,
            "showline": true,
            "ticks": "outside",
            "zeroline": false,
            "zerolinecolor": "rgb(36,36,36)"
           },
           "zaxis": {
            "backgroundcolor": "white",
            "gridcolor": "rgb(232,232,232)",
            "gridwidth": 2,
            "linecolor": "rgb(36,36,36)",
            "showbackground": true,
            "showgrid": false,
            "showline": true,
            "ticks": "outside",
            "zeroline": false,
            "zerolinecolor": "rgb(36,36,36)"
           }
          },
          "shapedefaults": {
           "fillcolor": "black",
           "line": {
            "width": 0
           },
           "opacity": 0.3
          },
          "ternary": {
           "aaxis": {
            "gridcolor": "rgb(232,232,232)",
            "linecolor": "rgb(36,36,36)",
            "showgrid": false,
            "showline": true,
            "ticks": "outside"
           },
           "baxis": {
            "gridcolor": "rgb(232,232,232)",
            "linecolor": "rgb(36,36,36)",
            "showgrid": false,
            "showline": true,
            "ticks": "outside"
           },
           "bgcolor": "white",
           "caxis": {
            "gridcolor": "rgb(232,232,232)",
            "linecolor": "rgb(36,36,36)",
            "showgrid": false,
            "showline": true,
            "ticks": "outside"
           }
          },
          "title": {
           "x": 0.05
          },
          "xaxis": {
           "automargin": true,
           "gridcolor": "rgb(232,232,232)",
           "linecolor": "rgb(36,36,36)",
           "showgrid": false,
           "showline": true,
           "ticks": "outside",
           "title": {
            "standoff": 15
           },
           "zeroline": false,
           "zerolinecolor": "rgb(36,36,36)"
          },
          "yaxis": {
           "automargin": true,
           "gridcolor": "rgb(232,232,232)",
           "linecolor": "rgb(36,36,36)",
           "showgrid": false,
           "showline": true,
           "ticks": "outside",
           "title": {
            "standoff": 15
           },
           "zeroline": false,
           "zerolinecolor": "rgb(36,36,36)"
          }
         }
        },
        "xaxis": {
         "griddash": "dash",
         "minor": {
          "griddash": "dot",
          "ticks": "inside"
         },
         "showgrid": true,
         "title": {
          "text": "Date"
         }
        },
        "yaxis": {
         "griddash": "dash",
         "minor": {
          "griddash": "dot",
          "ticks": "inside"
         },
         "showgrid": true,
         "title": {
          "text": "Price Difference (USDC)"
         }
        }
       }
      }
     },
     "metadata": {},
     "output_type": "display_data"
    }
   ],
   "source": [
    "fig = go.Figure(layout=layout)\n",
    "\n",
    "fig.add_trace(go.Scatter(x=df_aug.index,\n",
    "                            y=df_aug['price_diff'].astype(\n",
    "                                float),\n",
    "                            mode='lines',\n",
    "                            name = f'Price Diff {token0}-{token1} at {exchange_name}'))\n",
    "\n",
    "fig.update_layout(xaxis_title='Date',\n",
    "                    yaxis_title=f'Price Difference ({token0})', showlegend=True,\n",
    "                    legend=dict(xanchor='center', x=0.5, y=1.10, orientation='h'),)\n",
    "#fig.write_image(f\"./plots/{contract_name}_{event_name}.pdf\")\n",
    "\n",
    "fig.show()\n"
   ]
  },
  {
   "cell_type": "code",
   "execution_count": 168,
   "metadata": {},
   "outputs": [],
   "source": [
    "df_aug = df_per_freq[df_per_freq['date']==datetime.date(2023, 8, 29)]\n",
    "\n",
    "df_aug = df_aug[df_aug.index.time >= datetime.time(14, 25, 0)]\n",
    "\n",
    "df_aug = df_aug[df_aug.index.time <= datetime.time(14, 50, 0)]"
   ]
  },
  {
   "cell_type": "code",
   "execution_count": 175,
   "metadata": {},
   "outputs": [
    {
     "data": {
      "application/vnd.plotly.v1+json": {
       "config": {
        "plotlyServerURL": "https://plot.ly"
       },
       "data": [
        {
         "marker": {
          "color": "#1a4fec"
         },
         "name": "USDC-ETH, AMM to CEX",
         "type": "bar",
         "x": [
          "2023-08-29T14:31:00",
          "2023-08-29T14:32:00",
          "2023-08-29T14:33:00",
          "2023-08-29T14:37:00",
          "2023-08-29T14:40:00",
          "2023-08-29T14:41:00",
          "2023-08-29T14:42:00",
          "2023-08-29T14:43:00",
          "2023-08-29T14:44:00",
          "2023-08-29T14:46:00",
          "2023-08-29T14:47:00",
          "2023-08-29T14:48:00"
         ],
         "y": [
          0.009261566315813662,
          0.012094928426011045,
          0.02186145683541136,
          0.024687261754192225,
          0.018964476603932495,
          0.022320781137959662,
          0.027629356181860697,
          0.02554788536427826,
          0.02565292889876207,
          0.021177262469713833,
          0.017016101678861976,
          0.013636958689254266
         ]
        },
        {
         "line": {
          "color": "red",
          "dash": "dash"
         },
         "mode": "lines",
         "name": "Threshold Barrier",
         "type": "scatter",
         "x": [
          null
         ],
         "y": [
          null
         ]
        },
        {
         "line": {
          "color": "blue"
         },
         "mode": "lines",
         "showlegend": false,
         "type": "scatter",
         "x": [
          "2023-08-29T14:31:00",
          "2023-08-29T14:32:00",
          "2023-08-29T14:33:00",
          "2023-08-29T14:37:00",
          "2023-08-29T14:40:00",
          "2023-08-29T14:41:00",
          "2023-08-29T14:42:00",
          "2023-08-29T14:43:00",
          "2023-08-29T14:44:00",
          "2023-08-29T14:46:00",
          "2023-08-29T14:47:00",
          "2023-08-29T14:48:00"
         ],
         "y": [
          0.009261566315813662,
          0.012094928426011045,
          0.02186145683541136,
          0.024687261754192225,
          0.018964476603932495,
          0.022320781137959662,
          0.027629356181860697,
          0.02554788536427826,
          0.02565292889876207,
          0.021177262469713833,
          0.017016101678861976,
          0.013636958689254266
         ]
        }
       ],
       "layout": {
        "height": 250,
        "legend": {
         "orientation": "h",
         "x": 0.5,
         "xanchor": "center",
         "y": 1.1
        },
        "margin": {
         "b": 10,
         "l": 10,
         "r": 10,
         "t": 10
        },
        "shapes": [
         {
          "line": {
           "color": "red",
           "dash": "dash",
           "width": 2
          },
          "name": "threshold",
          "type": "line",
          "x0": "2023-08-29T14:31:00",
          "x1": "2023-08-29T14:48:00",
          "y0": 0.003193655993413677,
          "y1": 0.003193655993413677
         }
        ],
        "showlegend": true,
        "template": {
         "data": {
          "bar": [
           {
            "error_x": {
             "color": "rgb(36,36,36)"
            },
            "error_y": {
             "color": "rgb(36,36,36)"
            },
            "marker": {
             "line": {
              "color": "white",
              "width": 0.5
             },
             "pattern": {
              "fillmode": "overlay",
              "size": 10,
              "solidity": 0.2
             }
            },
            "type": "bar"
           }
          ],
          "barpolar": [
           {
            "marker": {
             "line": {
              "color": "white",
              "width": 0.5
             },
             "pattern": {
              "fillmode": "overlay",
              "size": 10,
              "solidity": 0.2
             }
            },
            "type": "barpolar"
           }
          ],
          "carpet": [
           {
            "aaxis": {
             "endlinecolor": "rgb(36,36,36)",
             "gridcolor": "white",
             "linecolor": "white",
             "minorgridcolor": "white",
             "startlinecolor": "rgb(36,36,36)"
            },
            "baxis": {
             "endlinecolor": "rgb(36,36,36)",
             "gridcolor": "white",
             "linecolor": "white",
             "minorgridcolor": "white",
             "startlinecolor": "rgb(36,36,36)"
            },
            "type": "carpet"
           }
          ],
          "choropleth": [
           {
            "colorbar": {
             "outlinewidth": 1,
             "tickcolor": "rgb(36,36,36)",
             "ticks": "outside"
            },
            "type": "choropleth"
           }
          ],
          "contour": [
           {
            "colorbar": {
             "outlinewidth": 1,
             "tickcolor": "rgb(36,36,36)",
             "ticks": "outside"
            },
            "colorscale": [
             [
              0,
              "#440154"
             ],
             [
              0.1111111111111111,
              "#482878"
             ],
             [
              0.2222222222222222,
              "#3e4989"
             ],
             [
              0.3333333333333333,
              "#31688e"
             ],
             [
              0.4444444444444444,
              "#26828e"
             ],
             [
              0.5555555555555556,
              "#1f9e89"
             ],
             [
              0.6666666666666666,
              "#35b779"
             ],
             [
              0.7777777777777778,
              "#6ece58"
             ],
             [
              0.8888888888888888,
              "#b5de2b"
             ],
             [
              1,
              "#fde725"
             ]
            ],
            "type": "contour"
           }
          ],
          "contourcarpet": [
           {
            "colorbar": {
             "outlinewidth": 1,
             "tickcolor": "rgb(36,36,36)",
             "ticks": "outside"
            },
            "type": "contourcarpet"
           }
          ],
          "heatmap": [
           {
            "colorbar": {
             "outlinewidth": 1,
             "tickcolor": "rgb(36,36,36)",
             "ticks": "outside"
            },
            "colorscale": [
             [
              0,
              "#440154"
             ],
             [
              0.1111111111111111,
              "#482878"
             ],
             [
              0.2222222222222222,
              "#3e4989"
             ],
             [
              0.3333333333333333,
              "#31688e"
             ],
             [
              0.4444444444444444,
              "#26828e"
             ],
             [
              0.5555555555555556,
              "#1f9e89"
             ],
             [
              0.6666666666666666,
              "#35b779"
             ],
             [
              0.7777777777777778,
              "#6ece58"
             ],
             [
              0.8888888888888888,
              "#b5de2b"
             ],
             [
              1,
              "#fde725"
             ]
            ],
            "type": "heatmap"
           }
          ],
          "heatmapgl": [
           {
            "colorbar": {
             "outlinewidth": 1,
             "tickcolor": "rgb(36,36,36)",
             "ticks": "outside"
            },
            "colorscale": [
             [
              0,
              "#440154"
             ],
             [
              0.1111111111111111,
              "#482878"
             ],
             [
              0.2222222222222222,
              "#3e4989"
             ],
             [
              0.3333333333333333,
              "#31688e"
             ],
             [
              0.4444444444444444,
              "#26828e"
             ],
             [
              0.5555555555555556,
              "#1f9e89"
             ],
             [
              0.6666666666666666,
              "#35b779"
             ],
             [
              0.7777777777777778,
              "#6ece58"
             ],
             [
              0.8888888888888888,
              "#b5de2b"
             ],
             [
              1,
              "#fde725"
             ]
            ],
            "type": "heatmapgl"
           }
          ],
          "histogram": [
           {
            "marker": {
             "line": {
              "color": "white",
              "width": 0.6
             }
            },
            "type": "histogram"
           }
          ],
          "histogram2d": [
           {
            "colorbar": {
             "outlinewidth": 1,
             "tickcolor": "rgb(36,36,36)",
             "ticks": "outside"
            },
            "colorscale": [
             [
              0,
              "#440154"
             ],
             [
              0.1111111111111111,
              "#482878"
             ],
             [
              0.2222222222222222,
              "#3e4989"
             ],
             [
              0.3333333333333333,
              "#31688e"
             ],
             [
              0.4444444444444444,
              "#26828e"
             ],
             [
              0.5555555555555556,
              "#1f9e89"
             ],
             [
              0.6666666666666666,
              "#35b779"
             ],
             [
              0.7777777777777778,
              "#6ece58"
             ],
             [
              0.8888888888888888,
              "#b5de2b"
             ],
             [
              1,
              "#fde725"
             ]
            ],
            "type": "histogram2d"
           }
          ],
          "histogram2dcontour": [
           {
            "colorbar": {
             "outlinewidth": 1,
             "tickcolor": "rgb(36,36,36)",
             "ticks": "outside"
            },
            "colorscale": [
             [
              0,
              "#440154"
             ],
             [
              0.1111111111111111,
              "#482878"
             ],
             [
              0.2222222222222222,
              "#3e4989"
             ],
             [
              0.3333333333333333,
              "#31688e"
             ],
             [
              0.4444444444444444,
              "#26828e"
             ],
             [
              0.5555555555555556,
              "#1f9e89"
             ],
             [
              0.6666666666666666,
              "#35b779"
             ],
             [
              0.7777777777777778,
              "#6ece58"
             ],
             [
              0.8888888888888888,
              "#b5de2b"
             ],
             [
              1,
              "#fde725"
             ]
            ],
            "type": "histogram2dcontour"
           }
          ],
          "mesh3d": [
           {
            "colorbar": {
             "outlinewidth": 1,
             "tickcolor": "rgb(36,36,36)",
             "ticks": "outside"
            },
            "type": "mesh3d"
           }
          ],
          "parcoords": [
           {
            "line": {
             "colorbar": {
              "outlinewidth": 1,
              "tickcolor": "rgb(36,36,36)",
              "ticks": "outside"
             }
            },
            "type": "parcoords"
           }
          ],
          "pie": [
           {
            "automargin": true,
            "type": "pie"
           }
          ],
          "scatter": [
           {
            "fillpattern": {
             "fillmode": "overlay",
             "size": 10,
             "solidity": 0.2
            },
            "type": "scatter"
           }
          ],
          "scatter3d": [
           {
            "line": {
             "colorbar": {
              "outlinewidth": 1,
              "tickcolor": "rgb(36,36,36)",
              "ticks": "outside"
             }
            },
            "marker": {
             "colorbar": {
              "outlinewidth": 1,
              "tickcolor": "rgb(36,36,36)",
              "ticks": "outside"
             }
            },
            "type": "scatter3d"
           }
          ],
          "scattercarpet": [
           {
            "marker": {
             "colorbar": {
              "outlinewidth": 1,
              "tickcolor": "rgb(36,36,36)",
              "ticks": "outside"
             }
            },
            "type": "scattercarpet"
           }
          ],
          "scattergeo": [
           {
            "marker": {
             "colorbar": {
              "outlinewidth": 1,
              "tickcolor": "rgb(36,36,36)",
              "ticks": "outside"
             }
            },
            "type": "scattergeo"
           }
          ],
          "scattergl": [
           {
            "marker": {
             "colorbar": {
              "outlinewidth": 1,
              "tickcolor": "rgb(36,36,36)",
              "ticks": "outside"
             }
            },
            "type": "scattergl"
           }
          ],
          "scattermapbox": [
           {
            "marker": {
             "colorbar": {
              "outlinewidth": 1,
              "tickcolor": "rgb(36,36,36)",
              "ticks": "outside"
             }
            },
            "type": "scattermapbox"
           }
          ],
          "scatterpolar": [
           {
            "marker": {
             "colorbar": {
              "outlinewidth": 1,
              "tickcolor": "rgb(36,36,36)",
              "ticks": "outside"
             }
            },
            "type": "scatterpolar"
           }
          ],
          "scatterpolargl": [
           {
            "marker": {
             "colorbar": {
              "outlinewidth": 1,
              "tickcolor": "rgb(36,36,36)",
              "ticks": "outside"
             }
            },
            "type": "scatterpolargl"
           }
          ],
          "scatterternary": [
           {
            "marker": {
             "colorbar": {
              "outlinewidth": 1,
              "tickcolor": "rgb(36,36,36)",
              "ticks": "outside"
             }
            },
            "type": "scatterternary"
           }
          ],
          "surface": [
           {
            "colorbar": {
             "outlinewidth": 1,
             "tickcolor": "rgb(36,36,36)",
             "ticks": "outside"
            },
            "colorscale": [
             [
              0,
              "#440154"
             ],
             [
              0.1111111111111111,
              "#482878"
             ],
             [
              0.2222222222222222,
              "#3e4989"
             ],
             [
              0.3333333333333333,
              "#31688e"
             ],
             [
              0.4444444444444444,
              "#26828e"
             ],
             [
              0.5555555555555556,
              "#1f9e89"
             ],
             [
              0.6666666666666666,
              "#35b779"
             ],
             [
              0.7777777777777778,
              "#6ece58"
             ],
             [
              0.8888888888888888,
              "#b5de2b"
             ],
             [
              1,
              "#fde725"
             ]
            ],
            "type": "surface"
           }
          ],
          "table": [
           {
            "cells": {
             "fill": {
              "color": "rgb(237,237,237)"
             },
             "line": {
              "color": "white"
             }
            },
            "header": {
             "fill": {
              "color": "rgb(217,217,217)"
             },
             "line": {
              "color": "white"
             }
            },
            "type": "table"
           }
          ]
         },
         "layout": {
          "annotationdefaults": {
           "arrowhead": 0,
           "arrowwidth": 1
          },
          "autotypenumbers": "strict",
          "coloraxis": {
           "colorbar": {
            "outlinewidth": 1,
            "tickcolor": "rgb(36,36,36)",
            "ticks": "outside"
           }
          },
          "colorscale": {
           "diverging": [
            [
             0,
             "rgb(103,0,31)"
            ],
            [
             0.1,
             "rgb(178,24,43)"
            ],
            [
             0.2,
             "rgb(214,96,77)"
            ],
            [
             0.3,
             "rgb(244,165,130)"
            ],
            [
             0.4,
             "rgb(253,219,199)"
            ],
            [
             0.5,
             "rgb(247,247,247)"
            ],
            [
             0.6,
             "rgb(209,229,240)"
            ],
            [
             0.7,
             "rgb(146,197,222)"
            ],
            [
             0.8,
             "rgb(67,147,195)"
            ],
            [
             0.9,
             "rgb(33,102,172)"
            ],
            [
             1,
             "rgb(5,48,97)"
            ]
           ],
           "sequential": [
            [
             0,
             "#440154"
            ],
            [
             0.1111111111111111,
             "#482878"
            ],
            [
             0.2222222222222222,
             "#3e4989"
            ],
            [
             0.3333333333333333,
             "#31688e"
            ],
            [
             0.4444444444444444,
             "#26828e"
            ],
            [
             0.5555555555555556,
             "#1f9e89"
            ],
            [
             0.6666666666666666,
             "#35b779"
            ],
            [
             0.7777777777777778,
             "#6ece58"
            ],
            [
             0.8888888888888888,
             "#b5de2b"
            ],
            [
             1,
             "#fde725"
            ]
           ],
           "sequentialminus": [
            [
             0,
             "#440154"
            ],
            [
             0.1111111111111111,
             "#482878"
            ],
            [
             0.2222222222222222,
             "#3e4989"
            ],
            [
             0.3333333333333333,
             "#31688e"
            ],
            [
             0.4444444444444444,
             "#26828e"
            ],
            [
             0.5555555555555556,
             "#1f9e89"
            ],
            [
             0.6666666666666666,
             "#35b779"
            ],
            [
             0.7777777777777778,
             "#6ece58"
            ],
            [
             0.8888888888888888,
             "#b5de2b"
            ],
            [
             1,
             "#fde725"
            ]
           ]
          },
          "colorway": [
           "#1F77B4",
           "#FF7F0E",
           "#2CA02C",
           "#D62728",
           "#9467BD",
           "#8C564B",
           "#E377C2",
           "#7F7F7F",
           "#BCBD22",
           "#17BECF"
          ],
          "font": {
           "color": "rgb(36,36,36)"
          },
          "geo": {
           "bgcolor": "white",
           "lakecolor": "white",
           "landcolor": "white",
           "showlakes": true,
           "showland": true,
           "subunitcolor": "white"
          },
          "hoverlabel": {
           "align": "left"
          },
          "hovermode": "closest",
          "mapbox": {
           "style": "light"
          },
          "paper_bgcolor": "white",
          "plot_bgcolor": "white",
          "polar": {
           "angularaxis": {
            "gridcolor": "rgb(232,232,232)",
            "linecolor": "rgb(36,36,36)",
            "showgrid": false,
            "showline": true,
            "ticks": "outside"
           },
           "bgcolor": "white",
           "radialaxis": {
            "gridcolor": "rgb(232,232,232)",
            "linecolor": "rgb(36,36,36)",
            "showgrid": false,
            "showline": true,
            "ticks": "outside"
           }
          },
          "scene": {
           "xaxis": {
            "backgroundcolor": "white",
            "gridcolor": "rgb(232,232,232)",
            "gridwidth": 2,
            "linecolor": "rgb(36,36,36)",
            "showbackground": true,
            "showgrid": false,
            "showline": true,
            "ticks": "outside",
            "zeroline": false,
            "zerolinecolor": "rgb(36,36,36)"
           },
           "yaxis": {
            "backgroundcolor": "white",
            "gridcolor": "rgb(232,232,232)",
            "gridwidth": 2,
            "linecolor": "rgb(36,36,36)",
            "showbackground": true,
            "showgrid": false,
            "showline": true,
            "ticks": "outside",
            "zeroline": false,
            "zerolinecolor": "rgb(36,36,36)"
           },
           "zaxis": {
            "backgroundcolor": "white",
            "gridcolor": "rgb(232,232,232)",
            "gridwidth": 2,
            "linecolor": "rgb(36,36,36)",
            "showbackground": true,
            "showgrid": false,
            "showline": true,
            "ticks": "outside",
            "zeroline": false,
            "zerolinecolor": "rgb(36,36,36)"
           }
          },
          "shapedefaults": {
           "fillcolor": "black",
           "line": {
            "width": 0
           },
           "opacity": 0.3
          },
          "ternary": {
           "aaxis": {
            "gridcolor": "rgb(232,232,232)",
            "linecolor": "rgb(36,36,36)",
            "showgrid": false,
            "showline": true,
            "ticks": "outside"
           },
           "baxis": {
            "gridcolor": "rgb(232,232,232)",
            "linecolor": "rgb(36,36,36)",
            "showgrid": false,
            "showline": true,
            "ticks": "outside"
           },
           "bgcolor": "white",
           "caxis": {
            "gridcolor": "rgb(232,232,232)",
            "linecolor": "rgb(36,36,36)",
            "showgrid": false,
            "showline": true,
            "ticks": "outside"
           }
          },
          "title": {
           "x": 0.05
          },
          "xaxis": {
           "automargin": true,
           "gridcolor": "rgb(232,232,232)",
           "linecolor": "rgb(36,36,36)",
           "showgrid": false,
           "showline": true,
           "ticks": "outside",
           "title": {
            "standoff": 15
           },
           "zeroline": false,
           "zerolinecolor": "rgb(36,36,36)"
          },
          "yaxis": {
           "automargin": true,
           "gridcolor": "rgb(232,232,232)",
           "linecolor": "rgb(36,36,36)",
           "showgrid": false,
           "showline": true,
           "ticks": "outside",
           "title": {
            "standoff": 15
           },
           "zeroline": false,
           "zerolinecolor": "rgb(36,36,36)"
          }
         }
        },
        "width": 800,
        "xaxis": {
         "griddash": "dash",
         "minor": {
          "griddash": "dot",
          "ticks": "inside"
         },
         "showgrid": true
        },
        "yaxis": {
         "griddash": "dash",
         "minor": {
          "griddash": "dot",
          "ticks": "inside"
         },
         "showgrid": true,
         "title": {
          "text": "Abs Price Diff (%)"
         }
        }
       }
      }
     },
     "metadata": {},
     "output_type": "display_data"
    }
   ],
   "source": [
    "\n",
    "\n",
    "fig = go.Figure(layout=layout)\n",
    "\n",
    "fig.add_trace(go.Bar(x=df_aug.index,\n",
    "                     y=df_aug['price_diff'].astype(float),\n",
    "                     name=f'{token0}-{token1}, AMM to CEX',\n",
    "                                          marker_color=colors['dark_blue']))\n",
    "\n",
    "# Add green horizontal line at threshold value 0.005\n",
    "fig.add_shape(\n",
    "    type=\"line\",\n",
    "    name = \"threshold\",\n",
    "    x0=df_aug.index[0],  # Set starting x-coordinate of the line\n",
    "    y0=threshold,            # Set y-coordinate of the line\n",
    "    x1=df_aug.index[-1], # Set ending x-coordinate of the line\n",
    "    y1=threshold,            # Set y-coordinate of the line\n",
    "    line=dict(color=\"red\", width=2, dash=\"dash\"),  # Set line color, width, and dash style\n",
    ")\n",
    "\n",
    "# Add a fake trace for the legend\n",
    "fig.add_trace(go.Scatter(\n",
    "    x=[None],\n",
    "    y=[None],\n",
    "    mode='lines',  # Change mode to 'lines'\n",
    "    line=dict(color=\"red\", dash=\"dash\"),  # Set line color and dash style\n",
    "    name='Threshold Barrier'\n",
    "))\n",
    "\n",
    "# Add a fake trace for the legend\n",
    "fig.add_trace(go.Scatter(\n",
    "    x=df_aug.index,\n",
    "    y=df_aug['price_diff'].astype(float),\n",
    "    showlegend=False,\n",
    "    mode='lines',  # Change mode to 'lines'\n",
    "    line=dict(color=\"blue\"),  # Set line color and dash style\n",
    "))\n",
    "\n",
    "fig.update_layout(yaxis_title=f'Abs Price Diff (%)',\n",
    "                      height=250,  # Set the height of the plot to 600 pixels\n",
    "                    width=800,   # Set the width of the plot to 800 pixels\n",
    "                  showlegend=True,\n",
    "                  legend=dict(xanchor='center', x=0.5, y=1.10, orientation='h'))\n",
    "\n",
    "fig.show()\n",
    "\n",
    "#size, from 3pm, add legend gree threshold barrier -> calylcate preidce eery minute as biniance price changes, even thought AMM price does not change"
   ]
  },
  {
   "cell_type": "code",
   "execution_count": 36,
   "metadata": {},
   "outputs": [
    {
     "data": {
      "text/plain": [
       "Index(['volume_total_0', 'LP_Fee_total_0', 'block_slippage_total_0',\n",
       "       'price_diff', 'volume_avg_1m_0', 'fees_avg_1m_0', 'fees_total_0',\n",
       "       'block_slippage_avg_1m_0', 'swap_count_1m', 'reserve_0', 'reserve_1',\n",
       "       'spot_price', 'CEX_price', 'fees_0', 'LP_Fee_0', 'block_slippage_0',\n",
       "       'transactionHash', 'MAV_0', 'V_max_1', 'V_max_0', 'reserve_total_0',\n",
       "       'LP_fee_MAV_0', 'max_MAV_0', 'decay', 'max_decay',\n",
       "       'swap_count_upto_max_MAV', 'block_slippage_sum_upto_max_MAV_0',\n",
       "       'volume_sum_upto_max_MAV_0', 'fees_sum_upto_max_MAV_0', 'max_decay_min',\n",
       "       'date'],\n",
       "      dtype='object')"
      ]
     },
     "execution_count": 36,
     "metadata": {},
     "output_type": "execute_result"
    }
   ],
   "source": [
    "df_aug.columns"
   ]
  },
  {
   "cell_type": "code",
   "execution_count": 37,
   "metadata": {},
   "outputs": [
    {
     "data": {
      "application/vnd.plotly.v1+json": {
       "config": {
        "plotlyServerURL": "https://plot.ly"
       },
       "data": [
        {
         "mode": "lines",
         "name": "Decay time USDC-ETH at SyncSwap",
         "type": "scatter",
         "x": [
          "2023-08-29T00:29:00",
          "2023-08-29T04:00:00",
          "2023-08-29T04:51:00",
          "2023-08-29T06:25:00",
          "2023-08-29T06:58:00",
          "2023-08-29T07:23:00",
          "2023-08-29T07:39:00",
          "2023-08-29T07:54:00",
          "2023-08-29T08:03:00",
          "2023-08-29T08:18:00",
          "2023-08-29T09:12:00",
          "2023-08-29T09:17:00",
          "2023-08-29T09:22:00",
          "2023-08-29T09:27:00",
          "2023-08-29T09:31:00",
          "2023-08-29T10:21:00",
          "2023-08-29T10:34:00",
          "2023-08-29T11:08:00",
          "2023-08-29T14:02:00",
          "2023-08-29T14:03:00",
          "2023-08-29T14:20:00",
          "2023-08-29T14:31:00",
          "2023-08-29T14:32:00",
          "2023-08-29T14:33:00",
          "2023-08-29T14:37:00",
          "2023-08-29T14:40:00",
          "2023-08-29T14:41:00",
          "2023-08-29T14:42:00",
          "2023-08-29T14:43:00",
          "2023-08-29T14:44:00",
          "2023-08-29T14:46:00",
          "2023-08-29T14:47:00",
          "2023-08-29T14:48:00",
          "2023-08-29T15:00:00",
          "2023-08-29T15:07:00",
          "2023-08-29T15:12:00",
          "2023-08-29T15:16:00",
          "2023-08-29T15:25:00",
          "2023-08-29T15:43:00",
          "2023-08-29T15:52:00",
          "2023-08-29T16:04:00",
          "2023-08-29T16:07:00",
          "2023-08-29T16:08:00",
          "2023-08-29T16:13:00",
          "2023-08-29T16:15:00",
          "2023-08-29T16:16:00",
          "2023-08-29T16:20:00",
          "2023-08-29T16:22:00",
          "2023-08-29T16:23:00",
          "2023-08-29T16:24:00",
          "2023-08-29T16:27:00",
          "2023-08-29T16:29:00",
          "2023-08-29T16:33:00",
          "2023-08-29T16:37:00",
          "2023-08-29T17:16:00",
          "2023-08-29T17:29:00",
          "2023-08-29T17:35:00",
          "2023-08-29T17:40:00",
          "2023-08-29T17:54:00",
          "2023-08-29T18:23:00",
          "2023-08-29T18:28:00",
          "2023-08-29T19:23:00",
          "2023-08-29T20:50:00",
          "2023-08-29T20:54:00",
          "2023-08-29T23:17:00",
          "2023-08-29T23:50:00"
         ],
         "y": [
          0,
          0,
          0,
          0,
          0,
          0,
          0,
          0,
          0,
          0,
          0,
          0,
          0,
          0,
          0,
          0,
          0,
          0,
          0,
          0,
          0,
          0,
          0,
          0,
          0,
          0,
          0,
          0,
          -1,
          -2,
          -4,
          -5,
          -6,
          -18,
          -25,
          -30,
          0,
          0,
          -18,
          0,
          0,
          0,
          0,
          0,
          -2,
          0,
          0,
          0,
          -1,
          0,
          0,
          -2,
          0,
          0,
          0,
          0,
          0,
          0,
          0,
          0,
          0,
          0,
          0,
          0,
          0,
          0
         ]
        }
       ],
       "layout": {
        "legend": {
         "orientation": "h",
         "x": 0.5,
         "xanchor": "center",
         "y": 1.1
        },
        "margin": {
         "b": 10,
         "l": 10,
         "r": 10,
         "t": 10
        },
        "showlegend": true,
        "template": {
         "data": {
          "bar": [
           {
            "error_x": {
             "color": "rgb(36,36,36)"
            },
            "error_y": {
             "color": "rgb(36,36,36)"
            },
            "marker": {
             "line": {
              "color": "white",
              "width": 0.5
             },
             "pattern": {
              "fillmode": "overlay",
              "size": 10,
              "solidity": 0.2
             }
            },
            "type": "bar"
           }
          ],
          "barpolar": [
           {
            "marker": {
             "line": {
              "color": "white",
              "width": 0.5
             },
             "pattern": {
              "fillmode": "overlay",
              "size": 10,
              "solidity": 0.2
             }
            },
            "type": "barpolar"
           }
          ],
          "carpet": [
           {
            "aaxis": {
             "endlinecolor": "rgb(36,36,36)",
             "gridcolor": "white",
             "linecolor": "white",
             "minorgridcolor": "white",
             "startlinecolor": "rgb(36,36,36)"
            },
            "baxis": {
             "endlinecolor": "rgb(36,36,36)",
             "gridcolor": "white",
             "linecolor": "white",
             "minorgridcolor": "white",
             "startlinecolor": "rgb(36,36,36)"
            },
            "type": "carpet"
           }
          ],
          "choropleth": [
           {
            "colorbar": {
             "outlinewidth": 1,
             "tickcolor": "rgb(36,36,36)",
             "ticks": "outside"
            },
            "type": "choropleth"
           }
          ],
          "contour": [
           {
            "colorbar": {
             "outlinewidth": 1,
             "tickcolor": "rgb(36,36,36)",
             "ticks": "outside"
            },
            "colorscale": [
             [
              0,
              "#440154"
             ],
             [
              0.1111111111111111,
              "#482878"
             ],
             [
              0.2222222222222222,
              "#3e4989"
             ],
             [
              0.3333333333333333,
              "#31688e"
             ],
             [
              0.4444444444444444,
              "#26828e"
             ],
             [
              0.5555555555555556,
              "#1f9e89"
             ],
             [
              0.6666666666666666,
              "#35b779"
             ],
             [
              0.7777777777777778,
              "#6ece58"
             ],
             [
              0.8888888888888888,
              "#b5de2b"
             ],
             [
              1,
              "#fde725"
             ]
            ],
            "type": "contour"
           }
          ],
          "contourcarpet": [
           {
            "colorbar": {
             "outlinewidth": 1,
             "tickcolor": "rgb(36,36,36)",
             "ticks": "outside"
            },
            "type": "contourcarpet"
           }
          ],
          "heatmap": [
           {
            "colorbar": {
             "outlinewidth": 1,
             "tickcolor": "rgb(36,36,36)",
             "ticks": "outside"
            },
            "colorscale": [
             [
              0,
              "#440154"
             ],
             [
              0.1111111111111111,
              "#482878"
             ],
             [
              0.2222222222222222,
              "#3e4989"
             ],
             [
              0.3333333333333333,
              "#31688e"
             ],
             [
              0.4444444444444444,
              "#26828e"
             ],
             [
              0.5555555555555556,
              "#1f9e89"
             ],
             [
              0.6666666666666666,
              "#35b779"
             ],
             [
              0.7777777777777778,
              "#6ece58"
             ],
             [
              0.8888888888888888,
              "#b5de2b"
             ],
             [
              1,
              "#fde725"
             ]
            ],
            "type": "heatmap"
           }
          ],
          "heatmapgl": [
           {
            "colorbar": {
             "outlinewidth": 1,
             "tickcolor": "rgb(36,36,36)",
             "ticks": "outside"
            },
            "colorscale": [
             [
              0,
              "#440154"
             ],
             [
              0.1111111111111111,
              "#482878"
             ],
             [
              0.2222222222222222,
              "#3e4989"
             ],
             [
              0.3333333333333333,
              "#31688e"
             ],
             [
              0.4444444444444444,
              "#26828e"
             ],
             [
              0.5555555555555556,
              "#1f9e89"
             ],
             [
              0.6666666666666666,
              "#35b779"
             ],
             [
              0.7777777777777778,
              "#6ece58"
             ],
             [
              0.8888888888888888,
              "#b5de2b"
             ],
             [
              1,
              "#fde725"
             ]
            ],
            "type": "heatmapgl"
           }
          ],
          "histogram": [
           {
            "marker": {
             "line": {
              "color": "white",
              "width": 0.6
             }
            },
            "type": "histogram"
           }
          ],
          "histogram2d": [
           {
            "colorbar": {
             "outlinewidth": 1,
             "tickcolor": "rgb(36,36,36)",
             "ticks": "outside"
            },
            "colorscale": [
             [
              0,
              "#440154"
             ],
             [
              0.1111111111111111,
              "#482878"
             ],
             [
              0.2222222222222222,
              "#3e4989"
             ],
             [
              0.3333333333333333,
              "#31688e"
             ],
             [
              0.4444444444444444,
              "#26828e"
             ],
             [
              0.5555555555555556,
              "#1f9e89"
             ],
             [
              0.6666666666666666,
              "#35b779"
             ],
             [
              0.7777777777777778,
              "#6ece58"
             ],
             [
              0.8888888888888888,
              "#b5de2b"
             ],
             [
              1,
              "#fde725"
             ]
            ],
            "type": "histogram2d"
           }
          ],
          "histogram2dcontour": [
           {
            "colorbar": {
             "outlinewidth": 1,
             "tickcolor": "rgb(36,36,36)",
             "ticks": "outside"
            },
            "colorscale": [
             [
              0,
              "#440154"
             ],
             [
              0.1111111111111111,
              "#482878"
             ],
             [
              0.2222222222222222,
              "#3e4989"
             ],
             [
              0.3333333333333333,
              "#31688e"
             ],
             [
              0.4444444444444444,
              "#26828e"
             ],
             [
              0.5555555555555556,
              "#1f9e89"
             ],
             [
              0.6666666666666666,
              "#35b779"
             ],
             [
              0.7777777777777778,
              "#6ece58"
             ],
             [
              0.8888888888888888,
              "#b5de2b"
             ],
             [
              1,
              "#fde725"
             ]
            ],
            "type": "histogram2dcontour"
           }
          ],
          "mesh3d": [
           {
            "colorbar": {
             "outlinewidth": 1,
             "tickcolor": "rgb(36,36,36)",
             "ticks": "outside"
            },
            "type": "mesh3d"
           }
          ],
          "parcoords": [
           {
            "line": {
             "colorbar": {
              "outlinewidth": 1,
              "tickcolor": "rgb(36,36,36)",
              "ticks": "outside"
             }
            },
            "type": "parcoords"
           }
          ],
          "pie": [
           {
            "automargin": true,
            "type": "pie"
           }
          ],
          "scatter": [
           {
            "fillpattern": {
             "fillmode": "overlay",
             "size": 10,
             "solidity": 0.2
            },
            "type": "scatter"
           }
          ],
          "scatter3d": [
           {
            "line": {
             "colorbar": {
              "outlinewidth": 1,
              "tickcolor": "rgb(36,36,36)",
              "ticks": "outside"
             }
            },
            "marker": {
             "colorbar": {
              "outlinewidth": 1,
              "tickcolor": "rgb(36,36,36)",
              "ticks": "outside"
             }
            },
            "type": "scatter3d"
           }
          ],
          "scattercarpet": [
           {
            "marker": {
             "colorbar": {
              "outlinewidth": 1,
              "tickcolor": "rgb(36,36,36)",
              "ticks": "outside"
             }
            },
            "type": "scattercarpet"
           }
          ],
          "scattergeo": [
           {
            "marker": {
             "colorbar": {
              "outlinewidth": 1,
              "tickcolor": "rgb(36,36,36)",
              "ticks": "outside"
             }
            },
            "type": "scattergeo"
           }
          ],
          "scattergl": [
           {
            "marker": {
             "colorbar": {
              "outlinewidth": 1,
              "tickcolor": "rgb(36,36,36)",
              "ticks": "outside"
             }
            },
            "type": "scattergl"
           }
          ],
          "scattermapbox": [
           {
            "marker": {
             "colorbar": {
              "outlinewidth": 1,
              "tickcolor": "rgb(36,36,36)",
              "ticks": "outside"
             }
            },
            "type": "scattermapbox"
           }
          ],
          "scatterpolar": [
           {
            "marker": {
             "colorbar": {
              "outlinewidth": 1,
              "tickcolor": "rgb(36,36,36)",
              "ticks": "outside"
             }
            },
            "type": "scatterpolar"
           }
          ],
          "scatterpolargl": [
           {
            "marker": {
             "colorbar": {
              "outlinewidth": 1,
              "tickcolor": "rgb(36,36,36)",
              "ticks": "outside"
             }
            },
            "type": "scatterpolargl"
           }
          ],
          "scatterternary": [
           {
            "marker": {
             "colorbar": {
              "outlinewidth": 1,
              "tickcolor": "rgb(36,36,36)",
              "ticks": "outside"
             }
            },
            "type": "scatterternary"
           }
          ],
          "surface": [
           {
            "colorbar": {
             "outlinewidth": 1,
             "tickcolor": "rgb(36,36,36)",
             "ticks": "outside"
            },
            "colorscale": [
             [
              0,
              "#440154"
             ],
             [
              0.1111111111111111,
              "#482878"
             ],
             [
              0.2222222222222222,
              "#3e4989"
             ],
             [
              0.3333333333333333,
              "#31688e"
             ],
             [
              0.4444444444444444,
              "#26828e"
             ],
             [
              0.5555555555555556,
              "#1f9e89"
             ],
             [
              0.6666666666666666,
              "#35b779"
             ],
             [
              0.7777777777777778,
              "#6ece58"
             ],
             [
              0.8888888888888888,
              "#b5de2b"
             ],
             [
              1,
              "#fde725"
             ]
            ],
            "type": "surface"
           }
          ],
          "table": [
           {
            "cells": {
             "fill": {
              "color": "rgb(237,237,237)"
             },
             "line": {
              "color": "white"
             }
            },
            "header": {
             "fill": {
              "color": "rgb(217,217,217)"
             },
             "line": {
              "color": "white"
             }
            },
            "type": "table"
           }
          ]
         },
         "layout": {
          "annotationdefaults": {
           "arrowhead": 0,
           "arrowwidth": 1
          },
          "autotypenumbers": "strict",
          "coloraxis": {
           "colorbar": {
            "outlinewidth": 1,
            "tickcolor": "rgb(36,36,36)",
            "ticks": "outside"
           }
          },
          "colorscale": {
           "diverging": [
            [
             0,
             "rgb(103,0,31)"
            ],
            [
             0.1,
             "rgb(178,24,43)"
            ],
            [
             0.2,
             "rgb(214,96,77)"
            ],
            [
             0.3,
             "rgb(244,165,130)"
            ],
            [
             0.4,
             "rgb(253,219,199)"
            ],
            [
             0.5,
             "rgb(247,247,247)"
            ],
            [
             0.6,
             "rgb(209,229,240)"
            ],
            [
             0.7,
             "rgb(146,197,222)"
            ],
            [
             0.8,
             "rgb(67,147,195)"
            ],
            [
             0.9,
             "rgb(33,102,172)"
            ],
            [
             1,
             "rgb(5,48,97)"
            ]
           ],
           "sequential": [
            [
             0,
             "#440154"
            ],
            [
             0.1111111111111111,
             "#482878"
            ],
            [
             0.2222222222222222,
             "#3e4989"
            ],
            [
             0.3333333333333333,
             "#31688e"
            ],
            [
             0.4444444444444444,
             "#26828e"
            ],
            [
             0.5555555555555556,
             "#1f9e89"
            ],
            [
             0.6666666666666666,
             "#35b779"
            ],
            [
             0.7777777777777778,
             "#6ece58"
            ],
            [
             0.8888888888888888,
             "#b5de2b"
            ],
            [
             1,
             "#fde725"
            ]
           ],
           "sequentialminus": [
            [
             0,
             "#440154"
            ],
            [
             0.1111111111111111,
             "#482878"
            ],
            [
             0.2222222222222222,
             "#3e4989"
            ],
            [
             0.3333333333333333,
             "#31688e"
            ],
            [
             0.4444444444444444,
             "#26828e"
            ],
            [
             0.5555555555555556,
             "#1f9e89"
            ],
            [
             0.6666666666666666,
             "#35b779"
            ],
            [
             0.7777777777777778,
             "#6ece58"
            ],
            [
             0.8888888888888888,
             "#b5de2b"
            ],
            [
             1,
             "#fde725"
            ]
           ]
          },
          "colorway": [
           "#1F77B4",
           "#FF7F0E",
           "#2CA02C",
           "#D62728",
           "#9467BD",
           "#8C564B",
           "#E377C2",
           "#7F7F7F",
           "#BCBD22",
           "#17BECF"
          ],
          "font": {
           "color": "rgb(36,36,36)"
          },
          "geo": {
           "bgcolor": "white",
           "lakecolor": "white",
           "landcolor": "white",
           "showlakes": true,
           "showland": true,
           "subunitcolor": "white"
          },
          "hoverlabel": {
           "align": "left"
          },
          "hovermode": "closest",
          "mapbox": {
           "style": "light"
          },
          "paper_bgcolor": "white",
          "plot_bgcolor": "white",
          "polar": {
           "angularaxis": {
            "gridcolor": "rgb(232,232,232)",
            "linecolor": "rgb(36,36,36)",
            "showgrid": false,
            "showline": true,
            "ticks": "outside"
           },
           "bgcolor": "white",
           "radialaxis": {
            "gridcolor": "rgb(232,232,232)",
            "linecolor": "rgb(36,36,36)",
            "showgrid": false,
            "showline": true,
            "ticks": "outside"
           }
          },
          "scene": {
           "xaxis": {
            "backgroundcolor": "white",
            "gridcolor": "rgb(232,232,232)",
            "gridwidth": 2,
            "linecolor": "rgb(36,36,36)",
            "showbackground": true,
            "showgrid": false,
            "showline": true,
            "ticks": "outside",
            "zeroline": false,
            "zerolinecolor": "rgb(36,36,36)"
           },
           "yaxis": {
            "backgroundcolor": "white",
            "gridcolor": "rgb(232,232,232)",
            "gridwidth": 2,
            "linecolor": "rgb(36,36,36)",
            "showbackground": true,
            "showgrid": false,
            "showline": true,
            "ticks": "outside",
            "zeroline": false,
            "zerolinecolor": "rgb(36,36,36)"
           },
           "zaxis": {
            "backgroundcolor": "white",
            "gridcolor": "rgb(232,232,232)",
            "gridwidth": 2,
            "linecolor": "rgb(36,36,36)",
            "showbackground": true,
            "showgrid": false,
            "showline": true,
            "ticks": "outside",
            "zeroline": false,
            "zerolinecolor": "rgb(36,36,36)"
           }
          },
          "shapedefaults": {
           "fillcolor": "black",
           "line": {
            "width": 0
           },
           "opacity": 0.3
          },
          "ternary": {
           "aaxis": {
            "gridcolor": "rgb(232,232,232)",
            "linecolor": "rgb(36,36,36)",
            "showgrid": false,
            "showline": true,
            "ticks": "outside"
           },
           "baxis": {
            "gridcolor": "rgb(232,232,232)",
            "linecolor": "rgb(36,36,36)",
            "showgrid": false,
            "showline": true,
            "ticks": "outside"
           },
           "bgcolor": "white",
           "caxis": {
            "gridcolor": "rgb(232,232,232)",
            "linecolor": "rgb(36,36,36)",
            "showgrid": false,
            "showline": true,
            "ticks": "outside"
           }
          },
          "title": {
           "x": 0.05
          },
          "xaxis": {
           "automargin": true,
           "gridcolor": "rgb(232,232,232)",
           "linecolor": "rgb(36,36,36)",
           "showgrid": false,
           "showline": true,
           "ticks": "outside",
           "title": {
            "standoff": 15
           },
           "zeroline": false,
           "zerolinecolor": "rgb(36,36,36)"
          },
          "yaxis": {
           "automargin": true,
           "gridcolor": "rgb(232,232,232)",
           "linecolor": "rgb(36,36,36)",
           "showgrid": false,
           "showline": true,
           "ticks": "outside",
           "title": {
            "standoff": 15
           },
           "zeroline": false,
           "zerolinecolor": "rgb(36,36,36)"
          }
         }
        },
        "xaxis": {
         "title": {
          "text": "Date"
         }
        },
        "yaxis": {
         "title": {
          "text": "Decay in min (USDC)"
         }
        }
       }
      }
     },
     "metadata": {},
     "output_type": "display_data"
    }
   ],
   "source": [
    "fig = go.Figure(layout=layout)\n",
    "\n",
    "fig.add_trace(go.Scatter(x=df_aug.index,\n",
    "                            y=(df_aug['decay']/60).astype(\n",
    "                                float),\n",
    "                            mode='lines',\n",
    "                            name = f'Decay time {token0}-{token1} at {exchange_name}'))\n",
    "\n",
    "fig.update_layout(xaxis_title='Date',\n",
    "                    yaxis_title=f'Decay in min ({token0})', showlegend=True,\n",
    "                    legend=dict(xanchor='center', x=0.5, y=1.10, orientation='h'),)\n",
    "#fig.write_image(f\"./plots/{contract_name}_{event_name}.pdf\")\n",
    "\n",
    "fig.show()"
   ]
  },
  {
   "cell_type": "code",
   "execution_count": 38,
   "metadata": {},
   "outputs": [
    {
     "data": {
      "text/html": [
       "<div>\n",
       "<style scoped>\n",
       "    .dataframe tbody tr th:only-of-type {\n",
       "        vertical-align: middle;\n",
       "    }\n",
       "\n",
       "    .dataframe tbody tr th {\n",
       "        vertical-align: top;\n",
       "    }\n",
       "\n",
       "    .dataframe thead th {\n",
       "        text-align: right;\n",
       "    }\n",
       "</style>\n",
       "<table border=\"1\" class=\"dataframe\">\n",
       "  <thead>\n",
       "    <tr style=\"text-align: right;\">\n",
       "      <th></th>\n",
       "      <th>volume_total_0</th>\n",
       "      <th>price_diff</th>\n",
       "      <th>reserve_total_0</th>\n",
       "      <th>spot_price</th>\n",
       "      <th>CEX_price</th>\n",
       "      <th>MAV_0</th>\n",
       "      <th>max_MAV_0</th>\n",
       "      <th>LP_Fee_0</th>\n",
       "      <th>decay</th>\n",
       "      <th>fees_0</th>\n",
       "      <th>LP_Fee_total_0</th>\n",
       "      <th>block_slippage_total_0</th>\n",
       "      <th>annual_return</th>\n",
       "      <th>date</th>\n",
       "    </tr>\n",
       "    <tr>\n",
       "      <th>timestamp</th>\n",
       "      <th></th>\n",
       "      <th></th>\n",
       "      <th></th>\n",
       "      <th></th>\n",
       "      <th></th>\n",
       "      <th></th>\n",
       "      <th></th>\n",
       "      <th></th>\n",
       "      <th></th>\n",
       "      <th></th>\n",
       "      <th></th>\n",
       "      <th></th>\n",
       "      <th></th>\n",
       "      <th></th>\n",
       "    </tr>\n",
       "  </thead>\n",
       "  <tbody>\n",
       "    <tr>\n",
       "      <th>2023-08-29</th>\n",
       "      <td>670248.425257</td>\n",
       "      <td>0.027629</td>\n",
       "      <td>3.578599e+07</td>\n",
       "      <td>1726.68165</td>\n",
       "      <td>1728.17</td>\n",
       "      <td>27551.168859</td>\n",
       "      <td>5038.356654</td>\n",
       "      <td>7.157825</td>\n",
       "      <td>0.0</td>\n",
       "      <td>36.498152</td>\n",
       "      <td>536.19874</td>\n",
       "      <td>100381.488093</td>\n",
       "      <td>2.000175e-07</td>\n",
       "      <td>2023-08-29</td>\n",
       "    </tr>\n",
       "  </tbody>\n",
       "</table>\n",
       "</div>"
      ],
      "text/plain": [
       "            volume_total_0  price_diff  reserve_total_0  spot_price  \\\n",
       "timestamp                                                             \n",
       "2023-08-29   670248.425257    0.027629     3.578599e+07  1726.68165   \n",
       "\n",
       "            CEX_price         MAV_0    max_MAV_0  LP_Fee_0  decay     fees_0  \\\n",
       "timestamp                                                                      \n",
       "2023-08-29    1728.17  27551.168859  5038.356654  7.157825    0.0  36.498152   \n",
       "\n",
       "            LP_Fee_total_0  block_slippage_total_0  annual_return        date  \n",
       "timestamp                                                                      \n",
       "2023-08-29       536.19874           100381.488093   2.000175e-07  2023-08-29  "
      ]
     },
     "execution_count": 38,
     "metadata": {},
     "output_type": "execute_result"
    }
   ],
   "source": [
    "df_per_day['date'] = pd.to_datetime(df_per_day.index).date\n",
    "\n",
    "df_per_day[df_per_day['date'] == datetime.date(2023,8,29)]"
   ]
  },
  {
   "cell_type": "code",
   "execution_count": 39,
   "metadata": {},
   "outputs": [],
   "source": [
    "df_per_day = df_per_day[df_per_day['date'] >= datetime.date(2023,7,1)]"
   ]
  },
  {
   "cell_type": "code",
   "execution_count": 40,
   "metadata": {},
   "outputs": [
    {
     "data": {
      "application/vnd.plotly.v1+json": {
       "config": {
        "plotlyServerURL": "https://plot.ly"
       },
       "data": [
        {
         "mode": "lines",
         "name": "Cumulative MAV for USDC-ETH at SyncSwap",
         "type": "scatter",
         "x": [
          "2023-07-01T00:00:00",
          "2023-07-02T00:00:00",
          "2023-07-03T00:00:00",
          "2023-07-04T00:00:00",
          "2023-07-05T00:00:00",
          "2023-07-06T00:00:00",
          "2023-07-07T00:00:00",
          "2023-07-08T00:00:00",
          "2023-07-09T00:00:00",
          "2023-07-10T00:00:00",
          "2023-07-11T00:00:00",
          "2023-07-12T00:00:00",
          "2023-07-13T00:00:00",
          "2023-07-14T00:00:00",
          "2023-07-15T00:00:00",
          "2023-07-16T00:00:00",
          "2023-07-17T00:00:00",
          "2023-07-18T00:00:00",
          "2023-07-19T00:00:00",
          "2023-07-20T00:00:00",
          "2023-07-21T00:00:00",
          "2023-07-22T00:00:00",
          "2023-07-23T00:00:00",
          "2023-07-24T00:00:00",
          "2023-07-25T00:00:00",
          "2023-07-26T00:00:00",
          "2023-07-27T00:00:00",
          "2023-07-28T00:00:00",
          "2023-07-29T00:00:00",
          "2023-07-30T00:00:00",
          "2023-07-31T00:00:00",
          "2023-08-01T00:00:00",
          "2023-08-02T00:00:00",
          "2023-08-03T00:00:00",
          "2023-08-04T00:00:00",
          "2023-08-05T00:00:00",
          "2023-08-06T00:00:00",
          "2023-08-07T00:00:00",
          "2023-08-08T00:00:00",
          "2023-08-09T00:00:00",
          "2023-08-10T00:00:00",
          "2023-08-11T00:00:00",
          "2023-08-12T00:00:00",
          "2023-08-13T00:00:00",
          "2023-08-14T00:00:00",
          "2023-08-15T00:00:00",
          "2023-08-16T00:00:00",
          "2023-08-17T00:00:00",
          "2023-08-18T00:00:00",
          "2023-08-19T00:00:00",
          "2023-08-20T00:00:00",
          "2023-08-21T00:00:00",
          "2023-08-22T00:00:00",
          "2023-08-23T00:00:00",
          "2023-08-24T00:00:00",
          "2023-08-25T00:00:00",
          "2023-08-26T00:00:00",
          "2023-08-27T00:00:00",
          "2023-08-28T00:00:00",
          "2023-08-29T00:00:00",
          "2023-08-30T00:00:00",
          "2023-08-31T00:00:00",
          "2023-09-01T00:00:00",
          "2023-09-02T00:00:00",
          "2023-09-03T00:00:00",
          "2023-09-04T00:00:00",
          "2023-09-05T00:00:00",
          "2023-09-06T00:00:00",
          "2023-09-07T00:00:00",
          "2023-09-08T00:00:00",
          "2023-09-09T00:00:00",
          "2023-09-10T00:00:00",
          "2023-09-11T00:00:00",
          "2023-09-12T00:00:00",
          "2023-09-13T00:00:00",
          "2023-09-14T00:00:00",
          "2023-09-15T00:00:00",
          "2023-09-16T00:00:00",
          "2023-09-17T00:00:00"
         ],
         "y": [
          3074.1317860872737,
          5915.299531821704,
          9278.1998570583,
          10479.696879363488,
          12332.887457379864,
          15769.220559159083,
          19346.515259780776,
          20934.036283540565,
          25023.88587936358,
          27896.936710459806,
          29175.736614762707,
          31720.06590227475,
          40520.42738391555,
          44619.03592345137,
          45109.45857247446,
          45813.77717505629,
          46886.309134913914,
          47174.359290027016,
          47812.277305931595,
          48420.3576035766,
          48516.82228105381,
          48735.25170711946,
          49129.857449040486,
          49505.895234039795,
          50323.78424873014,
          50514.380296616844,
          50859.73324432463,
          51186.16025699004,
          51391.91437150688,
          51653.98297735434,
          51807.42753759926,
          52970.099716073986,
          53279.632236650395,
          53420.31225147148,
          53874.91133814746,
          53951.663665812725,
          54189.739815122986,
          54322.52584857933,
          54521.7540178091,
          54609.50101936144,
          54684.83095856776,
          54786.04307742988,
          54844.168672763844,
          55139.36360285502,
          55429.30242400814,
          55742.22137233525,
          55975.094153721795,
          64644.606292700264,
          69175.6221694604,
          69232.19875639588,
          69320.8487873841,
          69729.95738812731,
          70459.5097713238,
          71824.1578284759,
          72374.0201660945,
          73204.28072711836,
          73204.28072711836,
          73863.62845198328,
          74176.67357412273,
          79215.03022811023,
          79287.48031432317,
          82641.84144232827,
          83063.15916864482,
          83757.3335677143,
          84589.7275498165,
          85433.94227192018,
          86340.79871012327,
          88495.32406305394,
          89483.16677758565,
          90771.55425945333,
          91049.33078261766,
          92881.41045405988,
          95384.675849814,
          97921.8820629881,
          99368.68368335775,
          101664.89529325353,
          102867.54832937453,
          103998.67574512419,
          104960.52918411736
         ]
        }
       ],
       "layout": {
        "legend": {
         "orientation": "h",
         "x": 0.5,
         "xanchor": "center",
         "y": 1.1
        },
        "margin": {
         "b": 10,
         "l": 10,
         "r": 10,
         "t": 10
        },
        "showlegend": true,
        "template": {
         "data": {
          "bar": [
           {
            "error_x": {
             "color": "rgb(36,36,36)"
            },
            "error_y": {
             "color": "rgb(36,36,36)"
            },
            "marker": {
             "line": {
              "color": "white",
              "width": 0.5
             },
             "pattern": {
              "fillmode": "overlay",
              "size": 10,
              "solidity": 0.2
             }
            },
            "type": "bar"
           }
          ],
          "barpolar": [
           {
            "marker": {
             "line": {
              "color": "white",
              "width": 0.5
             },
             "pattern": {
              "fillmode": "overlay",
              "size": 10,
              "solidity": 0.2
             }
            },
            "type": "barpolar"
           }
          ],
          "carpet": [
           {
            "aaxis": {
             "endlinecolor": "rgb(36,36,36)",
             "gridcolor": "white",
             "linecolor": "white",
             "minorgridcolor": "white",
             "startlinecolor": "rgb(36,36,36)"
            },
            "baxis": {
             "endlinecolor": "rgb(36,36,36)",
             "gridcolor": "white",
             "linecolor": "white",
             "minorgridcolor": "white",
             "startlinecolor": "rgb(36,36,36)"
            },
            "type": "carpet"
           }
          ],
          "choropleth": [
           {
            "colorbar": {
             "outlinewidth": 1,
             "tickcolor": "rgb(36,36,36)",
             "ticks": "outside"
            },
            "type": "choropleth"
           }
          ],
          "contour": [
           {
            "colorbar": {
             "outlinewidth": 1,
             "tickcolor": "rgb(36,36,36)",
             "ticks": "outside"
            },
            "colorscale": [
             [
              0,
              "#440154"
             ],
             [
              0.1111111111111111,
              "#482878"
             ],
             [
              0.2222222222222222,
              "#3e4989"
             ],
             [
              0.3333333333333333,
              "#31688e"
             ],
             [
              0.4444444444444444,
              "#26828e"
             ],
             [
              0.5555555555555556,
              "#1f9e89"
             ],
             [
              0.6666666666666666,
              "#35b779"
             ],
             [
              0.7777777777777778,
              "#6ece58"
             ],
             [
              0.8888888888888888,
              "#b5de2b"
             ],
             [
              1,
              "#fde725"
             ]
            ],
            "type": "contour"
           }
          ],
          "contourcarpet": [
           {
            "colorbar": {
             "outlinewidth": 1,
             "tickcolor": "rgb(36,36,36)",
             "ticks": "outside"
            },
            "type": "contourcarpet"
           }
          ],
          "heatmap": [
           {
            "colorbar": {
             "outlinewidth": 1,
             "tickcolor": "rgb(36,36,36)",
             "ticks": "outside"
            },
            "colorscale": [
             [
              0,
              "#440154"
             ],
             [
              0.1111111111111111,
              "#482878"
             ],
             [
              0.2222222222222222,
              "#3e4989"
             ],
             [
              0.3333333333333333,
              "#31688e"
             ],
             [
              0.4444444444444444,
              "#26828e"
             ],
             [
              0.5555555555555556,
              "#1f9e89"
             ],
             [
              0.6666666666666666,
              "#35b779"
             ],
             [
              0.7777777777777778,
              "#6ece58"
             ],
             [
              0.8888888888888888,
              "#b5de2b"
             ],
             [
              1,
              "#fde725"
             ]
            ],
            "type": "heatmap"
           }
          ],
          "heatmapgl": [
           {
            "colorbar": {
             "outlinewidth": 1,
             "tickcolor": "rgb(36,36,36)",
             "ticks": "outside"
            },
            "colorscale": [
             [
              0,
              "#440154"
             ],
             [
              0.1111111111111111,
              "#482878"
             ],
             [
              0.2222222222222222,
              "#3e4989"
             ],
             [
              0.3333333333333333,
              "#31688e"
             ],
             [
              0.4444444444444444,
              "#26828e"
             ],
             [
              0.5555555555555556,
              "#1f9e89"
             ],
             [
              0.6666666666666666,
              "#35b779"
             ],
             [
              0.7777777777777778,
              "#6ece58"
             ],
             [
              0.8888888888888888,
              "#b5de2b"
             ],
             [
              1,
              "#fde725"
             ]
            ],
            "type": "heatmapgl"
           }
          ],
          "histogram": [
           {
            "marker": {
             "line": {
              "color": "white",
              "width": 0.6
             }
            },
            "type": "histogram"
           }
          ],
          "histogram2d": [
           {
            "colorbar": {
             "outlinewidth": 1,
             "tickcolor": "rgb(36,36,36)",
             "ticks": "outside"
            },
            "colorscale": [
             [
              0,
              "#440154"
             ],
             [
              0.1111111111111111,
              "#482878"
             ],
             [
              0.2222222222222222,
              "#3e4989"
             ],
             [
              0.3333333333333333,
              "#31688e"
             ],
             [
              0.4444444444444444,
              "#26828e"
             ],
             [
              0.5555555555555556,
              "#1f9e89"
             ],
             [
              0.6666666666666666,
              "#35b779"
             ],
             [
              0.7777777777777778,
              "#6ece58"
             ],
             [
              0.8888888888888888,
              "#b5de2b"
             ],
             [
              1,
              "#fde725"
             ]
            ],
            "type": "histogram2d"
           }
          ],
          "histogram2dcontour": [
           {
            "colorbar": {
             "outlinewidth": 1,
             "tickcolor": "rgb(36,36,36)",
             "ticks": "outside"
            },
            "colorscale": [
             [
              0,
              "#440154"
             ],
             [
              0.1111111111111111,
              "#482878"
             ],
             [
              0.2222222222222222,
              "#3e4989"
             ],
             [
              0.3333333333333333,
              "#31688e"
             ],
             [
              0.4444444444444444,
              "#26828e"
             ],
             [
              0.5555555555555556,
              "#1f9e89"
             ],
             [
              0.6666666666666666,
              "#35b779"
             ],
             [
              0.7777777777777778,
              "#6ece58"
             ],
             [
              0.8888888888888888,
              "#b5de2b"
             ],
             [
              1,
              "#fde725"
             ]
            ],
            "type": "histogram2dcontour"
           }
          ],
          "mesh3d": [
           {
            "colorbar": {
             "outlinewidth": 1,
             "tickcolor": "rgb(36,36,36)",
             "ticks": "outside"
            },
            "type": "mesh3d"
           }
          ],
          "parcoords": [
           {
            "line": {
             "colorbar": {
              "outlinewidth": 1,
              "tickcolor": "rgb(36,36,36)",
              "ticks": "outside"
             }
            },
            "type": "parcoords"
           }
          ],
          "pie": [
           {
            "automargin": true,
            "type": "pie"
           }
          ],
          "scatter": [
           {
            "fillpattern": {
             "fillmode": "overlay",
             "size": 10,
             "solidity": 0.2
            },
            "type": "scatter"
           }
          ],
          "scatter3d": [
           {
            "line": {
             "colorbar": {
              "outlinewidth": 1,
              "tickcolor": "rgb(36,36,36)",
              "ticks": "outside"
             }
            },
            "marker": {
             "colorbar": {
              "outlinewidth": 1,
              "tickcolor": "rgb(36,36,36)",
              "ticks": "outside"
             }
            },
            "type": "scatter3d"
           }
          ],
          "scattercarpet": [
           {
            "marker": {
             "colorbar": {
              "outlinewidth": 1,
              "tickcolor": "rgb(36,36,36)",
              "ticks": "outside"
             }
            },
            "type": "scattercarpet"
           }
          ],
          "scattergeo": [
           {
            "marker": {
             "colorbar": {
              "outlinewidth": 1,
              "tickcolor": "rgb(36,36,36)",
              "ticks": "outside"
             }
            },
            "type": "scattergeo"
           }
          ],
          "scattergl": [
           {
            "marker": {
             "colorbar": {
              "outlinewidth": 1,
              "tickcolor": "rgb(36,36,36)",
              "ticks": "outside"
             }
            },
            "type": "scattergl"
           }
          ],
          "scattermapbox": [
           {
            "marker": {
             "colorbar": {
              "outlinewidth": 1,
              "tickcolor": "rgb(36,36,36)",
              "ticks": "outside"
             }
            },
            "type": "scattermapbox"
           }
          ],
          "scatterpolar": [
           {
            "marker": {
             "colorbar": {
              "outlinewidth": 1,
              "tickcolor": "rgb(36,36,36)",
              "ticks": "outside"
             }
            },
            "type": "scatterpolar"
           }
          ],
          "scatterpolargl": [
           {
            "marker": {
             "colorbar": {
              "outlinewidth": 1,
              "tickcolor": "rgb(36,36,36)",
              "ticks": "outside"
             }
            },
            "type": "scatterpolargl"
           }
          ],
          "scatterternary": [
           {
            "marker": {
             "colorbar": {
              "outlinewidth": 1,
              "tickcolor": "rgb(36,36,36)",
              "ticks": "outside"
             }
            },
            "type": "scatterternary"
           }
          ],
          "surface": [
           {
            "colorbar": {
             "outlinewidth": 1,
             "tickcolor": "rgb(36,36,36)",
             "ticks": "outside"
            },
            "colorscale": [
             [
              0,
              "#440154"
             ],
             [
              0.1111111111111111,
              "#482878"
             ],
             [
              0.2222222222222222,
              "#3e4989"
             ],
             [
              0.3333333333333333,
              "#31688e"
             ],
             [
              0.4444444444444444,
              "#26828e"
             ],
             [
              0.5555555555555556,
              "#1f9e89"
             ],
             [
              0.6666666666666666,
              "#35b779"
             ],
             [
              0.7777777777777778,
              "#6ece58"
             ],
             [
              0.8888888888888888,
              "#b5de2b"
             ],
             [
              1,
              "#fde725"
             ]
            ],
            "type": "surface"
           }
          ],
          "table": [
           {
            "cells": {
             "fill": {
              "color": "rgb(237,237,237)"
             },
             "line": {
              "color": "white"
             }
            },
            "header": {
             "fill": {
              "color": "rgb(217,217,217)"
             },
             "line": {
              "color": "white"
             }
            },
            "type": "table"
           }
          ]
         },
         "layout": {
          "annotationdefaults": {
           "arrowhead": 0,
           "arrowwidth": 1
          },
          "autotypenumbers": "strict",
          "coloraxis": {
           "colorbar": {
            "outlinewidth": 1,
            "tickcolor": "rgb(36,36,36)",
            "ticks": "outside"
           }
          },
          "colorscale": {
           "diverging": [
            [
             0,
             "rgb(103,0,31)"
            ],
            [
             0.1,
             "rgb(178,24,43)"
            ],
            [
             0.2,
             "rgb(214,96,77)"
            ],
            [
             0.3,
             "rgb(244,165,130)"
            ],
            [
             0.4,
             "rgb(253,219,199)"
            ],
            [
             0.5,
             "rgb(247,247,247)"
            ],
            [
             0.6,
             "rgb(209,229,240)"
            ],
            [
             0.7,
             "rgb(146,197,222)"
            ],
            [
             0.8,
             "rgb(67,147,195)"
            ],
            [
             0.9,
             "rgb(33,102,172)"
            ],
            [
             1,
             "rgb(5,48,97)"
            ]
           ],
           "sequential": [
            [
             0,
             "#440154"
            ],
            [
             0.1111111111111111,
             "#482878"
            ],
            [
             0.2222222222222222,
             "#3e4989"
            ],
            [
             0.3333333333333333,
             "#31688e"
            ],
            [
             0.4444444444444444,
             "#26828e"
            ],
            [
             0.5555555555555556,
             "#1f9e89"
            ],
            [
             0.6666666666666666,
             "#35b779"
            ],
            [
             0.7777777777777778,
             "#6ece58"
            ],
            [
             0.8888888888888888,
             "#b5de2b"
            ],
            [
             1,
             "#fde725"
            ]
           ],
           "sequentialminus": [
            [
             0,
             "#440154"
            ],
            [
             0.1111111111111111,
             "#482878"
            ],
            [
             0.2222222222222222,
             "#3e4989"
            ],
            [
             0.3333333333333333,
             "#31688e"
            ],
            [
             0.4444444444444444,
             "#26828e"
            ],
            [
             0.5555555555555556,
             "#1f9e89"
            ],
            [
             0.6666666666666666,
             "#35b779"
            ],
            [
             0.7777777777777778,
             "#6ece58"
            ],
            [
             0.8888888888888888,
             "#b5de2b"
            ],
            [
             1,
             "#fde725"
            ]
           ]
          },
          "colorway": [
           "#1F77B4",
           "#FF7F0E",
           "#2CA02C",
           "#D62728",
           "#9467BD",
           "#8C564B",
           "#E377C2",
           "#7F7F7F",
           "#BCBD22",
           "#17BECF"
          ],
          "font": {
           "color": "rgb(36,36,36)"
          },
          "geo": {
           "bgcolor": "white",
           "lakecolor": "white",
           "landcolor": "white",
           "showlakes": true,
           "showland": true,
           "subunitcolor": "white"
          },
          "hoverlabel": {
           "align": "left"
          },
          "hovermode": "closest",
          "mapbox": {
           "style": "light"
          },
          "paper_bgcolor": "white",
          "plot_bgcolor": "white",
          "polar": {
           "angularaxis": {
            "gridcolor": "rgb(232,232,232)",
            "linecolor": "rgb(36,36,36)",
            "showgrid": false,
            "showline": true,
            "ticks": "outside"
           },
           "bgcolor": "white",
           "radialaxis": {
            "gridcolor": "rgb(232,232,232)",
            "linecolor": "rgb(36,36,36)",
            "showgrid": false,
            "showline": true,
            "ticks": "outside"
           }
          },
          "scene": {
           "xaxis": {
            "backgroundcolor": "white",
            "gridcolor": "rgb(232,232,232)",
            "gridwidth": 2,
            "linecolor": "rgb(36,36,36)",
            "showbackground": true,
            "showgrid": false,
            "showline": true,
            "ticks": "outside",
            "zeroline": false,
            "zerolinecolor": "rgb(36,36,36)"
           },
           "yaxis": {
            "backgroundcolor": "white",
            "gridcolor": "rgb(232,232,232)",
            "gridwidth": 2,
            "linecolor": "rgb(36,36,36)",
            "showbackground": true,
            "showgrid": false,
            "showline": true,
            "ticks": "outside",
            "zeroline": false,
            "zerolinecolor": "rgb(36,36,36)"
           },
           "zaxis": {
            "backgroundcolor": "white",
            "gridcolor": "rgb(232,232,232)",
            "gridwidth": 2,
            "linecolor": "rgb(36,36,36)",
            "showbackground": true,
            "showgrid": false,
            "showline": true,
            "ticks": "outside",
            "zeroline": false,
            "zerolinecolor": "rgb(36,36,36)"
           }
          },
          "shapedefaults": {
           "fillcolor": "black",
           "line": {
            "width": 0
           },
           "opacity": 0.3
          },
          "ternary": {
           "aaxis": {
            "gridcolor": "rgb(232,232,232)",
            "linecolor": "rgb(36,36,36)",
            "showgrid": false,
            "showline": true,
            "ticks": "outside"
           },
           "baxis": {
            "gridcolor": "rgb(232,232,232)",
            "linecolor": "rgb(36,36,36)",
            "showgrid": false,
            "showline": true,
            "ticks": "outside"
           },
           "bgcolor": "white",
           "caxis": {
            "gridcolor": "rgb(232,232,232)",
            "linecolor": "rgb(36,36,36)",
            "showgrid": false,
            "showline": true,
            "ticks": "outside"
           }
          },
          "title": {
           "x": 0.05
          },
          "xaxis": {
           "automargin": true,
           "gridcolor": "rgb(232,232,232)",
           "linecolor": "rgb(36,36,36)",
           "showgrid": false,
           "showline": true,
           "ticks": "outside",
           "title": {
            "standoff": 15
           },
           "zeroline": false,
           "zerolinecolor": "rgb(36,36,36)"
          },
          "yaxis": {
           "automargin": true,
           "gridcolor": "rgb(232,232,232)",
           "linecolor": "rgb(36,36,36)",
           "showgrid": false,
           "showline": true,
           "ticks": "outside",
           "title": {
            "standoff": 15
           },
           "zeroline": false,
           "zerolinecolor": "rgb(36,36,36)"
          }
         }
        },
        "xaxis": {
         "title": {
          "text": "Date"
         }
        },
        "yaxis": {
         "title": {
          "text": "Cumulative MAV (USDC)"
         }
        }
       }
      }
     },
     "metadata": {},
     "output_type": "display_data"
    }
   ],
   "source": [
    "fig = go.Figure(layout=layout)\n",
    "\n",
    "fig.add_trace(go.Scatter(x=df_per_day.index,\n",
    "                            y=df_per_day['max_MAV_0'].cumsum().astype(\n",
    "                                float),\n",
    "                            mode='lines',\n",
    "                            name = f'Cumulative MAV for {token0}-{token1} at {exchange_name}'))\n",
    "\n",
    "fig.update_layout(xaxis_title='Date',\n",
    "                    yaxis_title=f'Cumulative MAV ({token0})', showlegend=True,\n",
    "                    legend=dict(xanchor='center', x=0.5, y=1.10, orientation='h'),)\n",
    "#fig.write_image(f\"./plots/{contract_name}_{event_name}.pdf\")\n",
    "fig.show()"
   ]
  },
  {
   "cell_type": "code",
   "execution_count": 41,
   "metadata": {},
   "outputs": [
    {
     "data": {
      "application/vnd.plotly.v1+json": {
       "config": {
        "plotlyServerURL": "https://plot.ly"
       },
       "data": [
        {
         "mode": "lines",
         "name": "Reserves USDC-ETH at SyncSwap",
         "type": "scatter",
         "x": [
          "2023-07-01T00:00:00",
          "2023-07-02T00:00:00",
          "2023-07-03T00:00:00",
          "2023-07-04T00:00:00",
          "2023-07-05T00:00:00",
          "2023-07-06T00:00:00",
          "2023-07-07T00:00:00",
          "2023-07-08T00:00:00",
          "2023-07-09T00:00:00",
          "2023-07-10T00:00:00",
          "2023-07-11T00:00:00",
          "2023-07-12T00:00:00",
          "2023-07-13T00:00:00",
          "2023-07-14T00:00:00",
          "2023-07-15T00:00:00",
          "2023-07-16T00:00:00",
          "2023-07-17T00:00:00",
          "2023-07-18T00:00:00",
          "2023-07-19T00:00:00",
          "2023-07-20T00:00:00",
          "2023-07-21T00:00:00",
          "2023-07-22T00:00:00",
          "2023-07-23T00:00:00",
          "2023-07-24T00:00:00",
          "2023-07-25T00:00:00",
          "2023-07-26T00:00:00",
          "2023-07-27T00:00:00",
          "2023-07-28T00:00:00",
          "2023-07-29T00:00:00",
          "2023-07-30T00:00:00",
          "2023-07-31T00:00:00",
          "2023-08-01T00:00:00",
          "2023-08-02T00:00:00",
          "2023-08-03T00:00:00",
          "2023-08-04T00:00:00",
          "2023-08-05T00:00:00",
          "2023-08-06T00:00:00",
          "2023-08-07T00:00:00",
          "2023-08-08T00:00:00",
          "2023-08-09T00:00:00",
          "2023-08-10T00:00:00",
          "2023-08-11T00:00:00",
          "2023-08-12T00:00:00",
          "2023-08-13T00:00:00",
          "2023-08-14T00:00:00",
          "2023-08-15T00:00:00",
          "2023-08-16T00:00:00",
          "2023-08-17T00:00:00",
          "2023-08-18T00:00:00",
          "2023-08-19T00:00:00",
          "2023-08-20T00:00:00",
          "2023-08-21T00:00:00",
          "2023-08-22T00:00:00",
          "2023-08-23T00:00:00",
          "2023-08-24T00:00:00",
          "2023-08-25T00:00:00",
          "2023-08-26T00:00:00",
          "2023-08-27T00:00:00",
          "2023-08-28T00:00:00",
          "2023-08-29T00:00:00",
          "2023-08-30T00:00:00",
          "2023-08-31T00:00:00",
          "2023-09-01T00:00:00",
          "2023-09-02T00:00:00",
          "2023-09-03T00:00:00",
          "2023-09-04T00:00:00",
          "2023-09-05T00:00:00",
          "2023-09-06T00:00:00",
          "2023-09-07T00:00:00",
          "2023-09-08T00:00:00",
          "2023-09-09T00:00:00",
          "2023-09-10T00:00:00",
          "2023-09-11T00:00:00",
          "2023-09-12T00:00:00",
          "2023-09-13T00:00:00",
          "2023-09-14T00:00:00",
          "2023-09-15T00:00:00",
          "2023-09-16T00:00:00",
          "2023-09-17T00:00:00"
         ],
         "y": [
          58418887.545448,
          59195351.077452,
          59782791.414766,
          59855359.680844,
          59657222.933242,
          58306095.326434,
          59283268.21623,
          59790870.68817,
          60105141.230748,
          59904223.58639,
          60266272.805424,
          60646560.342926,
          62773525.38989,
          61643953.158784,
          61738636.680208,
          61888820.747094,
          60919666.094748,
          60903743.786158,
          60848762.98804,
          61099773.102422,
          61176493.535416,
          60818433.16835,
          61004290.988528,
          59733654.555202,
          57679057.3089,
          56831768.923532,
          56188197.91355,
          55816470.4771,
          49914688.56538,
          48905031.968486,
          48486405.576792,
          47811434.854342,
          47039068.079562,
          46827852.21013,
          44845439.85653,
          44858128.056506,
          44944174.84181,
          44466295.201882,
          46727572.218622,
          46564030.528626,
          44401776.518752,
          44136595.367614,
          44163338.52653,
          44096781.936712,
          43649508.198286,
          42977368.54074,
          42726485.698812,
          40289067.00623,
          39698844.116072,
          39460165.846058,
          39594445.376976,
          39452829.009048,
          38980268.868226,
          39375721.478902,
          39219260.945016,
          39115079.606784,
          39064029.700972,
          39135878.529572,
          35175795.973098,
          35785985.796434,
          35768393.701924,
          35137311.062306,
          34819609.076226,
          35110501.439918,
          34586885.994814,
          34301954.847006,
          34313791.733766,
          34305981.468196,
          37906968.357104,
          38994184.841556,
          39094454.119954,
          38864078.04504,
          37572179.619244,
          38228501.18986,
          38265469.006978,
          38629491.07254,
          38750853.88872,
          38555463.583722,
          38498341.666598
         ]
        }
       ],
       "layout": {
        "legend": {
         "orientation": "h",
         "x": 0.5,
         "xanchor": "center",
         "y": 1.1
        },
        "margin": {
         "b": 10,
         "l": 10,
         "r": 10,
         "t": 10
        },
        "showlegend": true,
        "template": {
         "data": {
          "bar": [
           {
            "error_x": {
             "color": "rgb(36,36,36)"
            },
            "error_y": {
             "color": "rgb(36,36,36)"
            },
            "marker": {
             "line": {
              "color": "white",
              "width": 0.5
             },
             "pattern": {
              "fillmode": "overlay",
              "size": 10,
              "solidity": 0.2
             }
            },
            "type": "bar"
           }
          ],
          "barpolar": [
           {
            "marker": {
             "line": {
              "color": "white",
              "width": 0.5
             },
             "pattern": {
              "fillmode": "overlay",
              "size": 10,
              "solidity": 0.2
             }
            },
            "type": "barpolar"
           }
          ],
          "carpet": [
           {
            "aaxis": {
             "endlinecolor": "rgb(36,36,36)",
             "gridcolor": "white",
             "linecolor": "white",
             "minorgridcolor": "white",
             "startlinecolor": "rgb(36,36,36)"
            },
            "baxis": {
             "endlinecolor": "rgb(36,36,36)",
             "gridcolor": "white",
             "linecolor": "white",
             "minorgridcolor": "white",
             "startlinecolor": "rgb(36,36,36)"
            },
            "type": "carpet"
           }
          ],
          "choropleth": [
           {
            "colorbar": {
             "outlinewidth": 1,
             "tickcolor": "rgb(36,36,36)",
             "ticks": "outside"
            },
            "type": "choropleth"
           }
          ],
          "contour": [
           {
            "colorbar": {
             "outlinewidth": 1,
             "tickcolor": "rgb(36,36,36)",
             "ticks": "outside"
            },
            "colorscale": [
             [
              0,
              "#440154"
             ],
             [
              0.1111111111111111,
              "#482878"
             ],
             [
              0.2222222222222222,
              "#3e4989"
             ],
             [
              0.3333333333333333,
              "#31688e"
             ],
             [
              0.4444444444444444,
              "#26828e"
             ],
             [
              0.5555555555555556,
              "#1f9e89"
             ],
             [
              0.6666666666666666,
              "#35b779"
             ],
             [
              0.7777777777777778,
              "#6ece58"
             ],
             [
              0.8888888888888888,
              "#b5de2b"
             ],
             [
              1,
              "#fde725"
             ]
            ],
            "type": "contour"
           }
          ],
          "contourcarpet": [
           {
            "colorbar": {
             "outlinewidth": 1,
             "tickcolor": "rgb(36,36,36)",
             "ticks": "outside"
            },
            "type": "contourcarpet"
           }
          ],
          "heatmap": [
           {
            "colorbar": {
             "outlinewidth": 1,
             "tickcolor": "rgb(36,36,36)",
             "ticks": "outside"
            },
            "colorscale": [
             [
              0,
              "#440154"
             ],
             [
              0.1111111111111111,
              "#482878"
             ],
             [
              0.2222222222222222,
              "#3e4989"
             ],
             [
              0.3333333333333333,
              "#31688e"
             ],
             [
              0.4444444444444444,
              "#26828e"
             ],
             [
              0.5555555555555556,
              "#1f9e89"
             ],
             [
              0.6666666666666666,
              "#35b779"
             ],
             [
              0.7777777777777778,
              "#6ece58"
             ],
             [
              0.8888888888888888,
              "#b5de2b"
             ],
             [
              1,
              "#fde725"
             ]
            ],
            "type": "heatmap"
           }
          ],
          "heatmapgl": [
           {
            "colorbar": {
             "outlinewidth": 1,
             "tickcolor": "rgb(36,36,36)",
             "ticks": "outside"
            },
            "colorscale": [
             [
              0,
              "#440154"
             ],
             [
              0.1111111111111111,
              "#482878"
             ],
             [
              0.2222222222222222,
              "#3e4989"
             ],
             [
              0.3333333333333333,
              "#31688e"
             ],
             [
              0.4444444444444444,
              "#26828e"
             ],
             [
              0.5555555555555556,
              "#1f9e89"
             ],
             [
              0.6666666666666666,
              "#35b779"
             ],
             [
              0.7777777777777778,
              "#6ece58"
             ],
             [
              0.8888888888888888,
              "#b5de2b"
             ],
             [
              1,
              "#fde725"
             ]
            ],
            "type": "heatmapgl"
           }
          ],
          "histogram": [
           {
            "marker": {
             "line": {
              "color": "white",
              "width": 0.6
             }
            },
            "type": "histogram"
           }
          ],
          "histogram2d": [
           {
            "colorbar": {
             "outlinewidth": 1,
             "tickcolor": "rgb(36,36,36)",
             "ticks": "outside"
            },
            "colorscale": [
             [
              0,
              "#440154"
             ],
             [
              0.1111111111111111,
              "#482878"
             ],
             [
              0.2222222222222222,
              "#3e4989"
             ],
             [
              0.3333333333333333,
              "#31688e"
             ],
             [
              0.4444444444444444,
              "#26828e"
             ],
             [
              0.5555555555555556,
              "#1f9e89"
             ],
             [
              0.6666666666666666,
              "#35b779"
             ],
             [
              0.7777777777777778,
              "#6ece58"
             ],
             [
              0.8888888888888888,
              "#b5de2b"
             ],
             [
              1,
              "#fde725"
             ]
            ],
            "type": "histogram2d"
           }
          ],
          "histogram2dcontour": [
           {
            "colorbar": {
             "outlinewidth": 1,
             "tickcolor": "rgb(36,36,36)",
             "ticks": "outside"
            },
            "colorscale": [
             [
              0,
              "#440154"
             ],
             [
              0.1111111111111111,
              "#482878"
             ],
             [
              0.2222222222222222,
              "#3e4989"
             ],
             [
              0.3333333333333333,
              "#31688e"
             ],
             [
              0.4444444444444444,
              "#26828e"
             ],
             [
              0.5555555555555556,
              "#1f9e89"
             ],
             [
              0.6666666666666666,
              "#35b779"
             ],
             [
              0.7777777777777778,
              "#6ece58"
             ],
             [
              0.8888888888888888,
              "#b5de2b"
             ],
             [
              1,
              "#fde725"
             ]
            ],
            "type": "histogram2dcontour"
           }
          ],
          "mesh3d": [
           {
            "colorbar": {
             "outlinewidth": 1,
             "tickcolor": "rgb(36,36,36)",
             "ticks": "outside"
            },
            "type": "mesh3d"
           }
          ],
          "parcoords": [
           {
            "line": {
             "colorbar": {
              "outlinewidth": 1,
              "tickcolor": "rgb(36,36,36)",
              "ticks": "outside"
             }
            },
            "type": "parcoords"
           }
          ],
          "pie": [
           {
            "automargin": true,
            "type": "pie"
           }
          ],
          "scatter": [
           {
            "fillpattern": {
             "fillmode": "overlay",
             "size": 10,
             "solidity": 0.2
            },
            "type": "scatter"
           }
          ],
          "scatter3d": [
           {
            "line": {
             "colorbar": {
              "outlinewidth": 1,
              "tickcolor": "rgb(36,36,36)",
              "ticks": "outside"
             }
            },
            "marker": {
             "colorbar": {
              "outlinewidth": 1,
              "tickcolor": "rgb(36,36,36)",
              "ticks": "outside"
             }
            },
            "type": "scatter3d"
           }
          ],
          "scattercarpet": [
           {
            "marker": {
             "colorbar": {
              "outlinewidth": 1,
              "tickcolor": "rgb(36,36,36)",
              "ticks": "outside"
             }
            },
            "type": "scattercarpet"
           }
          ],
          "scattergeo": [
           {
            "marker": {
             "colorbar": {
              "outlinewidth": 1,
              "tickcolor": "rgb(36,36,36)",
              "ticks": "outside"
             }
            },
            "type": "scattergeo"
           }
          ],
          "scattergl": [
           {
            "marker": {
             "colorbar": {
              "outlinewidth": 1,
              "tickcolor": "rgb(36,36,36)",
              "ticks": "outside"
             }
            },
            "type": "scattergl"
           }
          ],
          "scattermapbox": [
           {
            "marker": {
             "colorbar": {
              "outlinewidth": 1,
              "tickcolor": "rgb(36,36,36)",
              "ticks": "outside"
             }
            },
            "type": "scattermapbox"
           }
          ],
          "scatterpolar": [
           {
            "marker": {
             "colorbar": {
              "outlinewidth": 1,
              "tickcolor": "rgb(36,36,36)",
              "ticks": "outside"
             }
            },
            "type": "scatterpolar"
           }
          ],
          "scatterpolargl": [
           {
            "marker": {
             "colorbar": {
              "outlinewidth": 1,
              "tickcolor": "rgb(36,36,36)",
              "ticks": "outside"
             }
            },
            "type": "scatterpolargl"
           }
          ],
          "scatterternary": [
           {
            "marker": {
             "colorbar": {
              "outlinewidth": 1,
              "tickcolor": "rgb(36,36,36)",
              "ticks": "outside"
             }
            },
            "type": "scatterternary"
           }
          ],
          "surface": [
           {
            "colorbar": {
             "outlinewidth": 1,
             "tickcolor": "rgb(36,36,36)",
             "ticks": "outside"
            },
            "colorscale": [
             [
              0,
              "#440154"
             ],
             [
              0.1111111111111111,
              "#482878"
             ],
             [
              0.2222222222222222,
              "#3e4989"
             ],
             [
              0.3333333333333333,
              "#31688e"
             ],
             [
              0.4444444444444444,
              "#26828e"
             ],
             [
              0.5555555555555556,
              "#1f9e89"
             ],
             [
              0.6666666666666666,
              "#35b779"
             ],
             [
              0.7777777777777778,
              "#6ece58"
             ],
             [
              0.8888888888888888,
              "#b5de2b"
             ],
             [
              1,
              "#fde725"
             ]
            ],
            "type": "surface"
           }
          ],
          "table": [
           {
            "cells": {
             "fill": {
              "color": "rgb(237,237,237)"
             },
             "line": {
              "color": "white"
             }
            },
            "header": {
             "fill": {
              "color": "rgb(217,217,217)"
             },
             "line": {
              "color": "white"
             }
            },
            "type": "table"
           }
          ]
         },
         "layout": {
          "annotationdefaults": {
           "arrowhead": 0,
           "arrowwidth": 1
          },
          "autotypenumbers": "strict",
          "coloraxis": {
           "colorbar": {
            "outlinewidth": 1,
            "tickcolor": "rgb(36,36,36)",
            "ticks": "outside"
           }
          },
          "colorscale": {
           "diverging": [
            [
             0,
             "rgb(103,0,31)"
            ],
            [
             0.1,
             "rgb(178,24,43)"
            ],
            [
             0.2,
             "rgb(214,96,77)"
            ],
            [
             0.3,
             "rgb(244,165,130)"
            ],
            [
             0.4,
             "rgb(253,219,199)"
            ],
            [
             0.5,
             "rgb(247,247,247)"
            ],
            [
             0.6,
             "rgb(209,229,240)"
            ],
            [
             0.7,
             "rgb(146,197,222)"
            ],
            [
             0.8,
             "rgb(67,147,195)"
            ],
            [
             0.9,
             "rgb(33,102,172)"
            ],
            [
             1,
             "rgb(5,48,97)"
            ]
           ],
           "sequential": [
            [
             0,
             "#440154"
            ],
            [
             0.1111111111111111,
             "#482878"
            ],
            [
             0.2222222222222222,
             "#3e4989"
            ],
            [
             0.3333333333333333,
             "#31688e"
            ],
            [
             0.4444444444444444,
             "#26828e"
            ],
            [
             0.5555555555555556,
             "#1f9e89"
            ],
            [
             0.6666666666666666,
             "#35b779"
            ],
            [
             0.7777777777777778,
             "#6ece58"
            ],
            [
             0.8888888888888888,
             "#b5de2b"
            ],
            [
             1,
             "#fde725"
            ]
           ],
           "sequentialminus": [
            [
             0,
             "#440154"
            ],
            [
             0.1111111111111111,
             "#482878"
            ],
            [
             0.2222222222222222,
             "#3e4989"
            ],
            [
             0.3333333333333333,
             "#31688e"
            ],
            [
             0.4444444444444444,
             "#26828e"
            ],
            [
             0.5555555555555556,
             "#1f9e89"
            ],
            [
             0.6666666666666666,
             "#35b779"
            ],
            [
             0.7777777777777778,
             "#6ece58"
            ],
            [
             0.8888888888888888,
             "#b5de2b"
            ],
            [
             1,
             "#fde725"
            ]
           ]
          },
          "colorway": [
           "#1F77B4",
           "#FF7F0E",
           "#2CA02C",
           "#D62728",
           "#9467BD",
           "#8C564B",
           "#E377C2",
           "#7F7F7F",
           "#BCBD22",
           "#17BECF"
          ],
          "font": {
           "color": "rgb(36,36,36)"
          },
          "geo": {
           "bgcolor": "white",
           "lakecolor": "white",
           "landcolor": "white",
           "showlakes": true,
           "showland": true,
           "subunitcolor": "white"
          },
          "hoverlabel": {
           "align": "left"
          },
          "hovermode": "closest",
          "mapbox": {
           "style": "light"
          },
          "paper_bgcolor": "white",
          "plot_bgcolor": "white",
          "polar": {
           "angularaxis": {
            "gridcolor": "rgb(232,232,232)",
            "linecolor": "rgb(36,36,36)",
            "showgrid": false,
            "showline": true,
            "ticks": "outside"
           },
           "bgcolor": "white",
           "radialaxis": {
            "gridcolor": "rgb(232,232,232)",
            "linecolor": "rgb(36,36,36)",
            "showgrid": false,
            "showline": true,
            "ticks": "outside"
           }
          },
          "scene": {
           "xaxis": {
            "backgroundcolor": "white",
            "gridcolor": "rgb(232,232,232)",
            "gridwidth": 2,
            "linecolor": "rgb(36,36,36)",
            "showbackground": true,
            "showgrid": false,
            "showline": true,
            "ticks": "outside",
            "zeroline": false,
            "zerolinecolor": "rgb(36,36,36)"
           },
           "yaxis": {
            "backgroundcolor": "white",
            "gridcolor": "rgb(232,232,232)",
            "gridwidth": 2,
            "linecolor": "rgb(36,36,36)",
            "showbackground": true,
            "showgrid": false,
            "showline": true,
            "ticks": "outside",
            "zeroline": false,
            "zerolinecolor": "rgb(36,36,36)"
           },
           "zaxis": {
            "backgroundcolor": "white",
            "gridcolor": "rgb(232,232,232)",
            "gridwidth": 2,
            "linecolor": "rgb(36,36,36)",
            "showbackground": true,
            "showgrid": false,
            "showline": true,
            "ticks": "outside",
            "zeroline": false,
            "zerolinecolor": "rgb(36,36,36)"
           }
          },
          "shapedefaults": {
           "fillcolor": "black",
           "line": {
            "width": 0
           },
           "opacity": 0.3
          },
          "ternary": {
           "aaxis": {
            "gridcolor": "rgb(232,232,232)",
            "linecolor": "rgb(36,36,36)",
            "showgrid": false,
            "showline": true,
            "ticks": "outside"
           },
           "baxis": {
            "gridcolor": "rgb(232,232,232)",
            "linecolor": "rgb(36,36,36)",
            "showgrid": false,
            "showline": true,
            "ticks": "outside"
           },
           "bgcolor": "white",
           "caxis": {
            "gridcolor": "rgb(232,232,232)",
            "linecolor": "rgb(36,36,36)",
            "showgrid": false,
            "showline": true,
            "ticks": "outside"
           }
          },
          "title": {
           "x": 0.05
          },
          "xaxis": {
           "automargin": true,
           "gridcolor": "rgb(232,232,232)",
           "linecolor": "rgb(36,36,36)",
           "showgrid": false,
           "showline": true,
           "ticks": "outside",
           "title": {
            "standoff": 15
           },
           "zeroline": false,
           "zerolinecolor": "rgb(36,36,36)"
          },
          "yaxis": {
           "automargin": true,
           "gridcolor": "rgb(232,232,232)",
           "linecolor": "rgb(36,36,36)",
           "showgrid": false,
           "showline": true,
           "ticks": "outside",
           "title": {
            "standoff": 15
           },
           "zeroline": false,
           "zerolinecolor": "rgb(36,36,36)"
          }
         }
        },
        "xaxis": {
         "title": {
          "text": "Date"
         }
        },
        "yaxis": {
         "title": {
          "text": "Reserves (USDC)"
         }
        }
       }
      }
     },
     "metadata": {},
     "output_type": "display_data"
    }
   ],
   "source": [
    "fig = go.Figure(layout=layout)\n",
    "\n",
    "fig.add_trace(go.Scatter(x=df_per_day.index,\n",
    "                            y=df_per_day['reserve_total_0'].astype(\n",
    "                                float),\n",
    "                            mode='lines',\n",
    "                            name = f'Reserves {token0}-{token1} at {exchange_name}'))\n",
    "\n",
    "fig.update_layout(xaxis_title='Date',\n",
    "                    yaxis_title=f'Reserves ({token0})', showlegend=True,\n",
    "                    legend=dict(xanchor='center', x=0.5, y=1.10, orientation='h'),)\n",
    "#fig.write_image(f\"./plots/{contract_name}_{event_name}.pdf\")\n",
    "fig.show()\n"
   ]
  },
  {
   "cell_type": "code",
   "execution_count": 42,
   "metadata": {},
   "outputs": [
    {
     "data": {
      "application/vnd.plotly.v1+json": {
       "config": {
        "plotlyServerURL": "https://plot.ly"
       },
       "data": [
        {
         "mode": "lines",
         "name": "Price Diff USDC-ETH at SyncSwap",
         "type": "scatter",
         "x": [
          "2023-07-01T00:00:00",
          "2023-07-02T00:00:00",
          "2023-07-03T00:00:00",
          "2023-07-04T00:00:00",
          "2023-07-05T00:00:00",
          "2023-07-06T00:00:00",
          "2023-07-07T00:00:00",
          "2023-07-08T00:00:00",
          "2023-07-09T00:00:00",
          "2023-07-10T00:00:00",
          "2023-07-11T00:00:00",
          "2023-07-12T00:00:00",
          "2023-07-13T00:00:00",
          "2023-07-14T00:00:00",
          "2023-07-15T00:00:00",
          "2023-07-16T00:00:00",
          "2023-07-17T00:00:00",
          "2023-07-18T00:00:00",
          "2023-07-19T00:00:00",
          "2023-07-20T00:00:00",
          "2023-07-21T00:00:00",
          "2023-07-22T00:00:00",
          "2023-07-23T00:00:00",
          "2023-07-24T00:00:00",
          "2023-07-25T00:00:00",
          "2023-07-26T00:00:00",
          "2023-07-27T00:00:00",
          "2023-07-28T00:00:00",
          "2023-07-29T00:00:00",
          "2023-07-30T00:00:00",
          "2023-07-31T00:00:00",
          "2023-08-01T00:00:00",
          "2023-08-02T00:00:00",
          "2023-08-03T00:00:00",
          "2023-08-04T00:00:00",
          "2023-08-05T00:00:00",
          "2023-08-06T00:00:00",
          "2023-08-07T00:00:00",
          "2023-08-08T00:00:00",
          "2023-08-09T00:00:00",
          "2023-08-10T00:00:00",
          "2023-08-11T00:00:00",
          "2023-08-12T00:00:00",
          "2023-08-13T00:00:00",
          "2023-08-14T00:00:00",
          "2023-08-15T00:00:00",
          "2023-08-16T00:00:00",
          "2023-08-17T00:00:00",
          "2023-08-18T00:00:00",
          "2023-08-19T00:00:00",
          "2023-08-20T00:00:00",
          "2023-08-21T00:00:00",
          "2023-08-22T00:00:00",
          "2023-08-23T00:00:00",
          "2023-08-24T00:00:00",
          "2023-08-25T00:00:00",
          "2023-08-26T00:00:00",
          "2023-08-27T00:00:00",
          "2023-08-28T00:00:00",
          "2023-08-29T00:00:00",
          "2023-08-30T00:00:00",
          "2023-08-31T00:00:00",
          "2023-09-01T00:00:00",
          "2023-09-02T00:00:00",
          "2023-09-03T00:00:00",
          "2023-09-04T00:00:00",
          "2023-09-05T00:00:00",
          "2023-09-06T00:00:00",
          "2023-09-07T00:00:00",
          "2023-09-08T00:00:00",
          "2023-09-09T00:00:00",
          "2023-09-10T00:00:00",
          "2023-09-11T00:00:00",
          "2023-09-12T00:00:00",
          "2023-09-13T00:00:00",
          "2023-09-14T00:00:00",
          "2023-09-15T00:00:00",
          "2023-09-16T00:00:00",
          "2023-09-17T00:00:00"
         ],
         "y": [
          0.007757922520369847,
          0.01161364643474666,
          0.007998520111279866,
          0.005872934161839884,
          0.008010317133570756,
          0.009808436638250264,
          0.00877982989376106,
          0.00929613877786897,
          0.008865628850187539,
          0.007626459824135004,
          0.006960157191651196,
          0.006451912619673229,
          0.01846118936089969,
          0.008074314403266478,
          0.003978375804983979,
          0.004668594903717401,
          0.0053040538051649655,
          0.0037170485217730615,
          0.003998158357503898,
          0.004028878892556554,
          0.0035387556873578844,
          0.004219733391536901,
          0.0047210901062381475,
          0.00434242843227043,
          0.005930283046714165,
          0.00376687783669154,
          0.005248608460763877,
          0.004925884785040846,
          0.004076096702794443,
          0.004128473106849153,
          0.003631065329290909,
          0.007190557081672883,
          0.007162503698646436,
          0.0035227763709564878,
          0.007283138990427342,
          0.003712225650703194,
          0.004068989439763802,
          0.003511359982457247,
          0.004379671448617758,
          0.0038599691695239443,
          0.0036672082598073782,
          0.004252596635364121,
          0.0032352495165848287,
          0.004031893257987192,
          0.004082813082556814,
          0.006005227012508471,
          0.0044106963870566545,
          0.024857025694317414,
          0.025093140924992003,
          0.003384013715742223,
          0.004248647367215353,
          0.005006798139958189,
          0.00806347858492444,
          0.007821171581897756,
          0.005432299528988081,
          0.008599246167757778,
          0.0030352039964668433,
          0.006973270454156373,
          0.006435627180356479,
          0.027629356181860697,
          0.004034967812079167,
          0.023850474112532674,
          0.00781724552514273,
          0.006779896939220394,
          0.008707188257028112,
          0.008122537041350191,
          0.010705157224995576,
          0.011563964838554971,
          0.006455036261498012,
          0.007510120267380973,
          0.004263774769534192,
          0.012327762332708133,
          0.013410530003316948,
          0.013199878007152827,
          0.011834532405794036,
          0.01260236782667855,
          0.009159880966327395,
          0.009291581086056199,
          0.011724398564192478
         ]
        }
       ],
       "layout": {
        "legend": {
         "orientation": "h",
         "x": 0.5,
         "xanchor": "center",
         "y": 1.1
        },
        "margin": {
         "b": 10,
         "l": 10,
         "r": 10,
         "t": 10
        },
        "showlegend": true,
        "template": {
         "data": {
          "bar": [
           {
            "error_x": {
             "color": "rgb(36,36,36)"
            },
            "error_y": {
             "color": "rgb(36,36,36)"
            },
            "marker": {
             "line": {
              "color": "white",
              "width": 0.5
             },
             "pattern": {
              "fillmode": "overlay",
              "size": 10,
              "solidity": 0.2
             }
            },
            "type": "bar"
           }
          ],
          "barpolar": [
           {
            "marker": {
             "line": {
              "color": "white",
              "width": 0.5
             },
             "pattern": {
              "fillmode": "overlay",
              "size": 10,
              "solidity": 0.2
             }
            },
            "type": "barpolar"
           }
          ],
          "carpet": [
           {
            "aaxis": {
             "endlinecolor": "rgb(36,36,36)",
             "gridcolor": "white",
             "linecolor": "white",
             "minorgridcolor": "white",
             "startlinecolor": "rgb(36,36,36)"
            },
            "baxis": {
             "endlinecolor": "rgb(36,36,36)",
             "gridcolor": "white",
             "linecolor": "white",
             "minorgridcolor": "white",
             "startlinecolor": "rgb(36,36,36)"
            },
            "type": "carpet"
           }
          ],
          "choropleth": [
           {
            "colorbar": {
             "outlinewidth": 1,
             "tickcolor": "rgb(36,36,36)",
             "ticks": "outside"
            },
            "type": "choropleth"
           }
          ],
          "contour": [
           {
            "colorbar": {
             "outlinewidth": 1,
             "tickcolor": "rgb(36,36,36)",
             "ticks": "outside"
            },
            "colorscale": [
             [
              0,
              "#440154"
             ],
             [
              0.1111111111111111,
              "#482878"
             ],
             [
              0.2222222222222222,
              "#3e4989"
             ],
             [
              0.3333333333333333,
              "#31688e"
             ],
             [
              0.4444444444444444,
              "#26828e"
             ],
             [
              0.5555555555555556,
              "#1f9e89"
             ],
             [
              0.6666666666666666,
              "#35b779"
             ],
             [
              0.7777777777777778,
              "#6ece58"
             ],
             [
              0.8888888888888888,
              "#b5de2b"
             ],
             [
              1,
              "#fde725"
             ]
            ],
            "type": "contour"
           }
          ],
          "contourcarpet": [
           {
            "colorbar": {
             "outlinewidth": 1,
             "tickcolor": "rgb(36,36,36)",
             "ticks": "outside"
            },
            "type": "contourcarpet"
           }
          ],
          "heatmap": [
           {
            "colorbar": {
             "outlinewidth": 1,
             "tickcolor": "rgb(36,36,36)",
             "ticks": "outside"
            },
            "colorscale": [
             [
              0,
              "#440154"
             ],
             [
              0.1111111111111111,
              "#482878"
             ],
             [
              0.2222222222222222,
              "#3e4989"
             ],
             [
              0.3333333333333333,
              "#31688e"
             ],
             [
              0.4444444444444444,
              "#26828e"
             ],
             [
              0.5555555555555556,
              "#1f9e89"
             ],
             [
              0.6666666666666666,
              "#35b779"
             ],
             [
              0.7777777777777778,
              "#6ece58"
             ],
             [
              0.8888888888888888,
              "#b5de2b"
             ],
             [
              1,
              "#fde725"
             ]
            ],
            "type": "heatmap"
           }
          ],
          "heatmapgl": [
           {
            "colorbar": {
             "outlinewidth": 1,
             "tickcolor": "rgb(36,36,36)",
             "ticks": "outside"
            },
            "colorscale": [
             [
              0,
              "#440154"
             ],
             [
              0.1111111111111111,
              "#482878"
             ],
             [
              0.2222222222222222,
              "#3e4989"
             ],
             [
              0.3333333333333333,
              "#31688e"
             ],
             [
              0.4444444444444444,
              "#26828e"
             ],
             [
              0.5555555555555556,
              "#1f9e89"
             ],
             [
              0.6666666666666666,
              "#35b779"
             ],
             [
              0.7777777777777778,
              "#6ece58"
             ],
             [
              0.8888888888888888,
              "#b5de2b"
             ],
             [
              1,
              "#fde725"
             ]
            ],
            "type": "heatmapgl"
           }
          ],
          "histogram": [
           {
            "marker": {
             "line": {
              "color": "white",
              "width": 0.6
             }
            },
            "type": "histogram"
           }
          ],
          "histogram2d": [
           {
            "colorbar": {
             "outlinewidth": 1,
             "tickcolor": "rgb(36,36,36)",
             "ticks": "outside"
            },
            "colorscale": [
             [
              0,
              "#440154"
             ],
             [
              0.1111111111111111,
              "#482878"
             ],
             [
              0.2222222222222222,
              "#3e4989"
             ],
             [
              0.3333333333333333,
              "#31688e"
             ],
             [
              0.4444444444444444,
              "#26828e"
             ],
             [
              0.5555555555555556,
              "#1f9e89"
             ],
             [
              0.6666666666666666,
              "#35b779"
             ],
             [
              0.7777777777777778,
              "#6ece58"
             ],
             [
              0.8888888888888888,
              "#b5de2b"
             ],
             [
              1,
              "#fde725"
             ]
            ],
            "type": "histogram2d"
           }
          ],
          "histogram2dcontour": [
           {
            "colorbar": {
             "outlinewidth": 1,
             "tickcolor": "rgb(36,36,36)",
             "ticks": "outside"
            },
            "colorscale": [
             [
              0,
              "#440154"
             ],
             [
              0.1111111111111111,
              "#482878"
             ],
             [
              0.2222222222222222,
              "#3e4989"
             ],
             [
              0.3333333333333333,
              "#31688e"
             ],
             [
              0.4444444444444444,
              "#26828e"
             ],
             [
              0.5555555555555556,
              "#1f9e89"
             ],
             [
              0.6666666666666666,
              "#35b779"
             ],
             [
              0.7777777777777778,
              "#6ece58"
             ],
             [
              0.8888888888888888,
              "#b5de2b"
             ],
             [
              1,
              "#fde725"
             ]
            ],
            "type": "histogram2dcontour"
           }
          ],
          "mesh3d": [
           {
            "colorbar": {
             "outlinewidth": 1,
             "tickcolor": "rgb(36,36,36)",
             "ticks": "outside"
            },
            "type": "mesh3d"
           }
          ],
          "parcoords": [
           {
            "line": {
             "colorbar": {
              "outlinewidth": 1,
              "tickcolor": "rgb(36,36,36)",
              "ticks": "outside"
             }
            },
            "type": "parcoords"
           }
          ],
          "pie": [
           {
            "automargin": true,
            "type": "pie"
           }
          ],
          "scatter": [
           {
            "fillpattern": {
             "fillmode": "overlay",
             "size": 10,
             "solidity": 0.2
            },
            "type": "scatter"
           }
          ],
          "scatter3d": [
           {
            "line": {
             "colorbar": {
              "outlinewidth": 1,
              "tickcolor": "rgb(36,36,36)",
              "ticks": "outside"
             }
            },
            "marker": {
             "colorbar": {
              "outlinewidth": 1,
              "tickcolor": "rgb(36,36,36)",
              "ticks": "outside"
             }
            },
            "type": "scatter3d"
           }
          ],
          "scattercarpet": [
           {
            "marker": {
             "colorbar": {
              "outlinewidth": 1,
              "tickcolor": "rgb(36,36,36)",
              "ticks": "outside"
             }
            },
            "type": "scattercarpet"
           }
          ],
          "scattergeo": [
           {
            "marker": {
             "colorbar": {
              "outlinewidth": 1,
              "tickcolor": "rgb(36,36,36)",
              "ticks": "outside"
             }
            },
            "type": "scattergeo"
           }
          ],
          "scattergl": [
           {
            "marker": {
             "colorbar": {
              "outlinewidth": 1,
              "tickcolor": "rgb(36,36,36)",
              "ticks": "outside"
             }
            },
            "type": "scattergl"
           }
          ],
          "scattermapbox": [
           {
            "marker": {
             "colorbar": {
              "outlinewidth": 1,
              "tickcolor": "rgb(36,36,36)",
              "ticks": "outside"
             }
            },
            "type": "scattermapbox"
           }
          ],
          "scatterpolar": [
           {
            "marker": {
             "colorbar": {
              "outlinewidth": 1,
              "tickcolor": "rgb(36,36,36)",
              "ticks": "outside"
             }
            },
            "type": "scatterpolar"
           }
          ],
          "scatterpolargl": [
           {
            "marker": {
             "colorbar": {
              "outlinewidth": 1,
              "tickcolor": "rgb(36,36,36)",
              "ticks": "outside"
             }
            },
            "type": "scatterpolargl"
           }
          ],
          "scatterternary": [
           {
            "marker": {
             "colorbar": {
              "outlinewidth": 1,
              "tickcolor": "rgb(36,36,36)",
              "ticks": "outside"
             }
            },
            "type": "scatterternary"
           }
          ],
          "surface": [
           {
            "colorbar": {
             "outlinewidth": 1,
             "tickcolor": "rgb(36,36,36)",
             "ticks": "outside"
            },
            "colorscale": [
             [
              0,
              "#440154"
             ],
             [
              0.1111111111111111,
              "#482878"
             ],
             [
              0.2222222222222222,
              "#3e4989"
             ],
             [
              0.3333333333333333,
              "#31688e"
             ],
             [
              0.4444444444444444,
              "#26828e"
             ],
             [
              0.5555555555555556,
              "#1f9e89"
             ],
             [
              0.6666666666666666,
              "#35b779"
             ],
             [
              0.7777777777777778,
              "#6ece58"
             ],
             [
              0.8888888888888888,
              "#b5de2b"
             ],
             [
              1,
              "#fde725"
             ]
            ],
            "type": "surface"
           }
          ],
          "table": [
           {
            "cells": {
             "fill": {
              "color": "rgb(237,237,237)"
             },
             "line": {
              "color": "white"
             }
            },
            "header": {
             "fill": {
              "color": "rgb(217,217,217)"
             },
             "line": {
              "color": "white"
             }
            },
            "type": "table"
           }
          ]
         },
         "layout": {
          "annotationdefaults": {
           "arrowhead": 0,
           "arrowwidth": 1
          },
          "autotypenumbers": "strict",
          "coloraxis": {
           "colorbar": {
            "outlinewidth": 1,
            "tickcolor": "rgb(36,36,36)",
            "ticks": "outside"
           }
          },
          "colorscale": {
           "diverging": [
            [
             0,
             "rgb(103,0,31)"
            ],
            [
             0.1,
             "rgb(178,24,43)"
            ],
            [
             0.2,
             "rgb(214,96,77)"
            ],
            [
             0.3,
             "rgb(244,165,130)"
            ],
            [
             0.4,
             "rgb(253,219,199)"
            ],
            [
             0.5,
             "rgb(247,247,247)"
            ],
            [
             0.6,
             "rgb(209,229,240)"
            ],
            [
             0.7,
             "rgb(146,197,222)"
            ],
            [
             0.8,
             "rgb(67,147,195)"
            ],
            [
             0.9,
             "rgb(33,102,172)"
            ],
            [
             1,
             "rgb(5,48,97)"
            ]
           ],
           "sequential": [
            [
             0,
             "#440154"
            ],
            [
             0.1111111111111111,
             "#482878"
            ],
            [
             0.2222222222222222,
             "#3e4989"
            ],
            [
             0.3333333333333333,
             "#31688e"
            ],
            [
             0.4444444444444444,
             "#26828e"
            ],
            [
             0.5555555555555556,
             "#1f9e89"
            ],
            [
             0.6666666666666666,
             "#35b779"
            ],
            [
             0.7777777777777778,
             "#6ece58"
            ],
            [
             0.8888888888888888,
             "#b5de2b"
            ],
            [
             1,
             "#fde725"
            ]
           ],
           "sequentialminus": [
            [
             0,
             "#440154"
            ],
            [
             0.1111111111111111,
             "#482878"
            ],
            [
             0.2222222222222222,
             "#3e4989"
            ],
            [
             0.3333333333333333,
             "#31688e"
            ],
            [
             0.4444444444444444,
             "#26828e"
            ],
            [
             0.5555555555555556,
             "#1f9e89"
            ],
            [
             0.6666666666666666,
             "#35b779"
            ],
            [
             0.7777777777777778,
             "#6ece58"
            ],
            [
             0.8888888888888888,
             "#b5de2b"
            ],
            [
             1,
             "#fde725"
            ]
           ]
          },
          "colorway": [
           "#1F77B4",
           "#FF7F0E",
           "#2CA02C",
           "#D62728",
           "#9467BD",
           "#8C564B",
           "#E377C2",
           "#7F7F7F",
           "#BCBD22",
           "#17BECF"
          ],
          "font": {
           "color": "rgb(36,36,36)"
          },
          "geo": {
           "bgcolor": "white",
           "lakecolor": "white",
           "landcolor": "white",
           "showlakes": true,
           "showland": true,
           "subunitcolor": "white"
          },
          "hoverlabel": {
           "align": "left"
          },
          "hovermode": "closest",
          "mapbox": {
           "style": "light"
          },
          "paper_bgcolor": "white",
          "plot_bgcolor": "white",
          "polar": {
           "angularaxis": {
            "gridcolor": "rgb(232,232,232)",
            "linecolor": "rgb(36,36,36)",
            "showgrid": false,
            "showline": true,
            "ticks": "outside"
           },
           "bgcolor": "white",
           "radialaxis": {
            "gridcolor": "rgb(232,232,232)",
            "linecolor": "rgb(36,36,36)",
            "showgrid": false,
            "showline": true,
            "ticks": "outside"
           }
          },
          "scene": {
           "xaxis": {
            "backgroundcolor": "white",
            "gridcolor": "rgb(232,232,232)",
            "gridwidth": 2,
            "linecolor": "rgb(36,36,36)",
            "showbackground": true,
            "showgrid": false,
            "showline": true,
            "ticks": "outside",
            "zeroline": false,
            "zerolinecolor": "rgb(36,36,36)"
           },
           "yaxis": {
            "backgroundcolor": "white",
            "gridcolor": "rgb(232,232,232)",
            "gridwidth": 2,
            "linecolor": "rgb(36,36,36)",
            "showbackground": true,
            "showgrid": false,
            "showline": true,
            "ticks": "outside",
            "zeroline": false,
            "zerolinecolor": "rgb(36,36,36)"
           },
           "zaxis": {
            "backgroundcolor": "white",
            "gridcolor": "rgb(232,232,232)",
            "gridwidth": 2,
            "linecolor": "rgb(36,36,36)",
            "showbackground": true,
            "showgrid": false,
            "showline": true,
            "ticks": "outside",
            "zeroline": false,
            "zerolinecolor": "rgb(36,36,36)"
           }
          },
          "shapedefaults": {
           "fillcolor": "black",
           "line": {
            "width": 0
           },
           "opacity": 0.3
          },
          "ternary": {
           "aaxis": {
            "gridcolor": "rgb(232,232,232)",
            "linecolor": "rgb(36,36,36)",
            "showgrid": false,
            "showline": true,
            "ticks": "outside"
           },
           "baxis": {
            "gridcolor": "rgb(232,232,232)",
            "linecolor": "rgb(36,36,36)",
            "showgrid": false,
            "showline": true,
            "ticks": "outside"
           },
           "bgcolor": "white",
           "caxis": {
            "gridcolor": "rgb(232,232,232)",
            "linecolor": "rgb(36,36,36)",
            "showgrid": false,
            "showline": true,
            "ticks": "outside"
           }
          },
          "title": {
           "x": 0.05
          },
          "xaxis": {
           "automargin": true,
           "gridcolor": "rgb(232,232,232)",
           "linecolor": "rgb(36,36,36)",
           "showgrid": false,
           "showline": true,
           "ticks": "outside",
           "title": {
            "standoff": 15
           },
           "zeroline": false,
           "zerolinecolor": "rgb(36,36,36)"
          },
          "yaxis": {
           "automargin": true,
           "gridcolor": "rgb(232,232,232)",
           "linecolor": "rgb(36,36,36)",
           "showgrid": false,
           "showline": true,
           "ticks": "outside",
           "title": {
            "standoff": 15
           },
           "zeroline": false,
           "zerolinecolor": "rgb(36,36,36)"
          }
         }
        },
        "xaxis": {
         "title": {
          "text": "Date"
         }
        },
        "yaxis": {
         "title": {
          "text": "Price Difference (%)"
         }
        }
       }
      }
     },
     "metadata": {},
     "output_type": "display_data"
    }
   ],
   "source": [
    "fig = go.Figure(layout=layout)\n",
    "\n",
    "fig.add_trace(go.Scatter(x=df_per_day.index,\n",
    "                            y=df_per_day['price_diff'].astype(\n",
    "                                float),\n",
    "                            mode='lines',\n",
    "                            name = f'Price Diff {token0}-{token1} at {exchange_name}'))\n",
    "\n",
    "fig.update_layout(xaxis_title='Date',\n",
    "                    yaxis_title=f'Price Difference (%)', showlegend=True,\n",
    "                    legend=dict(xanchor='center', x=0.5, y=1.10, orientation='h'),)\n",
    "#fig.write_image(f\"./plots/{contract_name}_{event_name}.pdf\")\n",
    "fig.show()"
   ]
  },
  {
   "cell_type": "code",
   "execution_count": 43,
   "metadata": {},
   "outputs": [
    {
     "data": {
      "application/vnd.plotly.v1+json": {
       "config": {
        "plotlyServerURL": "https://plot.ly"
       },
       "data": [
        {
         "mode": "lines",
         "name": "Volume for USDC-ETH at SyncSwap",
         "type": "scatter",
         "x": [
          "2023-07-01T00:00:00",
          "2023-07-02T00:00:00",
          "2023-07-03T00:00:00",
          "2023-07-04T00:00:00",
          "2023-07-05T00:00:00",
          "2023-07-06T00:00:00",
          "2023-07-07T00:00:00",
          "2023-07-08T00:00:00",
          "2023-07-09T00:00:00",
          "2023-07-10T00:00:00",
          "2023-07-11T00:00:00",
          "2023-07-12T00:00:00",
          "2023-07-13T00:00:00",
          "2023-07-14T00:00:00",
          "2023-07-15T00:00:00",
          "2023-07-16T00:00:00",
          "2023-07-17T00:00:00",
          "2023-07-18T00:00:00",
          "2023-07-19T00:00:00",
          "2023-07-20T00:00:00",
          "2023-07-21T00:00:00",
          "2023-07-22T00:00:00",
          "2023-07-23T00:00:00",
          "2023-07-24T00:00:00",
          "2023-07-25T00:00:00",
          "2023-07-26T00:00:00",
          "2023-07-27T00:00:00",
          "2023-07-28T00:00:00",
          "2023-07-29T00:00:00",
          "2023-07-30T00:00:00",
          "2023-07-31T00:00:00",
          "2023-08-01T00:00:00",
          "2023-08-02T00:00:00",
          "2023-08-03T00:00:00",
          "2023-08-04T00:00:00",
          "2023-08-05T00:00:00",
          "2023-08-06T00:00:00",
          "2023-08-07T00:00:00",
          "2023-08-08T00:00:00",
          "2023-08-09T00:00:00",
          "2023-08-10T00:00:00",
          "2023-08-11T00:00:00",
          "2023-08-12T00:00:00",
          "2023-08-13T00:00:00",
          "2023-08-14T00:00:00",
          "2023-08-15T00:00:00",
          "2023-08-16T00:00:00",
          "2023-08-17T00:00:00",
          "2023-08-18T00:00:00",
          "2023-08-19T00:00:00",
          "2023-08-20T00:00:00",
          "2023-08-21T00:00:00",
          "2023-08-22T00:00:00",
          "2023-08-23T00:00:00",
          "2023-08-24T00:00:00",
          "2023-08-25T00:00:00",
          "2023-08-26T00:00:00",
          "2023-08-27T00:00:00",
          "2023-08-28T00:00:00",
          "2023-08-29T00:00:00",
          "2023-08-30T00:00:00",
          "2023-08-31T00:00:00",
          "2023-09-01T00:00:00",
          "2023-09-02T00:00:00",
          "2023-09-03T00:00:00",
          "2023-09-04T00:00:00",
          "2023-09-05T00:00:00",
          "2023-09-06T00:00:00",
          "2023-09-07T00:00:00",
          "2023-09-08T00:00:00",
          "2023-09-09T00:00:00",
          "2023-09-10T00:00:00",
          "2023-09-11T00:00:00",
          "2023-09-12T00:00:00",
          "2023-09-13T00:00:00",
          "2023-09-14T00:00:00",
          "2023-09-15T00:00:00",
          "2023-09-16T00:00:00",
          "2023-09-17T00:00:00"
         ],
         "y": [
          888282.896298,
          1667948.493434,
          1110037.597412,
          639395.002517,
          501181.478454,
          1693935.34218,
          1058074.904044,
          840741.598786,
          1371288.72416,
          1456129.880858,
          494116.71958599996,
          891941.2859199999,
          1504987.33313,
          2150962.270451,
          480381.358598,
          577874.214237,
          1190519.453518,
          773163.897792,
          934208.068053,
          1003971.795923,
          274989.320555,
          278713.720197,
          591793.774099,
          645227.552098,
          344639.686113,
          641065.616074,
          366960.054854,
          239733.046623,
          158251.702127,
          388196.055389,
          294127.696085,
          659314.493148,
          417846.29703,
          348477.092558,
          490935.136426,
          99574.59293099999,
          165135.957773,
          452321.516081,
          577069.757252,
          159693.588674,
          152327.177034,
          190107.193782,
          88292.026332,
          534896.423383,
          252177.207992,
          308252.22837100003,
          247364.882518,
          1865882.832065,
          1040400.256142,
          424373.497427,
          274170.444278,
          459966.368868,
          768223.116711,
          1229629.492875,
          352435.713589,
          279904.828255,
          58029.957984,
          138073.38827999998,
          299635.46548899997,
          670248.425257,
          230181.458716,
          315776.416325,
          172588.001505,
          376525.861239,
          137959.842776,
          92395.165146,
          146987.878085,
          856237.400747,
          497541.031427,
          331814.470146,
          119591.929734,
          218799.600542,
          590654.915848,
          496070.700635,
          205646.629938,
          216572.441715,
          136371.20162100001,
          87892.80893700001,
          47153.482175
         ]
        }
       ],
       "layout": {
        "legend": {
         "orientation": "h",
         "x": 0.5,
         "xanchor": "center",
         "y": 1.1
        },
        "margin": {
         "b": 10,
         "l": 10,
         "r": 10,
         "t": 10
        },
        "showlegend": true,
        "template": {
         "data": {
          "bar": [
           {
            "error_x": {
             "color": "rgb(36,36,36)"
            },
            "error_y": {
             "color": "rgb(36,36,36)"
            },
            "marker": {
             "line": {
              "color": "white",
              "width": 0.5
             },
             "pattern": {
              "fillmode": "overlay",
              "size": 10,
              "solidity": 0.2
             }
            },
            "type": "bar"
           }
          ],
          "barpolar": [
           {
            "marker": {
             "line": {
              "color": "white",
              "width": 0.5
             },
             "pattern": {
              "fillmode": "overlay",
              "size": 10,
              "solidity": 0.2
             }
            },
            "type": "barpolar"
           }
          ],
          "carpet": [
           {
            "aaxis": {
             "endlinecolor": "rgb(36,36,36)",
             "gridcolor": "white",
             "linecolor": "white",
             "minorgridcolor": "white",
             "startlinecolor": "rgb(36,36,36)"
            },
            "baxis": {
             "endlinecolor": "rgb(36,36,36)",
             "gridcolor": "white",
             "linecolor": "white",
             "minorgridcolor": "white",
             "startlinecolor": "rgb(36,36,36)"
            },
            "type": "carpet"
           }
          ],
          "choropleth": [
           {
            "colorbar": {
             "outlinewidth": 1,
             "tickcolor": "rgb(36,36,36)",
             "ticks": "outside"
            },
            "type": "choropleth"
           }
          ],
          "contour": [
           {
            "colorbar": {
             "outlinewidth": 1,
             "tickcolor": "rgb(36,36,36)",
             "ticks": "outside"
            },
            "colorscale": [
             [
              0,
              "#440154"
             ],
             [
              0.1111111111111111,
              "#482878"
             ],
             [
              0.2222222222222222,
              "#3e4989"
             ],
             [
              0.3333333333333333,
              "#31688e"
             ],
             [
              0.4444444444444444,
              "#26828e"
             ],
             [
              0.5555555555555556,
              "#1f9e89"
             ],
             [
              0.6666666666666666,
              "#35b779"
             ],
             [
              0.7777777777777778,
              "#6ece58"
             ],
             [
              0.8888888888888888,
              "#b5de2b"
             ],
             [
              1,
              "#fde725"
             ]
            ],
            "type": "contour"
           }
          ],
          "contourcarpet": [
           {
            "colorbar": {
             "outlinewidth": 1,
             "tickcolor": "rgb(36,36,36)",
             "ticks": "outside"
            },
            "type": "contourcarpet"
           }
          ],
          "heatmap": [
           {
            "colorbar": {
             "outlinewidth": 1,
             "tickcolor": "rgb(36,36,36)",
             "ticks": "outside"
            },
            "colorscale": [
             [
              0,
              "#440154"
             ],
             [
              0.1111111111111111,
              "#482878"
             ],
             [
              0.2222222222222222,
              "#3e4989"
             ],
             [
              0.3333333333333333,
              "#31688e"
             ],
             [
              0.4444444444444444,
              "#26828e"
             ],
             [
              0.5555555555555556,
              "#1f9e89"
             ],
             [
              0.6666666666666666,
              "#35b779"
             ],
             [
              0.7777777777777778,
              "#6ece58"
             ],
             [
              0.8888888888888888,
              "#b5de2b"
             ],
             [
              1,
              "#fde725"
             ]
            ],
            "type": "heatmap"
           }
          ],
          "heatmapgl": [
           {
            "colorbar": {
             "outlinewidth": 1,
             "tickcolor": "rgb(36,36,36)",
             "ticks": "outside"
            },
            "colorscale": [
             [
              0,
              "#440154"
             ],
             [
              0.1111111111111111,
              "#482878"
             ],
             [
              0.2222222222222222,
              "#3e4989"
             ],
             [
              0.3333333333333333,
              "#31688e"
             ],
             [
              0.4444444444444444,
              "#26828e"
             ],
             [
              0.5555555555555556,
              "#1f9e89"
             ],
             [
              0.6666666666666666,
              "#35b779"
             ],
             [
              0.7777777777777778,
              "#6ece58"
             ],
             [
              0.8888888888888888,
              "#b5de2b"
             ],
             [
              1,
              "#fde725"
             ]
            ],
            "type": "heatmapgl"
           }
          ],
          "histogram": [
           {
            "marker": {
             "line": {
              "color": "white",
              "width": 0.6
             }
            },
            "type": "histogram"
           }
          ],
          "histogram2d": [
           {
            "colorbar": {
             "outlinewidth": 1,
             "tickcolor": "rgb(36,36,36)",
             "ticks": "outside"
            },
            "colorscale": [
             [
              0,
              "#440154"
             ],
             [
              0.1111111111111111,
              "#482878"
             ],
             [
              0.2222222222222222,
              "#3e4989"
             ],
             [
              0.3333333333333333,
              "#31688e"
             ],
             [
              0.4444444444444444,
              "#26828e"
             ],
             [
              0.5555555555555556,
              "#1f9e89"
             ],
             [
              0.6666666666666666,
              "#35b779"
             ],
             [
              0.7777777777777778,
              "#6ece58"
             ],
             [
              0.8888888888888888,
              "#b5de2b"
             ],
             [
              1,
              "#fde725"
             ]
            ],
            "type": "histogram2d"
           }
          ],
          "histogram2dcontour": [
           {
            "colorbar": {
             "outlinewidth": 1,
             "tickcolor": "rgb(36,36,36)",
             "ticks": "outside"
            },
            "colorscale": [
             [
              0,
              "#440154"
             ],
             [
              0.1111111111111111,
              "#482878"
             ],
             [
              0.2222222222222222,
              "#3e4989"
             ],
             [
              0.3333333333333333,
              "#31688e"
             ],
             [
              0.4444444444444444,
              "#26828e"
             ],
             [
              0.5555555555555556,
              "#1f9e89"
             ],
             [
              0.6666666666666666,
              "#35b779"
             ],
             [
              0.7777777777777778,
              "#6ece58"
             ],
             [
              0.8888888888888888,
              "#b5de2b"
             ],
             [
              1,
              "#fde725"
             ]
            ],
            "type": "histogram2dcontour"
           }
          ],
          "mesh3d": [
           {
            "colorbar": {
             "outlinewidth": 1,
             "tickcolor": "rgb(36,36,36)",
             "ticks": "outside"
            },
            "type": "mesh3d"
           }
          ],
          "parcoords": [
           {
            "line": {
             "colorbar": {
              "outlinewidth": 1,
              "tickcolor": "rgb(36,36,36)",
              "ticks": "outside"
             }
            },
            "type": "parcoords"
           }
          ],
          "pie": [
           {
            "automargin": true,
            "type": "pie"
           }
          ],
          "scatter": [
           {
            "fillpattern": {
             "fillmode": "overlay",
             "size": 10,
             "solidity": 0.2
            },
            "type": "scatter"
           }
          ],
          "scatter3d": [
           {
            "line": {
             "colorbar": {
              "outlinewidth": 1,
              "tickcolor": "rgb(36,36,36)",
              "ticks": "outside"
             }
            },
            "marker": {
             "colorbar": {
              "outlinewidth": 1,
              "tickcolor": "rgb(36,36,36)",
              "ticks": "outside"
             }
            },
            "type": "scatter3d"
           }
          ],
          "scattercarpet": [
           {
            "marker": {
             "colorbar": {
              "outlinewidth": 1,
              "tickcolor": "rgb(36,36,36)",
              "ticks": "outside"
             }
            },
            "type": "scattercarpet"
           }
          ],
          "scattergeo": [
           {
            "marker": {
             "colorbar": {
              "outlinewidth": 1,
              "tickcolor": "rgb(36,36,36)",
              "ticks": "outside"
             }
            },
            "type": "scattergeo"
           }
          ],
          "scattergl": [
           {
            "marker": {
             "colorbar": {
              "outlinewidth": 1,
              "tickcolor": "rgb(36,36,36)",
              "ticks": "outside"
             }
            },
            "type": "scattergl"
           }
          ],
          "scattermapbox": [
           {
            "marker": {
             "colorbar": {
              "outlinewidth": 1,
              "tickcolor": "rgb(36,36,36)",
              "ticks": "outside"
             }
            },
            "type": "scattermapbox"
           }
          ],
          "scatterpolar": [
           {
            "marker": {
             "colorbar": {
              "outlinewidth": 1,
              "tickcolor": "rgb(36,36,36)",
              "ticks": "outside"
             }
            },
            "type": "scatterpolar"
           }
          ],
          "scatterpolargl": [
           {
            "marker": {
             "colorbar": {
              "outlinewidth": 1,
              "tickcolor": "rgb(36,36,36)",
              "ticks": "outside"
             }
            },
            "type": "scatterpolargl"
           }
          ],
          "scatterternary": [
           {
            "marker": {
             "colorbar": {
              "outlinewidth": 1,
              "tickcolor": "rgb(36,36,36)",
              "ticks": "outside"
             }
            },
            "type": "scatterternary"
           }
          ],
          "surface": [
           {
            "colorbar": {
             "outlinewidth": 1,
             "tickcolor": "rgb(36,36,36)",
             "ticks": "outside"
            },
            "colorscale": [
             [
              0,
              "#440154"
             ],
             [
              0.1111111111111111,
              "#482878"
             ],
             [
              0.2222222222222222,
              "#3e4989"
             ],
             [
              0.3333333333333333,
              "#31688e"
             ],
             [
              0.4444444444444444,
              "#26828e"
             ],
             [
              0.5555555555555556,
              "#1f9e89"
             ],
             [
              0.6666666666666666,
              "#35b779"
             ],
             [
              0.7777777777777778,
              "#6ece58"
             ],
             [
              0.8888888888888888,
              "#b5de2b"
             ],
             [
              1,
              "#fde725"
             ]
            ],
            "type": "surface"
           }
          ],
          "table": [
           {
            "cells": {
             "fill": {
              "color": "rgb(237,237,237)"
             },
             "line": {
              "color": "white"
             }
            },
            "header": {
             "fill": {
              "color": "rgb(217,217,217)"
             },
             "line": {
              "color": "white"
             }
            },
            "type": "table"
           }
          ]
         },
         "layout": {
          "annotationdefaults": {
           "arrowhead": 0,
           "arrowwidth": 1
          },
          "autotypenumbers": "strict",
          "coloraxis": {
           "colorbar": {
            "outlinewidth": 1,
            "tickcolor": "rgb(36,36,36)",
            "ticks": "outside"
           }
          },
          "colorscale": {
           "diverging": [
            [
             0,
             "rgb(103,0,31)"
            ],
            [
             0.1,
             "rgb(178,24,43)"
            ],
            [
             0.2,
             "rgb(214,96,77)"
            ],
            [
             0.3,
             "rgb(244,165,130)"
            ],
            [
             0.4,
             "rgb(253,219,199)"
            ],
            [
             0.5,
             "rgb(247,247,247)"
            ],
            [
             0.6,
             "rgb(209,229,240)"
            ],
            [
             0.7,
             "rgb(146,197,222)"
            ],
            [
             0.8,
             "rgb(67,147,195)"
            ],
            [
             0.9,
             "rgb(33,102,172)"
            ],
            [
             1,
             "rgb(5,48,97)"
            ]
           ],
           "sequential": [
            [
             0,
             "#440154"
            ],
            [
             0.1111111111111111,
             "#482878"
            ],
            [
             0.2222222222222222,
             "#3e4989"
            ],
            [
             0.3333333333333333,
             "#31688e"
            ],
            [
             0.4444444444444444,
             "#26828e"
            ],
            [
             0.5555555555555556,
             "#1f9e89"
            ],
            [
             0.6666666666666666,
             "#35b779"
            ],
            [
             0.7777777777777778,
             "#6ece58"
            ],
            [
             0.8888888888888888,
             "#b5de2b"
            ],
            [
             1,
             "#fde725"
            ]
           ],
           "sequentialminus": [
            [
             0,
             "#440154"
            ],
            [
             0.1111111111111111,
             "#482878"
            ],
            [
             0.2222222222222222,
             "#3e4989"
            ],
            [
             0.3333333333333333,
             "#31688e"
            ],
            [
             0.4444444444444444,
             "#26828e"
            ],
            [
             0.5555555555555556,
             "#1f9e89"
            ],
            [
             0.6666666666666666,
             "#35b779"
            ],
            [
             0.7777777777777778,
             "#6ece58"
            ],
            [
             0.8888888888888888,
             "#b5de2b"
            ],
            [
             1,
             "#fde725"
            ]
           ]
          },
          "colorway": [
           "#1F77B4",
           "#FF7F0E",
           "#2CA02C",
           "#D62728",
           "#9467BD",
           "#8C564B",
           "#E377C2",
           "#7F7F7F",
           "#BCBD22",
           "#17BECF"
          ],
          "font": {
           "color": "rgb(36,36,36)"
          },
          "geo": {
           "bgcolor": "white",
           "lakecolor": "white",
           "landcolor": "white",
           "showlakes": true,
           "showland": true,
           "subunitcolor": "white"
          },
          "hoverlabel": {
           "align": "left"
          },
          "hovermode": "closest",
          "mapbox": {
           "style": "light"
          },
          "paper_bgcolor": "white",
          "plot_bgcolor": "white",
          "polar": {
           "angularaxis": {
            "gridcolor": "rgb(232,232,232)",
            "linecolor": "rgb(36,36,36)",
            "showgrid": false,
            "showline": true,
            "ticks": "outside"
           },
           "bgcolor": "white",
           "radialaxis": {
            "gridcolor": "rgb(232,232,232)",
            "linecolor": "rgb(36,36,36)",
            "showgrid": false,
            "showline": true,
            "ticks": "outside"
           }
          },
          "scene": {
           "xaxis": {
            "backgroundcolor": "white",
            "gridcolor": "rgb(232,232,232)",
            "gridwidth": 2,
            "linecolor": "rgb(36,36,36)",
            "showbackground": true,
            "showgrid": false,
            "showline": true,
            "ticks": "outside",
            "zeroline": false,
            "zerolinecolor": "rgb(36,36,36)"
           },
           "yaxis": {
            "backgroundcolor": "white",
            "gridcolor": "rgb(232,232,232)",
            "gridwidth": 2,
            "linecolor": "rgb(36,36,36)",
            "showbackground": true,
            "showgrid": false,
            "showline": true,
            "ticks": "outside",
            "zeroline": false,
            "zerolinecolor": "rgb(36,36,36)"
           },
           "zaxis": {
            "backgroundcolor": "white",
            "gridcolor": "rgb(232,232,232)",
            "gridwidth": 2,
            "linecolor": "rgb(36,36,36)",
            "showbackground": true,
            "showgrid": false,
            "showline": true,
            "ticks": "outside",
            "zeroline": false,
            "zerolinecolor": "rgb(36,36,36)"
           }
          },
          "shapedefaults": {
           "fillcolor": "black",
           "line": {
            "width": 0
           },
           "opacity": 0.3
          },
          "ternary": {
           "aaxis": {
            "gridcolor": "rgb(232,232,232)",
            "linecolor": "rgb(36,36,36)",
            "showgrid": false,
            "showline": true,
            "ticks": "outside"
           },
           "baxis": {
            "gridcolor": "rgb(232,232,232)",
            "linecolor": "rgb(36,36,36)",
            "showgrid": false,
            "showline": true,
            "ticks": "outside"
           },
           "bgcolor": "white",
           "caxis": {
            "gridcolor": "rgb(232,232,232)",
            "linecolor": "rgb(36,36,36)",
            "showgrid": false,
            "showline": true,
            "ticks": "outside"
           }
          },
          "title": {
           "x": 0.05
          },
          "xaxis": {
           "automargin": true,
           "gridcolor": "rgb(232,232,232)",
           "linecolor": "rgb(36,36,36)",
           "showgrid": false,
           "showline": true,
           "ticks": "outside",
           "title": {
            "standoff": 15
           },
           "zeroline": false,
           "zerolinecolor": "rgb(36,36,36)"
          },
          "yaxis": {
           "automargin": true,
           "gridcolor": "rgb(232,232,232)",
           "linecolor": "rgb(36,36,36)",
           "showgrid": false,
           "showline": true,
           "ticks": "outside",
           "title": {
            "standoff": 15
           },
           "zeroline": false,
           "zerolinecolor": "rgb(36,36,36)"
          }
         }
        },
        "xaxis": {
         "title": {
          "text": "Date"
         }
        },
        "yaxis": {
         "title": {
          "text": "Daily Volume (USDC)"
         }
        }
       }
      }
     },
     "metadata": {},
     "output_type": "display_data"
    }
   ],
   "source": [
    "fig = go.Figure(layout=layout)\n",
    "\n",
    "fig.add_trace(go.Scatter(x=df_per_day.index,\n",
    "                            y=df_per_day['volume_total_0'].astype(\n",
    "                                float),\n",
    "                            mode='lines',\n",
    "                            name = f'Volume for {token0}-{token1} at {exchange_name}'))\n",
    "\n",
    "fig.update_layout(xaxis_title='Date',\n",
    "                    yaxis_title=f'Daily Volume ({token0})', showlegend=True,\n",
    "                    legend=dict(xanchor='center', x=0.5, y=1.10, orientation='h'),)\n",
    "#fig.write_image(f\"./plots/{contract_name}_{event_name}.pdf\")\n",
    "fig.show()\n"
   ]
  },
  {
   "cell_type": "code",
   "execution_count": 44,
   "metadata": {},
   "outputs": [
    {
     "data": {
      "application/vnd.plotly.v1+json": {
       "config": {
        "plotlyServerURL": "https://plot.ly"
       },
       "data": [
        {
         "mode": "lines",
         "name": "Volume for USDC-ETH at SyncSwap",
         "type": "scatter",
         "x": [
          "2023-07-01T00:00:00",
          "2023-07-02T00:00:00",
          "2023-07-03T00:00:00",
          "2023-07-04T00:00:00",
          "2023-07-05T00:00:00",
          "2023-07-06T00:00:00",
          "2023-07-07T00:00:00",
          "2023-07-08T00:00:00",
          "2023-07-09T00:00:00",
          "2023-07-10T00:00:00",
          "2023-07-11T00:00:00",
          "2023-07-12T00:00:00",
          "2023-07-13T00:00:00",
          "2023-07-14T00:00:00",
          "2023-07-15T00:00:00",
          "2023-07-16T00:00:00",
          "2023-07-17T00:00:00",
          "2023-07-18T00:00:00",
          "2023-07-19T00:00:00",
          "2023-07-20T00:00:00",
          "2023-07-21T00:00:00",
          "2023-07-22T00:00:00",
          "2023-07-23T00:00:00",
          "2023-07-24T00:00:00",
          "2023-07-25T00:00:00",
          "2023-07-26T00:00:00",
          "2023-07-27T00:00:00",
          "2023-07-28T00:00:00",
          "2023-07-29T00:00:00",
          "2023-07-30T00:00:00",
          "2023-07-31T00:00:00",
          "2023-08-01T00:00:00",
          "2023-08-02T00:00:00",
          "2023-08-03T00:00:00",
          "2023-08-04T00:00:00",
          "2023-08-05T00:00:00",
          "2023-08-06T00:00:00",
          "2023-08-07T00:00:00",
          "2023-08-08T00:00:00",
          "2023-08-09T00:00:00",
          "2023-08-10T00:00:00",
          "2023-08-11T00:00:00",
          "2023-08-12T00:00:00",
          "2023-08-13T00:00:00",
          "2023-08-14T00:00:00",
          "2023-08-15T00:00:00",
          "2023-08-16T00:00:00",
          "2023-08-17T00:00:00",
          "2023-08-18T00:00:00",
          "2023-08-19T00:00:00",
          "2023-08-20T00:00:00",
          "2023-08-21T00:00:00",
          "2023-08-22T00:00:00",
          "2023-08-23T00:00:00",
          "2023-08-24T00:00:00",
          "2023-08-25T00:00:00",
          "2023-08-26T00:00:00",
          "2023-08-27T00:00:00",
          "2023-08-28T00:00:00",
          "2023-08-29T00:00:00",
          "2023-08-30T00:00:00",
          "2023-08-31T00:00:00",
          "2023-09-01T00:00:00",
          "2023-09-02T00:00:00",
          "2023-09-03T00:00:00",
          "2023-09-04T00:00:00",
          "2023-09-05T00:00:00",
          "2023-09-06T00:00:00",
          "2023-09-07T00:00:00",
          "2023-09-08T00:00:00",
          "2023-09-09T00:00:00",
          "2023-09-10T00:00:00",
          "2023-09-11T00:00:00",
          "2023-09-12T00:00:00",
          "2023-09-13T00:00:00",
          "2023-09-14T00:00:00",
          "2023-09-15T00:00:00",
          "2023-09-16T00:00:00",
          "2023-09-17T00:00:00"
         ],
         "y": [
          888282.896298,
          2556231.389732,
          3666268.987144,
          4305663.989661,
          4806845.468115,
          6500780.810295,
          7558855.714338999,
          8399597.313125,
          9770886.037285,
          11227015.918143,
          11721132.637729,
          12613073.923649,
          14118061.256779,
          16269023.52723,
          16749404.885828,
          17327279.100065,
          18517798.553583,
          19290962.451375,
          20225170.519428,
          21229142.315351,
          21504131.635906,
          21782845.356103,
          22374639.130202,
          23019866.682299998,
          23364506.368412998,
          24005571.984486997,
          24372532.039340995,
          24612265.085963994,
          24770516.788090993,
          25158712.84347999,
          25452840.53956499,
          26112155.03271299,
          26530001.32974299,
          26878478.42230099,
          27369413.558726992,
          27468988.15165799,
          27634124.10943099,
          28086445.625511993,
          28663515.382763993,
          28823208.971437994,
          28975536.148471996,
          29165643.342253998,
          29253935.368585996,
          29788831.791968998,
          30041008.999960996,
          30349261.228331998,
          30596626.11085,
          32462508.942915,
          33502909.199057,
          33927282.696484,
          34201453.140762,
          34661419.50963,
          35429642.626341,
          36659272.119216,
          37011707.832805,
          37291612.66106,
          37349642.619044,
          37487716.007323995,
          37787351.472812995,
          38457599.89806999,
          38687781.35678599,
          39003557.77311099,
          39176145.774615996,
          39552671.635855,
          39690631.478631,
          39783026.643777,
          39930014.521862,
          40786251.922609,
          41283792.954036005,
          41615607.424182005,
          41735199.353916004,
          41953998.954458006,
          42544653.87030601,
          43040724.57094101,
          43246371.20087901,
          43462943.64259401,
          43599314.84421501,
          43687207.65315201,
          43734361.13532701
         ]
        }
       ],
       "layout": {
        "legend": {
         "orientation": "h",
         "x": 0.5,
         "xanchor": "center",
         "y": 1.1
        },
        "margin": {
         "b": 10,
         "l": 10,
         "r": 10,
         "t": 10
        },
        "showlegend": true,
        "template": {
         "data": {
          "bar": [
           {
            "error_x": {
             "color": "rgb(36,36,36)"
            },
            "error_y": {
             "color": "rgb(36,36,36)"
            },
            "marker": {
             "line": {
              "color": "white",
              "width": 0.5
             },
             "pattern": {
              "fillmode": "overlay",
              "size": 10,
              "solidity": 0.2
             }
            },
            "type": "bar"
           }
          ],
          "barpolar": [
           {
            "marker": {
             "line": {
              "color": "white",
              "width": 0.5
             },
             "pattern": {
              "fillmode": "overlay",
              "size": 10,
              "solidity": 0.2
             }
            },
            "type": "barpolar"
           }
          ],
          "carpet": [
           {
            "aaxis": {
             "endlinecolor": "rgb(36,36,36)",
             "gridcolor": "white",
             "linecolor": "white",
             "minorgridcolor": "white",
             "startlinecolor": "rgb(36,36,36)"
            },
            "baxis": {
             "endlinecolor": "rgb(36,36,36)",
             "gridcolor": "white",
             "linecolor": "white",
             "minorgridcolor": "white",
             "startlinecolor": "rgb(36,36,36)"
            },
            "type": "carpet"
           }
          ],
          "choropleth": [
           {
            "colorbar": {
             "outlinewidth": 1,
             "tickcolor": "rgb(36,36,36)",
             "ticks": "outside"
            },
            "type": "choropleth"
           }
          ],
          "contour": [
           {
            "colorbar": {
             "outlinewidth": 1,
             "tickcolor": "rgb(36,36,36)",
             "ticks": "outside"
            },
            "colorscale": [
             [
              0,
              "#440154"
             ],
             [
              0.1111111111111111,
              "#482878"
             ],
             [
              0.2222222222222222,
              "#3e4989"
             ],
             [
              0.3333333333333333,
              "#31688e"
             ],
             [
              0.4444444444444444,
              "#26828e"
             ],
             [
              0.5555555555555556,
              "#1f9e89"
             ],
             [
              0.6666666666666666,
              "#35b779"
             ],
             [
              0.7777777777777778,
              "#6ece58"
             ],
             [
              0.8888888888888888,
              "#b5de2b"
             ],
             [
              1,
              "#fde725"
             ]
            ],
            "type": "contour"
           }
          ],
          "contourcarpet": [
           {
            "colorbar": {
             "outlinewidth": 1,
             "tickcolor": "rgb(36,36,36)",
             "ticks": "outside"
            },
            "type": "contourcarpet"
           }
          ],
          "heatmap": [
           {
            "colorbar": {
             "outlinewidth": 1,
             "tickcolor": "rgb(36,36,36)",
             "ticks": "outside"
            },
            "colorscale": [
             [
              0,
              "#440154"
             ],
             [
              0.1111111111111111,
              "#482878"
             ],
             [
              0.2222222222222222,
              "#3e4989"
             ],
             [
              0.3333333333333333,
              "#31688e"
             ],
             [
              0.4444444444444444,
              "#26828e"
             ],
             [
              0.5555555555555556,
              "#1f9e89"
             ],
             [
              0.6666666666666666,
              "#35b779"
             ],
             [
              0.7777777777777778,
              "#6ece58"
             ],
             [
              0.8888888888888888,
              "#b5de2b"
             ],
             [
              1,
              "#fde725"
             ]
            ],
            "type": "heatmap"
           }
          ],
          "heatmapgl": [
           {
            "colorbar": {
             "outlinewidth": 1,
             "tickcolor": "rgb(36,36,36)",
             "ticks": "outside"
            },
            "colorscale": [
             [
              0,
              "#440154"
             ],
             [
              0.1111111111111111,
              "#482878"
             ],
             [
              0.2222222222222222,
              "#3e4989"
             ],
             [
              0.3333333333333333,
              "#31688e"
             ],
             [
              0.4444444444444444,
              "#26828e"
             ],
             [
              0.5555555555555556,
              "#1f9e89"
             ],
             [
              0.6666666666666666,
              "#35b779"
             ],
             [
              0.7777777777777778,
              "#6ece58"
             ],
             [
              0.8888888888888888,
              "#b5de2b"
             ],
             [
              1,
              "#fde725"
             ]
            ],
            "type": "heatmapgl"
           }
          ],
          "histogram": [
           {
            "marker": {
             "line": {
              "color": "white",
              "width": 0.6
             }
            },
            "type": "histogram"
           }
          ],
          "histogram2d": [
           {
            "colorbar": {
             "outlinewidth": 1,
             "tickcolor": "rgb(36,36,36)",
             "ticks": "outside"
            },
            "colorscale": [
             [
              0,
              "#440154"
             ],
             [
              0.1111111111111111,
              "#482878"
             ],
             [
              0.2222222222222222,
              "#3e4989"
             ],
             [
              0.3333333333333333,
              "#31688e"
             ],
             [
              0.4444444444444444,
              "#26828e"
             ],
             [
              0.5555555555555556,
              "#1f9e89"
             ],
             [
              0.6666666666666666,
              "#35b779"
             ],
             [
              0.7777777777777778,
              "#6ece58"
             ],
             [
              0.8888888888888888,
              "#b5de2b"
             ],
             [
              1,
              "#fde725"
             ]
            ],
            "type": "histogram2d"
           }
          ],
          "histogram2dcontour": [
           {
            "colorbar": {
             "outlinewidth": 1,
             "tickcolor": "rgb(36,36,36)",
             "ticks": "outside"
            },
            "colorscale": [
             [
              0,
              "#440154"
             ],
             [
              0.1111111111111111,
              "#482878"
             ],
             [
              0.2222222222222222,
              "#3e4989"
             ],
             [
              0.3333333333333333,
              "#31688e"
             ],
             [
              0.4444444444444444,
              "#26828e"
             ],
             [
              0.5555555555555556,
              "#1f9e89"
             ],
             [
              0.6666666666666666,
              "#35b779"
             ],
             [
              0.7777777777777778,
              "#6ece58"
             ],
             [
              0.8888888888888888,
              "#b5de2b"
             ],
             [
              1,
              "#fde725"
             ]
            ],
            "type": "histogram2dcontour"
           }
          ],
          "mesh3d": [
           {
            "colorbar": {
             "outlinewidth": 1,
             "tickcolor": "rgb(36,36,36)",
             "ticks": "outside"
            },
            "type": "mesh3d"
           }
          ],
          "parcoords": [
           {
            "line": {
             "colorbar": {
              "outlinewidth": 1,
              "tickcolor": "rgb(36,36,36)",
              "ticks": "outside"
             }
            },
            "type": "parcoords"
           }
          ],
          "pie": [
           {
            "automargin": true,
            "type": "pie"
           }
          ],
          "scatter": [
           {
            "fillpattern": {
             "fillmode": "overlay",
             "size": 10,
             "solidity": 0.2
            },
            "type": "scatter"
           }
          ],
          "scatter3d": [
           {
            "line": {
             "colorbar": {
              "outlinewidth": 1,
              "tickcolor": "rgb(36,36,36)",
              "ticks": "outside"
             }
            },
            "marker": {
             "colorbar": {
              "outlinewidth": 1,
              "tickcolor": "rgb(36,36,36)",
              "ticks": "outside"
             }
            },
            "type": "scatter3d"
           }
          ],
          "scattercarpet": [
           {
            "marker": {
             "colorbar": {
              "outlinewidth": 1,
              "tickcolor": "rgb(36,36,36)",
              "ticks": "outside"
             }
            },
            "type": "scattercarpet"
           }
          ],
          "scattergeo": [
           {
            "marker": {
             "colorbar": {
              "outlinewidth": 1,
              "tickcolor": "rgb(36,36,36)",
              "ticks": "outside"
             }
            },
            "type": "scattergeo"
           }
          ],
          "scattergl": [
           {
            "marker": {
             "colorbar": {
              "outlinewidth": 1,
              "tickcolor": "rgb(36,36,36)",
              "ticks": "outside"
             }
            },
            "type": "scattergl"
           }
          ],
          "scattermapbox": [
           {
            "marker": {
             "colorbar": {
              "outlinewidth": 1,
              "tickcolor": "rgb(36,36,36)",
              "ticks": "outside"
             }
            },
            "type": "scattermapbox"
           }
          ],
          "scatterpolar": [
           {
            "marker": {
             "colorbar": {
              "outlinewidth": 1,
              "tickcolor": "rgb(36,36,36)",
              "ticks": "outside"
             }
            },
            "type": "scatterpolar"
           }
          ],
          "scatterpolargl": [
           {
            "marker": {
             "colorbar": {
              "outlinewidth": 1,
              "tickcolor": "rgb(36,36,36)",
              "ticks": "outside"
             }
            },
            "type": "scatterpolargl"
           }
          ],
          "scatterternary": [
           {
            "marker": {
             "colorbar": {
              "outlinewidth": 1,
              "tickcolor": "rgb(36,36,36)",
              "ticks": "outside"
             }
            },
            "type": "scatterternary"
           }
          ],
          "surface": [
           {
            "colorbar": {
             "outlinewidth": 1,
             "tickcolor": "rgb(36,36,36)",
             "ticks": "outside"
            },
            "colorscale": [
             [
              0,
              "#440154"
             ],
             [
              0.1111111111111111,
              "#482878"
             ],
             [
              0.2222222222222222,
              "#3e4989"
             ],
             [
              0.3333333333333333,
              "#31688e"
             ],
             [
              0.4444444444444444,
              "#26828e"
             ],
             [
              0.5555555555555556,
              "#1f9e89"
             ],
             [
              0.6666666666666666,
              "#35b779"
             ],
             [
              0.7777777777777778,
              "#6ece58"
             ],
             [
              0.8888888888888888,
              "#b5de2b"
             ],
             [
              1,
              "#fde725"
             ]
            ],
            "type": "surface"
           }
          ],
          "table": [
           {
            "cells": {
             "fill": {
              "color": "rgb(237,237,237)"
             },
             "line": {
              "color": "white"
             }
            },
            "header": {
             "fill": {
              "color": "rgb(217,217,217)"
             },
             "line": {
              "color": "white"
             }
            },
            "type": "table"
           }
          ]
         },
         "layout": {
          "annotationdefaults": {
           "arrowhead": 0,
           "arrowwidth": 1
          },
          "autotypenumbers": "strict",
          "coloraxis": {
           "colorbar": {
            "outlinewidth": 1,
            "tickcolor": "rgb(36,36,36)",
            "ticks": "outside"
           }
          },
          "colorscale": {
           "diverging": [
            [
             0,
             "rgb(103,0,31)"
            ],
            [
             0.1,
             "rgb(178,24,43)"
            ],
            [
             0.2,
             "rgb(214,96,77)"
            ],
            [
             0.3,
             "rgb(244,165,130)"
            ],
            [
             0.4,
             "rgb(253,219,199)"
            ],
            [
             0.5,
             "rgb(247,247,247)"
            ],
            [
             0.6,
             "rgb(209,229,240)"
            ],
            [
             0.7,
             "rgb(146,197,222)"
            ],
            [
             0.8,
             "rgb(67,147,195)"
            ],
            [
             0.9,
             "rgb(33,102,172)"
            ],
            [
             1,
             "rgb(5,48,97)"
            ]
           ],
           "sequential": [
            [
             0,
             "#440154"
            ],
            [
             0.1111111111111111,
             "#482878"
            ],
            [
             0.2222222222222222,
             "#3e4989"
            ],
            [
             0.3333333333333333,
             "#31688e"
            ],
            [
             0.4444444444444444,
             "#26828e"
            ],
            [
             0.5555555555555556,
             "#1f9e89"
            ],
            [
             0.6666666666666666,
             "#35b779"
            ],
            [
             0.7777777777777778,
             "#6ece58"
            ],
            [
             0.8888888888888888,
             "#b5de2b"
            ],
            [
             1,
             "#fde725"
            ]
           ],
           "sequentialminus": [
            [
             0,
             "#440154"
            ],
            [
             0.1111111111111111,
             "#482878"
            ],
            [
             0.2222222222222222,
             "#3e4989"
            ],
            [
             0.3333333333333333,
             "#31688e"
            ],
            [
             0.4444444444444444,
             "#26828e"
            ],
            [
             0.5555555555555556,
             "#1f9e89"
            ],
            [
             0.6666666666666666,
             "#35b779"
            ],
            [
             0.7777777777777778,
             "#6ece58"
            ],
            [
             0.8888888888888888,
             "#b5de2b"
            ],
            [
             1,
             "#fde725"
            ]
           ]
          },
          "colorway": [
           "#1F77B4",
           "#FF7F0E",
           "#2CA02C",
           "#D62728",
           "#9467BD",
           "#8C564B",
           "#E377C2",
           "#7F7F7F",
           "#BCBD22",
           "#17BECF"
          ],
          "font": {
           "color": "rgb(36,36,36)"
          },
          "geo": {
           "bgcolor": "white",
           "lakecolor": "white",
           "landcolor": "white",
           "showlakes": true,
           "showland": true,
           "subunitcolor": "white"
          },
          "hoverlabel": {
           "align": "left"
          },
          "hovermode": "closest",
          "mapbox": {
           "style": "light"
          },
          "paper_bgcolor": "white",
          "plot_bgcolor": "white",
          "polar": {
           "angularaxis": {
            "gridcolor": "rgb(232,232,232)",
            "linecolor": "rgb(36,36,36)",
            "showgrid": false,
            "showline": true,
            "ticks": "outside"
           },
           "bgcolor": "white",
           "radialaxis": {
            "gridcolor": "rgb(232,232,232)",
            "linecolor": "rgb(36,36,36)",
            "showgrid": false,
            "showline": true,
            "ticks": "outside"
           }
          },
          "scene": {
           "xaxis": {
            "backgroundcolor": "white",
            "gridcolor": "rgb(232,232,232)",
            "gridwidth": 2,
            "linecolor": "rgb(36,36,36)",
            "showbackground": true,
            "showgrid": false,
            "showline": true,
            "ticks": "outside",
            "zeroline": false,
            "zerolinecolor": "rgb(36,36,36)"
           },
           "yaxis": {
            "backgroundcolor": "white",
            "gridcolor": "rgb(232,232,232)",
            "gridwidth": 2,
            "linecolor": "rgb(36,36,36)",
            "showbackground": true,
            "showgrid": false,
            "showline": true,
            "ticks": "outside",
            "zeroline": false,
            "zerolinecolor": "rgb(36,36,36)"
           },
           "zaxis": {
            "backgroundcolor": "white",
            "gridcolor": "rgb(232,232,232)",
            "gridwidth": 2,
            "linecolor": "rgb(36,36,36)",
            "showbackground": true,
            "showgrid": false,
            "showline": true,
            "ticks": "outside",
            "zeroline": false,
            "zerolinecolor": "rgb(36,36,36)"
           }
          },
          "shapedefaults": {
           "fillcolor": "black",
           "line": {
            "width": 0
           },
           "opacity": 0.3
          },
          "ternary": {
           "aaxis": {
            "gridcolor": "rgb(232,232,232)",
            "linecolor": "rgb(36,36,36)",
            "showgrid": false,
            "showline": true,
            "ticks": "outside"
           },
           "baxis": {
            "gridcolor": "rgb(232,232,232)",
            "linecolor": "rgb(36,36,36)",
            "showgrid": false,
            "showline": true,
            "ticks": "outside"
           },
           "bgcolor": "white",
           "caxis": {
            "gridcolor": "rgb(232,232,232)",
            "linecolor": "rgb(36,36,36)",
            "showgrid": false,
            "showline": true,
            "ticks": "outside"
           }
          },
          "title": {
           "x": 0.05
          },
          "xaxis": {
           "automargin": true,
           "gridcolor": "rgb(232,232,232)",
           "linecolor": "rgb(36,36,36)",
           "showgrid": false,
           "showline": true,
           "ticks": "outside",
           "title": {
            "standoff": 15
           },
           "zeroline": false,
           "zerolinecolor": "rgb(36,36,36)"
          },
          "yaxis": {
           "automargin": true,
           "gridcolor": "rgb(232,232,232)",
           "linecolor": "rgb(36,36,36)",
           "showgrid": false,
           "showline": true,
           "ticks": "outside",
           "title": {
            "standoff": 15
           },
           "zeroline": false,
           "zerolinecolor": "rgb(36,36,36)"
          }
         }
        },
        "xaxis": {
         "title": {
          "text": "Date"
         }
        },
        "yaxis": {
         "title": {
          "text": "Cumulative Volume (USDC)"
         }
        }
       }
      }
     },
     "metadata": {},
     "output_type": "display_data"
    }
   ],
   "source": [
    "fig = go.Figure(layout=layout)\n",
    "\n",
    "fig.add_trace(go.Scatter(x=df_per_day.index,\n",
    "                            y=df_per_day['volume_total_0'].cumsum().astype(\n",
    "                                float),\n",
    "                            mode='lines',\n",
    "                            name = f'Volume for {token0}-{token1} at {exchange_name}'))\n",
    "\n",
    "fig.update_layout(xaxis_title='Date',\n",
    "                    yaxis_title=f'Cumulative Volume ({token0})', showlegend=True,\n",
    "                    legend=dict(xanchor='center', x=0.5, y=1.10, orientation='h'),)\n",
    "#fig.write_image(f\"./plots/{contract_name}_{event_name}.pdf\")\n",
    "fig.show()"
   ]
  },
  {
   "cell_type": "code",
   "execution_count": 45,
   "metadata": {},
   "outputs": [
    {
     "data": {
      "application/vnd.plotly.v1+json": {
       "config": {
        "plotlyServerURL": "https://plot.ly"
       },
       "data": [
        {
         "mode": "lines",
         "name": "Daily max MAV / volume for USDC-ETH at SyncSwap",
         "type": "scatter",
         "x": [
          "2023-07-02T00:00:00",
          "2023-07-03T00:00:00",
          "2023-07-04T00:00:00",
          "2023-07-05T00:00:00",
          "2023-07-06T00:00:00",
          "2023-07-07T00:00:00",
          "2023-07-08T00:00:00",
          "2023-07-09T00:00:00",
          "2023-07-10T00:00:00",
          "2023-07-11T00:00:00",
          "2023-07-12T00:00:00",
          "2023-07-13T00:00:00",
          "2023-07-14T00:00:00",
          "2023-07-15T00:00:00",
          "2023-07-16T00:00:00",
          "2023-07-17T00:00:00",
          "2023-07-18T00:00:00",
          "2023-07-19T00:00:00",
          "2023-07-20T00:00:00",
          "2023-07-21T00:00:00",
          "2023-07-22T00:00:00",
          "2023-07-23T00:00:00",
          "2023-07-24T00:00:00",
          "2023-07-25T00:00:00",
          "2023-07-26T00:00:00",
          "2023-07-27T00:00:00",
          "2023-07-28T00:00:00",
          "2023-07-29T00:00:00",
          "2023-07-30T00:00:00",
          "2023-07-31T00:00:00",
          "2023-08-01T00:00:00",
          "2023-08-02T00:00:00",
          "2023-08-03T00:00:00",
          "2023-08-04T00:00:00",
          "2023-08-05T00:00:00",
          "2023-08-06T00:00:00",
          "2023-08-07T00:00:00",
          "2023-08-08T00:00:00",
          "2023-08-09T00:00:00",
          "2023-08-10T00:00:00",
          "2023-08-11T00:00:00",
          "2023-08-12T00:00:00",
          "2023-08-13T00:00:00",
          "2023-08-14T00:00:00",
          "2023-08-15T00:00:00",
          "2023-08-16T00:00:00",
          "2023-08-17T00:00:00",
          "2023-08-18T00:00:00",
          "2023-08-19T00:00:00",
          "2023-08-20T00:00:00",
          "2023-08-21T00:00:00",
          "2023-08-22T00:00:00",
          "2023-08-23T00:00:00",
          "2023-08-24T00:00:00",
          "2023-08-25T00:00:00",
          "2023-08-26T00:00:00",
          "2023-08-27T00:00:00",
          "2023-08-28T00:00:00",
          "2023-08-29T00:00:00",
          "2023-08-30T00:00:00",
          "2023-08-31T00:00:00",
          "2023-09-01T00:00:00",
          "2023-09-02T00:00:00",
          "2023-09-03T00:00:00",
          "2023-09-04T00:00:00",
          "2023-09-05T00:00:00",
          "2023-09-06T00:00:00",
          "2023-09-07T00:00:00",
          "2023-09-08T00:00:00",
          "2023-09-09T00:00:00",
          "2023-09-10T00:00:00",
          "2023-09-11T00:00:00",
          "2023-09-12T00:00:00",
          "2023-09-13T00:00:00",
          "2023-09-14T00:00:00",
          "2023-09-15T00:00:00"
         ],
         "y": [
          23.140704537087604,
          25.306926168245933,
          24.339328160599432,
          25.65692518968411,
          24.257425406785078,
          25.594502648173084,
          24.922666531679518,
          25.61066190299859,
          24.848042359482186,
          24.891567663733547,
          25.148561004467687,
          28.701127333938334,
          27.42576150853247,
          26.931976914978314,
          26.440260418546863,
          25.31959131062148,
          24.454124261003148,
          23.63998724263107,
          22.80843798788959,
          22.561628203597873,
          22.37322577028032,
          21.95783233112504,
          21.50572630036339,
          21.538560864595876,
          21.042773040051078,
          20.867644429486948,
          20.79701322824641,
          20.747211215316568,
          20.531250266541647,
          20.354281266590878,
          20.285610149646285,
          20.08278536229027,
          19.874753106243098,
          19.684349912192015,
          19.64093594126665,
          19.609718621995,
          19.34118918886486,
          19.02130750179869,
          18.946364047624282,
          18.872758964099972,
          18.784445257910047,
          18.747620783922844,
          18.51007920952458,
          18.451211949665243,
          18.366912114584892,
          18.29453154440196,
          19.913619864187687,
          20.647646375559372,
          20.406054730569583,
          20.26839283760317,
          20.11745576915977,
          19.88716355804815,
          19.59235786103544,
          19.554358445990548,
          19.63022661220507,
          19.599727224643548,
          19.703421898936845,
          19.6300271606733,
          20.598017150853366,
          20.494191585482536,
          21.188282854366033,
          21.202483686505275,
          21.176150713366027,
          21.31226548898792,
          21.474972992102416,
          21.623032133597395,
          21.697341602011342,
          21.675132146218544,
          21.811901802665457,
          21.815956840295893,
          22.13886942097813,
          22.419897019396746,
          22.750983641455736,
          22.977346057959664,
          23.39116653700859,
          23.5938451548909
         ]
        }
       ],
       "layout": {
        "legend": {
         "orientation": "h",
         "x": 0.5,
         "xanchor": "center",
         "y": 1.1
        },
        "margin": {
         "b": 10,
         "l": 10,
         "r": 10,
         "t": 10
        },
        "showlegend": true,
        "template": {
         "data": {
          "bar": [
           {
            "error_x": {
             "color": "rgb(36,36,36)"
            },
            "error_y": {
             "color": "rgb(36,36,36)"
            },
            "marker": {
             "line": {
              "color": "white",
              "width": 0.5
             },
             "pattern": {
              "fillmode": "overlay",
              "size": 10,
              "solidity": 0.2
             }
            },
            "type": "bar"
           }
          ],
          "barpolar": [
           {
            "marker": {
             "line": {
              "color": "white",
              "width": 0.5
             },
             "pattern": {
              "fillmode": "overlay",
              "size": 10,
              "solidity": 0.2
             }
            },
            "type": "barpolar"
           }
          ],
          "carpet": [
           {
            "aaxis": {
             "endlinecolor": "rgb(36,36,36)",
             "gridcolor": "white",
             "linecolor": "white",
             "minorgridcolor": "white",
             "startlinecolor": "rgb(36,36,36)"
            },
            "baxis": {
             "endlinecolor": "rgb(36,36,36)",
             "gridcolor": "white",
             "linecolor": "white",
             "minorgridcolor": "white",
             "startlinecolor": "rgb(36,36,36)"
            },
            "type": "carpet"
           }
          ],
          "choropleth": [
           {
            "colorbar": {
             "outlinewidth": 1,
             "tickcolor": "rgb(36,36,36)",
             "ticks": "outside"
            },
            "type": "choropleth"
           }
          ],
          "contour": [
           {
            "colorbar": {
             "outlinewidth": 1,
             "tickcolor": "rgb(36,36,36)",
             "ticks": "outside"
            },
            "colorscale": [
             [
              0,
              "#440154"
             ],
             [
              0.1111111111111111,
              "#482878"
             ],
             [
              0.2222222222222222,
              "#3e4989"
             ],
             [
              0.3333333333333333,
              "#31688e"
             ],
             [
              0.4444444444444444,
              "#26828e"
             ],
             [
              0.5555555555555556,
              "#1f9e89"
             ],
             [
              0.6666666666666666,
              "#35b779"
             ],
             [
              0.7777777777777778,
              "#6ece58"
             ],
             [
              0.8888888888888888,
              "#b5de2b"
             ],
             [
              1,
              "#fde725"
             ]
            ],
            "type": "contour"
           }
          ],
          "contourcarpet": [
           {
            "colorbar": {
             "outlinewidth": 1,
             "tickcolor": "rgb(36,36,36)",
             "ticks": "outside"
            },
            "type": "contourcarpet"
           }
          ],
          "heatmap": [
           {
            "colorbar": {
             "outlinewidth": 1,
             "tickcolor": "rgb(36,36,36)",
             "ticks": "outside"
            },
            "colorscale": [
             [
              0,
              "#440154"
             ],
             [
              0.1111111111111111,
              "#482878"
             ],
             [
              0.2222222222222222,
              "#3e4989"
             ],
             [
              0.3333333333333333,
              "#31688e"
             ],
             [
              0.4444444444444444,
              "#26828e"
             ],
             [
              0.5555555555555556,
              "#1f9e89"
             ],
             [
              0.6666666666666666,
              "#35b779"
             ],
             [
              0.7777777777777778,
              "#6ece58"
             ],
             [
              0.8888888888888888,
              "#b5de2b"
             ],
             [
              1,
              "#fde725"
             ]
            ],
            "type": "heatmap"
           }
          ],
          "heatmapgl": [
           {
            "colorbar": {
             "outlinewidth": 1,
             "tickcolor": "rgb(36,36,36)",
             "ticks": "outside"
            },
            "colorscale": [
             [
              0,
              "#440154"
             ],
             [
              0.1111111111111111,
              "#482878"
             ],
             [
              0.2222222222222222,
              "#3e4989"
             ],
             [
              0.3333333333333333,
              "#31688e"
             ],
             [
              0.4444444444444444,
              "#26828e"
             ],
             [
              0.5555555555555556,
              "#1f9e89"
             ],
             [
              0.6666666666666666,
              "#35b779"
             ],
             [
              0.7777777777777778,
              "#6ece58"
             ],
             [
              0.8888888888888888,
              "#b5de2b"
             ],
             [
              1,
              "#fde725"
             ]
            ],
            "type": "heatmapgl"
           }
          ],
          "histogram": [
           {
            "marker": {
             "line": {
              "color": "white",
              "width": 0.6
             }
            },
            "type": "histogram"
           }
          ],
          "histogram2d": [
           {
            "colorbar": {
             "outlinewidth": 1,
             "tickcolor": "rgb(36,36,36)",
             "ticks": "outside"
            },
            "colorscale": [
             [
              0,
              "#440154"
             ],
             [
              0.1111111111111111,
              "#482878"
             ],
             [
              0.2222222222222222,
              "#3e4989"
             ],
             [
              0.3333333333333333,
              "#31688e"
             ],
             [
              0.4444444444444444,
              "#26828e"
             ],
             [
              0.5555555555555556,
              "#1f9e89"
             ],
             [
              0.6666666666666666,
              "#35b779"
             ],
             [
              0.7777777777777778,
              "#6ece58"
             ],
             [
              0.8888888888888888,
              "#b5de2b"
             ],
             [
              1,
              "#fde725"
             ]
            ],
            "type": "histogram2d"
           }
          ],
          "histogram2dcontour": [
           {
            "colorbar": {
             "outlinewidth": 1,
             "tickcolor": "rgb(36,36,36)",
             "ticks": "outside"
            },
            "colorscale": [
             [
              0,
              "#440154"
             ],
             [
              0.1111111111111111,
              "#482878"
             ],
             [
              0.2222222222222222,
              "#3e4989"
             ],
             [
              0.3333333333333333,
              "#31688e"
             ],
             [
              0.4444444444444444,
              "#26828e"
             ],
             [
              0.5555555555555556,
              "#1f9e89"
             ],
             [
              0.6666666666666666,
              "#35b779"
             ],
             [
              0.7777777777777778,
              "#6ece58"
             ],
             [
              0.8888888888888888,
              "#b5de2b"
             ],
             [
              1,
              "#fde725"
             ]
            ],
            "type": "histogram2dcontour"
           }
          ],
          "mesh3d": [
           {
            "colorbar": {
             "outlinewidth": 1,
             "tickcolor": "rgb(36,36,36)",
             "ticks": "outside"
            },
            "type": "mesh3d"
           }
          ],
          "parcoords": [
           {
            "line": {
             "colorbar": {
              "outlinewidth": 1,
              "tickcolor": "rgb(36,36,36)",
              "ticks": "outside"
             }
            },
            "type": "parcoords"
           }
          ],
          "pie": [
           {
            "automargin": true,
            "type": "pie"
           }
          ],
          "scatter": [
           {
            "fillpattern": {
             "fillmode": "overlay",
             "size": 10,
             "solidity": 0.2
            },
            "type": "scatter"
           }
          ],
          "scatter3d": [
           {
            "line": {
             "colorbar": {
              "outlinewidth": 1,
              "tickcolor": "rgb(36,36,36)",
              "ticks": "outside"
             }
            },
            "marker": {
             "colorbar": {
              "outlinewidth": 1,
              "tickcolor": "rgb(36,36,36)",
              "ticks": "outside"
             }
            },
            "type": "scatter3d"
           }
          ],
          "scattercarpet": [
           {
            "marker": {
             "colorbar": {
              "outlinewidth": 1,
              "tickcolor": "rgb(36,36,36)",
              "ticks": "outside"
             }
            },
            "type": "scattercarpet"
           }
          ],
          "scattergeo": [
           {
            "marker": {
             "colorbar": {
              "outlinewidth": 1,
              "tickcolor": "rgb(36,36,36)",
              "ticks": "outside"
             }
            },
            "type": "scattergeo"
           }
          ],
          "scattergl": [
           {
            "marker": {
             "colorbar": {
              "outlinewidth": 1,
              "tickcolor": "rgb(36,36,36)",
              "ticks": "outside"
             }
            },
            "type": "scattergl"
           }
          ],
          "scattermapbox": [
           {
            "marker": {
             "colorbar": {
              "outlinewidth": 1,
              "tickcolor": "rgb(36,36,36)",
              "ticks": "outside"
             }
            },
            "type": "scattermapbox"
           }
          ],
          "scatterpolar": [
           {
            "marker": {
             "colorbar": {
              "outlinewidth": 1,
              "tickcolor": "rgb(36,36,36)",
              "ticks": "outside"
             }
            },
            "type": "scatterpolar"
           }
          ],
          "scatterpolargl": [
           {
            "marker": {
             "colorbar": {
              "outlinewidth": 1,
              "tickcolor": "rgb(36,36,36)",
              "ticks": "outside"
             }
            },
            "type": "scatterpolargl"
           }
          ],
          "scatterternary": [
           {
            "marker": {
             "colorbar": {
              "outlinewidth": 1,
              "tickcolor": "rgb(36,36,36)",
              "ticks": "outside"
             }
            },
            "type": "scatterternary"
           }
          ],
          "surface": [
           {
            "colorbar": {
             "outlinewidth": 1,
             "tickcolor": "rgb(36,36,36)",
             "ticks": "outside"
            },
            "colorscale": [
             [
              0,
              "#440154"
             ],
             [
              0.1111111111111111,
              "#482878"
             ],
             [
              0.2222222222222222,
              "#3e4989"
             ],
             [
              0.3333333333333333,
              "#31688e"
             ],
             [
              0.4444444444444444,
              "#26828e"
             ],
             [
              0.5555555555555556,
              "#1f9e89"
             ],
             [
              0.6666666666666666,
              "#35b779"
             ],
             [
              0.7777777777777778,
              "#6ece58"
             ],
             [
              0.8888888888888888,
              "#b5de2b"
             ],
             [
              1,
              "#fde725"
             ]
            ],
            "type": "surface"
           }
          ],
          "table": [
           {
            "cells": {
             "fill": {
              "color": "rgb(237,237,237)"
             },
             "line": {
              "color": "white"
             }
            },
            "header": {
             "fill": {
              "color": "rgb(217,217,217)"
             },
             "line": {
              "color": "white"
             }
            },
            "type": "table"
           }
          ]
         },
         "layout": {
          "annotationdefaults": {
           "arrowhead": 0,
           "arrowwidth": 1
          },
          "autotypenumbers": "strict",
          "coloraxis": {
           "colorbar": {
            "outlinewidth": 1,
            "tickcolor": "rgb(36,36,36)",
            "ticks": "outside"
           }
          },
          "colorscale": {
           "diverging": [
            [
             0,
             "rgb(103,0,31)"
            ],
            [
             0.1,
             "rgb(178,24,43)"
            ],
            [
             0.2,
             "rgb(214,96,77)"
            ],
            [
             0.3,
             "rgb(244,165,130)"
            ],
            [
             0.4,
             "rgb(253,219,199)"
            ],
            [
             0.5,
             "rgb(247,247,247)"
            ],
            [
             0.6,
             "rgb(209,229,240)"
            ],
            [
             0.7,
             "rgb(146,197,222)"
            ],
            [
             0.8,
             "rgb(67,147,195)"
            ],
            [
             0.9,
             "rgb(33,102,172)"
            ],
            [
             1,
             "rgb(5,48,97)"
            ]
           ],
           "sequential": [
            [
             0,
             "#440154"
            ],
            [
             0.1111111111111111,
             "#482878"
            ],
            [
             0.2222222222222222,
             "#3e4989"
            ],
            [
             0.3333333333333333,
             "#31688e"
            ],
            [
             0.4444444444444444,
             "#26828e"
            ],
            [
             0.5555555555555556,
             "#1f9e89"
            ],
            [
             0.6666666666666666,
             "#35b779"
            ],
            [
             0.7777777777777778,
             "#6ece58"
            ],
            [
             0.8888888888888888,
             "#b5de2b"
            ],
            [
             1,
             "#fde725"
            ]
           ],
           "sequentialminus": [
            [
             0,
             "#440154"
            ],
            [
             0.1111111111111111,
             "#482878"
            ],
            [
             0.2222222222222222,
             "#3e4989"
            ],
            [
             0.3333333333333333,
             "#31688e"
            ],
            [
             0.4444444444444444,
             "#26828e"
            ],
            [
             0.5555555555555556,
             "#1f9e89"
            ],
            [
             0.6666666666666666,
             "#35b779"
            ],
            [
             0.7777777777777778,
             "#6ece58"
            ],
            [
             0.8888888888888888,
             "#b5de2b"
            ],
            [
             1,
             "#fde725"
            ]
           ]
          },
          "colorway": [
           "#1F77B4",
           "#FF7F0E",
           "#2CA02C",
           "#D62728",
           "#9467BD",
           "#8C564B",
           "#E377C2",
           "#7F7F7F",
           "#BCBD22",
           "#17BECF"
          ],
          "font": {
           "color": "rgb(36,36,36)"
          },
          "geo": {
           "bgcolor": "white",
           "lakecolor": "white",
           "landcolor": "white",
           "showlakes": true,
           "showland": true,
           "subunitcolor": "white"
          },
          "hoverlabel": {
           "align": "left"
          },
          "hovermode": "closest",
          "mapbox": {
           "style": "light"
          },
          "paper_bgcolor": "white",
          "plot_bgcolor": "white",
          "polar": {
           "angularaxis": {
            "gridcolor": "rgb(232,232,232)",
            "linecolor": "rgb(36,36,36)",
            "showgrid": false,
            "showline": true,
            "ticks": "outside"
           },
           "bgcolor": "white",
           "radialaxis": {
            "gridcolor": "rgb(232,232,232)",
            "linecolor": "rgb(36,36,36)",
            "showgrid": false,
            "showline": true,
            "ticks": "outside"
           }
          },
          "scene": {
           "xaxis": {
            "backgroundcolor": "white",
            "gridcolor": "rgb(232,232,232)",
            "gridwidth": 2,
            "linecolor": "rgb(36,36,36)",
            "showbackground": true,
            "showgrid": false,
            "showline": true,
            "ticks": "outside",
            "zeroline": false,
            "zerolinecolor": "rgb(36,36,36)"
           },
           "yaxis": {
            "backgroundcolor": "white",
            "gridcolor": "rgb(232,232,232)",
            "gridwidth": 2,
            "linecolor": "rgb(36,36,36)",
            "showbackground": true,
            "showgrid": false,
            "showline": true,
            "ticks": "outside",
            "zeroline": false,
            "zerolinecolor": "rgb(36,36,36)"
           },
           "zaxis": {
            "backgroundcolor": "white",
            "gridcolor": "rgb(232,232,232)",
            "gridwidth": 2,
            "linecolor": "rgb(36,36,36)",
            "showbackground": true,
            "showgrid": false,
            "showline": true,
            "ticks": "outside",
            "zeroline": false,
            "zerolinecolor": "rgb(36,36,36)"
           }
          },
          "shapedefaults": {
           "fillcolor": "black",
           "line": {
            "width": 0
           },
           "opacity": 0.3
          },
          "ternary": {
           "aaxis": {
            "gridcolor": "rgb(232,232,232)",
            "linecolor": "rgb(36,36,36)",
            "showgrid": false,
            "showline": true,
            "ticks": "outside"
           },
           "baxis": {
            "gridcolor": "rgb(232,232,232)",
            "linecolor": "rgb(36,36,36)",
            "showgrid": false,
            "showline": true,
            "ticks": "outside"
           },
           "bgcolor": "white",
           "caxis": {
            "gridcolor": "rgb(232,232,232)",
            "linecolor": "rgb(36,36,36)",
            "showgrid": false,
            "showline": true,
            "ticks": "outside"
           }
          },
          "title": {
           "x": 0.05
          },
          "xaxis": {
           "automargin": true,
           "gridcolor": "rgb(232,232,232)",
           "linecolor": "rgb(36,36,36)",
           "showgrid": false,
           "showline": true,
           "ticks": "outside",
           "title": {
            "standoff": 15
           },
           "zeroline": false,
           "zerolinecolor": "rgb(36,36,36)"
          },
          "yaxis": {
           "automargin": true,
           "gridcolor": "rgb(232,232,232)",
           "linecolor": "rgb(36,36,36)",
           "showgrid": false,
           "showline": true,
           "ticks": "outside",
           "title": {
            "standoff": 15
           },
           "zeroline": false,
           "zerolinecolor": "rgb(36,36,36)"
          }
         }
        },
        "xaxis": {
         "title": {
          "text": "Date"
         }
        },
        "yaxis": {
         "title": {
          "text": "Daily MAV (bps)"
         }
        }
       }
      }
     },
     "metadata": {},
     "output_type": "display_data"
    }
   ],
   "source": [
    "\n",
    "df_per_day['MAV_bps'] = df_per_day['max_MAV_0'].cumsum()/df_per_day['volume_total_0'].cumsum() * 10000\n",
    "# df_per_day['MAV_bps'] = ((df_per_day['MAV_bps'] + 1) **365 - 1)\n",
    "\n",
    "df_per_day_filtered = df_per_day[df_per_day.index >= pd.to_datetime('2023-07-02')]\n",
    "df_per_day_filtered = df_per_day_filtered[df_per_day_filtered.index <= pd.to_datetime('2023-09-15')]\n",
    "\n",
    "\n",
    "fig = go.Figure(layout=layout)\n",
    "\n",
    "fig.add_trace(go.Scatter(x=df_per_day_filtered.index,\n",
    "                            y=df_per_day_filtered['MAV_bps'].astype(\n",
    "                                float),\n",
    "                            mode='lines',\n",
    "                            name = f'Daily max MAV / volume for {token0}-{token1} at {exchange_name}'))\n",
    "\n",
    "fig.update_layout(xaxis_title='Date',\n",
    "                    yaxis_title=f'Daily MAV (bps)', showlegend=True,\n",
    "                    legend=dict(xanchor='center', x=0.5, y=1.10, orientation='h'),)\n",
    "#fig.write_image(f\"./plots/{contract_name}_{event_name}.pdf\")\n",
    "fig.show()"
   ]
  },
  {
   "cell_type": "code",
   "execution_count": 46,
   "metadata": {},
   "outputs": [
    {
     "data": {
      "application/vnd.plotly.v1+json": {
       "config": {
        "plotlyServerURL": "https://plot.ly"
       },
       "data": [
        {
         "mode": "lines",
         "name": "Return for USDC-ETH at SyncSwap",
         "type": "scatter",
         "x": [
          "2023-07-01T00:00:00",
          "2023-07-02T00:00:00",
          "2023-07-03T00:00:00",
          "2023-07-04T00:00:00",
          "2023-07-05T00:00:00",
          "2023-07-06T00:00:00",
          "2023-07-07T00:00:00",
          "2023-07-08T00:00:00",
          "2023-07-09T00:00:00",
          "2023-07-10T00:00:00",
          "2023-07-11T00:00:00",
          "2023-07-12T00:00:00",
          "2023-07-13T00:00:00",
          "2023-07-14T00:00:00",
          "2023-07-15T00:00:00",
          "2023-07-16T00:00:00",
          "2023-07-17T00:00:00",
          "2023-07-18T00:00:00",
          "2023-07-19T00:00:00",
          "2023-07-20T00:00:00",
          "2023-07-21T00:00:00",
          "2023-07-22T00:00:00",
          "2023-07-23T00:00:00",
          "2023-07-24T00:00:00",
          "2023-07-25T00:00:00",
          "2023-07-26T00:00:00",
          "2023-07-27T00:00:00",
          "2023-07-28T00:00:00",
          "2023-07-29T00:00:00",
          "2023-07-30T00:00:00",
          "2023-07-31T00:00:00",
          "2023-08-01T00:00:00",
          "2023-08-02T00:00:00",
          "2023-08-03T00:00:00",
          "2023-08-04T00:00:00",
          "2023-08-05T00:00:00",
          "2023-08-06T00:00:00",
          "2023-08-07T00:00:00",
          "2023-08-08T00:00:00",
          "2023-08-09T00:00:00",
          "2023-08-10T00:00:00",
          "2023-08-11T00:00:00",
          "2023-08-12T00:00:00",
          "2023-08-13T00:00:00",
          "2023-08-14T00:00:00",
          "2023-08-15T00:00:00",
          "2023-08-16T00:00:00",
          "2023-08-17T00:00:00",
          "2023-08-18T00:00:00",
          "2023-08-19T00:00:00",
          "2023-08-20T00:00:00",
          "2023-08-21T00:00:00",
          "2023-08-22T00:00:00",
          "2023-08-23T00:00:00",
          "2023-08-24T00:00:00",
          "2023-08-25T00:00:00",
          "2023-08-26T00:00:00",
          "2023-08-27T00:00:00",
          "2023-08-28T00:00:00",
          "2023-08-29T00:00:00",
          "2023-08-30T00:00:00",
          "2023-08-31T00:00:00",
          "2023-09-01T00:00:00",
          "2023-09-02T00:00:00",
          "2023-09-03T00:00:00",
          "2023-09-04T00:00:00",
          "2023-09-05T00:00:00",
          "2023-09-06T00:00:00",
          "2023-09-07T00:00:00",
          "2023-09-08T00:00:00",
          "2023-09-09T00:00:00",
          "2023-09-10T00:00:00",
          "2023-09-11T00:00:00",
          "2023-09-12T00:00:00",
          "2023-09-13T00:00:00",
          "2023-09-14T00:00:00",
          "2023-09-15T00:00:00",
          "2023-09-16T00:00:00",
          "2023-09-17T00:00:00"
         ],
         "y": [
          2.818205137232684e-7,
          3.451165492856024e-7,
          4.81871801537937e-7,
          1.400419692654966e-7,
          2.143614137840499e-7,
          8.179343727580866e-7,
          2.375288945109964e-7,
          1.3163593641323662e-7,
          2.560577269241443e-7,
          2.6450932482830766e-7,
          6.334376336039854e-8,
          1.6437556410176185e-7,
          8.181794408805307e-7,
          8.5186494523376e-7,
          5.087582132837952e-8,
          9.581758371892143e-8,
          1.758681948541353e-7,
          2.0216882754584325e-7,
          2.9053693112996926e-7,
          3.132869551039498e-7,
          6.671628515022974e-8,
          3.6498178232502826e-8,
          2.1504029722871366e-7,
          1.5069655612785668e-7,
          5.533370989243838e-8,
          1.3523996273178703e-7,
          4.630131984661172e-8,
          4.776574864750425e-8,
          7.0639671915043165e-9,
          4.337193330467145e-8,
          5.7479756472894535e-8,
          1.4676057870626248e-7,
          9.087390559629902e-8,
          1.4236086647932756e-7,
          1.5560046929016638e-7,
          2.9611298873791256e-8,
          4.422516099129594e-8,
          6.127986104596076e-8,
          1.714396881079015e-7,
          4.2437453338262575e-8,
          4.525823690751016e-8,
          2.4976920644153323e-8,
          1.0808586823508557e-7,
          1.413239783561556e-7,
          1.209157614519755e-7,
          9.330605797790321e-8,
          1.0395032490405579e-7,
          0.000001678923800482655,
          3.3295518976203e-7,
          7.908751332102581e-8,
          1.2141822635544563e-7,
          3.0697789663758876e-7,
          4.0811723878506943e-7,
          2.456466802159461e-7,
          1.20000113785879e-7,
          1.5151190999422493e-7,
          2.2112581200973912e-8,
          2.3914663699009477e-8,
          1.6231302504615802e-7,
          2.000175472241221e-7,
          4.6811243008375154e-8,
          1.7646988486412255e-7,
          1.0725649579305346e-7,
          2.435272716634824e-7,
          4.9064374961494013e-8,
          5.0513005119626174e-8,
          1.4374703922756044e-7,
          5.411068401470853e-7,
          4.5755093547462646e-7,
          7.647434976566127e-8,
          1.4994036781826018e-7,
          1.1149525720327789e-7,
          4.131456891058144e-7,
          1.837730402536278e-7,
          5.701951784263033e-8,
          1.3696396856134173e-7,
          3.302624912666857e-8,
          6.514146120292982e-8,
          5.015183585622265e-9
         ]
        }
       ],
       "layout": {
        "legend": {
         "orientation": "h",
         "x": 0.5,
         "xanchor": "center",
         "y": 1.1
        },
        "margin": {
         "b": 10,
         "l": 10,
         "r": 10,
         "t": 10
        },
        "showlegend": true,
        "template": {
         "data": {
          "bar": [
           {
            "error_x": {
             "color": "rgb(36,36,36)"
            },
            "error_y": {
             "color": "rgb(36,36,36)"
            },
            "marker": {
             "line": {
              "color": "white",
              "width": 0.5
             },
             "pattern": {
              "fillmode": "overlay",
              "size": 10,
              "solidity": 0.2
             }
            },
            "type": "bar"
           }
          ],
          "barpolar": [
           {
            "marker": {
             "line": {
              "color": "white",
              "width": 0.5
             },
             "pattern": {
              "fillmode": "overlay",
              "size": 10,
              "solidity": 0.2
             }
            },
            "type": "barpolar"
           }
          ],
          "carpet": [
           {
            "aaxis": {
             "endlinecolor": "rgb(36,36,36)",
             "gridcolor": "white",
             "linecolor": "white",
             "minorgridcolor": "white",
             "startlinecolor": "rgb(36,36,36)"
            },
            "baxis": {
             "endlinecolor": "rgb(36,36,36)",
             "gridcolor": "white",
             "linecolor": "white",
             "minorgridcolor": "white",
             "startlinecolor": "rgb(36,36,36)"
            },
            "type": "carpet"
           }
          ],
          "choropleth": [
           {
            "colorbar": {
             "outlinewidth": 1,
             "tickcolor": "rgb(36,36,36)",
             "ticks": "outside"
            },
            "type": "choropleth"
           }
          ],
          "contour": [
           {
            "colorbar": {
             "outlinewidth": 1,
             "tickcolor": "rgb(36,36,36)",
             "ticks": "outside"
            },
            "colorscale": [
             [
              0,
              "#440154"
             ],
             [
              0.1111111111111111,
              "#482878"
             ],
             [
              0.2222222222222222,
              "#3e4989"
             ],
             [
              0.3333333333333333,
              "#31688e"
             ],
             [
              0.4444444444444444,
              "#26828e"
             ],
             [
              0.5555555555555556,
              "#1f9e89"
             ],
             [
              0.6666666666666666,
              "#35b779"
             ],
             [
              0.7777777777777778,
              "#6ece58"
             ],
             [
              0.8888888888888888,
              "#b5de2b"
             ],
             [
              1,
              "#fde725"
             ]
            ],
            "type": "contour"
           }
          ],
          "contourcarpet": [
           {
            "colorbar": {
             "outlinewidth": 1,
             "tickcolor": "rgb(36,36,36)",
             "ticks": "outside"
            },
            "type": "contourcarpet"
           }
          ],
          "heatmap": [
           {
            "colorbar": {
             "outlinewidth": 1,
             "tickcolor": "rgb(36,36,36)",
             "ticks": "outside"
            },
            "colorscale": [
             [
              0,
              "#440154"
             ],
             [
              0.1111111111111111,
              "#482878"
             ],
             [
              0.2222222222222222,
              "#3e4989"
             ],
             [
              0.3333333333333333,
              "#31688e"
             ],
             [
              0.4444444444444444,
              "#26828e"
             ],
             [
              0.5555555555555556,
              "#1f9e89"
             ],
             [
              0.6666666666666666,
              "#35b779"
             ],
             [
              0.7777777777777778,
              "#6ece58"
             ],
             [
              0.8888888888888888,
              "#b5de2b"
             ],
             [
              1,
              "#fde725"
             ]
            ],
            "type": "heatmap"
           }
          ],
          "heatmapgl": [
           {
            "colorbar": {
             "outlinewidth": 1,
             "tickcolor": "rgb(36,36,36)",
             "ticks": "outside"
            },
            "colorscale": [
             [
              0,
              "#440154"
             ],
             [
              0.1111111111111111,
              "#482878"
             ],
             [
              0.2222222222222222,
              "#3e4989"
             ],
             [
              0.3333333333333333,
              "#31688e"
             ],
             [
              0.4444444444444444,
              "#26828e"
             ],
             [
              0.5555555555555556,
              "#1f9e89"
             ],
             [
              0.6666666666666666,
              "#35b779"
             ],
             [
              0.7777777777777778,
              "#6ece58"
             ],
             [
              0.8888888888888888,
              "#b5de2b"
             ],
             [
              1,
              "#fde725"
             ]
            ],
            "type": "heatmapgl"
           }
          ],
          "histogram": [
           {
            "marker": {
             "line": {
              "color": "white",
              "width": 0.6
             }
            },
            "type": "histogram"
           }
          ],
          "histogram2d": [
           {
            "colorbar": {
             "outlinewidth": 1,
             "tickcolor": "rgb(36,36,36)",
             "ticks": "outside"
            },
            "colorscale": [
             [
              0,
              "#440154"
             ],
             [
              0.1111111111111111,
              "#482878"
             ],
             [
              0.2222222222222222,
              "#3e4989"
             ],
             [
              0.3333333333333333,
              "#31688e"
             ],
             [
              0.4444444444444444,
              "#26828e"
             ],
             [
              0.5555555555555556,
              "#1f9e89"
             ],
             [
              0.6666666666666666,
              "#35b779"
             ],
             [
              0.7777777777777778,
              "#6ece58"
             ],
             [
              0.8888888888888888,
              "#b5de2b"
             ],
             [
              1,
              "#fde725"
             ]
            ],
            "type": "histogram2d"
           }
          ],
          "histogram2dcontour": [
           {
            "colorbar": {
             "outlinewidth": 1,
             "tickcolor": "rgb(36,36,36)",
             "ticks": "outside"
            },
            "colorscale": [
             [
              0,
              "#440154"
             ],
             [
              0.1111111111111111,
              "#482878"
             ],
             [
              0.2222222222222222,
              "#3e4989"
             ],
             [
              0.3333333333333333,
              "#31688e"
             ],
             [
              0.4444444444444444,
              "#26828e"
             ],
             [
              0.5555555555555556,
              "#1f9e89"
             ],
             [
              0.6666666666666666,
              "#35b779"
             ],
             [
              0.7777777777777778,
              "#6ece58"
             ],
             [
              0.8888888888888888,
              "#b5de2b"
             ],
             [
              1,
              "#fde725"
             ]
            ],
            "type": "histogram2dcontour"
           }
          ],
          "mesh3d": [
           {
            "colorbar": {
             "outlinewidth": 1,
             "tickcolor": "rgb(36,36,36)",
             "ticks": "outside"
            },
            "type": "mesh3d"
           }
          ],
          "parcoords": [
           {
            "line": {
             "colorbar": {
              "outlinewidth": 1,
              "tickcolor": "rgb(36,36,36)",
              "ticks": "outside"
             }
            },
            "type": "parcoords"
           }
          ],
          "pie": [
           {
            "automargin": true,
            "type": "pie"
           }
          ],
          "scatter": [
           {
            "fillpattern": {
             "fillmode": "overlay",
             "size": 10,
             "solidity": 0.2
            },
            "type": "scatter"
           }
          ],
          "scatter3d": [
           {
            "line": {
             "colorbar": {
              "outlinewidth": 1,
              "tickcolor": "rgb(36,36,36)",
              "ticks": "outside"
             }
            },
            "marker": {
             "colorbar": {
              "outlinewidth": 1,
              "tickcolor": "rgb(36,36,36)",
              "ticks": "outside"
             }
            },
            "type": "scatter3d"
           }
          ],
          "scattercarpet": [
           {
            "marker": {
             "colorbar": {
              "outlinewidth": 1,
              "tickcolor": "rgb(36,36,36)",
              "ticks": "outside"
             }
            },
            "type": "scattercarpet"
           }
          ],
          "scattergeo": [
           {
            "marker": {
             "colorbar": {
              "outlinewidth": 1,
              "tickcolor": "rgb(36,36,36)",
              "ticks": "outside"
             }
            },
            "type": "scattergeo"
           }
          ],
          "scattergl": [
           {
            "marker": {
             "colorbar": {
              "outlinewidth": 1,
              "tickcolor": "rgb(36,36,36)",
              "ticks": "outside"
             }
            },
            "type": "scattergl"
           }
          ],
          "scattermapbox": [
           {
            "marker": {
             "colorbar": {
              "outlinewidth": 1,
              "tickcolor": "rgb(36,36,36)",
              "ticks": "outside"
             }
            },
            "type": "scattermapbox"
           }
          ],
          "scatterpolar": [
           {
            "marker": {
             "colorbar": {
              "outlinewidth": 1,
              "tickcolor": "rgb(36,36,36)",
              "ticks": "outside"
             }
            },
            "type": "scatterpolar"
           }
          ],
          "scatterpolargl": [
           {
            "marker": {
             "colorbar": {
              "outlinewidth": 1,
              "tickcolor": "rgb(36,36,36)",
              "ticks": "outside"
             }
            },
            "type": "scatterpolargl"
           }
          ],
          "scatterternary": [
           {
            "marker": {
             "colorbar": {
              "outlinewidth": 1,
              "tickcolor": "rgb(36,36,36)",
              "ticks": "outside"
             }
            },
            "type": "scatterternary"
           }
          ],
          "surface": [
           {
            "colorbar": {
             "outlinewidth": 1,
             "tickcolor": "rgb(36,36,36)",
             "ticks": "outside"
            },
            "colorscale": [
             [
              0,
              "#440154"
             ],
             [
              0.1111111111111111,
              "#482878"
             ],
             [
              0.2222222222222222,
              "#3e4989"
             ],
             [
              0.3333333333333333,
              "#31688e"
             ],
             [
              0.4444444444444444,
              "#26828e"
             ],
             [
              0.5555555555555556,
              "#1f9e89"
             ],
             [
              0.6666666666666666,
              "#35b779"
             ],
             [
              0.7777777777777778,
              "#6ece58"
             ],
             [
              0.8888888888888888,
              "#b5de2b"
             ],
             [
              1,
              "#fde725"
             ]
            ],
            "type": "surface"
           }
          ],
          "table": [
           {
            "cells": {
             "fill": {
              "color": "rgb(237,237,237)"
             },
             "line": {
              "color": "white"
             }
            },
            "header": {
             "fill": {
              "color": "rgb(217,217,217)"
             },
             "line": {
              "color": "white"
             }
            },
            "type": "table"
           }
          ]
         },
         "layout": {
          "annotationdefaults": {
           "arrowhead": 0,
           "arrowwidth": 1
          },
          "autotypenumbers": "strict",
          "coloraxis": {
           "colorbar": {
            "outlinewidth": 1,
            "tickcolor": "rgb(36,36,36)",
            "ticks": "outside"
           }
          },
          "colorscale": {
           "diverging": [
            [
             0,
             "rgb(103,0,31)"
            ],
            [
             0.1,
             "rgb(178,24,43)"
            ],
            [
             0.2,
             "rgb(214,96,77)"
            ],
            [
             0.3,
             "rgb(244,165,130)"
            ],
            [
             0.4,
             "rgb(253,219,199)"
            ],
            [
             0.5,
             "rgb(247,247,247)"
            ],
            [
             0.6,
             "rgb(209,229,240)"
            ],
            [
             0.7,
             "rgb(146,197,222)"
            ],
            [
             0.8,
             "rgb(67,147,195)"
            ],
            [
             0.9,
             "rgb(33,102,172)"
            ],
            [
             1,
             "rgb(5,48,97)"
            ]
           ],
           "sequential": [
            [
             0,
             "#440154"
            ],
            [
             0.1111111111111111,
             "#482878"
            ],
            [
             0.2222222222222222,
             "#3e4989"
            ],
            [
             0.3333333333333333,
             "#31688e"
            ],
            [
             0.4444444444444444,
             "#26828e"
            ],
            [
             0.5555555555555556,
             "#1f9e89"
            ],
            [
             0.6666666666666666,
             "#35b779"
            ],
            [
             0.7777777777777778,
             "#6ece58"
            ],
            [
             0.8888888888888888,
             "#b5de2b"
            ],
            [
             1,
             "#fde725"
            ]
           ],
           "sequentialminus": [
            [
             0,
             "#440154"
            ],
            [
             0.1111111111111111,
             "#482878"
            ],
            [
             0.2222222222222222,
             "#3e4989"
            ],
            [
             0.3333333333333333,
             "#31688e"
            ],
            [
             0.4444444444444444,
             "#26828e"
            ],
            [
             0.5555555555555556,
             "#1f9e89"
            ],
            [
             0.6666666666666666,
             "#35b779"
            ],
            [
             0.7777777777777778,
             "#6ece58"
            ],
            [
             0.8888888888888888,
             "#b5de2b"
            ],
            [
             1,
             "#fde725"
            ]
           ]
          },
          "colorway": [
           "#1F77B4",
           "#FF7F0E",
           "#2CA02C",
           "#D62728",
           "#9467BD",
           "#8C564B",
           "#E377C2",
           "#7F7F7F",
           "#BCBD22",
           "#17BECF"
          ],
          "font": {
           "color": "rgb(36,36,36)"
          },
          "geo": {
           "bgcolor": "white",
           "lakecolor": "white",
           "landcolor": "white",
           "showlakes": true,
           "showland": true,
           "subunitcolor": "white"
          },
          "hoverlabel": {
           "align": "left"
          },
          "hovermode": "closest",
          "mapbox": {
           "style": "light"
          },
          "paper_bgcolor": "white",
          "plot_bgcolor": "white",
          "polar": {
           "angularaxis": {
            "gridcolor": "rgb(232,232,232)",
            "linecolor": "rgb(36,36,36)",
            "showgrid": false,
            "showline": true,
            "ticks": "outside"
           },
           "bgcolor": "white",
           "radialaxis": {
            "gridcolor": "rgb(232,232,232)",
            "linecolor": "rgb(36,36,36)",
            "showgrid": false,
            "showline": true,
            "ticks": "outside"
           }
          },
          "scene": {
           "xaxis": {
            "backgroundcolor": "white",
            "gridcolor": "rgb(232,232,232)",
            "gridwidth": 2,
            "linecolor": "rgb(36,36,36)",
            "showbackground": true,
            "showgrid": false,
            "showline": true,
            "ticks": "outside",
            "zeroline": false,
            "zerolinecolor": "rgb(36,36,36)"
           },
           "yaxis": {
            "backgroundcolor": "white",
            "gridcolor": "rgb(232,232,232)",
            "gridwidth": 2,
            "linecolor": "rgb(36,36,36)",
            "showbackground": true,
            "showgrid": false,
            "showline": true,
            "ticks": "outside",
            "zeroline": false,
            "zerolinecolor": "rgb(36,36,36)"
           },
           "zaxis": {
            "backgroundcolor": "white",
            "gridcolor": "rgb(232,232,232)",
            "gridwidth": 2,
            "linecolor": "rgb(36,36,36)",
            "showbackground": true,
            "showgrid": false,
            "showline": true,
            "ticks": "outside",
            "zeroline": false,
            "zerolinecolor": "rgb(36,36,36)"
           }
          },
          "shapedefaults": {
           "fillcolor": "black",
           "line": {
            "width": 0
           },
           "opacity": 0.3
          },
          "ternary": {
           "aaxis": {
            "gridcolor": "rgb(232,232,232)",
            "linecolor": "rgb(36,36,36)",
            "showgrid": false,
            "showline": true,
            "ticks": "outside"
           },
           "baxis": {
            "gridcolor": "rgb(232,232,232)",
            "linecolor": "rgb(36,36,36)",
            "showgrid": false,
            "showline": true,
            "ticks": "outside"
           },
           "bgcolor": "white",
           "caxis": {
            "gridcolor": "rgb(232,232,232)",
            "linecolor": "rgb(36,36,36)",
            "showgrid": false,
            "showline": true,
            "ticks": "outside"
           }
          },
          "title": {
           "x": 0.05
          },
          "xaxis": {
           "automargin": true,
           "gridcolor": "rgb(232,232,232)",
           "linecolor": "rgb(36,36,36)",
           "showgrid": false,
           "showline": true,
           "ticks": "outside",
           "title": {
            "standoff": 15
           },
           "zeroline": false,
           "zerolinecolor": "rgb(36,36,36)"
          },
          "yaxis": {
           "automargin": true,
           "gridcolor": "rgb(232,232,232)",
           "linecolor": "rgb(36,36,36)",
           "showgrid": false,
           "showline": true,
           "ticks": "outside",
           "title": {
            "standoff": 15
           },
           "zeroline": false,
           "zerolinecolor": "rgb(36,36,36)"
          }
         }
        },
        "xaxis": {
         "title": {
          "text": "Date"
         }
        },
        "yaxis": {
         "title": {
          "text": "Return on LPing in Perc"
         }
        }
       }
      }
     },
     "metadata": {},
     "output_type": "display_data"
    }
   ],
   "source": [
    "\n",
    "fig = go.Figure(layout=layout)\n",
    "\n",
    "fig.add_trace(go.Scatter(x=df_per_day.index,\n",
    "                            y=df_per_day['annual_return'].astype(\n",
    "                                float),\n",
    "                            mode='lines',\n",
    "                            name = f'Return for {token0}-{token1} at {exchange_name}'))\n",
    "\n",
    "fig.update_layout(xaxis_title='Date',\n",
    "                    yaxis_title='Return on LPing in Perc', showlegend=True,\n",
    "                    legend=dict(xanchor='center', x=0.5, y=1.10, orientation='h'),)\n",
    "#fig.write_image(f\"./plots/{contract_name}_{event_name}.pdf\")\n",
    "fig.show()\n"
   ]
  },
  {
   "cell_type": "code",
   "execution_count": 47,
   "metadata": {},
   "outputs": [
    {
     "data": {
      "image/png": "[encoded data removed]",
      "text/plain": [
       "<Figure size 800x500 with 3 Axes>"
      ]
     },
     "metadata": {},
     "output_type": "display_data"
    }
   ],
   "source": [
    "plt.style.use('https://raw.githubusercontent.com/garrettj403/SciencePlots/master/scienceplots/styles/science.mplstyle')\n",
    "\n",
    "fig = plt.figure(figsize=(8,5))\n",
    "\n",
    "gs1 = gridspec.GridSpec(5, 1)\n",
    "ax1 = fig.add_subplot(gs1[0:1,0])\n",
    "ax2 = fig.add_subplot(gs1[1:,0])\n",
    "ax3 = ax2.twinx()\n",
    "\n",
    "#fig.suptitle(file1)\n",
    "fig.suptitle(f'{exchange_name} {token0}-{token1} (Uniswap v2 AMM)')\n",
    "\n",
    "#ax1.plot(df_per_day['timestamp'], df_per_day['cum_MAV'], color ='C2')\n",
    "\n",
    "#ax1.plot(df_per_day.index, df_per_day['price_diff']/df_per_day['spot_price'], \n",
    "ax1.bar(df_per_day.index, abs(df_per_day['price_diff']), \n",
    "        color = 'C1',\n",
    "        label = r'Price Difference (\\%)')\n",
    "\n",
    "ax2.fill_between(df_per_day.index,0, df_per_day['reserve_total_0'], \n",
    "        color ='C2', alpha =0.3,\n",
    "        label = f'Reserves ({token0})')\n",
    "\n",
    "ax3.bar(df_per_day.index, df_per_day['MAV_0'],\n",
    "        label = f'MAV ({token0})', alpha=0.7)\n",
    "#.rolling(window).var()\n",
    "\n",
    "ax2.set_ylim(0)\n",
    "for a in [ax1, ax2]:\n",
    "    a.set_xlim(min(df_per_day.index),max(df_per_day.index))\n",
    "\n",
    "ax1.set_ylabel('%')\n",
    "\n",
    "ax2.set_ylabel(f'Reserves ({token0})')\n",
    "ax3.set_ylabel(f'MAV ({token0})')\n",
    "\n",
    "ax1.set_title(\"Price difference in percent\")\n",
    "ax2.set_title(\"MAV vs Reserves\")\n",
    "#ax1.legend(loc=3)\n",
    "ax3.legend(loc=4)\n",
    "ax2.legend(loc=1)\n",
    "\n",
    "ax1.grid()\n",
    "ax2.grid()\n",
    "ax3.grid()\n",
    "\n",
    "gs1.tight_layout(fig)\n",
    "plt.show()\n",
    "\n"
   ]
  },
  {
   "cell_type": "code",
   "execution_count": 48,
   "metadata": {},
   "outputs": [
    {
     "data": {
      "image/png": "[encoded data removed]",
      "text/plain": [
       "<Figure size 800x500 with 3 Axes>"
      ]
     },
     "metadata": {},
     "output_type": "display_data"
    }
   ],
   "source": [
    "plt.style.use('https://raw.githubusercontent.com/garrettj403/SciencePlots/master/scienceplots/styles/science.mplstyle')\n",
    "\n",
    "fig = plt.figure(figsize=(8,5))\n",
    "\n",
    "gs1 = gridspec.GridSpec(5, 1)\n",
    "ax1 = fig.add_subplot(gs1[0:1,0])\n",
    "ax2 = fig.add_subplot(gs1[1:,0])\n",
    "ax3 = ax2.twinx()\n",
    "\n",
    "#fig.suptitle(file1)\n",
    "fig.suptitle(f'{exchange_name} {token0}-{token1} (Uniswap v2 AMM)')\n",
    "\n",
    "#ax1.plot(df_per_day['timestamp'], df_per_day['cum_MAV'], color ='C2')\n",
    "\n",
    "#ax1.plot(df_per_day.index, df_per_day['price_diff']/df_per_day['spot_price'], \n",
    "ax1.bar(df_per_day.index, abs(df_per_day['price_diff']), \n",
    "        color = 'C1',\n",
    "        label = r'Price Difference (\\%)')\n",
    "\n",
    "ax2.fill_between(df_per_day.index,0, df_per_day['reserve_total_0'], \n",
    "        color ='C2', alpha =0.3,\n",
    "        label = f'Reserves ({token0})')\n",
    "\n",
    "ax3.bar(df_per_day.index, df_per_day['max_MAV_0'],\n",
    "        label = f'MAV ({token0})', alpha=0.7)\n",
    "#.rolling(window).var()\n",
    "\n",
    "ax2.set_ylim(0)\n",
    "for a in [ax1, ax2]:\n",
    "    a.set_xlim(min(df_per_day.index),max(df_per_day.index))\n",
    "\n",
    "ax1.set_ylabel('%')\n",
    "\n",
    "ax2.set_ylabel(f'Reserves ({token0})')\n",
    "ax3.set_ylabel(f'MAV ({token0})')\n",
    "\n",
    "ax1.set_title(\"Price difference in percent\")\n",
    "ax2.set_title(\"MAV vs Reserves\")\n",
    "#ax1.legend(loc=3)\n",
    "ax3.legend(loc=4)\n",
    "ax2.legend(loc=1)\n",
    "\n",
    "ax1.grid()\n",
    "ax2.grid()\n",
    "ax3.grid()\n",
    "\n",
    "gs1.tight_layout(fig)\n",
    "\n",
    "plt.savefig(export_dir + \"MAV_Reserves_{}_{}_{}\".format(token0, token1, exchange_name))\n",
    "plt.show()\n",
    "\n",
    "\n"
   ]
  },
  {
   "cell_type": "code",
   "execution_count": 49,
   "metadata": {},
   "outputs": [
    {
     "name": "stdout",
     "output_type": "stream",
     "text": [
      "<bound method GridSpecBase.get_geometry of GridSpec(5, 1)>\n"
     ]
    }
   ],
   "source": [
    "print(gs1.get_geometry)"
   ]
  },
  {
   "cell_type": "code",
   "execution_count": 50,
   "metadata": {},
   "outputs": [
    {
     "data": {
      "text/plain": [
       "<Axes: >"
      ]
     },
     "execution_count": 50,
     "metadata": {},
     "output_type": "execute_result"
    },
    {
     "data": {
      "image/png": "[encoded data removed]",
      "text/plain": [
       "<Figure size 350x262.5 with 1 Axes>"
      ]
     },
     "metadata": {},
     "output_type": "display_data"
    }
   ],
   "source": [
    "df_per_freq['price_diff'].hist(bins=50)\n"
   ]
  },
  {
   "cell_type": "code",
   "execution_count": 51,
   "metadata": {},
   "outputs": [
    {
     "data": {
      "image/png": "[encoded data removed]",
      "text/plain": [
       "<Figure size 350x262.5 with 1 Axes>"
      ]
     },
     "metadata": {},
     "output_type": "display_data"
    }
   ],
   "source": [
    "\n",
    "\n",
    "plt.figure()\n",
    "plt.hist(df_per_freq['max_decay_min'], bins=100)\n",
    "plt.yscale('log')\n",
    "plt.show()"
   ]
  },
  {
   "cell_type": "code",
   "execution_count": 52,
   "metadata": {},
   "outputs": [
    {
     "data": {
      "text/plain": [
       "count    5.711000e+03\n",
       "mean    -4.949906e+03\n",
       "std      3.737975e+05\n",
       "min     -2.824831e+07\n",
       "0%      -2.824831e+07\n",
       "0.5%    -1.499000e+02\n",
       "1%      -9.490000e+01\n",
       "5%      -1.200000e+01\n",
       "10%      0.000000e+00\n",
       "50%      0.000000e+00\n",
       "max      0.000000e+00\n",
       "Name: max_decay_min, dtype: float64"
      ]
     },
     "execution_count": 52,
     "metadata": {},
     "output_type": "execute_result"
    }
   ],
   "source": [
    "df_per_freq['max_decay_min'].describe(percentiles=[0, 0.005, 0.01, 0.05, 0.1])"
   ]
  },
  {
   "cell_type": "code",
   "execution_count": 53,
   "metadata": {},
   "outputs": [
    {
     "data": {
      "image/png": "[encoded data removed]",
      "text/plain": [
       "<Figure size 350x262.5 with 1 Axes>"
      ]
     },
     "metadata": {},
     "output_type": "display_data"
    }
   ],
   "source": [
    "x = df_per_freq['max_MAV_0']\n",
    "y = df_per_freq['max_decay_min']\n",
    "xy = list(zip(x, y))\n",
    "\n",
    "xy = [(m,d) for (m,d) in xy if m>0]\n",
    "x = [m for (m,d) in xy]\n",
    "y = [d for (m,d) in xy]\n",
    "\n",
    "plt.figure()\n",
    "plt.scatter(x,y)\n",
    "plt.show()"
   ]
  },
  {
   "cell_type": "code",
   "execution_count": 66,
   "metadata": {},
   "outputs": [
    {
     "data": {
      "image/png": "[encoded data removed]",
      "text/plain": [
       "<Figure size 300x300 with 1 Axes>"
      ]
     },
     "metadata": {},
     "output_type": "display_data"
    }
   ],
   "source": [
    "data = list(df_per_freq['price_diff'].dropna())\n",
    "\n",
    "plt.figure(figsize=(3, 3))\n",
    "# Create a boxplot\n",
    "plt.boxplot(data)\n",
    "\n",
    "# Adding labels\n",
    "#plt.title('Distribution of abs price differnce')\n",
    "plt.ylabel('Abs Price Diff (\\%)')\n",
    "plt.grid()\n",
    "plt.xticks([1], ['USDC-ETH'])\n",
    "\n",
    "# Show the plot\n",
    "plt.show()"
   ]
  },
  {
   "cell_type": "code",
   "execution_count": 55,
   "metadata": {},
   "outputs": [
    {
     "data": {
      "image/png": "[encoded data removed]",
      "text/plain": [
       "<Figure size 350x262.5 with 1 Axes>"
      ]
     },
     "metadata": {},
     "output_type": "display_data"
    },
    {
     "data": {
      "text/plain": [
       "<Axes: >"
      ]
     },
     "execution_count": 55,
     "metadata": {},
     "output_type": "execute_result"
    },
    {
     "data": {
      "image/png": "[encoded data removed]",
      "text/plain": [
       "<Figure size 350x262.5 with 1 Axes>"
      ]
     },
     "metadata": {},
     "output_type": "display_data"
    }
   ],
   "source": [
    "data = list(df_per_freq['fees_0'].dropna()*2000)\n",
    "\n",
    "# Create a boxplot\n",
    "plt.boxplot(data)\n",
    "\n",
    "# Adding labels\n",
    "plt.title('Boxplot of gas fees_0')\n",
    "plt.ylabel('Price Difference')\n",
    "\n",
    "# Show the plot\n",
    "plt.show()\n",
    "\n",
    "df_per_freq['fees_0'].hist(bins=50)"
   ]
  },
  {
   "cell_type": "code",
   "execution_count": 56,
   "metadata": {},
   "outputs": [
    {
     "data": {
      "text/plain": [
       "<bound method NDFrame.describe of                                                        transactionHash  \\\n",
       "timestamp                                                                \n",
       "2023-07-01 00:00:03  0x905fb81e267ae12e8b7566d56a48311429e8b365d196...   \n",
       "2023-07-01 00:00:04  0xa74d9fe78c79c22840ae9395c642c70d3cf3ecc5810f...   \n",
       "2023-07-01 00:00:05  0x78d9d1f96153811c6a75ab2ffd974242aca1735e4b86...   \n",
       "2023-07-01 00:00:05  0x8850ad1431c44a0da24bdc475489fa5abd6da064b158...   \n",
       "2023-07-01 00:00:09  0x1cb5a570150bce08073994e8fc51dbd22caf6357d3d3...   \n",
       "...                                                                ...   \n",
       "2023-09-17 16:00:56  0x4755f4b1c56c288dca912200f99ed67b31ad048d0133...   \n",
       "2023-09-17 16:00:59  0x3ce61c6f3bc1c254a2455695cccb30a1aaf8d7ff965d...   \n",
       "2023-09-17 16:01:00  0x36c490938860d3e0972e793980e486fc7b74096964d6...   \n",
       "2023-09-17 16:01:02  0xf9e211290d1e20ff88c7ab586d891c2624f4b7144374...   \n",
       "2023-09-17 16:01:02  0xf7a6890e58f62e80778fd1a689f70920d6474dc2083b...   \n",
       "\n",
       "                     blockNumber  transactionIndex  logIndex  gasUsed  \\\n",
       "timestamp                                                               \n",
       "2023-07-01 00:00:03      7431984                 8        38   641968   \n",
       "2023-07-01 00:00:04      7431985                 5        36   515267   \n",
       "2023-07-01 00:00:05      7431986                 4        39   394147   \n",
       "2023-07-01 00:00:05      7431986                 5        46   515267   \n",
       "2023-07-01 00:00:09      7431990                 0         2   455457   \n",
       "...                          ...               ...       ...      ...   \n",
       "2023-09-17 16:00:56     14099993                 2        13   365076   \n",
       "2023-09-17 16:00:59     14099996                 0         7   671163   \n",
       "2023-09-17 16:01:00     14099997                 9        66   365076   \n",
       "2023-09-17 16:01:02     14099999                12        86   361559   \n",
       "2023-09-17 16:01:02     14099999                16       106   322255   \n",
       "\n",
       "                     effectiveGasPrice    fees_0   amount0In  amount1In  \\\n",
       "timestamp                                                                 \n",
       "2023-07-01 00:00:03          250000000  0.310102    0.000000   0.003000   \n",
       "2023-07-01 00:00:04          250000000  0.248899    0.000000   0.006057   \n",
       "2023-07-01 00:00:05          250000000  0.190397  356.055512   0.000000   \n",
       "2023-07-01 00:00:05          250000000  0.248905    0.000000   0.000012   \n",
       "2023-07-01 00:00:09          250000000  0.220016  135.297365   0.000000   \n",
       "...                                ...       ...         ...        ...   \n",
       "2023-09-17 16:00:56          250000000  0.148709    0.000000   0.010000   \n",
       "2023-09-17 16:00:59          250000000  0.273390    0.000000   0.000034   \n",
       "2023-09-17 16:01:00          250000000  0.148709    0.000000   0.007062   \n",
       "2023-09-17 16:01:02          250000000  0.147277    1.042982   0.000000   \n",
       "2023-09-17 16:01:02          250000000  0.131268  103.653563   0.000000   \n",
       "\n",
       "                     amount0Out  ...  LP_Fee_total_0  LP_fee_p     fees_p  \\\n",
       "timestamp                        ...                                        \n",
       "2023-07-01 00:00:03    5.779206  ...        0.004623    0.0008   0.053658   \n",
       "2023-07-01 00:00:04   11.667362  ...        0.009334    0.0008   0.021333   \n",
       "2023-07-01 00:00:05    0.000000  ...        0.284844    0.0008   0.000535   \n",
       "2023-07-01 00:00:05    0.023928  ...        0.000019    0.0008  10.402266   \n",
       "2023-07-01 00:00:09    0.000000  ...        0.108238    0.0008   0.001626   \n",
       "...                         ...  ...             ...       ...        ...   \n",
       "2023-09-17 16:00:56   16.244662  ...        0.012996    0.0008   0.009154   \n",
       "2023-09-17 16:00:59    0.055231  ...        0.000044    0.0008   4.949944   \n",
       "2023-09-17 16:01:00   11.472566  ...        0.009178    0.0008   0.012962   \n",
       "2023-09-17 16:01:02    0.000000  ...        0.000834    0.0008   0.141207   \n",
       "2023-09-17 16:01:02    0.000000  ...        0.082923    0.0008   0.001266   \n",
       "\n",
       "                     block_slippage_0  block_slippage_total_0  \\\n",
       "timestamp                                                       \n",
       "2023-07-01 00:00:03          0.000000                0.000000   \n",
       "2023-07-01 00:00:04          0.000000                0.000000   \n",
       "2023-07-01 00:00:05          0.000000                0.000000   \n",
       "2023-07-01 00:00:05        356.055512              356.055512   \n",
       "2023-07-01 00:00:09          0.000000                0.000000   \n",
       "...                               ...                     ...   \n",
       "2023-09-17 16:00:56          0.000000                0.000000   \n",
       "2023-09-17 16:00:59          0.000000                0.000000   \n",
       "2023-09-17 16:01:00          0.000000                0.000000   \n",
       "2023-09-17 16:01:02          0.000000                0.000000   \n",
       "2023-09-17 16:01:02          1.042982                1.042982   \n",
       "\n",
       "                    block_slippage_avg_1m_0  volume_avg_1m_0  fees_avg_1m_0  \\\n",
       "timestamp                                                                     \n",
       "2023-07-01 00:00:03                0.000000         5.779206       0.310102   \n",
       "2023-07-01 00:00:04                0.000000        11.667362       0.248899   \n",
       "2023-07-01 00:00:05                0.000000       356.055512       0.190397   \n",
       "2023-07-01 00:00:05              356.055512         0.023928       0.248905   \n",
       "2023-07-01 00:00:09                0.000000       135.297365       0.220016   \n",
       "...                                     ...              ...            ...   \n",
       "2023-09-17 16:00:56                0.000000        16.244662       0.148709   \n",
       "2023-09-17 16:00:59                0.000000         0.055231       0.273390   \n",
       "2023-09-17 16:01:00                0.000000        11.472566       0.148709   \n",
       "2023-09-17 16:01:02                0.000000         1.042982       0.147277   \n",
       "2023-09-17 16:01:02                1.042982       103.653563       0.131268   \n",
       "\n",
       "                     fees_total_0  swap_count_1m  \n",
       "timestamp                                         \n",
       "2023-07-01 00:00:03      0.310102              1  \n",
       "2023-07-01 00:00:04      0.248899              1  \n",
       "2023-07-01 00:00:05      0.190397              1  \n",
       "2023-07-01 00:00:05      0.248905              1  \n",
       "2023-07-01 00:00:09      0.220016              1  \n",
       "...                           ...            ...  \n",
       "2023-09-17 16:00:56      0.148709              1  \n",
       "2023-09-17 16:00:59      0.273390              1  \n",
       "2023-09-17 16:01:00      0.148709              1  \n",
       "2023-09-17 16:01:02      0.147277              1  \n",
       "2023-09-17 16:01:02      0.131268              1  \n",
       "\n",
       "[5933132 rows x 32 columns]>"
      ]
     },
     "execution_count": 56,
     "metadata": {},
     "output_type": "execute_result"
    }
   ],
   "source": [
    "swap_df.describe\n",
    "\n"
   ]
  },
  {
   "cell_type": "code",
   "execution_count": null,
   "metadata": {},
   "outputs": [],
   "source": [
    "\n",
    "\n"
   ]
  }
 ],
 "metadata": {
  "kernelspec": {
   "display_name": "base",
   "language": "python",
   "name": "python3"
  },
  "language_info": {
   "codemirror_mode": {
    "name": "ipython",
    "version": 3
   },
   "file_extension": ".py",
   "mimetype": "text/x-python",
   "name": "python",
   "nbconvert_exporter": "python",
   "pygments_lexer": "ipython3",
   "version": "3.9.6"
  },
  "orig_nbformat": 4
 },
 "nbformat": 4,
 "nbformat_minor": 2
}
